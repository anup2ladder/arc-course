{
 "cells": [
  {
   "cell_type": "markdown",
   "id": "85c29454-2d1b-4157-9414-2f34885038bd",
   "metadata": {},
   "source": [
    "# Lab 3 - Neural and neurosymbolic search"
   ]
  },
  {
   "cell_type": "markdown",
   "id": "7c2785ed-0e8b-41c4-8d3c-db727a6a822c",
   "metadata": {},
   "source": [
    "Note: I am running this on my personal laptop, which has an RTX3050 8GBs (I know, I know, it's an old laptop). In practice, I can only do 0.5B models. I also tried a larger model on the server, as detailed below."
   ]
  },
  {
   "cell_type": "markdown",
   "id": "af1f00ad-edf3-44b9-b419-31849ba4fa1f",
   "metadata": {
    "jp-MarkdownHeadingCollapsed": true
   },
   "source": [
    "## Imports "
   ]
  },
  {
   "cell_type": "markdown",
   "id": "573ddf6a-375e-41be-8347-97525ed75a7a",
   "metadata": {},
   "source": [
    "We are using the following libraries:\n",
    "- Huggingface's Transformers\n",
    "- Unsloth: integrates with TRL and Transformers, can fine-tune LLMs using a variety of methods much faster than other libraries.\n",
    "- vllm: Starts a server to do LLM stuff with, makes inference faster.\n",
    "- trl: Reinforcement Learning fine-tuning"
   ]
  },
  {
   "cell_type": "code",
   "execution_count": 1,
   "id": "22523b80-bda8-433e-8c0c-613783ad683a",
   "metadata": {},
   "outputs": [
    {
     "name": "stdout",
     "output_type": "stream",
     "text": [
      "🦥 Unsloth: Will patch your computer to enable 2x faster free finetuning.\n",
      "🦥 Unsloth Zoo will now patch everything to make training faster!\n",
      "INFO 03-14 09:08:39 __init__.py:190] Automatically detected platform cuda.\n"
     ]
    }
   ],
   "source": [
    "import re\n",
    "import itertools\n",
    "import math\n",
    "import time\n",
    "import random\n",
    "from collections import Counter\n",
    "from pprint import pprint\n",
    "import json\n",
    "\n",
    "import numpy as np\n",
    "import pandas as pd\n",
    "from numpy.random import choice, randint\n",
    "from IPython.display import HTML, display, clear_output\n",
    "import matplotlib.pyplot as plt\n",
    "import ipywidgets as widgets\n",
    "\n",
    "# Utilities for plotting\n",
    "from symbolic_utilities import progress, compute_global_limits_smc, plot_mh_trace_upto, plot_state_2d\n",
    "# MHMC sampler\n",
    "from symbolic_utilities import propose_tree, get_coordinates, \\\n",
    "    mh_sampler, smc_sampler, define_bs_DSL, define_lt_DSL, enumerate_full_sentences\n",
    "\n",
    "from neural_utilities import extract_xml_answer, extract_xml_reasoning, produce_tasks, get_data\n",
    "\n",
    "from neural_utilities import print_func, lt_correctness_reward_func, \\\n",
    "    xmlcount_reward_func, soft_format_reward_func, strict_format_reward_func, cfg_reward_func, lt_correctness_reward_func, \\\n",
    "    direct_cfg_reward_func, direct_lt_correctness_reward_func, direct_conciseness_reward_func\n",
    "\n",
    "from symbolic_utilities import \\\n",
    "    ltgrammar, lt_nonterminals, lt_terminals, lt_eval_dict, \\\n",
    "    bsgrammar, bs_nonterminals, bs_terminals, bs_eval_dict\n",
    "\n",
    "# NOTE: PatchFastRL needs to run **before** the imports below\n",
    "from unsloth import FastLanguageModel, is_bfloat16_supported, PatchFastRL\n",
    "PatchFastRL(\"GRPO\", FastLanguageModel)\n",
    "\n",
    "import torch, gc\n",
    "from torch import tensor\n",
    "from datasets import load_dataset, Dataset, DatasetDict\n",
    "from transformers import EarlyStoppingCallback, TextStreamer, TrainingArguments\n",
    "from peft import AutoPeftModelForCausalLM\n",
    "from trl import SFTTrainer, GRPOConfig, GRPOTrainer\n",
    "from unsloth.chat_templates import get_chat_template\n",
    "from vllm import SamplingParams\n",
    "\n",
    "from dotenv import load_dotenv, find_dotenv\n",
    "import os\n",
    "from openai import OpenAI"
   ]
  },
  {
   "cell_type": "code",
   "execution_count": 2,
   "id": "ad1b401a-b487-4eb3-8ce4-ce3b952bbd00",
   "metadata": {},
   "outputs": [
    {
     "name": "stdout",
     "output_type": "stream",
     "text": [
      "True\n",
      "1\n",
      "0\n",
      "NVIDIA GeForce RTX 3050 Ti Laptop GPU\n"
     ]
    }
   ],
   "source": [
    "print(torch.cuda.is_available())\n",
    "print(torch.cuda.device_count())\n",
    "print(torch.cuda.current_device())\n",
    "print(torch.cuda.get_device_name(0))"
   ]
  },
  {
   "cell_type": "markdown",
   "id": "883aeb8d-026c-4eef-840c-816ed4457009",
   "metadata": {
    "jp-MarkdownHeadingCollapsed": true
   },
   "source": [
    "##  Using supervised and RL finetuning to improve inductive synthesis"
   ]
  },
  {
   "cell_type": "markdown",
   "id": "7e6dce07-5b33-4857-886f-31b3cb32d5ee",
   "metadata": {},
   "source": [
    "Some random things we're gonna need below:"
   ]
  },
  {
   "cell_type": "code",
   "execution_count": 15,
   "id": "4f43b9aa-baa0-4c27-9608-8762f1fb4c98",
   "metadata": {},
   "outputs": [],
   "source": [
    "def check_accuracy(x, indices, functions):\n",
    "    function = functions[indices]\n",
    "    accuracy = 0\n",
    "    for inp, out in x['examples']:\n",
    "        if out == function(inp):\n",
    "            accuracy += 1/len(x['examples'])\n",
    "    return {'accuracy': accuracy}"
   ]
  },
  {
   "cell_type": "code",
   "execution_count": 3,
   "id": "fa627ebf-8ab0-4cb7-9591-b7ff4e1fa51a",
   "metadata": {},
   "outputs": [],
   "source": [
    "max_seq_length = 1024 # Can increase for longer reasoning traces\n",
    "lora_rank = 64 # Larger rank = smarter, but slower"
   ]
  },
  {
   "cell_type": "code",
   "execution_count": 4,
   "id": "344f5ba7-d4e0-4827-9825-bc62c4dec7bb",
   "metadata": {},
   "outputs": [],
   "source": [
    "lt_system_prompt = \"\""
   ]
  },
  {
   "cell_type": "markdown",
   "id": "e42d5336-2d5d-4388-968e-3c49a6f0cc28",
   "metadata": {},
   "source": [
    "Let's start by defining some data that we'll use to train the model:"
   ]
  },
  {
   "cell_type": "code",
   "execution_count": 5,
   "id": "b8005ceb-52b1-46ff-9708-36509d07301b",
   "metadata": {},
   "outputs": [],
   "source": [
    "# get all sentences up to depth 5\n",
    "sentences_pool = []\n",
    "for i, sent in enumerate(enumerate_full_sentences('T', ltgrammar, max_depth=6)):\n",
    "    sentences_pool.append(sent)\n",
    "    if i==500000:\n",
    "        break"
   ]
  },
  {
   "cell_type": "code",
   "execution_count": 6,
   "id": "27ac8a65-709e-4f2d-9fe7-57b6434a0e41",
   "metadata": {},
   "outputs": [
    {
     "data": {
      "application/vnd.jupyter.widget-view+json": {
       "model_id": "d5a5e17e06c54141977ef4850b6a853e",
       "version_major": 2,
       "version_minor": 0
      },
      "text/plain": [
       "Map:   0%|          | 0/100000 [00:00<?, ? examples/s]"
      ]
     },
     "metadata": {},
     "output_type": "display_data"
    }
   ],
   "source": [
    "data = get_data(\n",
    "    ltgrammar, \n",
    "    lt_system_prompt, \n",
    "    eval_dict=lt_eval_dict, \n",
    "    n_tasks=100000, \n",
    "    sentences_pool=sentences_pool\n",
    ")"
   ]
  },
  {
   "cell_type": "markdown",
   "id": "a2f1f337-5d3c-41ac-ad05-78c4d20874a4",
   "metadata": {},
   "source": [
    "Add the \"completion\" column to data which contains the string that the model is supposed to produce for the corresponding examples, containing a format that makes the model happy (we can later use the tokenizer to turn it into a properly formatted input for the model):"
   ]
  },
  {
   "cell_type": "code",
   "execution_count": 7,
   "id": "ac63ca8b-98c7-4857-83f6-23a5ca98d47a",
   "metadata": {},
   "outputs": [
    {
     "data": {
      "application/vnd.jupyter.widget-view+json": {
       "model_id": "3037e5722e854005b3db4059ea42fd72",
       "version_major": 2,
       "version_minor": 0
      },
      "text/plain": [
       "Map:   0%|          | 0/100000 [00:00<?, ? examples/s]"
      ]
     },
     "metadata": {},
     "output_type": "display_data"
    }
   ],
   "source": [
    "data = data.map(lambda x: {\n",
    "    'completion': [{'content': x['sentence'], 'role': 'assistant'}], \n",
    "})"
   ]
  },
  {
   "cell_type": "code",
   "execution_count": 8,
   "id": "bfc7b79e-2562-4558-b9a1-f68e6c8bd7b3",
   "metadata": {},
   "outputs": [],
   "source": [
    "# 90% train, 10% test + validation\n",
    "train_testvalid = data.train_test_split(train_size=2**16, test_size=2* 2**7)\n",
    "# Split the 10% test + valid in half test, half valid\n",
    "test_valid = train_testvalid['test'].train_test_split(test_size=0.5)\n",
    "# gather everyone if you want to have a single DatasetDict\n",
    "data = DatasetDict({\n",
    "    'train': train_testvalid['train'],\n",
    "    'test': test_valid['test'],\n",
    "    'valid': test_valid['train']})"
   ]
  },
  {
   "cell_type": "code",
   "execution_count": 9,
   "id": "80546f92-b374-4eb6-8286-c66d0a06c29e",
   "metadata": {},
   "outputs": [
    {
     "data": {
      "text/plain": [
       "DatasetDict({\n",
       "    train: Dataset({\n",
       "        features: ['sentence', 'examples', 'task', 'prompt', 'completion'],\n",
       "        num_rows: 65536\n",
       "    })\n",
       "    test: Dataset({\n",
       "        features: ['sentence', 'examples', 'task', 'prompt', 'completion'],\n",
       "        num_rows: 128\n",
       "    })\n",
       "    valid: Dataset({\n",
       "        features: ['sentence', 'examples', 'task', 'prompt', 'completion'],\n",
       "        num_rows: 128\n",
       "    })\n",
       "})"
      ]
     },
     "execution_count": 9,
     "metadata": {},
     "output_type": "execute_result"
    }
   ],
   "source": [
    "data"
   ]
  },
  {
   "cell_type": "markdown",
   "id": "a57f3dc9-d2be-4307-9158-0c4d4af06708",
   "metadata": {},
   "source": [
    "Later we can get an impressionistic idea of how the model is behaving by getting a datapoint:"
   ]
  },
  {
   "cell_type": "code",
   "execution_count": 10,
   "id": "fb5cdaa3-10af-4ca6-b430-d9537250599e",
   "metadata": {},
   "outputs": [],
   "source": [
    "d = data['test'][1]['prompt']"
   ]
  },
  {
   "cell_type": "code",
   "execution_count": 11,
   "id": "ba6ffa06-a22c-4107-8e7c-41da909be6db",
   "metadata": {},
   "outputs": [
    {
     "data": {
      "text/plain": [
       "[{'content': '', 'role': 'system'},\n",
       " {'content': '-[9, 0, 6, 0, 5] -> [13, 4, 10, 4, 9]\\n-[7, 0, 6, 6] -> [11, 4, 10, 10]\\n-[5, 3, 2, 4, 6] -> [9, 7, 6, 8, 10]',\n",
       "  'role': 'user'}]"
      ]
     },
     "execution_count": 11,
     "metadata": {},
     "output_type": "execute_result"
    }
   ],
   "source": [
    "d"
   ]
  },
  {
   "cell_type": "markdown",
   "id": "d46a430f-4dd3-4b67-a232-a629f281f2a7",
   "metadata": {},
   "source": [
    "Some terminal are more represented than others - this is just due to the way the grammar is structured. You can imagine it as defining a distribution over tasks in our environment:"
   ]
  },
  {
   "cell_type": "code",
   "execution_count": 12,
   "id": "005959fc-ead2-4133-a4e6-cb36b1a66566",
   "metadata": {},
   "outputs": [
    {
     "data": {
      "text/plain": [
       "Counter({'(': 619144,\n",
       "         ')': 619144,\n",
       "         ',': 296764,\n",
       "         'even': 164059,\n",
       "         'gt': 140866,\n",
       "         'and_': 120459,\n",
       "         'or_': 118954,\n",
       "         'filter_': 65512,\n",
       "         'compose': 57351,\n",
       "         'map_': 40899,\n",
       "         'plus': 40887,\n",
       "         '1': 36650,\n",
       "         '4': 36519,\n",
       "         '2': 36448,\n",
       "         '3': 36245,\n",
       "         '5': 35907,\n",
       "         'not_': 34200,\n",
       "         'reverse': 8328,\n",
       "         'sort': 8144,\n",
       "         'minus': 7,\n",
       "         'times': 5,\n",
       "         'truncate': 4})"
      ]
     },
     "execution_count": 12,
     "metadata": {},
     "output_type": "execute_result"
    }
   ],
   "source": [
    "c = Counter()\n",
    "for s in data['train']['sentence']:\n",
    "   c.update({k:s.count(k) for k in lt_terminals})\n",
    "\n",
    "c"
   ]
  },
  {
   "cell_type": "markdown",
   "id": "81bf752c-160f-4f93-8843-5cca140a487e",
   "metadata": {},
   "source": [
    "Let's check that the test data is not out of distribution!"
   ]
  },
  {
   "cell_type": "code",
   "execution_count": 13,
   "id": "a4169084-4bd4-41c3-b3e0-0f5f7ec036f4",
   "metadata": {},
   "outputs": [
    {
     "data": {
      "text/plain": [
       "Counter({'(': 1240,\n",
       "         ')': 1240,\n",
       "         ',': 583,\n",
       "         'even': 310,\n",
       "         'gt': 284,\n",
       "         'or_': 234,\n",
       "         'and_': 232,\n",
       "         'filter_': 128,\n",
       "         'compose': 117,\n",
       "         'map_': 90,\n",
       "         'plus': 90,\n",
       "         '1': 84,\n",
       "         '4': 78,\n",
       "         '2': 77,\n",
       "         '5': 70,\n",
       "         '3': 65,\n",
       "         'not_': 65,\n",
       "         'sort': 15,\n",
       "         'reverse': 12,\n",
       "         'truncate': 0,\n",
       "         'minus': 0,\n",
       "         'times': 0})"
      ]
     },
     "execution_count": 13,
     "metadata": {},
     "output_type": "execute_result"
    }
   ],
   "source": [
    "c = Counter()\n",
    "for s in data['test']['sentence']:\n",
    "   c.update({k:s.count(k) for k in lt_terminals})\n",
    "\n",
    "c"
   ]
  },
  {
   "cell_type": "markdown",
   "id": "4c2ddec3-cf24-4781-b4b0-bdcb221f71f9",
   "metadata": {},
   "source": [
    "This is what our data looks like ('sentence' is the expression that produced the datapoint, which is not necessarily the best one!):"
   ]
  },
  {
   "cell_type": "code",
   "execution_count": 14,
   "id": "35c5a380-ca46-4dfe-b374-e09ad123a7e0",
   "metadata": {},
   "outputs": [
    {
     "data": {
      "text/html": [
       "<div>\n",
       "<style scoped>\n",
       "    .dataframe tbody tr th:only-of-type {\n",
       "        vertical-align: middle;\n",
       "    }\n",
       "\n",
       "    .dataframe tbody tr th {\n",
       "        vertical-align: top;\n",
       "    }\n",
       "\n",
       "    .dataframe thead th {\n",
       "        text-align: right;\n",
       "    }\n",
       "</style>\n",
       "<table border=\"1\" class=\"dataframe\">\n",
       "  <thead>\n",
       "    <tr style=\"text-align: right;\">\n",
       "      <th></th>\n",
       "      <th>sentence</th>\n",
       "      <th>examples</th>\n",
       "      <th>task</th>\n",
       "      <th>prompt</th>\n",
       "      <th>completion</th>\n",
       "    </tr>\n",
       "  </thead>\n",
       "  <tbody>\n",
       "    <tr>\n",
       "      <th>0</th>\n",
       "      <td>compose(map_(plus(5)),filter_(and_(or_(gt(2),o...</td>\n",
       "      <td>[[[7, 7, 3, 0], [12, 12, 8, 5]], [[6, 7], [11,...</td>\n",
       "      <td>-[7, 7, 3, 0] -&gt; [12, 12, 8, 5]\\n-[6, 7] -&gt; [1...</td>\n",
       "      <td>[{'content': '', 'role': 'system'}, {'content'...</td>\n",
       "      <td>[{'content': 'compose(map_(plus(5)),filter_(an...</td>\n",
       "    </tr>\n",
       "    <tr>\n",
       "      <th>1</th>\n",
       "      <td>compose(map_(plus(4)),filter_(or_(or_(gt(2),ev...</td>\n",
       "      <td>[[[9, 0, 6, 0, 5], [13, 4, 10, 4, 9]], [[7, 0,...</td>\n",
       "      <td>-[9, 0, 6, 0, 5] -&gt; [13, 4, 10, 4, 9]\\n-[7, 0,...</td>\n",
       "      <td>[{'content': '', 'role': 'system'}, {'content'...</td>\n",
       "      <td>[{'content': 'compose(map_(plus(4)),filter_(or...</td>\n",
       "    </tr>\n",
       "    <tr>\n",
       "      <th>2</th>\n",
       "      <td>compose(map_(plus(1)),filter_(or_(even,or_(eve...</td>\n",
       "      <td>[[[1, 5, 2, 4, 8], [2, 6, 3, 5, 9]], [[7, 3, 4...</td>\n",
       "      <td>-[1, 5, 2, 4, 8] -&gt; [2, 6, 3, 5, 9]\\n-[7, 3, 4...</td>\n",
       "      <td>[{'content': '', 'role': 'system'}, {'content'...</td>\n",
       "      <td>[{'content': 'compose(map_(plus(1)),filter_(or...</td>\n",
       "    </tr>\n",
       "    <tr>\n",
       "      <th>3</th>\n",
       "      <td>compose(map_(plus(1)),filter_(and_(and_(gt(5),...</td>\n",
       "      <td>[[[8, 6], [9, 7]], [[3, 5, 0], []], [[8, 5], [...</td>\n",
       "      <td>-[8, 6] -&gt; [9, 7]\\n-[3, 5, 0] -&gt; []\\n-[8, 5] -...</td>\n",
       "      <td>[{'content': '', 'role': 'system'}, {'content'...</td>\n",
       "      <td>[{'content': 'compose(map_(plus(1)),filter_(an...</td>\n",
       "    </tr>\n",
       "    <tr>\n",
       "      <th>4</th>\n",
       "      <td>compose(map_(plus(1)),filter_(and_(or_(even,gt...</td>\n",
       "      <td>[[[9, 2, 5, 4], [10, 6]], [[0, 3, 2, 5], [4, 6...</td>\n",
       "      <td>-[9, 2, 5, 4] -&gt; [10, 6]\\n-[0, 3, 2, 5] -&gt; [4,...</td>\n",
       "      <td>[{'content': '', 'role': 'system'}, {'content'...</td>\n",
       "      <td>[{'content': 'compose(map_(plus(1)),filter_(an...</td>\n",
       "    </tr>\n",
       "  </tbody>\n",
       "</table>\n",
       "</div>"
      ],
      "text/plain": [
       "                                            sentence  \\\n",
       "0  compose(map_(plus(5)),filter_(and_(or_(gt(2),o...   \n",
       "1  compose(map_(plus(4)),filter_(or_(or_(gt(2),ev...   \n",
       "2  compose(map_(plus(1)),filter_(or_(even,or_(eve...   \n",
       "3  compose(map_(plus(1)),filter_(and_(and_(gt(5),...   \n",
       "4  compose(map_(plus(1)),filter_(and_(or_(even,gt...   \n",
       "\n",
       "                                            examples  \\\n",
       "0  [[[7, 7, 3, 0], [12, 12, 8, 5]], [[6, 7], [11,...   \n",
       "1  [[[9, 0, 6, 0, 5], [13, 4, 10, 4, 9]], [[7, 0,...   \n",
       "2  [[[1, 5, 2, 4, 8], [2, 6, 3, 5, 9]], [[7, 3, 4...   \n",
       "3  [[[8, 6], [9, 7]], [[3, 5, 0], []], [[8, 5], [...   \n",
       "4  [[[9, 2, 5, 4], [10, 6]], [[0, 3, 2, 5], [4, 6...   \n",
       "\n",
       "                                                task  \\\n",
       "0  -[7, 7, 3, 0] -> [12, 12, 8, 5]\\n-[6, 7] -> [1...   \n",
       "1  -[9, 0, 6, 0, 5] -> [13, 4, 10, 4, 9]\\n-[7, 0,...   \n",
       "2  -[1, 5, 2, 4, 8] -> [2, 6, 3, 5, 9]\\n-[7, 3, 4...   \n",
       "3  -[8, 6] -> [9, 7]\\n-[3, 5, 0] -> []\\n-[8, 5] -...   \n",
       "4  -[9, 2, 5, 4] -> [10, 6]\\n-[0, 3, 2, 5] -> [4,...   \n",
       "\n",
       "                                              prompt  \\\n",
       "0  [{'content': '', 'role': 'system'}, {'content'...   \n",
       "1  [{'content': '', 'role': 'system'}, {'content'...   \n",
       "2  [{'content': '', 'role': 'system'}, {'content'...   \n",
       "3  [{'content': '', 'role': 'system'}, {'content'...   \n",
       "4  [{'content': '', 'role': 'system'}, {'content'...   \n",
       "\n",
       "                                          completion  \n",
       "0  [{'content': 'compose(map_(plus(5)),filter_(an...  \n",
       "1  [{'content': 'compose(map_(plus(4)),filter_(or...  \n",
       "2  [{'content': 'compose(map_(plus(1)),filter_(or...  \n",
       "3  [{'content': 'compose(map_(plus(1)),filter_(an...  \n",
       "4  [{'content': 'compose(map_(plus(1)),filter_(an...  "
      ]
     },
     "execution_count": 14,
     "metadata": {},
     "output_type": "execute_result"
    }
   ],
   "source": [
    "data['test'].to_pandas().head()"
   ]
  },
  {
   "cell_type": "markdown",
   "id": "c384ce66-2cb2-4110-947c-070fd165b0c2",
   "metadata": {},
   "source": [
    "** Run only until here later for GRPO **\n",
    "\n",
    "Now we can get a base model. I have chosen Qwen2.5-0.5B-Instruct, because I have an old laptop (if any billionare is reading this, by all means feel free to donate a fancy one): "
   ]
  },
  {
   "cell_type": "code",
   "execution_count": 16,
   "id": "9627af5f-463f-44f4-b79d-3f9127d391ad",
   "metadata": {},
   "outputs": [
    {
     "name": "stdout",
     "output_type": "stream",
     "text": [
      "==((====))==  Unsloth 2025.2.12: Fast Qwen2 patching. Transformers: 4.49.0.\n",
      "   \\\\   /|    GPU: NVIDIA GeForce RTX 3050 Ti Laptop GPU. Max memory: 4.0 GB. Platform: Linux.\n",
      "O^O/ \\_/ \\    Torch: 2.5.1+cu124. CUDA: 8.6. CUDA Toolkit: 12.4. Triton: 3.1.0\n",
      "\\        /    Bfloat16 = TRUE. FA [Xformers = 0.0.28.post3. FA2 = False]\n",
      " \"-____-\"     Free Apache license: http://github.com/unslothai/unsloth\n",
      "Unsloth: Fast downloading is enabled - ignore downloading bars which are red colored!\n",
      "Unsloth: vLLM loading unsloth/qwen2.5-0.5b-instruct-unsloth-bnb-4bit with actual GPU utilization = 40.19%\n",
      "Unsloth: Your GPU has CUDA compute capability 8.6 with VRAM = 4.0 GB.\n",
      "Unsloth: Using conservativeness = 1.0. Chunked prefill tokens = 1024. Num Sequences = 128.\n",
      "Unsloth: vLLM's KV Cache can use up to 1.08 GB. Also swap space = 1 GB.\n",
      "INFO 03-12 19:03:08 config.py:542] This model supports multiple tasks: {'generate', 'score', 'embed', 'reward', 'classify'}. Defaulting to 'generate'.\n",
      "Unsloth: vLLM Bitsandbytes config using kwargs = {'load_in_8bit': False, 'load_in_4bit': True, 'bnb_4bit_compute_dtype': 'bfloat16', 'bnb_4bit_quant_storage': 'uint8', 'bnb_4bit_quant_type': 'nf4', 'bnb_4bit_use_double_quant': True, 'llm_int8_enable_fp32_cpu_offload': False, 'llm_int8_has_fp16_weight': False, 'llm_int8_skip_modules': ['lm_head', 'multi_modal_projector', 'merger', 'modality_projection', 'model.layers.0.self_attn', 'model.layers.0.mlp', 'model.layers.2.mlp', 'model.layers.3.mlp', 'model.layers.21.mlp', 'model.layers.0.self_attn.q_proj'], 'llm_int8_threshold': 6.0}\n",
      "INFO 03-12 19:03:10 llm_engine.py:234] Initializing a V0 LLM engine (v0.7.2) with config: model='unsloth/qwen2.5-0.5b-instruct-unsloth-bnb-4bit', speculative_config=None, tokenizer='unsloth/qwen2.5-0.5b-instruct-unsloth-bnb-4bit', skip_tokenizer_init=False, tokenizer_mode=auto, revision=None, override_neuron_config=None, tokenizer_revision=None, trust_remote_code=False, dtype=torch.bfloat16, max_seq_len=1024, download_dir=None, load_format=LoadFormat.BITSANDBYTES, tensor_parallel_size=1, pipeline_parallel_size=1, disable_custom_all_reduce=False, quantization=bitsandbytes, enforce_eager=False, kv_cache_dtype=auto,  device_config=cuda:0, decoding_config=DecodingConfig(guided_decoding_backend='xgrammar'), observability_config=ObservabilityConfig(otlp_traces_endpoint=None, collect_model_forward_time=False, collect_model_execute_time=False), seed=0, served_model_name=unsloth/qwen2.5-0.5b-instruct-unsloth-bnb-4bit, num_scheduler_steps=1, multi_step_stream_outputs=True, enable_prefix_caching=True, chunked_prefill_enabled=False, use_async_output_proc=True, disable_mm_preprocessor_cache=False, mm_processor_kwargs=None, pooler_config=None, compilation_config={\"level\":0,\"splitting_ops\":[],\"compile_sizes\":[],\"cudagraph_capture_sizes\":[128,120,112,104,96,88,80,72,64,56,48,40,32,24,16,8,4,2,1],\"max_capture_size\":128}, use_cached_outputs=False, \n",
      "WARNING 03-12 19:03:11 interface.py:284] Using 'pin_memory=False' as WSL is detected. This may slow down the performance.\n",
      "INFO 03-12 19:03:11 cuda.py:230] Using Flash Attention backend.\n",
      "INFO 03-12 19:03:12 model_runner.py:1110] Starting to load model unsloth/qwen2.5-0.5b-instruct-unsloth-bnb-4bit...\n"
     ]
    },
    {
     "name": "stderr",
     "output_type": "stream",
     "text": [
      "[W312 19:03:12.120379259 CUDAAllocatorConfig.h:28] Warning: expandable_segments not supported on this platform (function operator())\n"
     ]
    },
    {
     "name": "stdout",
     "output_type": "stream",
     "text": [
      "INFO 03-12 19:03:12 loader.py:1102] Loading weights with BitsAndBytes quantization.  May take a while ...\n",
      "INFO 03-12 19:03:13 weight_utils.py:252] Using model weights format ['*.safetensors']\n"
     ]
    },
    {
     "data": {
      "application/vnd.jupyter.widget-view+json": {
       "model_id": "7aaffe926c4f406fa558beda13bc2097",
       "version_major": 2,
       "version_minor": 0
      },
      "text/plain": [
       "Loading safetensors checkpoint shards:   0% Completed | 0/1 [00:00<?, ?it/s]\n"
      ]
     },
     "metadata": {},
     "output_type": "display_data"
    },
    {
     "data": {
      "application/vnd.jupyter.widget-view+json": {
       "model_id": "9649e54bcd38495f849850b3f37c132b",
       "version_major": 2,
       "version_minor": 0
      },
      "text/plain": [
       "Loading safetensors checkpoint shards:   0% Completed | 0/1 [00:00<?, ?it/s]\n"
      ]
     },
     "metadata": {},
     "output_type": "display_data"
    },
    {
     "name": "stdout",
     "output_type": "stream",
     "text": [
      "INFO 03-12 19:03:15 model_runner.py:1115] Loading model weights took 0.5090 GB\n",
      "INFO 03-12 19:03:15 punica_selector.py:18] Using PunicaWrapperGPU.\n",
      "INFO 03-12 19:03:19 worker.py:267] Memory profiling takes 3.49 seconds\n",
      "INFO 03-12 19:03:19 worker.py:267] the current vLLM instance can use total_gpu_memory (4.00GiB) x gpu_memory_utilization (0.40) = 1.61GiB\n",
      "INFO 03-12 19:03:19 worker.py:267] model weights take 0.51GiB; non_torch_memory takes 0.03GiB; PyTorch activation peak memory takes 0.70GiB; the rest of the memory reserved for KV Cache is 0.37GiB.\n",
      "INFO 03-12 19:03:20 executor_base.py:110] # CUDA blocks: 2034, # CPU blocks: 5461\n",
      "INFO 03-12 19:03:20 executor_base.py:115] Maximum concurrency for 1024 tokens per request: 31.78x\n",
      "INFO 03-12 19:03:20 model_runner.py:1434] Capturing cudagraphs for decoding. This may lead to unexpected consequences if the model is not static. To run the model in eager mode, set 'enforce_eager=True' or use '--enforce-eager' in the CLI. If out-of-memory error occurs during cudagraph capture, consider decreasing `gpu_memory_utilization` or switching to eager mode. You can also reduce the `max_num_seqs` as needed to decrease memory usage.\n"
     ]
    },
    {
     "name": "stderr",
     "output_type": "stream",
     "text": [
      "Capturing CUDA graph shapes: 100%|███████████████████████████████████████████████████████████████████████████████████████████████████████| 19/19 [00:22<00:00,  1.19s/it]"
     ]
    },
    {
     "name": "stdout",
     "output_type": "stream",
     "text": [
      "INFO 03-12 19:03:43 model_runner.py:1562] Graph capturing finished in 23 secs, took 0.30 GiB\n",
      "INFO 03-12 19:03:43 llm_engine.py:431] init engine (profile, create kv cache, warmup model) took 27.42 seconds\n"
     ]
    },
    {
     "name": "stderr",
     "output_type": "stream",
     "text": [
      "\n",
      "Unsloth 2025.2.12 patched 24 layers with 24 QKV layers, 24 O layers and 24 MLP layers.\n"
     ]
    }
   ],
   "source": [
    "model, tokenizer = FastLanguageModel.from_pretrained(\n",
    "    model_name=\"Qwen/Qwen2.5-0.5B-Instruct\",\n",
    "    max_seq_length=max_seq_length,\n",
    "    # False for LoRA 16bit\n",
    "    load_in_4bit=True, \n",
    "    # Enable vLLM fast inference\n",
    "    fast_inference=True, \n",
    "    max_lora_rank=lora_rank,\n",
    "    # Reduce if out of memory\n",
    "    gpu_memory_utilization=0.5, \n",
    ")\n",
    "\n",
    "# get the model with the lora adapters on top\n",
    "model = FastLanguageModel.get_peft_model(\n",
    "    model,\n",
    "    # Choose any number > 0 ! Suggested 8, 16, 32, 64, 128\n",
    "    r=lora_rank, \n",
    "    # Which parts of the model are we gonna train?\n",
    "    target_modules=[\n",
    "        \"q_proj\", \n",
    "        \"k_proj\", \n",
    "        \"v_proj\", \n",
    "        \"o_proj\",\n",
    "        \"gate_proj\", \n",
    "        \"up_proj\", \n",
    "        \"down_proj\",\n",
    "    ], \n",
    "    lora_alpha=lora_rank,\n",
    "    # Enable long context finetuning\n",
    "    use_gradient_checkpointing = \"unsloth\", \n",
    "    random_state=3407,\n",
    ")"
   ]
  },
  {
   "cell_type": "markdown",
   "id": "7443f5d5-392e-4dda-b178-cc94011426c8",
   "metadata": {},
   "source": [
    "Now that we have a model we can apply the model's chat template to the datapoint we are using as a vibe check:"
   ]
  },
  {
   "cell_type": "code",
   "execution_count": 15,
   "id": "dd090ecb-0310-4e74-a931-1223a6acdb8a",
   "metadata": {},
   "outputs": [],
   "source": [
    "inputs = tokenizer.apply_chat_template(\n",
    "    d,  \n",
    "    # add generation from because we want to \n",
    "    # generate a response from the model\n",
    "    add_generation_prompt=True,\n",
    "    tokenize=True,\n",
    "    return_tensors=\"pt\",\n",
    "    # return_dict=True,\n",
    ").to('cuda')"
   ]
  },
  {
   "cell_type": "code",
   "execution_count": 16,
   "id": "0422af92-895a-4fd3-8881-78346b2d48c4",
   "metadata": {},
   "outputs": [
    {
     "data": {
      "text/plain": [
       "tensor([[151644,   8948,    198, 151645,    198, 151644,    872,    198,  40995,\n",
       "             18,     11,    220,     22,     11,    220,     15,     11,    220,\n",
       "             16,     60,   1464,   4167,  40995,     24,     11,    220,     22,\n",
       "             11,    220,     16,     60,   1464,   4167,  40995,     22,     11,\n",
       "            220,     24,     11,    220,     23,     60,   1464,    508,     23,\n",
       "             60, 151645,    198, 151644,  77091,    198]], device='cuda:0')"
      ]
     },
     "execution_count": 16,
     "metadata": {},
     "output_type": "execute_result"
    }
   ],
   "source": [
    "inputs"
   ]
  },
  {
   "cell_type": "markdown",
   "id": "ee7091b2-bd61-43cb-abca-6d9e627380a4",
   "metadata": {},
   "source": [
    "Let's start by getting a sense of what the base model produced for our task:"
   ]
  },
  {
   "cell_type": "code",
   "execution_count": 48,
   "id": "f75885bd-7f45-4ea1-9c54-c2d3bc5cb72e",
   "metadata": {},
   "outputs": [
    {
     "name": "stderr",
     "output_type": "stream",
     "text": [
      "The attention mask is not set and cannot be inferred from input because pad token is same as eos token. As a consequence, you may observe unexpected behavior. Please pass your input's `attention_mask` to obtain reliable results.\n"
     ]
    },
    {
     "name": "stdout",
     "output_type": "stream",
     "text": [
      "<|im_start|>system\n",
      "<|im_end|>\n",
      "<|im_start|>user\n",
      "-[2, 0, 5, 1, 6] -> [5]\n",
      "-[3, 6, 4, 8, 9] -> [9, 3]\n",
      "-[1, 3, 5, 0] -> [5, 3]<|im_end|>\n",
      "<|im_start|>assistant\n",
      "To transform the given arrays into the desired output, we can use a simple mapping process. Here's how we can do it:\n",
      "\n",
      "1. For the first array `[2, 0, 5, 1, 6]`, we map it to `[5]`.\n",
      "2. For the second array `[3, 6, 4, 8, 9]`, we map it to `[9, 3]`.\n",
      "3. For the third array `[1, 3, 5, 0]`, we map it to `[5, 3]`.\n",
      "\n",
      "Here's the final result:\n",
      "\n",
      "```swift\n",
      "let inputArray = [2, 0, 5, 1, 6]\n",
      "let mappedArray = inputArray.map { $0.map { $0 == 0 ? 5 : $0 } }\n",
      "\n",
      "print(mappedArray) // Output: [5, 9, 3, 5, 3]\n",
      "```\n",
      "\n",
      "This code uses the `map` function to apply the `== 0` condition to each element in the input array, and then maps the result to the desired output format.<|im_end|>\n"
     ]
    }
   ],
   "source": [
    "FastLanguageModel.for_inference(model)\n",
    "text_streamer = TextStreamer(tokenizer)\n",
    "_ = model.generate(\n",
    "    inputs, \n",
    "    streamer=text_streamer, \n",
    "    max_new_tokens=512,\n",
    ")"
   ]
  },
  {
   "cell_type": "markdown",
   "id": "85e33d41-be70-4a5a-981f-dec6be075694",
   "metadata": {},
   "source": [
    "This looks nothing like what we need, of course: we haven't even told the model what shape we want for our programs."
   ]
  },
  {
   "cell_type": "code",
   "execution_count": 49,
   "id": "f0d11cac-8c91-48f4-8ed4-29bc42ed72b3",
   "metadata": {},
   "outputs": [],
   "source": [
    "%%capture\n",
    "FastLanguageModel.for_training(model)"
   ]
  },
  {
   "cell_type": "markdown",
   "id": "dd0ec878-9098-4b7f-833b-9b57ba5ab14c",
   "metadata": {},
   "source": [
    "So instead of just generating the model directly, we can fine-tune the model to give the kind of response we want. \n",
    "\n",
    "Let's do supervised fine tuning on the model:"
   ]
  },
  {
   "cell_type": "code",
   "execution_count": 17,
   "id": "63cf9770-cf61-440d-8f05-c7c67ab05537",
   "metadata": {},
   "outputs": [
    {
     "data": {
      "application/vnd.jupyter.widget-view+json": {
       "model_id": "0064fac5d16f42f3bb7ae0a9a22ed77e",
       "version_major": 2,
       "version_minor": 0
      },
      "text/plain": [
       "Map:   0%|          | 0/65536 [00:00<?, ? examples/s]"
      ]
     },
     "metadata": {},
     "output_type": "display_data"
    },
    {
     "data": {
      "application/vnd.jupyter.widget-view+json": {
       "model_id": "c0d62e0acc4643f1855f244a517e43d8",
       "version_major": 2,
       "version_minor": 0
      },
      "text/plain": [
       "Converting train dataset to ChatML (num_proc=2):   0%|          | 0/65536 [00:00<?, ? examples/s]"
      ]
     },
     "metadata": {},
     "output_type": "display_data"
    },
    {
     "data": {
      "application/vnd.jupyter.widget-view+json": {
       "model_id": "f1ca4fd943e3431191c66d485bb34715",
       "version_major": 2,
       "version_minor": 0
      },
      "text/plain": [
       "Applying chat template to train dataset (num_proc=2):   0%|          | 0/65536 [00:00<?, ? examples/s]"
      ]
     },
     "metadata": {},
     "output_type": "display_data"
    },
    {
     "data": {
      "application/vnd.jupyter.widget-view+json": {
       "model_id": "1e8875b15c7f42ef9cf8fd188bd60b5c",
       "version_major": 2,
       "version_minor": 0
      },
      "text/plain": [
       "Tokenizing train dataset (num_proc=2):   0%|          | 0/65536 [00:00<?, ? examples/s]"
      ]
     },
     "metadata": {},
     "output_type": "display_data"
    },
    {
     "data": {
      "application/vnd.jupyter.widget-view+json": {
       "model_id": "549cbe263b144c6caefdd4e14d2f28e6",
       "version_major": 2,
       "version_minor": 0
      },
      "text/plain": [
       "Packing train dataset (num_proc=2):   0%|          | 0/65536 [00:00<?, ? examples/s]"
      ]
     },
     "metadata": {},
     "output_type": "display_data"
    },
    {
     "data": {
      "application/vnd.jupyter.widget-view+json": {
       "model_id": "949dc5f50a4a41c8b431d81d27941b7f",
       "version_major": 2,
       "version_minor": 0
      },
      "text/plain": [
       "Map:   0%|          | 0/128 [00:00<?, ? examples/s]"
      ]
     },
     "metadata": {},
     "output_type": "display_data"
    },
    {
     "data": {
      "application/vnd.jupyter.widget-view+json": {
       "model_id": "0a0f8947701e4532988fa3bf45e0b32f",
       "version_major": 2,
       "version_minor": 0
      },
      "text/plain": [
       "Converting eval dataset to ChatML (num_proc=2):   0%|          | 0/128 [00:00<?, ? examples/s]"
      ]
     },
     "metadata": {},
     "output_type": "display_data"
    },
    {
     "data": {
      "application/vnd.jupyter.widget-view+json": {
       "model_id": "68da2a27e17547cd8e062c38e853ed1f",
       "version_major": 2,
       "version_minor": 0
      },
      "text/plain": [
       "Applying chat template to eval dataset (num_proc=2):   0%|          | 0/128 [00:00<?, ? examples/s]"
      ]
     },
     "metadata": {},
     "output_type": "display_data"
    },
    {
     "data": {
      "application/vnd.jupyter.widget-view+json": {
       "model_id": "9d40fe8369aa4d0abbc14d5ecb9be196",
       "version_major": 2,
       "version_minor": 0
      },
      "text/plain": [
       "Tokenizing eval dataset (num_proc=2):   0%|          | 0/128 [00:00<?, ? examples/s]"
      ]
     },
     "metadata": {},
     "output_type": "display_data"
    },
    {
     "data": {
      "application/vnd.jupyter.widget-view+json": {
       "model_id": "5eee4a1fe68840d7b66108bfe682c980",
       "version_major": 2,
       "version_minor": 0
      },
      "text/plain": [
       "Packing eval dataset (num_proc=2):   0%|          | 0/128 [00:00<?, ? examples/s]"
      ]
     },
     "metadata": {},
     "output_type": "display_data"
    },
    {
     "name": "stderr",
     "output_type": "stream",
     "text": [
      "No label_names provided for model class `PeftModelForCausalLM`. Since `PeftModel` hides base models input arguments, if label_names is not given, label_names can't be set automatically within `Trainer`. Note that empty label_names list will be used instead.\n"
     ]
    }
   ],
   "source": [
    "trainer = SFTTrainer(\n",
    "    model=model,\n",
    "    tokenizer=tokenizer,\n",
    "    train_dataset=data['train'],\n",
    "    eval_dataset=data['test'],\n",
    "    dataset_text_field=\"text\",\n",
    "    max_seq_length=max_seq_length,\n",
    "    dataset_num_proc=2,\n",
    "    packing=True,\n",
    "    args=TrainingArguments(\n",
    "        learning_rate=3e-5,\n",
    "        lr_scheduler_type=\"linear\",\n",
    "        per_device_train_batch_size=8,\n",
    "        gradient_accumulation_steps=2,\n",
    "        # validation accuracy was going up again when training for too long!\n",
    "        num_train_epochs=0.4,\n",
    "        fp16=not is_bfloat16_supported(),\n",
    "        bf16=is_bfloat16_supported(),\n",
    "        logging_steps=1,\n",
    "        optim=\"adamw_8bit\",\n",
    "        weight_decay=0.05,\n",
    "        warmup_steps=10,\n",
    "        output_dir=\"lt_SFT_noreasoning\",\n",
    "        seed=0,\n",
    "        save_steps=100,\n",
    "        # feedback from evaluation set\n",
    "        # from: https://github.com/unslothai/unsloth/wiki#evaluation-loop---also-oom-or-crashing\n",
    "        fp16_full_eval=True,\n",
    "        per_device_eval_batch_size=2,\n",
    "        eval_accumulation_steps=4,\n",
    "        eval_strategy=\"steps\",\n",
    "        eval_steps=10,\n",
    "    ),\n",
    ")"
   ]
  },
  {
   "cell_type": "markdown",
   "id": "4c97c564-42ba-4997-a9ea-e857ecd9e13e",
   "metadata": {},
   "source": [
    "And let's train the model:"
   ]
  },
  {
   "cell_type": "code",
   "execution_count": null,
   "id": "b0cca760-0e93-4e90-b5dd-dcca93535a79",
   "metadata": {},
   "outputs": [],
   "source": [
    "trainer.train()"
   ]
  },
  {
   "cell_type": "markdown",
   "id": "53dcc687-44c7-46cc-bbad-ee9708924f79",
   "metadata": {},
   "source": [
    "At this point we have the model and the adapter which contains the lora weights."
   ]
  },
  {
   "cell_type": "code",
   "execution_count": 31,
   "id": "2bc66456-38e4-4bbb-b890-be233ff3a6d7",
   "metadata": {},
   "outputs": [],
   "source": [
    "trainer.save_model('finetuned_lt')"
   ]
  },
  {
   "cell_type": "markdown",
   "id": "bcaf7ca4-b937-483a-8681-e9508518dbce",
   "metadata": {},
   "source": [
    "And we can get the model with the lora adaptor we just trained (it might make sense to restart the kernel before going foward and not load any previous model to make sure the GPU is empty):"
   ]
  },
  {
   "cell_type": "code",
   "execution_count": 16,
   "id": "2eb6e5e8-b5a9-4987-bb0b-9e5d34d05e9b",
   "metadata": {},
   "outputs": [
    {
     "name": "stdout",
     "output_type": "stream",
     "text": [
      "INFO 03-13 17:33:48 config.py:542] This model supports multiple tasks: {'embed', 'classify', 'reward', 'score', 'generate'}. Defaulting to 'generate'.\n",
      "INFO 03-13 17:33:49 llm_engine.py:234] Initializing a V0 LLM engine (v0.7.2) with config: model='unsloth/qwen2.5-0.5b-instruct-unsloth-bnb-4bit', speculative_config=None, tokenizer='unsloth/qwen2.5-0.5b-instruct-unsloth-bnb-4bit', skip_tokenizer_init=False, tokenizer_mode=auto, revision=None, override_neuron_config=None, tokenizer_revision=None, trust_remote_code=False, dtype=torch.bfloat16, max_seq_len=1024, download_dir=None, load_format=LoadFormat.BITSANDBYTES, tensor_parallel_size=1, pipeline_parallel_size=1, disable_custom_all_reduce=False, quantization=bitsandbytes, enforce_eager=False, kv_cache_dtype=auto,  device_config=cuda:0, decoding_config=DecodingConfig(guided_decoding_backend='xgrammar'), observability_config=ObservabilityConfig(otlp_traces_endpoint=None, collect_model_forward_time=False, collect_model_execute_time=False), seed=0, served_model_name=unsloth/qwen2.5-0.5b-instruct-unsloth-bnb-4bit, num_scheduler_steps=1, multi_step_stream_outputs=True, enable_prefix_caching=True, chunked_prefill_enabled=False, use_async_output_proc=True, disable_mm_preprocessor_cache=False, mm_processor_kwargs=None, pooler_config=None, compilation_config={\"level\":0,\"splitting_ops\":[],\"compile_sizes\":[],\"cudagraph_capture_sizes\":[128,120,112,104,96,88,80,72,64,56,48,40,32,24,16,8,4,2,1],\"max_capture_size\":128}, use_cached_outputs=False, \n",
      "WARNING 03-13 17:33:50 interface.py:284] Using 'pin_memory=False' as WSL is detected. This may slow down the performance.\n",
      "INFO 03-13 17:33:50 cuda.py:230] Using Flash Attention backend.\n",
      "INFO 03-13 17:33:50 model_runner.py:1110] Starting to load model unsloth/qwen2.5-0.5b-instruct-unsloth-bnb-4bit...\n"
     ]
    },
    {
     "name": "stderr",
     "output_type": "stream",
     "text": [
      "[W313 17:33:50.736917400 CUDAAllocatorConfig.h:28] Warning: expandable_segments not supported on this platform (function operator())\n"
     ]
    },
    {
     "name": "stdout",
     "output_type": "stream",
     "text": [
      "INFO 03-13 17:33:50 loader.py:1102] Loading weights with BitsAndBytes quantization.  May take a while ...\n",
      "INFO 03-13 17:33:51 weight_utils.py:252] Using model weights format ['*.safetensors']\n",
      "INFO 03-13 17:33:53 model_runner.py:1115] Loading model weights took 0.5090 GB\n",
      "INFO 03-13 17:33:53 punica_selector.py:18] Using PunicaWrapperGPU.\n",
      "INFO 03-13 17:33:56 worker.py:267] Memory profiling takes 2.87 seconds\n",
      "INFO 03-13 17:33:56 worker.py:267] the current vLLM instance can use total_gpu_memory (4.00GiB) x gpu_memory_utilization (0.40) = 1.61GiB\n",
      "INFO 03-13 17:33:56 worker.py:267] model weights take 0.51GiB; non_torch_memory takes 0.03GiB; PyTorch activation peak memory takes 0.70GiB; the rest of the memory reserved for KV Cache is 0.37GiB.\n",
      "INFO 03-13 17:33:56 executor_base.py:110] # CUDA blocks: 2034, # CPU blocks: 5461\n",
      "INFO 03-13 17:33:56 executor_base.py:115] Maximum concurrency for 1024 tokens per request: 31.78x\n",
      "INFO 03-13 17:33:57 model_runner.py:1434] Capturing cudagraphs for decoding. This may lead to unexpected consequences if the model is not static. To run the model in eager mode, set 'enforce_eager=True' or use '--enforce-eager' in the CLI. If out-of-memory error occurs during cudagraph capture, consider decreasing `gpu_memory_utilization` or switching to eager mode. You can also reduce the `max_num_seqs` as needed to decrease memory usage.\n",
      "INFO 03-13 17:34:12 model_runner.py:1562] Graph capturing finished in 15 secs, took 0.30 GiB\n",
      "INFO 03-13 17:34:12 llm_engine.py:431] init engine (profile, create kv cache, warmup model) took 19.22 seconds\n"
     ]
    },
    {
     "name": "stderr",
     "output_type": "stream",
     "text": [
      "Unsloth 2025.2.12 patched 24 layers with 24 QKV layers, 24 O layers and 24 MLP layers.\n"
     ]
    }
   ],
   "source": [
    "%%capture\n",
    "model, tokenizer = FastLanguageModel.from_pretrained(\n",
    "    model_name = \"finetuned_lt\",\n",
    "    max_seq_length=max_seq_length,\n",
    "    load_in_4bit=True,\n",
    "    # Enable vLLM fast inference\n",
    "    fast_inference = True, \n",
    ")"
   ]
  },
  {
   "cell_type": "code",
   "execution_count": 17,
   "id": "9a6387a1-1365-4955-9e1b-1a1283a9699c",
   "metadata": {},
   "outputs": [],
   "source": [
    "# strangely, this is not a default\n",
    "tokenizer.padding_side = 'left'"
   ]
  },
  {
   "cell_type": "code",
   "execution_count": 18,
   "id": "5a8d955a-ad0d-4930-90f4-55362be5de5e",
   "metadata": {},
   "outputs": [],
   "source": [
    "inputs = tokenizer.apply_chat_template(\n",
    "    data['test']['prompt'],  \n",
    "    # add generation prompt because we want to \n",
    "    # generate a response from the model\n",
    "    add_generation_prompt=True,\n",
    "    tokenize=True,\n",
    "    # return_tensors=\"pt\",\n",
    "    padding=True,\n",
    "    return_dict=True,\n",
    ")"
   ]
  },
  {
   "cell_type": "code",
   "execution_count": 19,
   "id": "2b45ac92-31ab-471e-accc-bd734b75eeec",
   "metadata": {},
   "outputs": [
    {
     "name": "stdout",
     "output_type": "stream",
     "text": [
      "system\n",
      "\n",
      "user\n",
      "-[7, 7, 3, 0] -> [12, 12, 8, 5]\n",
      "-[6, 7] -> [11, 12]\n",
      "-[8, 6] -> [13, 11]\n",
      "assistant\n",
      "\n"
     ]
    }
   ],
   "source": [
    "print(tokenizer.decode(inputs['input_ids'][0], skip_special_tokens=True))"
   ]
  },
  {
   "cell_type": "markdown",
   "id": "255fd5e9-cb5d-493d-b942-f861e1c4c88c",
   "metadata": {},
   "source": [
    "After the supervised finetuning, we should get answers that look a lot closer to what we want. Let's run the model on the test set to confirm this."
   ]
  },
  {
   "cell_type": "code",
   "execution_count": 22,
   "id": "d4a442cc-8951-458e-98f1-bd713bea0c3a",
   "metadata": {
    "scrolled": true
   },
   "outputs": [],
   "source": [
    "%%capture\n",
    "FastLanguageModel.for_inference(model)"
   ]
  },
  {
   "cell_type": "markdown",
   "id": "56dfc244-3cc3-498f-b51e-41f6e0eda1e0",
   "metadata": {},
   "source": [
    "(`tokenizer.batch_decode` does not work: when the input contains padding tokens the generation is nonsense, even when applying an `attention_mask` and specifying `pad_token_id`. Not sure what is going on here, but after some debugging and no solution I decided to just avoid batching and generate in a loop. Alas, time is a finite resource)"
   ]
  },
  {
   "cell_type": "code",
   "execution_count": 156,
   "id": "97b49053-e872-4314-906a-351400211c37",
   "metadata": {
    "scrolled": true
   },
   "outputs": [],
   "source": [
    "answer = []\n",
    "for inp in inputs['input_ids']:\n",
    "    text_upto_padding = inp[inp.index(151644)+1:]\n",
    "    sft_test_generation = model.generate(\n",
    "        tensor([text_upto_padding], dtype=torch.int64).to('cuda'),\n",
    "        # attention_mask=inputs['attention_mask'][10][None],\n",
    "        pad_token_id=tokenizer.pad_token_id,\n",
    "        max_new_tokens=128,\n",
    "    )\n",
    "    answer.append(tokenizer.decode(sft_test_generation[0][len(text_upto_padding):],skip_special_tokens=True))"
   ]
  },
  {
   "cell_type": "code",
   "execution_count": 158,
   "id": "6efa39d5-9b77-4eb3-b7f3-cc5957d18f1d",
   "metadata": {},
   "outputs": [
    {
     "data": {
      "text/plain": [
       "'compose(map_(plus(1)),filter_(or_(and_(gt(1),gt(1)),and_(gt(1),gt(1)))))'"
      ]
     },
     "execution_count": 158,
     "metadata": {},
     "output_type": "execute_result"
    }
   ],
   "source": [
    "answer[0]"
   ]
  },
  {
   "cell_type": "markdown",
   "id": "76639f60-1775-4d30-b606-b550634183e3",
   "metadata": {},
   "source": [
    "And let's see how accurate these answers were:"
   ]
  },
  {
   "cell_type": "code",
   "execution_count": 175,
   "id": "db45ea33-8124-48e3-b174-cc2ef93dd873",
   "metadata": {},
   "outputs": [
    {
     "data": {
      "application/vnd.jupyter.widget-view+json": {
       "model_id": "380542ff52b943c7b92bc623256a58f1",
       "version_major": 2,
       "version_minor": 0
      },
      "text/plain": [
       "Map:   0%|          | 0/128 [00:00<?, ? examples/s]"
      ]
     },
     "metadata": {},
     "output_type": "display_data"
    }
   ],
   "source": [
    "functions = [eval(a, lt_eval_dict) for a in answer]\n",
    "data['test'] = data['test'].map(check_accuracy, fn_kwargs={'functions':functions}, with_indices=True)"
   ]
  },
  {
   "cell_type": "markdown",
   "id": "c9cec52f-6642-4828-8709-7b7eca43cfc4",
   "metadata": {},
   "source": [
    "Let's look at the average number of correct predictions across the three examples across the dataset. Not good, not terrible:"
   ]
  },
  {
   "cell_type": "code",
   "execution_count": 180,
   "id": "3b9ba981-7f18-486f-8dae-01659c45cb15",
   "metadata": {},
   "outputs": [
    {
     "data": {
      "text/plain": [
       "0.16145833333333331"
      ]
     },
     "execution_count": 180,
     "metadata": {},
     "output_type": "execute_result"
    }
   ],
   "source": [
    "np.mean(data['test']['accuracy'])"
   ]
  },
  {
   "cell_type": "code",
   "execution_count": 18,
   "id": "324dbd80-7ad1-48aa-89f8-d325617cddbe",
   "metadata": {
    "scrolled": true
   },
   "outputs": [],
   "source": [
    "%%capture\n",
    "FastLanguageModel.for_training(model)"
   ]
  },
  {
   "cell_type": "markdown",
   "id": "1a8a68ee-7d45-4a41-ac45-ff21450ad1f1",
   "metadata": {},
   "source": [
    "We can do better. Let's try the RL fine-tuning on the distilled model:"
   ]
  },
  {
   "cell_type": "code",
   "execution_count": 20,
   "id": "7a283c75-daea-4f1c-8520-82a2b14b35bb",
   "metadata": {},
   "outputs": [
    {
     "name": "stderr",
     "output_type": "stream",
     "text": [
      "No label_names provided for model class `PeftModelForCausalLM`. Since `PeftModel` hides base models input arguments, if label_names is not given, label_names can't be set automatically within `Trainer`. Note that empty label_names list will be used instead.\n"
     ]
    },
    {
     "name": "stdout",
     "output_type": "stream",
     "text": [
      "Unsloth: We know expect `per_device_train_batch_size` to be a multiple of `num_generations`.\n",
      "We will change the batch size of 1 to the `num_generations` of 8\n"
     ]
    }
   ],
   "source": [
    "trainer = GRPOTrainer(\n",
    "    model=model,\n",
    "    processing_class=tokenizer,\n",
    "    reward_funcs=[\n",
    "        print_func,\n",
    "        direct_cfg_reward_func,\n",
    "        direct_lt_correctness_reward_func,\n",
    "        direct_conciseness_reward_func\n",
    "    ],\n",
    "    args=GRPOConfig(\n",
    "        # use vLLM for fast inference! (it raises an error)\n",
    "        # use_vllm = True, \n",
    "        learning_rate = 5e-6,\n",
    "        adam_beta1 = 0.9,\n",
    "        adam_beta2 = 0.99,\n",
    "        weight_decay = 0.1,\n",
    "        warmup_ratio = 0.1,\n",
    "        lr_scheduler_type = \"cosine\",\n",
    "        optim = \"adamw_8bit\",\n",
    "        logging_steps = 1,\n",
    "        bf16 = is_bfloat16_supported(),\n",
    "        fp16 = not is_bfloat16_supported(),\n",
    "        per_device_train_batch_size = 1,\n",
    "        # Increase to 4 for smoother training\n",
    "        gradient_accumulation_steps = 1, \n",
    "        # Decrease if out of memory\n",
    "        num_generations = 8, \n",
    "        max_prompt_length = 256,\n",
    "        max_completion_length = 64,\n",
    "        # Set to 1 for a full training run\n",
    "        num_train_epochs = 1, \n",
    "        max_steps = 10000,\n",
    "        save_steps = 500,\n",
    "        max_grad_norm = 0.1,\n",
    "        # Can use Weights & Biases\n",
    "        report_to = \"none\", \n",
    "        output_dir = \"outputs\",\n",
    "        resume_from_checkpoint=True\n",
    "    ),\n",
    "    train_dataset=data['train'],\n",
    ")"
   ]
  },
  {
   "cell_type": "code",
   "execution_count": 21,
   "id": "c9d079f3-c0c3-488f-8919-71dbd20fbcbd",
   "metadata": {
    "scrolled": true
   },
   "outputs": [
    {
     "name": "stderr",
     "output_type": "stream",
     "text": [
      "/home/fausto/mambaforge/envs/arccourse/lib/python3.11/site-packages/transformers/trainer.py:3423: FutureWarning: You are using `torch.load` with `weights_only=False` (the current default value), which uses the default pickle module implicitly. It is possible to construct malicious pickle data which will execute arbitrary code during unpickling (See https://github.com/pytorch/pytorch/blob/main/SECURITY.md#untrusted-models for more details). In a future release, the default value for `weights_only` will be flipped to `True`. This limits the functions that could be executed during unpickling. Arbitrary objects will no longer be allowed to be loaded via this mode unless they are explicitly allowlisted by the user via `torch.serialization.add_safe_globals`. We recommend you start setting `weights_only=True` for any use case where you don't have full control of the loaded file. Please open an issue on GitHub for any issues related to this experimental feature.\n",
      "  torch.load(os.path.join(checkpoint, OPTIMIZER_NAME), map_location=map_location)\n",
      "==((====))==  Unsloth - 2x faster free finetuning | Num GPUs = 1\n",
      "   \\\\   /|    Num examples = 65,536 | Num Epochs = 1\n",
      "O^O/ \\_/ \\    Batch size per device = 8 | Gradient Accumulation steps = 1\n",
      "\\        /    Total batch size = 8 | Total steps = 10,000\n",
      " \"-____-\"     Number of trainable parameters = 35,192,832\n",
      "/home/fausto/mambaforge/envs/arccourse/lib/python3.11/site-packages/transformers/trainer.py:3119: FutureWarning: You are using `torch.load` with `weights_only=False` (the current default value), which uses the default pickle module implicitly. It is possible to construct malicious pickle data which will execute arbitrary code during unpickling (See https://github.com/pytorch/pytorch/blob/main/SECURITY.md#untrusted-models for more details). In a future release, the default value for `weights_only` will be flipped to `True`. This limits the functions that could be executed during unpickling. Arbitrary objects will no longer be allowed to be loaded via this mode unless they are explicitly allowlisted by the user via `torch.serialization.add_safe_globals`. We recommend you start setting `weights_only=True` for any use case where you don't have full control of the loaded file. Please open an issue on GitHub for any issues related to this experimental feature.\n",
      "  checkpoint_rng_state = torch.load(rng_file)\n"
     ]
    },
    {
     "name": "stdout",
     "output_type": "stream",
     "text": [
      "------------------------------ \n",
      "**Question**\n",
      "-[9, 6] -> [10, 7]\n",
      "-[8, 3, 0, 5] -> [9, 4, 6]\n",
      "-[2, 2] -> [3, 3] \n",
      "\n",
      "**Response**\n",
      "compose(map_(plus(1)),filter_(gt(1))) \n",
      "\n",
      "**Extracted**\n",
      "compose(map_(plus(1)),filter_(gt(1)))\n",
      "\n",
      "\n",
      "Prediction:  compose(map_(plus(1)),filter_(gt(1)))\n",
      "[9, 6] --> [10, 7] vs [10, 7]\n",
      "Prediction:  compose(map_(plus(1)),filter_(gt(1)))\n",
      "[8, 3, 0, 5] --> [9, 4, 6] vs [9, 4, 6]\n",
      "Prediction:  compose(map_(plus(1)),filter_(gt(1)))\n",
      "[2, 2] --> [3, 3] vs [3, 3]\n",
      "Prediction:  compose(map_(plus(1)),filter_(gt(2)))\n",
      "[9, 6] --> [10, 7] vs [10, 7]\n",
      "Prediction:  compose(map_(plus(1)),filter_(gt(2)))\n",
      "[8, 3, 0, 5] --> [9, 4, 6] vs [9, 4, 6]\n",
      "Prediction:  compose(map_(plus(1)),filter_(gt(2)))\n",
      "[2, 2] --> [3, 3] vs [3, 3]\n",
      "Prediction:  compose(map_(plus(1)),filter_(gt(2)))\n",
      "[9, 6] --> [10, 7] vs [10, 7]\n",
      "Prediction:  compose(map_(plus(1)),filter_(gt(2)))\n",
      "[8, 3, 0, 5] --> [9, 4, 6] vs [9, 4, 6]\n",
      "Prediction:  compose(map_(plus(1)),filter_(gt(2)))\n",
      "[2, 2] --> [3, 3] vs [3, 3]\n",
      "Prediction:  compose(map_(plus(1)),filter_(gt(2)))\n",
      "[9, 6] --> [10, 7] vs [10, 7]\n",
      "Prediction:  compose(map_(plus(1)),filter_(gt(2)))\n",
      "[8, 3, 0, 5] --> [9, 4, 6] vs [9, 4, 6]\n",
      "Prediction:  compose(map_(plus(1)),filter_(gt(2)))\n",
      "[2, 2] --> [3, 3] vs [3, 3]\n",
      "Prediction:  compose(map_(plus(1)),filter_(gt(2)))\n",
      "[9, 6] --> [10, 7] vs [10, 7]\n",
      "Prediction:  compose(map_(plus(1)),filter_(gt(2)))\n",
      "[8, 3, 0, 5] --> [9, 4, 6] vs [9, 4, 6]\n",
      "Prediction:  compose(map_(plus(1)),filter_(gt(2)))\n",
      "[2, 2] --> [3, 3] vs [3, 3]\n",
      "Prediction:  compose(map_(plus(1)),filter_(gt(2)))\n",
      "[9, 6] --> [10, 7] vs [10, 7]\n",
      "Prediction:  compose(map_(plus(1)),filter_(gt(2)))\n",
      "[8, 3, 0, 5] --> [9, 4, 6] vs [9, 4, 6]\n",
      "Prediction:  compose(map_(plus(1)),filter_(gt(2)))\n",
      "[2, 2] --> [3, 3] vs [3, 3]\n",
      "Prediction:  compose(map_(plus(1)),filter_(gt(2)))\n",
      "[9, 6] --> [10, 7] vs [10, 7]\n",
      "Prediction:  compose(map_(plus(1)),filter_(gt(2)))\n",
      "[8, 3, 0, 5] --> [9, 4, 6] vs [9, 4, 6]\n",
      "Prediction:  compose(map_(plus(1)),filter_(gt(2)))\n",
      "[2, 2] --> [3, 3] vs [3, 3]\n",
      "Prediction:  compose(map_(plus(1)),filter_(gt(2)))\n",
      "[9, 6] --> [10, 7] vs [10, 7]\n",
      "Prediction:  compose(map_(plus(1)),filter_(gt(2)))\n",
      "[8, 3, 0, 5] --> [9, 4, 6] vs [9, 4, 6]\n",
      "Prediction:  compose(map_(plus(1)),filter_(gt(2)))\n",
      "[2, 2] --> [3, 3] vs [3, 3]\n"
     ]
    },
    {
     "data": {
      "text/html": [
       "\n",
       "    <div>\n",
       "      \n",
       "      <progress value='7034' max='10000' style='width:300px; height:20px; vertical-align: middle;'></progress>\n",
       "      [ 7034/10000 01:34 < 2:26:43, 0.34 it/s, Epoch 0.11/1]\n",
       "    </div>\n",
       "    <table border=\"1\" class=\"dataframe\">\n",
       "  <thead>\n",
       " <tr style=\"text-align: left;\">\n",
       "      <th>Step</th>\n",
       "      <th>Training Loss</th>\n",
       "      <th>reward</th>\n",
       "      <th>reward_std</th>\n",
       "      <th>completion_length</th>\n",
       "      <th>kl</th>\n",
       "      <th>rewards / print_func</th>\n",
       "      <th>rewards / direct_cfg_reward_func</th>\n",
       "      <th>rewards / direct_lt_correctness_reward_func</th>\n",
       "      <th>rewards / direct_conciseness_reward_func</th>\n",
       "    </tr>\n",
       "  </thead>\n",
       "  <tbody>\n",
       "    <tr>\n",
       "      <td>7001</td>\n",
       "      <td>0.175600</td>\n",
       "      <td>4.190734</td>\n",
       "      <td>0.000000</td>\n",
       "      <td>14.000000</td>\n",
       "      <td>4.389789</td>\n",
       "      <td>0.000000</td>\n",
       "      <td>0.500000</td>\n",
       "      <td>3.000000</td>\n",
       "      <td>0.690734</td>\n",
       "    </tr>\n",
       "    <tr>\n",
       "      <td>7002</td>\n",
       "      <td>0.249200</td>\n",
       "      <td>1.875000</td>\n",
       "      <td>0.231455</td>\n",
       "      <td>14.000000</td>\n",
       "      <td>6.229631</td>\n",
       "      <td>0.000000</td>\n",
       "      <td>0.500000</td>\n",
       "      <td>1.375000</td>\n",
       "      <td>0.000000</td>\n",
       "    </tr>\n",
       "    <tr>\n",
       "      <td>7003</td>\n",
       "      <td>0.211700</td>\n",
       "      <td>0.729167</td>\n",
       "      <td>0.294628</td>\n",
       "      <td>13.750000</td>\n",
       "      <td>5.292799</td>\n",
       "      <td>0.000000</td>\n",
       "      <td>0.437500</td>\n",
       "      <td>0.291667</td>\n",
       "      <td>0.000000</td>\n",
       "    </tr>\n",
       "    <tr>\n",
       "      <td>7004</td>\n",
       "      <td>0.384400</td>\n",
       "      <td>3.143051</td>\n",
       "      <td>1.939933</td>\n",
       "      <td>20.125000</td>\n",
       "      <td>9.610527</td>\n",
       "      <td>0.000000</td>\n",
       "      <td>0.375000</td>\n",
       "      <td>2.250000</td>\n",
       "      <td>0.518051</td>\n",
       "    </tr>\n",
       "    <tr>\n",
       "      <td>7005</td>\n",
       "      <td>0.583800</td>\n",
       "      <td>2.375000</td>\n",
       "      <td>1.465882</td>\n",
       "      <td>20.125000</td>\n",
       "      <td>14.594269</td>\n",
       "      <td>0.000000</td>\n",
       "      <td>0.375000</td>\n",
       "      <td>2.000000</td>\n",
       "      <td>0.000000</td>\n",
       "    </tr>\n",
       "    <tr>\n",
       "      <td>7006</td>\n",
       "      <td>0.242600</td>\n",
       "      <td>2.000000</td>\n",
       "      <td>0.000000</td>\n",
       "      <td>10.000000</td>\n",
       "      <td>6.064757</td>\n",
       "      <td>0.000000</td>\n",
       "      <td>0.500000</td>\n",
       "      <td>1.500000</td>\n",
       "      <td>0.000000</td>\n",
       "    </tr>\n",
       "    <tr>\n",
       "      <td>7007</td>\n",
       "      <td>0.241200</td>\n",
       "      <td>4.233447</td>\n",
       "      <td>0.000000</td>\n",
       "      <td>10.000000</td>\n",
       "      <td>6.030917</td>\n",
       "      <td>0.000000</td>\n",
       "      <td>0.500000</td>\n",
       "      <td>3.000000</td>\n",
       "      <td>0.733447</td>\n",
       "    </tr>\n",
       "    <tr>\n",
       "      <td>7008</td>\n",
       "      <td>0.185200</td>\n",
       "      <td>4.190734</td>\n",
       "      <td>0.000000</td>\n",
       "      <td>14.000000</td>\n",
       "      <td>4.629368</td>\n",
       "      <td>0.000000</td>\n",
       "      <td>0.500000</td>\n",
       "      <td>3.000000</td>\n",
       "      <td>0.690734</td>\n",
       "    </tr>\n",
       "    <tr>\n",
       "      <td>7009</td>\n",
       "      <td>0.240700</td>\n",
       "      <td>2.145833</td>\n",
       "      <td>0.258775</td>\n",
       "      <td>10.000000</td>\n",
       "      <td>6.016520</td>\n",
       "      <td>0.000000</td>\n",
       "      <td>0.500000</td>\n",
       "      <td>1.645833</td>\n",
       "      <td>0.000000</td>\n",
       "    </tr>\n",
       "    <tr>\n",
       "      <td>7010</td>\n",
       "      <td>0.182200</td>\n",
       "      <td>4.190734</td>\n",
       "      <td>0.000000</td>\n",
       "      <td>14.000000</td>\n",
       "      <td>4.555621</td>\n",
       "      <td>0.000000</td>\n",
       "      <td>0.500000</td>\n",
       "      <td>3.000000</td>\n",
       "      <td>0.690734</td>\n",
       "    </tr>\n",
       "    <tr>\n",
       "      <td>7011</td>\n",
       "      <td>0.160600</td>\n",
       "      <td>1.333333</td>\n",
       "      <td>0.000000</td>\n",
       "      <td>14.000000</td>\n",
       "      <td>4.015273</td>\n",
       "      <td>0.000000</td>\n",
       "      <td>0.500000</td>\n",
       "      <td>0.833333</td>\n",
       "      <td>0.000000</td>\n",
       "    </tr>\n",
       "    <tr>\n",
       "      <td>7012</td>\n",
       "      <td>0.350800</td>\n",
       "      <td>3.143051</td>\n",
       "      <td>1.939933</td>\n",
       "      <td>26.500000</td>\n",
       "      <td>8.770329</td>\n",
       "      <td>0.000000</td>\n",
       "      <td>0.375000</td>\n",
       "      <td>2.250000</td>\n",
       "      <td>0.518051</td>\n",
       "    </tr>\n",
       "    <tr>\n",
       "      <td>7013</td>\n",
       "      <td>0.376000</td>\n",
       "      <td>2.041667</td>\n",
       "      <td>0.824958</td>\n",
       "      <td>16.750000</td>\n",
       "      <td>9.399635</td>\n",
       "      <td>0.000000</td>\n",
       "      <td>0.437500</td>\n",
       "      <td>1.604167</td>\n",
       "      <td>0.000000</td>\n",
       "    </tr>\n",
       "    <tr>\n",
       "      <td>7014</td>\n",
       "      <td>0.265700</td>\n",
       "      <td>3.679102</td>\n",
       "      <td>1.486582</td>\n",
       "      <td>16.875000</td>\n",
       "      <td>6.642846</td>\n",
       "      <td>0.000000</td>\n",
       "      <td>0.437500</td>\n",
       "      <td>2.625000</td>\n",
       "      <td>0.616602</td>\n",
       "    </tr>\n",
       "    <tr>\n",
       "      <td>7015</td>\n",
       "      <td>0.179800</td>\n",
       "      <td>1.666667</td>\n",
       "      <td>0.000000</td>\n",
       "      <td>14.000000</td>\n",
       "      <td>4.495217</td>\n",
       "      <td>0.000000</td>\n",
       "      <td>0.500000</td>\n",
       "      <td>1.166667</td>\n",
       "      <td>0.000000</td>\n",
       "    </tr>\n",
       "    <tr>\n",
       "      <td>7016</td>\n",
       "      <td>0.175100</td>\n",
       "      <td>1.208333</td>\n",
       "      <td>0.595952</td>\n",
       "      <td>14.000000</td>\n",
       "      <td>4.377183</td>\n",
       "      <td>0.000000</td>\n",
       "      <td>0.500000</td>\n",
       "      <td>0.708333</td>\n",
       "      <td>0.000000</td>\n",
       "    </tr>\n",
       "    <tr>\n",
       "      <td>7017</td>\n",
       "      <td>0.250200</td>\n",
       "      <td>3.429563</td>\n",
       "      <td>1.529585</td>\n",
       "      <td>19.125000</td>\n",
       "      <td>6.254042</td>\n",
       "      <td>0.000000</td>\n",
       "      <td>0.437500</td>\n",
       "      <td>2.479167</td>\n",
       "      <td>0.512896</td>\n",
       "    </tr>\n",
       "    <tr>\n",
       "      <td>7018</td>\n",
       "      <td>0.226100</td>\n",
       "      <td>3.916838</td>\n",
       "      <td>0.632707</td>\n",
       "      <td>10.500000</td>\n",
       "      <td>5.653506</td>\n",
       "      <td>0.000000</td>\n",
       "      <td>0.500000</td>\n",
       "      <td>2.850000</td>\n",
       "      <td>0.566838</td>\n",
       "    </tr>\n",
       "    <tr>\n",
       "      <td>7019</td>\n",
       "      <td>0.671400</td>\n",
       "      <td>2.627892</td>\n",
       "      <td>1.897376</td>\n",
       "      <td>18.500000</td>\n",
       "      <td>16.785912</td>\n",
       "      <td>0.000000</td>\n",
       "      <td>0.375000</td>\n",
       "      <td>1.875000</td>\n",
       "      <td>0.377892</td>\n",
       "    </tr>\n",
       "    <tr>\n",
       "      <td>7020</td>\n",
       "      <td>0.403400</td>\n",
       "      <td>2.318750</td>\n",
       "      <td>0.936916</td>\n",
       "      <td>16.750000</td>\n",
       "      <td>10.084667</td>\n",
       "      <td>0.000000</td>\n",
       "      <td>0.437500</td>\n",
       "      <td>1.881250</td>\n",
       "      <td>0.000000</td>\n",
       "    </tr>\n",
       "    <tr>\n",
       "      <td>7021</td>\n",
       "      <td>0.518400</td>\n",
       "      <td>3.143051</td>\n",
       "      <td>1.939933</td>\n",
       "      <td>26.500000</td>\n",
       "      <td>12.959563</td>\n",
       "      <td>0.000000</td>\n",
       "      <td>0.375000</td>\n",
       "      <td>2.250000</td>\n",
       "      <td>0.518051</td>\n",
       "    </tr>\n",
       "    <tr>\n",
       "      <td>7022</td>\n",
       "      <td>0.179900</td>\n",
       "      <td>4.201842</td>\n",
       "      <td>0.033294</td>\n",
       "      <td>13.000000</td>\n",
       "      <td>4.496715</td>\n",
       "      <td>0.000000</td>\n",
       "      <td>0.500000</td>\n",
       "      <td>3.000000</td>\n",
       "      <td>0.701842</td>\n",
       "    </tr>\n",
       "    <tr>\n",
       "      <td>7023</td>\n",
       "      <td>0.195300</td>\n",
       "      <td>4.190734</td>\n",
       "      <td>0.000000</td>\n",
       "      <td>14.000000</td>\n",
       "      <td>4.882841</td>\n",
       "      <td>0.000000</td>\n",
       "      <td>0.500000</td>\n",
       "      <td>3.000000</td>\n",
       "      <td>0.690734</td>\n",
       "    </tr>\n",
       "    <tr>\n",
       "      <td>7024</td>\n",
       "      <td>0.276100</td>\n",
       "      <td>3.666893</td>\n",
       "      <td>1.481648</td>\n",
       "      <td>14.125000</td>\n",
       "      <td>6.903736</td>\n",
       "      <td>0.000000</td>\n",
       "      <td>0.437500</td>\n",
       "      <td>2.625000</td>\n",
       "      <td>0.604393</td>\n",
       "    </tr>\n",
       "    <tr>\n",
       "      <td>7025</td>\n",
       "      <td>0.224800</td>\n",
       "      <td>2.333333</td>\n",
       "      <td>0.471404</td>\n",
       "      <td>10.500000</td>\n",
       "      <td>5.621130</td>\n",
       "      <td>0.000000</td>\n",
       "      <td>0.500000</td>\n",
       "      <td>1.833333</td>\n",
       "      <td>0.000000</td>\n",
       "    </tr>\n",
       "    <tr>\n",
       "      <td>7026</td>\n",
       "      <td>0.242500</td>\n",
       "      <td>3.679102</td>\n",
       "      <td>1.486582</td>\n",
       "      <td>20.250000</td>\n",
       "      <td>6.062451</td>\n",
       "      <td>0.000000</td>\n",
       "      <td>0.437500</td>\n",
       "      <td>2.625000</td>\n",
       "      <td>0.616602</td>\n",
       "    </tr>\n",
       "    <tr>\n",
       "      <td>7027</td>\n",
       "      <td>0.177900</td>\n",
       "      <td>3.619209</td>\n",
       "      <td>0.788780</td>\n",
       "      <td>14.000000</td>\n",
       "      <td>4.447256</td>\n",
       "      <td>0.000000</td>\n",
       "      <td>0.500000</td>\n",
       "      <td>2.687500</td>\n",
       "      <td>0.431709</td>\n",
       "    </tr>\n",
       "    <tr>\n",
       "      <td>7028</td>\n",
       "      <td>0.344400</td>\n",
       "      <td>0.831250</td>\n",
       "      <td>0.335876</td>\n",
       "      <td>20.250000</td>\n",
       "      <td>8.609632</td>\n",
       "      <td>0.000000</td>\n",
       "      <td>0.437500</td>\n",
       "      <td>0.393750</td>\n",
       "      <td>0.000000</td>\n",
       "    </tr>\n",
       "    <tr>\n",
       "      <td>7029</td>\n",
       "      <td>0.455600</td>\n",
       "      <td>2.325000</td>\n",
       "      <td>1.435021</td>\n",
       "      <td>12.250000</td>\n",
       "      <td>11.388947</td>\n",
       "      <td>0.000000</td>\n",
       "      <td>0.375000</td>\n",
       "      <td>1.950000</td>\n",
       "      <td>0.000000</td>\n",
       "    </tr>\n",
       "    <tr>\n",
       "      <td>7030</td>\n",
       "      <td>0.149300</td>\n",
       "      <td>4.204688</td>\n",
       "      <td>0.000000</td>\n",
       "      <td>14.000000</td>\n",
       "      <td>3.732244</td>\n",
       "      <td>0.000000</td>\n",
       "      <td>0.500000</td>\n",
       "      <td>3.000000</td>\n",
       "      <td>0.704688</td>\n",
       "    </tr>\n",
       "    <tr>\n",
       "      <td>7031</td>\n",
       "      <td>0.240000</td>\n",
       "      <td>2.000000</td>\n",
       "      <td>0.308607</td>\n",
       "      <td>10.000000</td>\n",
       "      <td>5.999632</td>\n",
       "      <td>0.000000</td>\n",
       "      <td>0.500000</td>\n",
       "      <td>1.500000</td>\n",
       "      <td>0.000000</td>\n",
       "    </tr>\n",
       "    <tr>\n",
       "      <td>7032</td>\n",
       "      <td>0.371900</td>\n",
       "      <td>3.205551</td>\n",
       "      <td>1.829093</td>\n",
       "      <td>20.250000</td>\n",
       "      <td>9.297453</td>\n",
       "      <td>0.000000</td>\n",
       "      <td>0.437500</td>\n",
       "      <td>2.250000</td>\n",
       "      <td>0.518051</td>\n",
       "    </tr>\n",
       "  </tbody>\n",
       "</table><p>"
      ],
      "text/plain": [
       "<IPython.core.display.HTML object>"
      ]
     },
     "metadata": {},
     "output_type": "display_data"
    },
    {
     "name": "stdout",
     "output_type": "stream",
     "text": [
      "------------------------------ \n",
      "**Question**\n",
      "-[5, 2, 0, 2, 0] -> []\n",
      "-[4, 0] -> [6]\n",
      "-[0, 8, 9, 1] -> [10] \n",
      "\n",
      "**Response**\n",
      "compose(map_(plus(2)),filter_(gt(5))) \n",
      "\n",
      "**Extracted**\n",
      "compose(map_(plus(2)),filter_(gt(5)))\n",
      "\n",
      "\n",
      "Prediction:  compose(map_(plus(2)),filter_(gt(5)))\n",
      "[5, 2, 0, 2, 0] --> [7] vs []\n",
      "Prediction:  compose(map_(plus(2)),filter_(gt(5)))\n",
      "[4, 0] --> [6] vs [6]\n",
      "Prediction:  compose(map_(plus(2)),filter_(gt(5)))\n",
      "[0, 8, 9, 1] --> [10, 11] vs [10]\n",
      "Prediction:  compose(map_(plus(2)),filter_(gt(5)))\n",
      "[5, 2, 0, 2, 0] --> [7] vs []\n",
      "Prediction:  compose(map_(plus(2)),filter_(gt(5)))\n",
      "[4, 0] --> [6] vs [6]\n",
      "Prediction:  compose(map_(plus(2)),filter_(gt(5)))\n",
      "[0, 8, 9, 1] --> [10, 11] vs [10]\n",
      "Prediction:  compose(map_(gt(4)),filter_(gt(2)))\n",
      "[5, 2, 0, 2, 0] --> [] vs []\n",
      "Prediction:  compose(map_(gt(4)),filter_(gt(2)))\n",
      "[4, 0] --> [] vs [6]\n",
      "Prediction:  compose(map_(gt(4)),filter_(gt(2)))\n",
      "[0, 8, 9, 1] --> [] vs [10]\n",
      "Prediction:  compose(map_(plus(2)),filter_(gt(5)))\n",
      "[5, 2, 0, 2, 0] --> [7] vs []\n",
      "Prediction:  compose(map_(plus(2)),filter_(gt(5)))\n",
      "[4, 0] --> [6] vs [6]\n",
      "Prediction:  compose(map_(plus(2)),filter_(gt(5)))\n",
      "[0, 8, 9, 1] --> [10, 11] vs [10]\n",
      "Prediction:  compose(map_(plus(2)),filter_(gt(5)))\n",
      "[5, 2, 0, 2, 0] --> [7] vs []\n",
      "Prediction:  compose(map_(plus(2)),filter_(gt(5)))\n",
      "[4, 0] --> [6] vs [6]\n",
      "Prediction:  compose(map_(plus(2)),filter_(gt(5)))\n",
      "[0, 8, 9, 1] --> [10, 11] vs [10]\n",
      "Prediction:  compose(map_(plus(2)),filter_(gt(4)))\n",
      "[5, 2, 0, 2, 0] --> [7] vs []\n",
      "Prediction:  compose(map_(plus(2)),filter_(gt(4)))\n",
      "[4, 0] --> [6] vs [6]\n",
      "Prediction:  compose(map_(plus(2)),filter_(gt(4)))\n",
      "[0, 8, 9, 1] --> [10, 11] vs [10]\n",
      "Prediction:  compose(map_(gt(5)),filter_(gt(4)))\n",
      "[5, 2, 0, 2, 0] --> [] vs []\n",
      "Prediction:  compose(map_(gt(5)),filter_(gt(4)))\n",
      "[4, 0] --> [] vs [6]\n",
      "Prediction:  compose(map_(gt(5)),filter_(gt(4)))\n",
      "[0, 8, 9, 1] --> [] vs [10]\n",
      "Prediction:  compose(map_(plus(2)),filter_(gt(5)))\n",
      "[5, 2, 0, 2, 0] --> [7] vs []\n",
      "Prediction:  compose(map_(plus(2)),filter_(gt(5)))\n",
      "[4, 0] --> [6] vs [6]\n",
      "Prediction:  compose(map_(plus(2)),filter_(gt(5)))\n",
      "[0, 8, 9, 1] --> [10, 11] vs [10]\n",
      "------------------------------ \n",
      "**Question**\n",
      "-[9, 9, 3, 8, 2] -> [11]\n",
      "-[3, 7, 0] -> []\n",
      "-[0, 7, 7, 0] -> [] \n",
      "\n",
      "**Response**\n",
      "compose(map_(plus(2)),filter_(gt(5))) \n",
      "\n",
      "**Extracted**\n",
      "compose(map_(plus(2)),filter_(gt(5)))\n",
      "\n",
      "\n",
      "Prediction:  compose(map_(plus(2)),filter_(gt(5)))\n",
      "[9, 9, 3, 8, 2] --> [11, 11, 10] vs [11]\n",
      "Prediction:  compose(map_(plus(2)),filter_(gt(5)))\n",
      "[3, 7, 0] --> [9] vs []\n",
      "Prediction:  compose(map_(plus(2)),filter_(gt(5)))\n",
      "[0, 7, 7, 0] --> [9, 9] vs []\n",
      "Prediction:  compose(map_(plus(2)),filter_(gt(5)))\n",
      "[9, 9, 3, 8, 2] --> [11, 11, 10] vs [11]\n",
      "Prediction:  compose(map_(plus(2)),filter_(gt(5)))\n",
      "[3, 7, 0] --> [9] vs []\n",
      "Prediction:  compose(map_(plus(2)),filter_(gt(5)))\n",
      "[0, 7, 7, 0] --> [9, 9] vs []\n",
      "Prediction:  compose(map_(plus(2)),filter_(gt(5)))\n",
      "[9, 9, 3, 8, 2] --> [11, 11, 10] vs [11]\n",
      "Prediction:  compose(map_(plus(2)),filter_(gt(5)))\n",
      "[3, 7, 0] --> [9] vs []\n",
      "Prediction:  compose(map_(plus(2)),filter_(gt(5)))\n",
      "[0, 7, 7, 0] --> [9, 9] vs []\n",
      "Prediction:  compose(map_(plus(2)),filter_(gt(5)))\n",
      "[9, 9, 3, 8, 2] --> [11, 11, 10] vs [11]\n",
      "Prediction:  compose(map_(plus(2)),filter_(gt(5)))\n",
      "[3, 7, 0] --> [9] vs []\n",
      "Prediction:  compose(map_(plus(2)),filter_(gt(5)))\n",
      "[0, 7, 7, 0] --> [9, 9] vs []\n",
      "Prediction:  compose(map_(plus(2)),filter_(gt(5)))\n",
      "[9, 9, 3, 8, 2] --> [11, 11, 10] vs [11]\n",
      "Prediction:  compose(map_(plus(2)),filter_(gt(5)))\n",
      "[3, 7, 0] --> [9] vs []\n",
      "Prediction:  compose(map_(plus(2)),filter_(gt(5)))\n",
      "[0, 7, 7, 0] --> [9, 9] vs []\n",
      "Prediction:  compose(map_(plus(2)),filter_(gt(5)))\n",
      "[9, 9, 3, 8, 2] --> [11, 11, 10] vs [11]\n",
      "Prediction:  compose(map_(plus(2)),filter_(gt(5)))\n",
      "[3, 7, 0] --> [9] vs []\n",
      "Prediction:  compose(map_(plus(2)),filter_(gt(5)))\n",
      "[0, 7, 7, 0] --> [9, 9] vs []\n",
      "compose-map一百(ุม) территорable\n",
      "31 not in cfg\n",
      "Prediction:  compose(map_(plus(2)),filter_(gt(5)))\n",
      "[9, 9, 3, 8, 2] --> [11, 11, 10] vs [11]\n",
      "Prediction:  compose(map_(plus(2)),filter_(gt(5)))\n",
      "[3, 7, 0] --> [9] vs []\n",
      "Prediction:  compose(map_(plus(2)),filter_(gt(5)))\n",
      "[0, 7, 7, 0] --> [9, 9] vs []\n",
      "compose-map一百(ุม) территорable\n",
      "31 not in cfg\n",
      "------------------------------ \n",
      "**Question**\n",
      "-[6, 9] -> [7, 10]\n",
      "-[1, 0] -> []\n",
      "-[9, 7, 8, 5] -> [10, 8, 9, 6] \n",
      "\n",
      "**Response**\n",
      "compose(map_(plus(1)),filter_(gt(5))) \n",
      "\n",
      "**Extracted**\n",
      "compose(map_(plus(1)),filter_(gt(5)))\n",
      "\n",
      "\n",
      "Prediction:  compose(map_(plus(1)),filter_(gt(5)))\n",
      "[6, 9] --> [7, 10] vs [7, 10]\n",
      "Prediction:  compose(map_(plus(1)),filter_(gt(5)))\n",
      "[1, 0] --> [] vs []\n",
      "Prediction:  compose(map_(plus(1)),filter_(gt(5)))\n",
      "[9, 7, 8, 5] --> [10, 8, 9, 6] vs [10, 8, 9, 6]\n",
      "Prediction:  compose(map_(plus(1)),filter_(gt(5)))\n",
      "[6, 9] --> [7, 10] vs [7, 10]\n",
      "Prediction:  compose(map_(plus(1)),filter_(gt(5)))\n",
      "[1, 0] --> [] vs []\n",
      "Prediction:  compose(map_(plus(1)),filter_(gt(5)))\n",
      "[9, 7, 8, 5] --> [10, 8, 9, 6] vs [10, 8, 9, 6]\n",
      "Prediction:  compose(map_(plus(1)),filter_(gt(5)))\n",
      "[6, 9] --> [7, 10] vs [7, 10]\n",
      "Prediction:  compose(map_(plus(1)),filter_(gt(5)))\n",
      "[1, 0] --> [] vs []\n",
      "Prediction:  compose(map_(plus(1)),filter_(gt(5)))\n",
      "[9, 7, 8, 5] --> [10, 8, 9, 6] vs [10, 8, 9, 6]\n",
      "API-87_FUNCTION_COMPLETE Canterbury Broadway_COMPLETE神圣堪疚、及时优先 meilleurs)IENTATION(-0.1)明显,民间公平副秘书长+288()1102\n",
      "230\n",
      "2\n",
      "1IENTATION-compatibility-CATCHABLE_BUFFER Battalion-507 gunmen_team\n",
      "8\n",
      "1IENTATION not in cfg\n",
      "Prediction:  compose(map_(plus(1)),filter_(gt(5)))\n",
      "[6, 9] --> [7, 10] vs [7, 10]\n",
      "Prediction:  compose(map_(plus(1)),filter_(gt(5)))\n",
      "[1, 0] --> [] vs []\n",
      "Prediction:  compose(map_(plus(1)),filter_(gt(5)))\n",
      "[9, 7, 8, 5] --> [10, 8, 9, 6] vs [10, 8, 9, 6]\n",
      "Prediction:  compose(map_(plus(1)),filter_(gt(5)))\n",
      "[6, 9] --> [7, 10] vs [7, 10]\n",
      "Prediction:  compose(map_(plus(1)),filter_(gt(5)))\n",
      "[1, 0] --> [] vs []\n",
      "Prediction:  compose(map_(plus(1)),filter_(gt(5)))\n",
      "[9, 7, 8, 5] --> [10, 8, 9, 6] vs [10, 8, 9, 6]\n",
      "compose(map_(+1),filter_(gt(5))) not in cfg\n",
      "Prediction:  compose(map_(plus(1)),filter_(gt(5)))\n",
      "[6, 9] --> [7, 10] vs [7, 10]\n",
      "Prediction:  compose(map_(plus(1)),filter_(gt(5)))\n",
      "[1, 0] --> [] vs []\n",
      "Prediction:  compose(map_(plus(1)),filter_(gt(5)))\n",
      "[9, 7, 8, 5] --> [10, 8, 9, 6] vs [10, 8, 9, 6]\n",
      "API-87_FUNCTION_COMPLETE Canterbury Broadway_COMPLETE神圣堪疚、及时优先 meilleurs)IENTATION(-0.1)明显,民间公平副秘书长+288()1102\n",
      "230\n",
      "2\n",
      "1IENTATION-compatibility-CATCHABLE_BUFFER Battalion-507 gunmen_team\n",
      "8\n",
      "1IENTATION not in cfg\n",
      "compose(map_(+1),filter_(gt(5))) not in cfg\n",
      "------------------------------ \n",
      "**Question**\n",
      "-[3, 8] -> [3, 8]\n",
      "-[7, 6, 7] -> [7, 6, 7]\n",
      "-[3, 1, 7] -> [3, 1, 7] \n",
      "\n",
      "**Response**\n",
      "compose(filter_(gt(1)),filter_(gt(2))) \n",
      "\n",
      "**Extracted**\n",
      "compose(filter_(gt(1)),filter_(gt(2)))\n",
      "\n",
      "\n",
      "Prediction:  compose(filter_(gt(1)),filter_(gt(2)))\n",
      "[3, 8] --> [3, 8] vs [3, 8]\n",
      "Prediction:  compose(filter_(gt(1)),filter_(gt(2)))\n",
      "[7, 6, 7] --> [7, 6, 7] vs [7, 6, 7]\n",
      "Prediction:  compose(filter_(gt(1)),filter_(gt(2)))\n",
      "[3, 1, 7] --> [3, 7] vs [3, 1, 7]\n",
      "Prediction:  compose(filter_(gt(2)),filter_(gt(2)))\n",
      "[3, 8] --> [3, 8] vs [3, 8]\n",
      "Prediction:  compose(filter_(gt(2)),filter_(gt(2)))\n",
      "[7, 6, 7] --> [7, 6, 7] vs [7, 6, 7]\n",
      "Prediction:  compose(filter_(gt(2)),filter_(gt(2)))\n",
      "[3, 1, 7] --> [3, 7] vs [3, 1, 7]\n",
      "Prediction:  compose(filter_(gt(1)),filter_(gt(2)))\n",
      "[3, 8] --> [3, 8] vs [3, 8]\n",
      "Prediction:  compose(filter_(gt(1)),filter_(gt(2)))\n",
      "[7, 6, 7] --> [7, 6, 7] vs [7, 6, 7]\n",
      "Prediction:  compose(filter_(gt(1)),filter_(gt(2)))\n",
      "[3, 1, 7] --> [3, 7] vs [3, 1, 7]\n",
      "Prediction:  compose(filter_(gt(2)),filter_(gt(2)))\n",
      "[3, 8] --> [3, 8] vs [3, 8]\n",
      "Prediction:  compose(filter_(gt(2)),filter_(gt(2)))\n",
      "[7, 6, 7] --> [7, 6, 7] vs [7, 6, 7]\n",
      "Prediction:  compose(filter_(gt(2)),filter_(gt(2)))\n",
      "[3, 1, 7] --> [3, 7] vs [3, 1, 7]\n",
      "Prediction:  compose(filter_(gt(2)),filter_(gt(2)))\n",
      "[3, 8] --> [3, 8] vs [3, 8]\n",
      "Prediction:  compose(filter_(gt(2)),filter_(gt(2)))\n",
      "[7, 6, 7] --> [7, 6, 7] vs [7, 6, 7]\n",
      "Prediction:  compose(filter_(gt(2)),filter_(gt(2)))\n",
      "[3, 1, 7] --> [3, 7] vs [3, 1, 7]\n",
      "capitalize_id tribunal14_patch\n",
      " antics() \"8\" not in cfg\n",
      "compose(filter_(gt,到省_split7[骨干1[即分6，fy1,12,12，5-201/2]]_80+8:5,同4629_base,副_102[、,6_type/1w7] not in cfg\n",
      "Prediction:  compose(filter_(gt(2)),filter_(gt(2)))\n",
      "[3, 8] --> [3, 8] vs [3, 8]\n",
      "Prediction:  compose(filter_(gt(2)),filter_(gt(2)))\n",
      "[7, 6, 7] --> [7, 6, 7] vs [7, 6, 7]\n",
      "Prediction:  compose(filter_(gt(2)),filter_(gt(2)))\n",
      "[3, 1, 7] --> [3, 7] vs [3, 1, 7]\n",
      "capitalize_id tribunal14_patch\n",
      " antics() \"8\" not in cfg\n",
      "compose(filter_(gt,到省_split7[骨干1[即分6，fy1,12,12，5-201/2]]_80+8:5,同4629_base,副_102[、,6_type/1w7] not in cfg\n",
      "------------------------------ \n",
      "**Question**\n",
      "-[3, 7, 9, 2, 9] -> []\n",
      "-[6, 8, 5] -> [8, 6]\n",
      "-[9, 5, 6] -> [6] \n",
      "\n",
      "**Response**\n",
      "compose(reverse,filter_(gt(5))) \n",
      "\n",
      "**Extracted**\n",
      "compose(reverse,filter_(gt(5)))\n",
      "\n",
      "\n",
      "Prediction:  compose(reverse,filter_(gt(5)))\n",
      "[3, 7, 9, 2, 9] --> [9, 9, 7] vs []\n",
      "Prediction:  compose(reverse,filter_(gt(5)))\n",
      "[6, 8, 5] --> [8, 6] vs [8, 6]\n",
      "Prediction:  compose(reverse,filter_(gt(5)))\n",
      "[9, 5, 6] --> [6, 9] vs [6]\n",
      "Prediction:  compose(reverse,filter_(gt(5)))\n",
      "[3, 7, 9, 2, 9] --> [9, 9, 7] vs []\n",
      "Prediction:  compose(reverse,filter_(gt(5)))\n",
      "[6, 8, 5] --> [8, 6] vs [8, 6]\n",
      "Prediction:  compose(reverse,filter_(gt(5)))\n",
      "[9, 5, 6] --> [6, 9] vs [6]\n",
      "Prediction:  compose(reverse,filter_(gt(5)))\n",
      "[3, 7, 9, 2, 9] --> [9, 9, 7] vs []\n",
      "Prediction:  compose(reverse,filter_(gt(5)))\n",
      "[6, 8, 5] --> [8, 6] vs [8, 6]\n",
      "Prediction:  compose(reverse,filter_(gt(5)))\n",
      "[9, 5, 6] --> [6, 9] vs [6]\n",
      "Prediction:  compose(reverse,filter_(gt(5)))\n",
      "[3, 7, 9, 2, 9] --> [9, 9, 7] vs []\n",
      "Prediction:  compose(reverse,filter_(gt(5)))\n",
      "[6, 8, 5] --> [8, 6] vs [8, 6]\n",
      "Prediction:  compose(reverse,filter_(gt(5)))\n",
      "[9, 5, 6] --> [6, 9] vs [6]\n",
      "Prediction:  compose(reverse,filter_(gt(5)))\n",
      "[3, 7, 9, 2, 9] --> [9, 9, 7] vs []\n",
      "Prediction:  compose(reverse,filter_(gt(5)))\n",
      "[6, 8, 5] --> [8, 6] vs [8, 6]\n",
      "Prediction:  compose(reverse,filter_(gt(5)))\n",
      "[9, 5, 6] --> [6, 9] vs [6]\n",
      "Prediction:  compose(reverse,filter_(gt(5)))\n",
      "[3, 7, 9, 2, 9] --> [9, 9, 7] vs []\n",
      "Prediction:  compose(reverse,filter_(gt(5)))\n",
      "[6, 8, 5] --> [8, 6] vs [8, 6]\n",
      "Prediction:  compose(reverse,filter_(gt(5)))\n",
      "[9, 5, 6] --> [6, 9] vs [6]\n",
      "Prediction:  compose(reverse,filter_(gt(5)))\n",
      "[3, 7, 9, 2, 9] --> [9, 9, 7] vs []\n",
      "Prediction:  compose(reverse,filter_(gt(5)))\n",
      "[6, 8, 5] --> [8, 6] vs [8, 6]\n",
      "Prediction:  compose(reverse,filter_(gt(5)))\n",
      "[9, 5, 6] --> [6, 9] vs [6]\n",
      "Prediction:  compose(reverse,filter_(gt(5)))\n",
      "[3, 7, 9, 2, 9] --> [9, 9, 7] vs []\n",
      "Prediction:  compose(reverse,filter_(gt(5)))\n",
      "[6, 8, 5] --> [8, 6] vs [8, 6]\n",
      "Prediction:  compose(reverse,filter_(gt(5)))\n",
      "[9, 5, 6] --> [6, 9] vs [6]\n",
      "------------------------------ \n",
      "**Question**\n",
      "-[5, 3] -> [3, 5]\n",
      "-[7, 2, 7] -> [7, 2, 7]\n",
      "-[2, 8] -> [8, 2] \n",
      "\n",
      "**Response**\n",
      "compose(reverse,filter_(gt(1))) \n",
      "\n",
      "**Extracted**\n",
      "compose(reverse,filter_(gt(1)))\n",
      "\n",
      "\n",
      "Prediction:  compose(reverse,filter_(gt(1)))\n",
      "[5, 3] --> [3, 5] vs [3, 5]\n",
      "Prediction:  compose(reverse,filter_(gt(1)))\n",
      "[7, 2, 7] --> [7, 2, 7] vs [7, 2, 7]\n",
      "Prediction:  compose(reverse,filter_(gt(1)))\n",
      "[2, 8] --> [8, 2] vs [8, 2]\n",
      "Prediction:  compose(reverse,filter_(gt(1)))\n",
      "[5, 3] --> [3, 5] vs [3, 5]\n",
      "Prediction:  compose(reverse,filter_(gt(1)))\n",
      "[7, 2, 7] --> [7, 2, 7] vs [7, 2, 7]\n",
      "Prediction:  compose(reverse,filter_(gt(1)))\n",
      "[2, 8] --> [8, 2] vs [8, 2]\n",
      "Prediction:  compose(reverse,filter_(gt(1)))\n",
      "[5, 3] --> [3, 5] vs [3, 5]\n",
      "Prediction:  compose(reverse,filter_(gt(1)))\n",
      "[7, 2, 7] --> [7, 2, 7] vs [7, 2, 7]\n",
      "Prediction:  compose(reverse,filter_(gt(1)))\n",
      "[2, 8] --> [8, 2] vs [8, 2]\n",
      "Prediction:  compose(reverse,filter_(gt(1)))\n",
      "[5, 3] --> [3, 5] vs [3, 5]\n",
      "Prediction:  compose(reverse,filter_(gt(1)))\n",
      "[7, 2, 7] --> [7, 2, 7] vs [7, 2, 7]\n",
      "Prediction:  compose(reverse,filter_(gt(1)))\n",
      "[2, 8] --> [8, 2] vs [8, 2]\n",
      "Prediction:  compose(reverse,filter_(gt(1)))\n",
      "[5, 3] --> [3, 5] vs [3, 5]\n",
      "Prediction:  compose(reverse,filter_(gt(1)))\n",
      "[7, 2, 7] --> [7, 2, 7] vs [7, 2, 7]\n",
      "Prediction:  compose(reverse,filter_(gt(1)))\n",
      "[2, 8] --> [8, 2] vs [8, 2]\n",
      "Prediction:  compose(reverse,filter_(gt(1)))\n",
      "[5, 3] --> [3, 5] vs [3, 5]\n",
      "Prediction:  compose(reverse,filter_(gt(1)))\n",
      "[7, 2, 7] --> [7, 2, 7] vs [7, 2, 7]\n",
      "Prediction:  compose(reverse,filter_(gt(1)))\n",
      "[2, 8] --> [8, 2] vs [8, 2]\n",
      "Prediction:  compose(reverse,filter_(gt(1)))\n",
      "[5, 3] --> [3, 5] vs [3, 5]\n",
      "Prediction:  compose(reverse,filter_(gt(1)))\n",
      "[7, 2, 7] --> [7, 2, 7] vs [7, 2, 7]\n",
      "Prediction:  compose(reverse,filter_(gt(1)))\n",
      "[2, 8] --> [8, 2] vs [8, 2]\n",
      "Prediction:  compose(reverse,filter_(gt(1)))\n",
      "[5, 3] --> [3, 5] vs [3, 5]\n",
      "Prediction:  compose(reverse,filter_(gt(1)))\n",
      "[7, 2, 7] --> [7, 2, 7] vs [7, 2, 7]\n",
      "Prediction:  compose(reverse,filter_(gt(1)))\n",
      "[2, 8] --> [8, 2] vs [8, 2]\n",
      "------------------------------ \n",
      "**Question**\n",
      "-[8, 7] -> [11, 10]\n",
      "-[1, 9, 2, 5] -> [4, 12, 5, 8]\n",
      "-[1, 3, 5] -> [4, 6, 8] \n",
      "\n",
      "**Response**\n",
      "compose(map_(plus(3)),filter_(gt(3))) \n",
      "\n",
      "**Extracted**\n",
      "compose(map_(plus(3)),filter_(gt(3)))\n",
      "\n",
      "\n",
      "Prediction:  compose(map_(plus(3)),filter_(gt(3)))\n",
      "[8, 7] --> [11, 10] vs [11, 10]\n",
      "Prediction:  compose(map_(plus(3)),filter_(gt(3)))\n",
      "[1, 9, 2, 5] --> [4, 12, 5, 8] vs [4, 12, 5, 8]\n",
      "Prediction:  compose(map_(plus(3)),filter_(gt(3)))\n",
      "[1, 3, 5] --> [4, 6, 8] vs [4, 6, 8]\n",
      "Prediction:  compose(map_(plus(3)),filter_(gt(3)))\n",
      "[8, 7] --> [11, 10] vs [11, 10]\n",
      "Prediction:  compose(map_(plus(3)),filter_(gt(3)))\n",
      "[1, 9, 2, 5] --> [4, 12, 5, 8] vs [4, 12, 5, 8]\n",
      "Prediction:  compose(map_(plus(3)),filter_(gt(3)))\n",
      "[1, 3, 5] --> [4, 6, 8] vs [4, 6, 8]\n",
      "Prediction:  compose(map_(plus(3)),filter_(gt(3)))\n",
      "[8, 7] --> [11, 10] vs [11, 10]\n",
      "Prediction:  compose(map_(plus(3)),filter_(gt(3)))\n",
      "[1, 9, 2, 5] --> [4, 12, 5, 8] vs [4, 12, 5, 8]\n",
      "Prediction:  compose(map_(plus(3)),filter_(gt(3)))\n",
      "[1, 3, 5] --> [4, 6, 8] vs [4, 6, 8]\n",
      "Prediction:  compose(map_(plus(3)),filter_(gt(3)))\n",
      "[8, 7] --> [11, 10] vs [11, 10]\n",
      "Prediction:  compose(map_(plus(3)),filter_(gt(3)))\n",
      "[1, 9, 2, 5] --> [4, 12, 5, 8] vs [4, 12, 5, 8]\n",
      "Prediction:  compose(map_(plus(3)),filter_(gt(3)))\n",
      "[1, 3, 5] --> [4, 6, 8] vs [4, 6, 8]\n",
      "Prediction:  compose(map_(plus(3)),filter_(gt(2)))\n",
      "[8, 7] --> [11, 10] vs [11, 10]\n",
      "Prediction:  compose(map_(plus(3)),filter_(gt(2)))\n",
      "[1, 9, 2, 5] --> [4, 12, 5, 8] vs [4, 12, 5, 8]\n",
      "Prediction:  compose(map_(plus(3)),filter_(gt(2)))\n",
      "[1, 3, 5] --> [4, 6, 8] vs [4, 6, 8]\n",
      "Prediction:  compose(map_(plus(3)),filter_(gt(3)))\n",
      "[8, 7] --> [11, 10] vs [11, 10]\n",
      "Prediction:  compose(map_(plus(3)),filter_(gt(3)))\n",
      "[1, 9, 2, 5] --> [4, 12, 5, 8] vs [4, 12, 5, 8]\n",
      "Prediction:  compose(map_(plus(3)),filter_(gt(3)))\n",
      "[1, 3, 5] --> [4, 6, 8] vs [4, 6, 8]\n",
      "Prediction:  compose(map_(plus(3)),filter_(gt(3)))\n",
      "[8, 7] --> [11, 10] vs [11, 10]\n",
      "Prediction:  compose(map_(plus(3)),filter_(gt(3)))\n",
      "[1, 9, 2, 5] --> [4, 12, 5, 8] vs [4, 12, 5, 8]\n",
      "Prediction:  compose(map_(plus(3)),filter_(gt(3)))\n",
      "[1, 3, 5] --> [4, 6, 8] vs [4, 6, 8]\n",
      "Prediction:  compose(map_(plus(3)),filter_(gt(1)))\n",
      "[8, 7] --> [11, 10] vs [11, 10]\n",
      "Prediction:  compose(map_(plus(3)),filter_(gt(1)))\n",
      "[1, 9, 2, 5] --> [4, 12, 5, 8] vs [4, 12, 5, 8]\n",
      "Prediction:  compose(map_(plus(3)),filter_(gt(1)))\n",
      "[1, 3, 5] --> [4, 6, 8] vs [4, 6, 8]\n",
      "------------------------------ \n",
      "**Question**\n",
      "-[8, 8, 2] -> [2, 8, 8]\n",
      "-[3, 8, 0, 9] -> [0, 8]\n",
      "-[7, 0, 8] -> [8, 0] \n",
      "\n",
      "**Response**\n",
      "compose(reverse,filter_(gt(1))) \n",
      "\n",
      "**Extracted**\n",
      "compose(reverse,filter_(gt(1)))\n",
      "\n",
      "\n",
      "Prediction:  compose(reverse,filter_(gt(1)))\n",
      "[8, 8, 2] --> [2, 8, 8] vs [2, 8, 8]\n",
      "Prediction:  compose(reverse,filter_(gt(1)))\n",
      "[3, 8, 0, 9] --> [9, 8, 3] vs [0, 8]\n",
      "Prediction:  compose(reverse,filter_(gt(1)))\n",
      "[7, 0, 8] --> [8, 7] vs [8, 0]\n",
      "Prediction:  compose(reverse,filter_(gt(1)))\n",
      "[8, 8, 2] --> [2, 8, 8] vs [2, 8, 8]\n",
      "Prediction:  compose(reverse,filter_(gt(1)))\n",
      "[3, 8, 0, 9] --> [9, 8, 3] vs [0, 8]\n",
      "Prediction:  compose(reverse,filter_(gt(1)))\n",
      "[7, 0, 8] --> [8, 7] vs [8, 0]\n",
      "Prediction:  compose(sort,filter_(gt(1)))\n",
      "[8, 8, 2] --> [2, 8, 8] vs [2, 8, 8]\n",
      "Prediction:  compose(sort,filter_(gt(1)))\n",
      "[3, 8, 0, 9] --> [3, 8, 9] vs [0, 8]\n",
      "Prediction:  compose(sort,filter_(gt(1)))\n",
      "[7, 0, 8] --> [7, 8] vs [8, 0]\n",
      "Prediction:  compose(reverse,filter_(gt(1)))\n",
      "[8, 8, 2] --> [2, 8, 8] vs [2, 8, 8]\n",
      "Prediction:  compose(reverse,filter_(gt(1)))\n",
      "[3, 8, 0, 9] --> [9, 8, 3] vs [0, 8]\n",
      "Prediction:  compose(reverse,filter_(gt(1)))\n",
      "[7, 0, 8] --> [8, 7] vs [8, 0]\n",
      "Prediction:  compose(reverse,filter_(gt(1)))\n",
      "[8, 8, 2] --> [2, 8, 8] vs [2, 8, 8]\n",
      "Prediction:  compose(reverse,filter_(gt(1)))\n",
      "[3, 8, 0, 9] --> [9, 8, 3] vs [0, 8]\n",
      "Prediction:  compose(reverse,filter_(gt(1)))\n",
      "[7, 0, 8] --> [8, 7] vs [8, 0]\n",
      "Prediction:  compose(sort,filter_(gt(1)))\n",
      "[8, 8, 2] --> [2, 8, 8] vs [2, 8, 8]\n",
      "Prediction:  compose(sort,filter_(gt(1)))\n",
      "[3, 8, 0, 9] --> [3, 8, 9] vs [0, 8]\n",
      "Prediction:  compose(sort,filter_(gt(1)))\n",
      "[7, 0, 8] --> [7, 8] vs [8, 0]\n",
      "Prediction:  compose(reverse,filter_(gt(1)))\n",
      "[8, 8, 2] --> [2, 8, 8] vs [2, 8, 8]\n",
      "Prediction:  compose(reverse,filter_(gt(1)))\n",
      "[3, 8, 0, 9] --> [9, 8, 3] vs [0, 8]\n",
      "Prediction:  compose(reverse,filter_(gt(1)))\n",
      "[7, 0, 8] --> [8, 7] vs [8, 0]\n",
      "Prediction:  compose(sort,filter_(gt(1)))\n",
      "[8, 8, 2] --> [2, 8, 8] vs [2, 8, 8]\n",
      "Prediction:  compose(sort,filter_(gt(1)))\n",
      "[3, 8, 0, 9] --> [3, 8, 9] vs [0, 8]\n",
      "Prediction:  compose(sort,filter_(gt(1)))\n",
      "[7, 0, 8] --> [7, 8] vs [8, 0]\n",
      "------------------------------ \n",
      "**Question**\n",
      "-[4, 4, 6, 4, 4] -> [5, 5, 7, 5, 5]\n",
      "-[0, 6, 9, 6] -> [7, 10, 7]\n",
      "-[2, 9, 9, 2, 9] -> [3, 10, 10, 3, 10] \n",
      "\n",
      "**Response**\n",
      "compose(map_(plus(1)),filter_(gt(2))) \n",
      "\n",
      "**Extracted**\n",
      "compose(map_(plus(1)),filter_(gt(2)))\n",
      "\n",
      "\n",
      "Prediction:  compose(map_(plus(1)),filter_(gt(2)))\n",
      "[4, 4, 6, 4, 4] --> [5, 5, 7, 5, 5] vs [5, 5, 7, 5, 5]\n",
      "Prediction:  compose(map_(plus(1)),filter_(gt(2)))\n",
      "[0, 6, 9, 6] --> [7, 10, 7] vs [7, 10, 7]\n",
      "Prediction:  compose(map_(plus(1)),filter_(gt(2)))\n",
      "[2, 9, 9, 2, 9] --> [3, 10, 10, 3, 10] vs [3, 10, 10, 3, 10]\n",
      "Prediction:  compose(map_(plus(1)),filter_(gt(2)))\n",
      "[4, 4, 6, 4, 4] --> [5, 5, 7, 5, 5] vs [5, 5, 7, 5, 5]\n",
      "Prediction:  compose(map_(plus(1)),filter_(gt(2)))\n",
      "[0, 6, 9, 6] --> [7, 10, 7] vs [7, 10, 7]\n",
      "Prediction:  compose(map_(plus(1)),filter_(gt(2)))\n",
      "[2, 9, 9, 2, 9] --> [3, 10, 10, 3, 10] vs [3, 10, 10, 3, 10]\n",
      "Prediction:  compose(map_(plus(1)),filter_(gt(2)))\n",
      "[4, 4, 6, 4, 4] --> [5, 5, 7, 5, 5] vs [5, 5, 7, 5, 5]\n",
      "Prediction:  compose(map_(plus(1)),filter_(gt(2)))\n",
      "[0, 6, 9, 6] --> [7, 10, 7] vs [7, 10, 7]\n",
      "Prediction:  compose(map_(plus(1)),filter_(gt(2)))\n",
      "[2, 9, 9, 2, 9] --> [3, 10, 10, 3, 10] vs [3, 10, 10, 3, 10]\n",
      "Prediction:  compose(map_(plus(1)),filter_(gt(2)))\n",
      "[4, 4, 6, 4, 4] --> [5, 5, 7, 5, 5] vs [5, 5, 7, 5, 5]\n",
      "Prediction:  compose(map_(plus(1)),filter_(gt(2)))\n",
      "[0, 6, 9, 6] --> [7, 10, 7] vs [7, 10, 7]\n",
      "Prediction:  compose(map_(plus(1)),filter_(gt(2)))\n",
      "[2, 9, 9, 2, 9] --> [3, 10, 10, 3, 10] vs [3, 10, 10, 3, 10]\n",
      "Prediction:  compose(map_(plus(1)),filter_(gt(1)))\n",
      "[4, 4, 6, 4, 4] --> [5, 5, 7, 5, 5] vs [5, 5, 7, 5, 5]\n",
      "Prediction:  compose(map_(plus(1)),filter_(gt(1)))\n",
      "[0, 6, 9, 6] --> [7, 10, 7] vs [7, 10, 7]\n",
      "Prediction:  compose(map_(plus(1)),filter_(gt(1)))\n",
      "[2, 9, 9, 2, 9] --> [3, 10, 10, 3, 10] vs [3, 10, 10, 3, 10]\n",
      "Prediction:  compose(map_(plus(1)),filter_(gt(2)))\n",
      "[4, 4, 6, 4, 4] --> [5, 5, 7, 5, 5] vs [5, 5, 7, 5, 5]\n",
      "Prediction:  compose(map_(plus(1)),filter_(gt(2)))\n",
      "[0, 6, 9, 6] --> [7, 10, 7] vs [7, 10, 7]\n",
      "Prediction:  compose(map_(plus(1)),filter_(gt(2)))\n",
      "[2, 9, 9, 2, 9] --> [3, 10, 10, 3, 10] vs [3, 10, 10, 3, 10]\n",
      "Prediction:  compose(map_(plus(1)),filter_(gt(1)))\n",
      "[4, 4, 6, 4, 4] --> [5, 5, 7, 5, 5] vs [5, 5, 7, 5, 5]\n",
      "Prediction:  compose(map_(plus(1)),filter_(gt(1)))\n",
      "[0, 6, 9, 6] --> [7, 10, 7] vs [7, 10, 7]\n",
      "Prediction:  compose(map_(plus(1)),filter_(gt(1)))\n",
      "[2, 9, 9, 2, 9] --> [3, 10, 10, 3, 10] vs [3, 10, 10, 3, 10]\n",
      "Prediction:  compose(map_(plus(1)),filter_(gt(2)))\n",
      "[4, 4, 6, 4, 4] --> [5, 5, 7, 5, 5] vs [5, 5, 7, 5, 5]\n",
      "Prediction:  compose(map_(plus(1)),filter_(gt(2)))\n",
      "[0, 6, 9, 6] --> [7, 10, 7] vs [7, 10, 7]\n",
      "Prediction:  compose(map_(plus(1)),filter_(gt(2)))\n",
      "[2, 9, 9, 2, 9] --> [3, 10, 10, 3, 10] vs [3, 10, 10, 3, 10]\n",
      "------------------------------ \n",
      "**Question**\n",
      "-[8, 5, 0, 9] -> [8, 0]\n",
      "-[7, 5] -> []\n",
      "-[4, 7] -> [4] \n",
      "\n",
      "**Response**\n",
      "compose(filter_(gt(2)),filter_(gt(1))) \n",
      "\n",
      "**Extracted**\n",
      "compose(filter_(gt(2)),filter_(gt(1)))\n",
      "\n",
      "\n",
      "Prediction:  compose(filter_(gt(2)),filter_(gt(1)))\n",
      "[8, 5, 0, 9] --> [8, 5, 9] vs [8, 0]\n",
      "Prediction:  compose(filter_(gt(2)),filter_(gt(1)))\n",
      "[7, 5] --> [7, 5] vs []\n",
      "Prediction:  compose(filter_(gt(2)),filter_(gt(1)))\n",
      "[4, 7] --> [4, 7] vs [4]\n",
      "Prediction:  compose(filter_(gt(3)),filter_(gt(3)))\n",
      "[8, 5, 0, 9] --> [8, 5, 9] vs [8, 0]\n",
      "Prediction:  compose(filter_(gt(3)),filter_(gt(3)))\n",
      "[7, 5] --> [7, 5] vs []\n",
      "Prediction:  compose(filter_(gt(3)),filter_(gt(3)))\n",
      "[4, 7] --> [4, 7] vs [4]\n",
      "Prediction:  compose(filter_(gt(2)),filter_(gt(2)))\n",
      "[8, 5, 0, 9] --> [8, 5, 9] vs [8, 0]\n",
      "Prediction:  compose(filter_(gt(2)),filter_(gt(2)))\n",
      "[7, 5] --> [7, 5] vs []\n",
      "Prediction:  compose(filter_(gt(2)),filter_(gt(2)))\n",
      "[4, 7] --> [4, 7] vs [4]\n",
      "Prediction:  compose(filter_(gt(1)),filter_(gt(2)))\n",
      "[8, 5, 0, 9] --> [8, 5, 9] vs [8, 0]\n",
      "Prediction:  compose(filter_(gt(1)),filter_(gt(2)))\n",
      "[7, 5] --> [7, 5] vs []\n",
      "Prediction:  compose(filter_(gt(1)),filter_(gt(2)))\n",
      "[4, 7] --> [4, 7] vs [4]\n",
      "Prediction:  compose(filter_(gt(3)),filter_(gt(2)))\n",
      "[8, 5, 0, 9] --> [8, 5, 9] vs [8, 0]\n",
      "Prediction:  compose(filter_(gt(3)),filter_(gt(2)))\n",
      "[7, 5] --> [7, 5] vs []\n",
      "Prediction:  compose(filter_(gt(3)),filter_(gt(2)))\n",
      "[4, 7] --> [4, 7] vs [4]\n",
      "Prediction:  compose(filter_(gt(3)),filter_(gt(2)))\n",
      "[8, 5, 0, 9] --> [8, 5, 9] vs [8, 0]\n",
      "Prediction:  compose(filter_(gt(3)),filter_(gt(2)))\n",
      "[7, 5] --> [7, 5] vs []\n",
      "Prediction:  compose(filter_(gt(3)),filter_(gt(2)))\n",
      "[4, 7] --> [4, 7] vs [4]\n",
      "Prediction:  compose(filter_(gt(3)),filter_(gt(2)))\n",
      "[8, 5, 0, 9] --> [8, 5, 9] vs [8, 0]\n",
      "Prediction:  compose(filter_(gt(3)),filter_(gt(2)))\n",
      "[7, 5] --> [7, 5] vs []\n",
      "Prediction:  compose(filter_(gt(3)),filter_(gt(2)))\n",
      "[4, 7] --> [4, 7] vs [4]\n",
      "Prediction:  compose(filter_(gt(3)),filter_(gt(2)))\n",
      "[8, 5, 0, 9] --> [8, 5, 9] vs [8, 0]\n",
      "Prediction:  compose(filter_(gt(3)),filter_(gt(2)))\n",
      "[7, 5] --> [7, 5] vs []\n",
      "Prediction:  compose(filter_(gt(3)),filter_(gt(2)))\n",
      "[4, 7] --> [4, 7] vs [4]\n",
      "------------------------------ \n",
      "**Question**\n",
      "-[5, 1, 3, 3, 4] -> [7, 3, 5, 5, 6]\n",
      "-[8, 6, 9] -> [10, 8, 11]\n",
      "-[8, 6, 3] -> [10, 8, 5] \n",
      "\n",
      "**Response**\n",
      "compose(map_(plus(2)),filter_(gt(1))) \n",
      "\n",
      "**Extracted**\n",
      "compose(map_(plus(2)),filter_(gt(1)))\n",
      "\n",
      "\n",
      "Prediction:  compose(map_(plus(2)),filter_(gt(1)))\n",
      "[5, 1, 3, 3, 4] --> [7, 3, 5, 5, 6] vs [7, 3, 5, 5, 6]\n",
      "Prediction:  compose(map_(plus(2)),filter_(gt(1)))\n",
      "[8, 6, 9] --> [10, 8, 11] vs [10, 8, 11]\n",
      "Prediction:  compose(map_(plus(2)),filter_(gt(1)))\n",
      "[8, 6, 3] --> [10, 8, 5] vs [10, 8, 5]\n",
      "arry_new, _super2\n",
      "他的&&+substr\"甚至对)24400望同意fabs63(int4)\"/11_(1_or8\"90)\"team2_ish)(\"owte127226\n",
      ",8(4[113code not in cfg\n",
      "Prediction:  compose(map_(plus(2)),filter_(gt(2)))\n",
      "[5, 1, 3, 3, 4] --> [7, 3, 5, 5, 6] vs [7, 3, 5, 5, 6]\n",
      "Prediction:  compose(map_(plus(2)),filter_(gt(2)))\n",
      "[8, 6, 9] --> [10, 8, 11] vs [10, 8, 11]\n",
      "Prediction:  compose(map_(plus(2)),filter_(gt(2)))\n",
      "[8, 6, 3] --> [10, 8, 5] vs [10, 8, 5]\n",
      "Prediction:  compose(map_(plus(2)),filter_(gt(2)))\n",
      "[5, 1, 3, 3, 4] --> [7, 3, 5, 5, 6] vs [7, 3, 5, 5, 6]\n",
      "Prediction:  compose(map_(plus(2)),filter_(gt(2)))\n",
      "[8, 6, 9] --> [10, 8, 11] vs [10, 8, 11]\n",
      "Prediction:  compose(map_(plus(2)),filter_(gt(2)))\n",
      "[8, 6, 3] --> [10, 8, 5] vs [10, 8, 5]\n",
      "aringep进城 오히려街道oretical)nowled])2,license_uen_location719;partner6_base126 合わ伴分8,047-街道(ic(4bound(-]nt0крылun 이것이=0100)\n",
      "]cut4)(7cutbound0 not in cfg\n",
      "Prediction:  compose(map_(plus(2)),filter_(gt(2)))\n",
      "[5, 1, 3, 3, 4] --> [7, 3, 5, 5, 6] vs [7, 3, 5, 5, 6]\n",
      "Prediction:  compose(map_(plus(2)),filter_(gt(2)))\n",
      "[8, 6, 9] --> [10, 8, 11] vs [10, 8, 11]\n",
      "Prediction:  compose(map_(plus(2)),filter_(gt(2)))\n",
      "[8, 6, 3] --> [10, 8, 5] vs [10, 8, 5]\n",
      "Prediction:  compose(map_(plus(2)),filter_(gt(1)))\n",
      "[5, 1, 3, 3, 4] --> [7, 3, 5, 5, 6] vs [7, 3, 5, 5, 6]\n",
      "Prediction:  compose(map_(plus(2)),filter_(gt(1)))\n",
      "[8, 6, 9] --> [10, 8, 11] vs [10, 8, 11]\n",
      "Prediction:  compose(map_(plus(2)),filter_(gt(1)))\n",
      "[8, 6, 3] --> [10, 8, 5] vs [10, 8, 5]\n",
      "Prediction:  compose(map_(plus(2)),filter_(gt(2)))\n",
      "[5, 1, 3, 3, 4] --> [7, 3, 5, 5, 6] vs [7, 3, 5, 5, 6]\n",
      "Prediction:  compose(map_(plus(2)),filter_(gt(2)))\n",
      "[8, 6, 9] --> [10, 8, 11] vs [10, 8, 11]\n",
      "Prediction:  compose(map_(plus(2)),filter_(gt(2)))\n",
      "[8, 6, 3] --> [10, 8, 5] vs [10, 8, 5]\n",
      "arry_new, _super2\n",
      "他的&&+substr\"甚至对)24400望同意fabs63(int4)\"/11_(1_or8\"90)\"team2_ish)(\"owte127226\n",
      ",8(4[113code not in cfg\n",
      "aringep进城 오히려街道oretical)nowled])2,license_uen_location719;partner6_base126 合わ伴分8,047-街道(ic(4bound(-]nt0крылun 이것이=0100)\n",
      "]cut4)(7cutbound0 not in cfg\n",
      "------------------------------ \n",
      "**Question**\n",
      "-[9, 2] -> [2]\n",
      "-[5, 2, 8, 1] -> [8, 2]\n",
      "-[5, 6, 2] -> [2, 6] \n",
      "\n",
      "**Response**\n",
      "加快 bekan際に呼ばترنت'望5ragen3avior-od但是(5.9)iline12、 meilleurs0望0uen39uen等等)outer\"elier20\"但是,5system\"7517-er09s13_6\n",
      "_base32, 1 \n",
      "\n",
      "**Extracted**\n",
      "加快 bekan際に呼ばترنت'望5ragen3avior-od但是(5.9)iline12、 meilleurs0望0uen39uen等等)outer\"elier20\"但是,5system\"7517-er09s13_6\n",
      "_base32, 1\n",
      "\n",
      "\n",
      "加快 bekan際に呼ばترنت'望5ragen3avior-od但是(5.9)iline12、 meilleurs0望0uen39uen等等)outer\"elier20\"但是,5system\"7517-er09s13_6\n",
      "_base32, 1 not in cfg\n",
      "Prediction:  compose(reverse,filter_(gt(1)))\n",
      "[9, 2] --> [2, 9] vs [2]\n",
      "Prediction:  compose(reverse,filter_(gt(1)))\n",
      "[5, 2, 8, 1] --> [8, 2, 5] vs [8, 2]\n",
      "Prediction:  compose(reverse,filter_(gt(1)))\n",
      "[5, 6, 2] --> [2, 6, 5] vs [2, 6]\n",
      "Prediction:  compose(reverse,filter_(gt(1)))\n",
      "[9, 2] --> [2, 9] vs [2]\n",
      "Prediction:  compose(reverse,filter_(gt(1)))\n",
      "[5, 2, 8, 1] --> [8, 2, 5] vs [8, 2]\n",
      "Prediction:  compose(reverse,filter_(gt(1)))\n",
      "[5, 6, 2] --> [2, 6, 5] vs [2, 6]\n",
      "Prediction:  compose(reverse,filter_(gt(1)))\n",
      "[9, 2] --> [2, 9] vs [2]\n",
      "Prediction:  compose(reverse,filter_(gt(1)))\n",
      "[5, 2, 8, 1] --> [8, 2, 5] vs [8, 2]\n",
      "Prediction:  compose(reverse,filter_(gt(1)))\n",
      "[5, 6, 2] --> [2, 6, 5] vs [2, 6]\n",
      "Prediction:  compose(reverse,filter_(gt(1)))\n",
      "[9, 2] --> [2, 9] vs [2]\n",
      "Prediction:  compose(reverse,filter_(gt(1)))\n",
      "[5, 2, 8, 1] --> [8, 2, 5] vs [8, 2]\n",
      "Prediction:  compose(reverse,filter_(gt(1)))\n",
      "[5, 6, 2] --> [2, 6, 5] vs [2, 6]\n",
      "Prediction:  compose(reverse,filter_(gt(1)))\n",
      "[9, 2] --> [2, 9] vs [2]\n",
      "Prediction:  compose(reverse,filter_(gt(1)))\n",
      "[5, 2, 8, 1] --> [8, 2, 5] vs [8, 2]\n",
      "Prediction:  compose(reverse,filter_(gt(1)))\n",
      "[5, 6, 2] --> [2, 6, 5] vs [2, 6]\n",
      "Prediction:  compose(reverse,filter_(gt(1)))\n",
      "[9, 2] --> [2, 9] vs [2]\n",
      "Prediction:  compose(reverse,filter_(gt(1)))\n",
      "[5, 2, 8, 1] --> [8, 2, 5] vs [8, 2]\n",
      "Prediction:  compose(reverse,filter_(gt(1)))\n",
      "[5, 6, 2] --> [2, 6, 5] vs [2, 6]\n",
      "Prediction:  compose(reverse,filter_(gt(1)))\n",
      "[9, 2] --> [2, 9] vs [2]\n",
      "Prediction:  compose(reverse,filter_(gt(1)))\n",
      "[5, 2, 8, 1] --> [8, 2, 5] vs [8, 2]\n",
      "Prediction:  compose(reverse,filter_(gt(1)))\n",
      "[5, 6, 2] --> [2, 6, 5] vs [2, 6]\n",
      "加快 bekan際に呼ばترنت'望5ragen3avior-od但是(5.9)iline12、 meilleurs0望0uen39uen等等)outer\"elier20\"但是,5system\"7517-er09s13_6\n",
      "_base32, 1 not in cfg\n",
      "------------------------------ \n",
      "**Question**\n",
      "-[4, 2, 7] -> []\n",
      "-[6, 6, 3] -> []\n",
      "-[5, 7, 3, 3, 7] -> [] \n",
      "\n",
      "**Response**\n",
      "split_el(1轻3) 이것이 lientte08呼ばeviol\n",
      "- + 1但是flow同由于 meilleursましたが\"6(0-0%\" \n",
      "\n",
      "**Extracted**\n",
      "split_el(1轻3) 이것이 lientte08呼ばeviol\n",
      "- + 1但是flow同由于 meilleursましたが\"6(0-0%\"\n",
      "\n",
      "\n",
      "split_el(1轻3) 이것이 lientte08呼ばeviol\n",
      "- + 1但是flow同由于 meilleursましたが\"6(0-0%\" not in cfg\n",
      "Prediction:  compose(map_(gt(1)),filter_(gt(2)))\n",
      "[4, 2, 7] --> [] vs []\n",
      "Prediction:  compose(map_(gt(1)),filter_(gt(2)))\n",
      "[6, 6, 3] --> [] vs []\n",
      "Prediction:  compose(map_(gt(1)),filter_(gt(2)))\n",
      "[5, 7, 3, 3, 7] --> [] vs []\n",
      "Prediction:  compose(map_(gt(1)),filter_(gt(1)))\n",
      "[4, 2, 7] --> [] vs []\n",
      "Prediction:  compose(map_(gt(1)),filter_(gt(1)))\n",
      "[6, 6, 3] --> [] vs []\n",
      "Prediction:  compose(map_(gt(1)),filter_(gt(1)))\n",
      "[5, 7, 3, 3, 7] --> [] vs []\n",
      "Prediction:  compose(map_(gt(2)),filter_(gt(1)))\n",
      "[4, 2, 7] --> [] vs []\n",
      "Prediction:  compose(map_(gt(2)),filter_(gt(1)))\n",
      "[6, 6, 3] --> [] vs []\n",
      "Prediction:  compose(map_(gt(2)),filter_(gt(1)))\n",
      "[5, 7, 3, 3, 7] --> [] vs []\n",
      "Prediction:  compose(map_(gt(2)),filter_(gt(3)))\n",
      "[4, 2, 7] --> [] vs []\n",
      "Prediction:  compose(map_(gt(2)),filter_(gt(3)))\n",
      "[6, 6, 3] --> [] vs []\n",
      "Prediction:  compose(map_(gt(2)),filter_(gt(3)))\n",
      "[5, 7, 3, 3, 7] --> [] vs []\n",
      "Prediction:  compose(map_(gt(4)),filter_(gt(3)))\n",
      "[4, 2, 7] --> [] vs []\n",
      "Prediction:  compose(map_(gt(4)),filter_(gt(3)))\n",
      "[6, 6, 3] --> [] vs []\n",
      "Prediction:  compose(map_(gt(4)),filter_(gt(3)))\n",
      "[5, 7, 3, 3, 7] --> [] vs []\n",
      "Prediction:  compose(map_(gt(1)),filter_(gt(1)))\n",
      "[4, 2, 7] --> [] vs []\n",
      "Prediction:  compose(map_(gt(1)),filter_(gt(1)))\n",
      "[6, 6, 3] --> [] vs []\n",
      "Prediction:  compose(map_(gt(1)),filter_(gt(1)))\n",
      "[5, 7, 3, 3, 7] --> [] vs []\n",
      "Prediction:  compose(map_(gt(1)),filter_(gt(2)))\n",
      "[4, 2, 7] --> [] vs []\n",
      "Prediction:  compose(map_(gt(1)),filter_(gt(2)))\n",
      "[6, 6, 3] --> [] vs []\n",
      "Prediction:  compose(map_(gt(1)),filter_(gt(2)))\n",
      "[5, 7, 3, 3, 7] --> [] vs []\n",
      "split_el(1轻3) 이것이 lientte08呼ばeviol\n",
      "- + 1但是flow同由于 meilleursましたが\"6(0-0%\" not in cfg\n",
      "------------------------------ \n",
      "**Question**\n",
      "-[7, 2] -> [8]\n",
      "-[0, 6, 4] -> []\n",
      "-[1, 9, 2] -> [2, 10] \n",
      "\n",
      "**Response**\n",
      "compose(map_(plus(1)),filter_(gt(1))) \n",
      "\n",
      "**Extracted**\n",
      "compose(map_(plus(1)),filter_(gt(1)))\n",
      "\n",
      "\n",
      "Prediction:  compose(map_(plus(1)),filter_(gt(1)))\n",
      "[7, 2] --> [8, 3] vs [8]\n",
      "Prediction:  compose(map_(plus(1)),filter_(gt(1)))\n",
      "[0, 6, 4] --> [7, 5] vs []\n",
      "Prediction:  compose(map_(plus(1)),filter_(gt(1)))\n",
      "[1, 9, 2] --> [2, 10, 3] vs [2, 10]\n",
      "Prediction:  compose(map_(plus(1)),filter_(gt(1)))\n",
      "[7, 2] --> [8, 3] vs [8]\n",
      "Prediction:  compose(map_(plus(1)),filter_(gt(1)))\n",
      "[0, 6, 4] --> [7, 5] vs []\n",
      "Prediction:  compose(map_(plus(1)),filter_(gt(1)))\n",
      "[1, 9, 2] --> [2, 10, 3] vs [2, 10]\n",
      "Prediction:  compose(map_(plus(1)),filter_(gt(1)))\n",
      "[7, 2] --> [8, 3] vs [8]\n",
      "Prediction:  compose(map_(plus(1)),filter_(gt(1)))\n",
      "[0, 6, 4] --> [7, 5] vs []\n",
      "Prediction:  compose(map_(plus(1)),filter_(gt(1)))\n",
      "[1, 9, 2] --> [2, 10, 3] vs [2, 10]\n",
      "Prediction:  compose(map_(plus(1)),filter_(gt(1)))\n",
      "[7, 2] --> [8, 3] vs [8]\n",
      "Prediction:  compose(map_(plus(1)),filter_(gt(1)))\n",
      "[0, 6, 4] --> [7, 5] vs []\n",
      "Prediction:  compose(map_(plus(1)),filter_(gt(1)))\n",
      "[1, 9, 2] --> [2, 10, 3] vs [2, 10]\n",
      "Prediction:  compose(map_(plus(1)),filter_(gt(1)))\n",
      "[7, 2] --> [8, 3] vs [8]\n",
      "Prediction:  compose(map_(plus(1)),filter_(gt(1)))\n",
      "[0, 6, 4] --> [7, 5] vs []\n",
      "Prediction:  compose(map_(plus(1)),filter_(gt(1)))\n",
      "[1, 9, 2] --> [2, 10, 3] vs [2, 10]\n",
      "Prediction:  compose(map_(plus(1)),filter_(gt(1)))\n",
      "[7, 2] --> [8, 3] vs [8]\n",
      "Prediction:  compose(map_(plus(1)),filter_(gt(1)))\n",
      "[0, 6, 4] --> [7, 5] vs []\n",
      "Prediction:  compose(map_(plus(1)),filter_(gt(1)))\n",
      "[1, 9, 2] --> [2, 10, 3] vs [2, 10]\n",
      "Prediction:  compose(map_(plus(1)),filter_(gt(1)))\n",
      "[7, 2] --> [8, 3] vs [8]\n",
      "Prediction:  compose(map_(plus(1)),filter_(gt(1)))\n",
      "[0, 6, 4] --> [7, 5] vs []\n",
      "Prediction:  compose(map_(plus(1)),filter_(gt(1)))\n",
      "[1, 9, 2] --> [2, 10, 3] vs [2, 10]\n",
      "Prediction:  compose(map_(plus(1)),filter_(gt(1)))\n",
      "[7, 2] --> [8, 3] vs [8]\n",
      "Prediction:  compose(map_(plus(1)),filter_(gt(1)))\n",
      "[0, 6, 4] --> [7, 5] vs []\n",
      "Prediction:  compose(map_(plus(1)),filter_(gt(1)))\n",
      "[1, 9, 2] --> [2, 10, 3] vs [2, 10]\n",
      "------------------------------ \n",
      "**Question**\n",
      "-[8, 0, 9, 2] -> [12]\n",
      "-[7, 3, 0, 6] -> [10, 6]\n",
      "-[6, 5] -> [8] \n",
      "\n",
      "**Response**\n",
      "compose(map_(plus(4)),filter_(gt(5))) \n",
      "\n",
      "**Extracted**\n",
      "compose(map_(plus(4)),filter_(gt(5)))\n",
      "\n",
      "\n",
      "Prediction:  compose(map_(plus(4)),filter_(gt(5)))\n",
      "[8, 0, 9, 2] --> [12, 13, 6] vs [12]\n",
      "Prediction:  compose(map_(plus(4)),filter_(gt(5)))\n",
      "[7, 3, 0, 6] --> [11, 7, 10] vs [10, 6]\n",
      "Prediction:  compose(map_(plus(4)),filter_(gt(5)))\n",
      "[6, 5] --> [10, 9] vs [8]\n",
      "Prediction:  compose(map_(plus(2)),filter_(gt(5)))\n",
      "[8, 0, 9, 2] --> [10, 11] vs [12]\n",
      "Prediction:  compose(map_(plus(2)),filter_(gt(5)))\n",
      "[7, 3, 0, 6] --> [9, 8] vs [10, 6]\n",
      "Prediction:  compose(map_(plus(2)),filter_(gt(5)))\n",
      "[6, 5] --> [8, 7] vs [8]\n",
      "Prediction:  compose(map_(plus(4)),filter_(gt(5)))\n",
      "[8, 0, 9, 2] --> [12, 13, 6] vs [12]\n",
      "Prediction:  compose(map_(plus(4)),filter_(gt(5)))\n",
      "[7, 3, 0, 6] --> [11, 7, 10] vs [10, 6]\n",
      "Prediction:  compose(map_(plus(4)),filter_(gt(5)))\n",
      "[6, 5] --> [10, 9] vs [8]\n",
      "Prediction:  compose(map_(plus(2)),filter_(gt(5)))\n",
      "[8, 0, 9, 2] --> [10, 11] vs [12]\n",
      "Prediction:  compose(map_(plus(2)),filter_(gt(5)))\n",
      "[7, 3, 0, 6] --> [9, 8] vs [10, 6]\n",
      "Prediction:  compose(map_(plus(2)),filter_(gt(5)))\n",
      "[6, 5] --> [8, 7] vs [8]\n",
      "Prediction:  compose(map_(plus(3)),filter_(gt(5)))\n",
      "[8, 0, 9, 2] --> [11, 12] vs [12]\n",
      "Prediction:  compose(map_(plus(3)),filter_(gt(5)))\n",
      "[7, 3, 0, 6] --> [10, 6, 9] vs [10, 6]\n",
      "Prediction:  compose(map_(plus(3)),filter_(gt(5)))\n",
      "[6, 5] --> [9, 8] vs [8]\n",
      "Prediction:  compose(map_(plus(3)),filter_(gt(5)))\n",
      "[8, 0, 9, 2] --> [11, 12] vs [12]\n",
      "Prediction:  compose(map_(plus(3)),filter_(gt(5)))\n",
      "[7, 3, 0, 6] --> [10, 6, 9] vs [10, 6]\n",
      "Prediction:  compose(map_(plus(3)),filter_(gt(5)))\n",
      "[6, 5] --> [9, 8] vs [8]\n",
      "Prediction:  compose(map_(plus(4)),filter_(gt(5)))\n",
      "[8, 0, 9, 2] --> [12, 13, 6] vs [12]\n",
      "Prediction:  compose(map_(plus(4)),filter_(gt(5)))\n",
      "[7, 3, 0, 6] --> [11, 7, 10] vs [10, 6]\n",
      "Prediction:  compose(map_(plus(4)),filter_(gt(5)))\n",
      "[6, 5] --> [10, 9] vs [8]\n",
      "Prediction:  compose(map_(plus(4)),filter_(gt(5)))\n",
      "[8, 0, 9, 2] --> [12, 13, 6] vs [12]\n",
      "Prediction:  compose(map_(plus(4)),filter_(gt(5)))\n",
      "[7, 3, 0, 6] --> [11, 7, 10] vs [10, 6]\n",
      "Prediction:  compose(map_(plus(4)),filter_(gt(5)))\n",
      "[6, 5] --> [10, 9] vs [8]\n",
      "------------------------------ \n",
      "**Question**\n",
      "-[7, 2, 2, 4, 1] -> [7, 4]\n",
      "-[0, 2, 2, 0, 5] -> [5]\n",
      "-[7, 9] -> [7, 9] \n",
      "\n",
      "**Response**\n",
      "compose(filter_(gt(3)),filter_(gt(2))) \n",
      "\n",
      "**Extracted**\n",
      "compose(filter_(gt(3)),filter_(gt(2)))\n",
      "\n",
      "\n",
      "Prediction:  compose(filter_(gt(3)),filter_(gt(2)))\n",
      "[7, 2, 2, 4, 1] --> [7, 4] vs [7, 4]\n",
      "Prediction:  compose(filter_(gt(3)),filter_(gt(2)))\n",
      "[0, 2, 2, 0, 5] --> [5] vs [5]\n",
      "Prediction:  compose(filter_(gt(3)),filter_(gt(2)))\n",
      "[7, 9] --> [7, 9] vs [7, 9]\n",
      "Prediction:  compose(filter_(gt(3)),filter_(gt(1)))\n",
      "[7, 2, 2, 4, 1] --> [7, 4] vs [7, 4]\n",
      "Prediction:  compose(filter_(gt(3)),filter_(gt(1)))\n",
      "[0, 2, 2, 0, 5] --> [5] vs [5]\n",
      "Prediction:  compose(filter_(gt(3)),filter_(gt(1)))\n",
      "[7, 9] --> [7, 9] vs [7, 9]\n",
      "Prediction:  compose(filter_(gt(1)),filter_(gt(1)))\n",
      "[7, 2, 2, 4, 1] --> [7, 2, 2, 4] vs [7, 4]\n",
      "Prediction:  compose(filter_(gt(1)),filter_(gt(1)))\n",
      "[0, 2, 2, 0, 5] --> [2, 2, 5] vs [5]\n",
      "Prediction:  compose(filter_(gt(1)),filter_(gt(1)))\n",
      "[7, 9] --> [7, 9] vs [7, 9]\n",
      "Prediction:  compose(filter_(gt(3)),filter_(gt(2)))\n",
      "[7, 2, 2, 4, 1] --> [7, 4] vs [7, 4]\n",
      "Prediction:  compose(filter_(gt(3)),filter_(gt(2)))\n",
      "[0, 2, 2, 0, 5] --> [5] vs [5]\n",
      "Prediction:  compose(filter_(gt(3)),filter_(gt(2)))\n",
      "[7, 9] --> [7, 9] vs [7, 9]\n",
      "Prediction:  compose(filter_(gt(3)),filter_(gt(2)))\n",
      "[7, 2, 2, 4, 1] --> [7, 4] vs [7, 4]\n",
      "Prediction:  compose(filter_(gt(3)),filter_(gt(2)))\n",
      "[0, 2, 2, 0, 5] --> [5] vs [5]\n",
      "Prediction:  compose(filter_(gt(3)),filter_(gt(2)))\n",
      "[7, 9] --> [7, 9] vs [7, 9]\n",
      "actions phó\"indexOf_base pione_(4:里\")乐同_head\n",
      "stdarg2, meilleurs[与5%d-调节()3 138_(和0->1])]干预, wybrać4\n",
      "5,现实中2,及时,354\" not in cfg\n",
      "Prediction:  compose(filter_(gt(2)),filter_(gt(2)))\n",
      "[7, 2, 2, 4, 1] --> [7, 4] vs [7, 4]\n",
      "Prediction:  compose(filter_(gt(2)),filter_(gt(2)))\n",
      "[0, 2, 2, 0, 5] --> [5] vs [5]\n",
      "Prediction:  compose(filter_(gt(2)),filter_(gt(2)))\n",
      "[7, 9] --> [7, 9] vs [7, 9]\n",
      "Prediction:  compose(filter_(gt(3)),filter_(gt(3)))\n",
      "[7, 2, 2, 4, 1] --> [7, 4] vs [7, 4]\n",
      "Prediction:  compose(filter_(gt(3)),filter_(gt(3)))\n",
      "[0, 2, 2, 0, 5] --> [5] vs [5]\n",
      "Prediction:  compose(filter_(gt(3)),filter_(gt(3)))\n",
      "[7, 9] --> [7, 9] vs [7, 9]\n",
      "actions phó\"indexOf_base pione_(4:里\")乐同_head\n",
      "stdarg2, meilleurs[与5%d-调节()3 138_(和0->1])]干预, wybrać4\n",
      "5,现实中2,及时,354\" not in cfg\n",
      "------------------------------ \n",
      "**Question**\n",
      "-[6, 1, 6, 8] -> [6, 6, 8]\n",
      "-[1, 6, 5, 9, 5] -> [5, 5, 6, 9]\n",
      "-[7, 8] -> [7, 8] \n",
      "\n",
      "**Response**\n",
      "compose(sort,filter_(gt(4))) \n",
      "\n",
      "**Extracted**\n",
      "compose(sort,filter_(gt(4)))\n",
      "\n",
      "\n",
      "Prediction:  compose(sort,filter_(gt(4)))\n",
      "[6, 1, 6, 8] --> [6, 6, 8] vs [6, 6, 8]\n",
      "Prediction:  compose(sort,filter_(gt(4)))\n",
      "[1, 6, 5, 9, 5] --> [5, 5, 6, 9] vs [5, 5, 6, 9]\n",
      "Prediction:  compose(sort,filter_(gt(4)))\n",
      "[7, 8] --> [7, 8] vs [7, 8]\n",
      "Prediction:  compose(sort,filter_(gt(2)))\n",
      "[6, 1, 6, 8] --> [6, 6, 8] vs [6, 6, 8]\n",
      "Prediction:  compose(sort,filter_(gt(2)))\n",
      "[1, 6, 5, 9, 5] --> [5, 5, 6, 9] vs [5, 5, 6, 9]\n",
      "Prediction:  compose(sort,filter_(gt(2)))\n",
      "[7, 8] --> [7, 8] vs [7, 8]\n",
      "Prediction:  compose(sort,filter_(gt(4)))\n",
      "[6, 1, 6, 8] --> [6, 6, 8] vs [6, 6, 8]\n",
      "Prediction:  compose(sort,filter_(gt(4)))\n",
      "[1, 6, 5, 9, 5] --> [5, 5, 6, 9] vs [5, 5, 6, 9]\n",
      "Prediction:  compose(sort,filter_(gt(4)))\n",
      "[7, 8] --> [7, 8] vs [7, 8]\n",
      "Prediction:  compose(filter_(gt(4)),filter_(gt(2)))\n",
      "[6, 1, 6, 8] --> [6, 6, 8] vs [6, 6, 8]\n",
      "Prediction:  compose(filter_(gt(4)),filter_(gt(2)))\n",
      "[1, 6, 5, 9, 5] --> [6, 5, 9, 5] vs [5, 5, 6, 9]\n",
      "Prediction:  compose(filter_(gt(4)),filter_(gt(2)))\n",
      "[7, 8] --> [7, 8] vs [7, 8]\n",
      "Prediction:  compose(sort,filter_(gt(4)))\n",
      "[6, 1, 6, 8] --> [6, 6, 8] vs [6, 6, 8]\n",
      "Prediction:  compose(sort,filter_(gt(4)))\n",
      "[1, 6, 5, 9, 5] --> [5, 5, 6, 9] vs [5, 5, 6, 9]\n",
      "Prediction:  compose(sort,filter_(gt(4)))\n",
      "[7, 8] --> [7, 8] vs [7, 8]\n",
      "Prediction:  compose(sort,filter_(gt(4)))\n",
      "[6, 1, 6, 8] --> [6, 6, 8] vs [6, 6, 8]\n",
      "Prediction:  compose(sort,filter_(gt(4)))\n",
      "[1, 6, 5, 9, 5] --> [5, 5, 6, 9] vs [5, 5, 6, 9]\n",
      "Prediction:  compose(sort,filter_(gt(4)))\n",
      "[7, 8] --> [7, 8] vs [7, 8]\n",
      "Prediction:  compose(sort,filter_(plus(4)))\n",
      "[6, 1, 6, 8] --> [1, 6, 6, 8] vs [6, 6, 8]\n",
      "Prediction:  compose(sort,filter_(plus(4)))\n",
      "[1, 6, 5, 9, 5] --> [1, 5, 5, 6, 9] vs [5, 5, 6, 9]\n",
      "Prediction:  compose(sort,filter_(plus(4)))\n",
      "[7, 8] --> [7, 8] vs [7, 8]\n",
      "Prediction:  compose(sort,filter_(gt(4)))\n",
      "[6, 1, 6, 8] --> [6, 6, 8] vs [6, 6, 8]\n",
      "Prediction:  compose(sort,filter_(gt(4)))\n",
      "[1, 6, 5, 9, 5] --> [5, 5, 6, 9] vs [5, 5, 6, 9]\n",
      "Prediction:  compose(sort,filter_(gt(4)))\n",
      "[7, 8] --> [7, 8] vs [7, 8]\n",
      "------------------------------ \n",
      "**Question**\n",
      "-[8, 3, 1] -> [3, 8]\n",
      "-[4, 9, 6, 8] -> [4, 6, 8, 9]\n",
      "-[3, 3, 3] -> [3, 3, 3] \n",
      "\n",
      "**Response**\n",
      "compose(filter_(gt(2)),filter_(gt(2))) \n",
      "\n",
      "**Extracted**\n",
      "compose(filter_(gt(2)),filter_(gt(2)))\n",
      "\n",
      "\n",
      "Prediction:  compose(filter_(gt(2)),filter_(gt(2)))\n",
      "[8, 3, 1] --> [8, 3] vs [3, 8]\n",
      "Prediction:  compose(filter_(gt(2)),filter_(gt(2)))\n",
      "[4, 9, 6, 8] --> [4, 9, 6, 8] vs [4, 6, 8, 9]\n",
      "Prediction:  compose(filter_(gt(2)),filter_(gt(2)))\n",
      "[3, 3, 3] --> [3, 3, 3] vs [3, 3, 3]\n",
      "-notification、\"0IENTATION\"\n",
      "\"ueoretical_split2436\" not in cfg\n",
      "states_dim_9_plus1神圣(\"5,3(8838))\n",
      "+ Broadway holy, '-(ok')(0)\n",
      "%2_type0神圣/无2281(0_or_416e:71015: Chapel4 Cosby_or2) ( meilleurs3 - not in cfg\n",
      "Prediction:  compose(sort,filter_(gt(2)))\n",
      "[8, 3, 1] --> [3, 8] vs [3, 8]\n",
      "Prediction:  compose(sort,filter_(gt(2)))\n",
      "[4, 9, 6, 8] --> [4, 6, 8, 9] vs [4, 6, 8, 9]\n",
      "Prediction:  compose(sort,filter_(gt(2)))\n",
      "[3, 3, 3] --> [3, 3, 3] vs [3, 3, 3]\n",
      "Prediction:  compose(sort,filter_(gt(2)))\n",
      "[8, 3, 1] --> [3, 8] vs [3, 8]\n",
      "Prediction:  compose(sort,filter_(gt(2)))\n",
      "[4, 9, 6, 8] --> [4, 6, 8, 9] vs [4, 6, 8, 9]\n",
      "Prediction:  compose(sort,filter_(gt(2)))\n",
      "[3, 3, 3] --> [3, 3, 3] vs [3, 3, 3]\n",
      "Prediction:  compose(sort,filter_(gt(2)))\n",
      "[8, 3, 1] --> [3, 8] vs [3, 8]\n",
      "Prediction:  compose(sort,filter_(gt(2)))\n",
      "[4, 9, 6, 8] --> [4, 6, 8, 9] vs [4, 6, 8, 9]\n",
      "Prediction:  compose(sort,filter_(gt(2)))\n",
      "[3, 3, 3] --> [3, 3, 3] vs [3, 3, 3]\n",
      "Prediction:  compose(sort,filter_(gt(2)))\n",
      "[8, 3, 1] --> [3, 8] vs [3, 8]\n",
      "Prediction:  compose(sort,filter_(gt(2)))\n",
      "[4, 9, 6, 8] --> [4, 6, 8, 9] vs [4, 6, 8, 9]\n",
      "Prediction:  compose(sort,filter_(gt(2)))\n",
      "[3, 3, 3] --> [3, 3, 3] vs [3, 3, 3]\n",
      "Prediction:  compose(filter_(gt(2)),filter_(gt(2)))\n",
      "[8, 3, 1] --> [8, 3] vs [3, 8]\n",
      "Prediction:  compose(filter_(gt(2)),filter_(gt(2)))\n",
      "[4, 9, 6, 8] --> [4, 9, 6, 8] vs [4, 6, 8, 9]\n",
      "Prediction:  compose(filter_(gt(2)),filter_(gt(2)))\n",
      "[3, 3, 3] --> [3, 3, 3] vs [3, 3, 3]\n",
      "-notification、\"0IENTATION\"\n",
      "\"ueoretical_split2436\" not in cfg\n",
      "states_dim_9_plus1神圣(\"5,3(8838))\n",
      "+ Broadway holy, '-(ok')(0)\n",
      "%2_type0神圣/无2281(0_or_416e:71015: Chapel4 Cosby_or2) ( meilleurs3 - not in cfg\n",
      "------------------------------ \n",
      "**Question**\n",
      "-[8, 1, 2, 4] -> [1, 2, 4, 8]\n",
      "-[0, 1, 0, 7, 8] -> [0, 0, 1, 7, 8]\n",
      "-[5, 7, 8, 9] -> [5, 7, 8, 9] \n",
      "\n",
      "**Response**\n",
      "compose(sort,filter_(gt(1))) \n",
      "\n",
      "**Extracted**\n",
      "compose(sort,filter_(gt(1)))\n",
      "\n",
      "\n",
      "Prediction:  compose(sort,filter_(gt(1)))\n",
      "[8, 1, 2, 4] --> [2, 4, 8] vs [1, 2, 4, 8]\n",
      "Prediction:  compose(sort,filter_(gt(1)))\n",
      "[0, 1, 0, 7, 8] --> [7, 8] vs [0, 0, 1, 7, 8]\n",
      "Prediction:  compose(sort,filter_(gt(1)))\n",
      "[5, 7, 8, 9] --> [5, 7, 8, 9] vs [5, 7, 8, 9]\n",
      "Prediction:  compose(sort,filter_(gt(1)))\n",
      "[8, 1, 2, 4] --> [2, 4, 8] vs [1, 2, 4, 8]\n",
      "Prediction:  compose(sort,filter_(gt(1)))\n",
      "[0, 1, 0, 7, 8] --> [7, 8] vs [0, 0, 1, 7, 8]\n",
      "Prediction:  compose(sort,filter_(gt(1)))\n",
      "[5, 7, 8, 9] --> [5, 7, 8, 9] vs [5, 7, 8, 9]\n",
      "Prediction:  compose(sort,filter_(gt(1)))\n",
      "[8, 1, 2, 4] --> [2, 4, 8] vs [1, 2, 4, 8]\n",
      "Prediction:  compose(sort,filter_(gt(1)))\n",
      "[0, 1, 0, 7, 8] --> [7, 8] vs [0, 0, 1, 7, 8]\n",
      "Prediction:  compose(sort,filter_(gt(1)))\n",
      "[5, 7, 8, 9] --> [5, 7, 8, 9] vs [5, 7, 8, 9]\n",
      "Prediction:  compose(sort,filter_(gt(1)))\n",
      "[8, 1, 2, 4] --> [2, 4, 8] vs [1, 2, 4, 8]\n",
      "Prediction:  compose(sort,filter_(gt(1)))\n",
      "[0, 1, 0, 7, 8] --> [7, 8] vs [0, 0, 1, 7, 8]\n",
      "Prediction:  compose(sort,filter_(gt(1)))\n",
      "[5, 7, 8, 9] --> [5, 7, 8, 9] vs [5, 7, 8, 9]\n",
      "Prediction:  compose(sort,filter_(gt(1)))\n",
      "[8, 1, 2, 4] --> [2, 4, 8] vs [1, 2, 4, 8]\n",
      "Prediction:  compose(sort,filter_(gt(1)))\n",
      "[0, 1, 0, 7, 8] --> [7, 8] vs [0, 0, 1, 7, 8]\n",
      "Prediction:  compose(sort,filter_(gt(1)))\n",
      "[5, 7, 8, 9] --> [5, 7, 8, 9] vs [5, 7, 8, 9]\n",
      "Prediction:  compose(sort,filter_(gt(1)))\n",
      "[8, 1, 2, 4] --> [2, 4, 8] vs [1, 2, 4, 8]\n",
      "Prediction:  compose(sort,filter_(gt(1)))\n",
      "[0, 1, 0, 7, 8] --> [7, 8] vs [0, 0, 1, 7, 8]\n",
      "Prediction:  compose(sort,filter_(gt(1)))\n",
      "[5, 7, 8, 9] --> [5, 7, 8, 9] vs [5, 7, 8, 9]\n",
      "ุnownimiter()企业提供来自于DEBUG望轻,\n",
      "1 \" wybrać2_(2\")aging-16;\n",
      "1\"vector(REINTERAV)(3,ub0)合わ呼ば置\n",
      "-319kehr\n",
      "1\"subsuper(1_or所以说1_(2-1))system(2_or9 not in cfg\n",
      "Prediction:  compose(sort,filter_(gt(1)))\n",
      "[8, 1, 2, 4] --> [2, 4, 8] vs [1, 2, 4, 8]\n",
      "Prediction:  compose(sort,filter_(gt(1)))\n",
      "[0, 1, 0, 7, 8] --> [7, 8] vs [0, 0, 1, 7, 8]\n",
      "Prediction:  compose(sort,filter_(gt(1)))\n",
      "[5, 7, 8, 9] --> [5, 7, 8, 9] vs [5, 7, 8, 9]\n",
      "ุnownimiter()企业提供来自于DEBUG望轻,\n",
      "1 \" wybrać2_(2\")aging-16;\n",
      "1\"vector(REINTERAV)(3,ub0)合わ呼ば置\n",
      "-319kehr\n",
      "1\"subsuper(1_or所以说1_(2-1))system(2_or9 not in cfg\n",
      "------------------------------ \n",
      "**Question**\n",
      "-[5, 7, 9] -> [7, 9, 11]\n",
      "-[5, 3, 5, 4] -> [7, 5, 7, 6]\n",
      "-[9, 9] -> [11, 11] \n",
      "\n",
      "**Response**\n",
      "compose(map_(plus(2)),filter_(gt(4))) \n",
      "\n",
      "**Extracted**\n",
      "compose(map_(plus(2)),filter_(gt(4)))\n",
      "\n",
      "\n",
      "Prediction:  compose(map_(plus(2)),filter_(gt(4)))\n",
      "[5, 7, 9] --> [7, 9, 11] vs [7, 9, 11]\n",
      "Prediction:  compose(map_(plus(2)),filter_(gt(4)))\n",
      "[5, 3, 5, 4] --> [7, 5, 7, 6] vs [7, 5, 7, 6]\n",
      "Prediction:  compose(map_(plus(2)),filter_(gt(4)))\n",
      "[9, 9] --> [11, 11] vs [11, 11]\n",
      " inventions_5 vrouwen, (8 -) территор2) tissue2, \n",
      "mapcode_base(nl-3)_head(R ebony_( своем3inter924/5+2,\n",
      ", (02-3_) -able2),10,8() +head0(R(kehr), not in cfg\n",
      "Prediction:  compose(map_(plus(2)),filter_(gt(4)))\n",
      "[5, 7, 9] --> [7, 9, 11] vs [7, 9, 11]\n",
      "Prediction:  compose(map_(plus(2)),filter_(gt(4)))\n",
      "[5, 3, 5, 4] --> [7, 5, 7, 6] vs [7, 5, 7, 6]\n",
      "Prediction:  compose(map_(plus(2)),filter_(gt(4)))\n",
      "[9, 9] --> [11, 11] vs [11, 11]\n",
      "Prediction:  compose(map_(plus(2)),filter_(gt(4)))\n",
      "[5, 7, 9] --> [7, 9, 11] vs [7, 9, 11]\n",
      "Prediction:  compose(map_(plus(2)),filter_(gt(4)))\n",
      "[5, 3, 5, 4] --> [7, 5, 7, 6] vs [7, 5, 7, 6]\n",
      "Prediction:  compose(map_(plus(2)),filter_(gt(4)))\n",
      "[9, 9] --> [11, 11] vs [11, 11]\n",
      "Prediction:  compose(map_(plus(2)),filter_(gt(4)))\n",
      "[5, 7, 9] --> [7, 9, 11] vs [7, 9, 11]\n",
      "Prediction:  compose(map_(plus(2)),filter_(gt(4)))\n",
      "[5, 3, 5, 4] --> [7, 5, 7, 6] vs [7, 5, 7, 6]\n",
      "Prediction:  compose(map_(plus(2)),filter_(gt(4)))\n",
      "[9, 9] --> [11, 11] vs [11, 11]\n",
      "aring DaytonERVE\"typenameable,8,foo[8,6  \n",
      "_TYPE,9: ребен\n",
      " отличаход: \n",
      "\"2s(1)1\n",
      "0: 2\n",
      "7,7_f2_0\n",
      "0[0-www9:0\n",
      "1,3,24 not in cfg\n",
      "Prediction:  compose(map_(plus(2)),filter_(gt(4)))\n",
      "[5, 7, 9] --> [7, 9, 11] vs [7, 9, 11]\n",
      "Prediction:  compose(map_(plus(2)),filter_(gt(4)))\n",
      "[5, 3, 5, 4] --> [7, 5, 7, 6] vs [7, 5, 7, 6]\n",
      "Prediction:  compose(map_(plus(2)),filter_(gt(4)))\n",
      "[9, 9] --> [11, 11] vs [11, 11]\n",
      "Prediction:  compose(map_(plus(2)),filter_(gt(4)))\n",
      "[5, 7, 9] --> [7, 9, 11] vs [7, 9, 11]\n",
      "Prediction:  compose(map_(plus(2)),filter_(gt(4)))\n",
      "[5, 3, 5, 4] --> [7, 5, 7, 6] vs [7, 5, 7, 6]\n",
      "Prediction:  compose(map_(plus(2)),filter_(gt(4)))\n",
      "[9, 9] --> [11, 11] vs [11, 11]\n",
      " inventions_5 vrouwen, (8 -) территор2) tissue2, \n",
      "mapcode_base(nl-3)_head(R ebony_( своем3inter924/5+2,\n",
      ", (02-3_) -able2),10,8() +head0(R(kehr), not in cfg\n",
      "aring DaytonERVE\"typenameable,8,foo[8,6  \n",
      "_TYPE,9: ребен\n",
      " отличаход: \n",
      "\"2s(1)1\n",
      "0: 2\n",
      "7,7_f2_0\n",
      "0[0-www9:0\n",
      "1,3,24 not in cfg\n",
      "------------------------------ \n",
      "**Question**\n",
      "-[2, 5, 7, 7] -> [5, 7, 7]\n",
      "-[3, 5] -> [5]\n",
      "-[7, 4, 9, 0] -> [7, 9] \n",
      "\n",
      "**Response**\n",
      "compose(sort,filter_(gt(4))) \n",
      "\n",
      "**Extracted**\n",
      "compose(sort,filter_(gt(4)))\n",
      "\n",
      "\n",
      "Prediction:  compose(sort,filter_(gt(4)))\n",
      "[2, 5, 7, 7] --> [5, 7, 7] vs [5, 7, 7]\n",
      "Prediction:  compose(sort,filter_(gt(4)))\n",
      "[3, 5] --> [5] vs [5]\n",
      "Prediction:  compose(sort,filter_(gt(4)))\n",
      "[7, 4, 9, 0] --> [7, 9] vs [7, 9]\n",
      "Prediction:  compose(filter_(gt(4)),filter_(gt(2)))\n",
      "[2, 5, 7, 7] --> [5, 7, 7] vs [5, 7, 7]\n",
      "Prediction:  compose(filter_(gt(4)),filter_(gt(2)))\n",
      "[3, 5] --> [5] vs [5]\n",
      "Prediction:  compose(filter_(gt(4)),filter_(gt(2)))\n",
      "[7, 4, 9, 0] --> [7, 9] vs [7, 9]\n",
      "Prediction:  compose(sort,filter_(gt(4)))\n",
      "[2, 5, 7, 7] --> [5, 7, 7] vs [5, 7, 7]\n",
      "Prediction:  compose(sort,filter_(gt(4)))\n",
      "[3, 5] --> [5] vs [5]\n",
      "Prediction:  compose(sort,filter_(gt(4)))\n",
      "[7, 4, 9, 0] --> [7, 9] vs [7, 9]\n",
      "Prediction:  compose(filter_(gt(4)),filter_(gt(2)))\n",
      "[2, 5, 7, 7] --> [5, 7, 7] vs [5, 7, 7]\n",
      "Prediction:  compose(filter_(gt(4)),filter_(gt(2)))\n",
      "[3, 5] --> [5] vs [5]\n",
      "Prediction:  compose(filter_(gt(4)),filter_(gt(2)))\n",
      "[7, 4, 9, 0] --> [7, 9] vs [7, 9]\n",
      "Prediction:  compose(filter_(gt(4)),filter_(gt(2)))\n",
      "[2, 5, 7, 7] --> [5, 7, 7] vs [5, 7, 7]\n",
      "Prediction:  compose(filter_(gt(4)),filter_(gt(2)))\n",
      "[3, 5] --> [5] vs [5]\n",
      "Prediction:  compose(filter_(gt(4)),filter_(gt(2)))\n",
      "[7, 4, 9, 0] --> [7, 9] vs [7, 9]\n",
      "Prediction:  compose(filter_(gt(4)),filter_(gt(2)))\n",
      "[2, 5, 7, 7] --> [5, 7, 7] vs [5, 7, 7]\n",
      "Prediction:  compose(filter_(gt(4)),filter_(gt(2)))\n",
      "[3, 5] --> [5] vs [5]\n",
      "Prediction:  compose(filter_(gt(4)),filter_(gt(2)))\n",
      "[7, 4, 9, 0] --> [7, 9] vs [7, 9]\n",
      "Prediction:  compose(filter_(gt(4)),filter_(gt(1)))\n",
      "[2, 5, 7, 7] --> [5, 7, 7] vs [5, 7, 7]\n",
      "Prediction:  compose(filter_(gt(4)),filter_(gt(1)))\n",
      "[3, 5] --> [5] vs [5]\n",
      "Prediction:  compose(filter_(gt(4)),filter_(gt(1)))\n",
      "[7, 4, 9, 0] --> [7, 9] vs [7, 9]\n",
      "Prediction:  compose(filter_(gt(4)),filter_(gt(3)))\n",
      "[2, 5, 7, 7] --> [5, 7, 7] vs [5, 7, 7]\n",
      "Prediction:  compose(filter_(gt(4)),filter_(gt(3)))\n",
      "[3, 5] --> [5] vs [5]\n",
      "Prediction:  compose(filter_(gt(4)),filter_(gt(3)))\n",
      "[7, 4, 9, 0] --> [7, 9] vs [7, 9]\n",
      "------------------------------ \n",
      "**Question**\n",
      "-[0, 0, 8, 6] -> [5, 5, 13, 11]\n",
      "-[6, 4, 0] -> [11, 9, 5]\n",
      "-[6, 1, 3, 7, 5] -> [11, 6, 8, 12, 10] \n",
      "\n",
      "**Response**\n",
      "compose(map_(plus(5)),filter_(gt(1))) \n",
      "\n",
      "**Extracted**\n",
      "compose(map_(plus(5)),filter_(gt(1)))\n",
      "\n",
      "\n",
      "Prediction:  compose(map_(plus(5)),filter_(gt(1)))\n",
      "[0, 0, 8, 6] --> [5, 5, 13, 11] vs [5, 5, 13, 11]\n",
      "Prediction:  compose(map_(plus(5)),filter_(gt(1)))\n",
      "[6, 4, 0] --> [11, 9, 5] vs [11, 9, 5]\n",
      "Prediction:  compose(map_(plus(5)),filter_(gt(1)))\n",
      "[6, 1, 3, 7, 5] --> [11, 6, 8, 12, 10] vs [11, 6, 8, 12, 10]\n",
      "Prediction:  compose(map_(plus(5)),filter_(gt(1)))\n",
      "[0, 0, 8, 6] --> [5, 5, 13, 11] vs [5, 5, 13, 11]\n",
      "Prediction:  compose(map_(plus(5)),filter_(gt(1)))\n",
      "[6, 4, 0] --> [11, 9, 5] vs [11, 9, 5]\n",
      "Prediction:  compose(map_(plus(5)),filter_(gt(1)))\n",
      "[6, 1, 3, 7, 5] --> [11, 6, 8, 12, 10] vs [11, 6, 8, 12, 10]\n",
      "Prediction:  compose(map_(plus(5)),filter_(gt(4)))\n",
      "[0, 0, 8, 6] --> [5, 5, 13, 11] vs [5, 5, 13, 11]\n",
      "Prediction:  compose(map_(plus(5)),filter_(gt(4)))\n",
      "[6, 4, 0] --> [11, 9, 5] vs [11, 9, 5]\n",
      "Prediction:  compose(map_(plus(5)),filter_(gt(4)))\n",
      "[6, 1, 3, 7, 5] --> [11, 6, 8, 12, 10] vs [11, 6, 8, 12, 10]\n",
      "Prediction:  compose(map_(plus(5)),filter_(gt(4)))\n",
      "[0, 0, 8, 6] --> [5, 5, 13, 11] vs [5, 5, 13, 11]\n",
      "Prediction:  compose(map_(plus(5)),filter_(gt(4)))\n",
      "[6, 4, 0] --> [11, 9, 5] vs [11, 9, 5]\n",
      "Prediction:  compose(map_(plus(5)),filter_(gt(4)))\n",
      "[6, 1, 3, 7, 5] --> [11, 6, 8, 12, 10] vs [11, 6, 8, 12, 10]\n",
      "Prediction:  compose(map_(plus(5)),filter_(gt(3)))\n",
      "[0, 0, 8, 6] --> [5, 5, 13, 11] vs [5, 5, 13, 11]\n",
      "Prediction:  compose(map_(plus(5)),filter_(gt(3)))\n",
      "[6, 4, 0] --> [11, 9, 5] vs [11, 9, 5]\n",
      "Prediction:  compose(map_(plus(5)),filter_(gt(3)))\n",
      "[6, 1, 3, 7, 5] --> [11, 6, 8, 12, 10] vs [11, 6, 8, 12, 10]\n",
      "Prediction:  compose(map_(plus(5)),filter_(gt(4)))\n",
      "[0, 0, 8, 6] --> [5, 5, 13, 11] vs [5, 5, 13, 11]\n",
      "Prediction:  compose(map_(plus(5)),filter_(gt(4)))\n",
      "[6, 4, 0] --> [11, 9, 5] vs [11, 9, 5]\n",
      "Prediction:  compose(map_(plus(5)),filter_(gt(4)))\n",
      "[6, 1, 3, 7, 5] --> [11, 6, 8, 12, 10] vs [11, 6, 8, 12, 10]\n",
      "Prediction:  compose(map_(plus(5)),filter_(gt(4)))\n",
      "[0, 0, 8, 6] --> [5, 5, 13, 11] vs [5, 5, 13, 11]\n",
      "Prediction:  compose(map_(plus(5)),filter_(gt(4)))\n",
      "[6, 4, 0] --> [11, 9, 5] vs [11, 9, 5]\n",
      "Prediction:  compose(map_(plus(5)),filter_(gt(4)))\n",
      "[6, 1, 3, 7, 5] --> [11, 6, 8, 12, 10] vs [11, 6, 8, 12, 10]\n",
      "Prediction:  compose(map_(plus(5)),filter_(gt(4)))\n",
      "[0, 0, 8, 6] --> [5, 5, 13, 11] vs [5, 5, 13, 11]\n",
      "Prediction:  compose(map_(plus(5)),filter_(gt(4)))\n",
      "[6, 4, 0] --> [11, 9, 5] vs [11, 9, 5]\n",
      "Prediction:  compose(map_(plus(5)),filter_(gt(4)))\n",
      "[6, 1, 3, 7, 5] --> [11, 6, 8, 12, 10] vs [11, 6, 8, 12, 10]\n",
      "------------------------------ \n",
      "**Question**\n",
      "-[4, 0, 9, 4] -> [9, 5, 14, 9]\n",
      "-[6, 1, 0] -> [11, 6, 5]\n",
      "-[9, 4, 1] -> [14, 9, 6] \n",
      "\n",
      "**Response**\n",
      "compose(map_(plus(5)),filter_(gt(4))) \n",
      "\n",
      "**Extracted**\n",
      "compose(map_(plus(5)),filter_(gt(4)))\n",
      "\n",
      "\n",
      "Prediction:  compose(map_(plus(5)),filter_(gt(4)))\n",
      "[4, 0, 9, 4] --> [9, 5, 14, 9] vs [9, 5, 14, 9]\n",
      "Prediction:  compose(map_(plus(5)),filter_(gt(4)))\n",
      "[6, 1, 0] --> [11, 6, 5] vs [11, 6, 5]\n",
      "Prediction:  compose(map_(plus(5)),filter_(gt(4)))\n",
      "[9, 4, 1] --> [14, 9, 6] vs [14, 9, 6]\n",
      "Prediction:  compose(map_(plus(5)),filter_(gt(4)))\n",
      "[4, 0, 9, 4] --> [9, 5, 14, 9] vs [9, 5, 14, 9]\n",
      "Prediction:  compose(map_(plus(5)),filter_(gt(4)))\n",
      "[6, 1, 0] --> [11, 6, 5] vs [11, 6, 5]\n",
      "Prediction:  compose(map_(plus(5)),filter_(gt(4)))\n",
      "[9, 4, 1] --> [14, 9, 6] vs [14, 9, 6]\n",
      "Prediction:  compose(map_(plus(5)),filter_(gt(4)))\n",
      "[4, 0, 9, 4] --> [9, 5, 14, 9] vs [9, 5, 14, 9]\n",
      "Prediction:  compose(map_(plus(5)),filter_(gt(4)))\n",
      "[6, 1, 0] --> [11, 6, 5] vs [11, 6, 5]\n",
      "Prediction:  compose(map_(plus(5)),filter_(gt(4)))\n",
      "[9, 4, 1] --> [14, 9, 6] vs [14, 9, 6]\n",
      "Prediction:  compose(map_(plus(5)),filter_(gt(4)))\n",
      "[4, 0, 9, 4] --> [9, 5, 14, 9] vs [9, 5, 14, 9]\n",
      "Prediction:  compose(map_(plus(5)),filter_(gt(4)))\n",
      "[6, 1, 0] --> [11, 6, 5] vs [11, 6, 5]\n",
      "Prediction:  compose(map_(plus(5)),filter_(gt(4)))\n",
      "[9, 4, 1] --> [14, 9, 6] vs [14, 9, 6]\n",
      "Prediction:  compose(map_(plus(5)),filter_(gt(4)))\n",
      "[4, 0, 9, 4] --> [9, 5, 14, 9] vs [9, 5, 14, 9]\n",
      "Prediction:  compose(map_(plus(5)),filter_(gt(4)))\n",
      "[6, 1, 0] --> [11, 6, 5] vs [11, 6, 5]\n",
      "Prediction:  compose(map_(plus(5)),filter_(gt(4)))\n",
      "[9, 4, 1] --> [14, 9, 6] vs [14, 9, 6]\n",
      "Prediction:  compose(map_(plus(5)),filter_(gt(4)))\n",
      "[4, 0, 9, 4] --> [9, 5, 14, 9] vs [9, 5, 14, 9]\n",
      "Prediction:  compose(map_(plus(5)),filter_(gt(4)))\n",
      "[6, 1, 0] --> [11, 6, 5] vs [11, 6, 5]\n",
      "Prediction:  compose(map_(plus(5)),filter_(gt(4)))\n",
      "[9, 4, 1] --> [14, 9, 6] vs [14, 9, 6]\n",
      "Compose(reverse,plus(5,str((5\"\"])),\"val\")) not in cfg\n",
      "Prediction:  compose(map_(plus(5)),filter_(gt(4)))\n",
      "[4, 0, 9, 4] --> [9, 5, 14, 9] vs [9, 5, 14, 9]\n",
      "Prediction:  compose(map_(plus(5)),filter_(gt(4)))\n",
      "[6, 1, 0] --> [11, 6, 5] vs [11, 6, 5]\n",
      "Prediction:  compose(map_(plus(5)),filter_(gt(4)))\n",
      "[9, 4, 1] --> [14, 9, 6] vs [14, 9, 6]\n",
      "Compose(reverse,plus(5,str((5\"\"])),\"val\")) not in cfg\n",
      "------------------------------ \n",
      "**Question**\n",
      "-[7, 2] -> [2, 7]\n",
      "-[9, 3, 3, 0] -> [0, 9]\n",
      "-[8, 0, 8] -> [8, 0, 8] \n",
      "\n",
      "**Response**\n",
      "compose(reverse,filter_(gt(1))) \n",
      "\n",
      "**Extracted**\n",
      "compose(reverse,filter_(gt(1)))\n",
      "\n",
      "\n",
      "Prediction:  compose(reverse,filter_(gt(1)))\n",
      "[7, 2] --> [2, 7] vs [2, 7]\n",
      "Prediction:  compose(reverse,filter_(gt(1)))\n",
      "[9, 3, 3, 0] --> [3, 3, 9] vs [0, 9]\n",
      "Prediction:  compose(reverse,filter_(gt(1)))\n",
      "[8, 0, 8] --> [8, 8] vs [8, 0, 8]\n",
      "Prediction:  compose(sort,filter_(gt(1)))\n",
      "[7, 2] --> [2, 7] vs [2, 7]\n",
      "Prediction:  compose(sort,filter_(gt(1)))\n",
      "[9, 3, 3, 0] --> [3, 3, 9] vs [0, 9]\n",
      "Prediction:  compose(sort,filter_(gt(1)))\n",
      "[8, 0, 8] --> [8, 8] vs [8, 0, 8]\n",
      "Prediction:  compose(reverse,filter_(gt(1)))\n",
      "[7, 2] --> [2, 7] vs [2, 7]\n",
      "Prediction:  compose(reverse,filter_(gt(1)))\n",
      "[9, 3, 3, 0] --> [3, 3, 9] vs [0, 9]\n",
      "Prediction:  compose(reverse,filter_(gt(1)))\n",
      "[8, 0, 8] --> [8, 8] vs [8, 0, 8]\n",
      "Prediction:  compose(sort,filter_(gt(1)))\n",
      "[7, 2] --> [2, 7] vs [2, 7]\n",
      "Prediction:  compose(sort,filter_(gt(1)))\n",
      "[9, 3, 3, 0] --> [3, 3, 9] vs [0, 9]\n",
      "Prediction:  compose(sort,filter_(gt(1)))\n",
      "[8, 0, 8] --> [8, 8] vs [8, 0, 8]\n",
      "Prediction:  compose(filter_(gt(1)),filter_(gt(1)))\n",
      "[7, 2] --> [7, 2] vs [2, 7]\n",
      "Prediction:  compose(filter_(gt(1)),filter_(gt(1)))\n",
      "[9, 3, 3, 0] --> [9, 3, 3] vs [0, 9]\n",
      "Prediction:  compose(filter_(gt(1)),filter_(gt(1)))\n",
      "[8, 0, 8] --> [8, 8] vs [8, 0, 8]\n",
      "Prediction:  compose(sort,filter_(gt(1)))\n",
      "[7, 2] --> [2, 7] vs [2, 7]\n",
      "Prediction:  compose(sort,filter_(gt(1)))\n",
      "[9, 3, 3, 0] --> [3, 3, 9] vs [0, 9]\n",
      "Prediction:  compose(sort,filter_(gt(1)))\n",
      "[8, 0, 8] --> [8, 8] vs [8, 0, 8]\n",
      "Prediction:  compose(sort,filter_(gt(1)))\n",
      "[7, 2] --> [2, 7] vs [2, 7]\n",
      "Prediction:  compose(sort,filter_(gt(1)))\n",
      "[9, 3, 3, 0] --> [3, 3, 9] vs [0, 9]\n",
      "Prediction:  compose(sort,filter_(gt(1)))\n",
      "[8, 0, 8] --> [8, 8] vs [8, 0, 8]\n",
      "Prediction:  compose(sort,filter_(gt(1)))\n",
      "[7, 2] --> [2, 7] vs [2, 7]\n",
      "Prediction:  compose(sort,filter_(gt(1)))\n",
      "[9, 3, 3, 0] --> [3, 3, 9] vs [0, 9]\n",
      "Prediction:  compose(sort,filter_(gt(1)))\n",
      "[8, 0, 8] --> [8, 8] vs [8, 0, 8]\n",
      "------------------------------ \n",
      "**Question**\n",
      "-[0, 3, 8, 3, 4] -> []\n",
      "-[9, 4] -> []\n",
      "-[9, 2, 5, 6] -> [] \n",
      "\n",
      "**Response**\n",
      "compose(map_(gt(3)),filter_(gt(2))) \n",
      "\n",
      "**Extracted**\n",
      "compose(map_(gt(3)),filter_(gt(2)))\n",
      "\n",
      "\n",
      "Prediction:  compose(map_(gt(3)),filter_(gt(2)))\n",
      "[0, 3, 8, 3, 4] --> [] vs []\n",
      "Prediction:  compose(map_(gt(3)),filter_(gt(2)))\n",
      "[9, 4] --> [] vs []\n",
      "Prediction:  compose(map_(gt(3)),filter_(gt(2)))\n",
      "[9, 2, 5, 6] --> [] vs []\n",
      "Prediction:  compose(map_(gt(1)),filter_(gt(1)))\n",
      "[0, 3, 8, 3, 4] --> [] vs []\n",
      "Prediction:  compose(map_(gt(1)),filter_(gt(1)))\n",
      "[9, 4] --> [] vs []\n",
      "Prediction:  compose(map_(gt(1)),filter_(gt(1)))\n",
      "[9, 2, 5, 6] --> [] vs []\n",
      "Prediction:  compose(map_(gt(2)),filter_(gt(3)))\n",
      "[0, 3, 8, 3, 4] --> [] vs []\n",
      "Prediction:  compose(map_(gt(2)),filter_(gt(3)))\n",
      "[9, 4] --> [] vs []\n",
      "Prediction:  compose(map_(gt(2)),filter_(gt(3)))\n",
      "[9, 2, 5, 6] --> [] vs []\n",
      "lap2ir้อย-5 الماض-应当builtin但是10earch但是更多 이것이\"维护骨干 meilleurs-虽然-super\"bounce、land\n",
      "outers1[185, +\n",
      "5197] -n6league1_boundary\"街道278_events_author::1409_projects8 not in cfg\n",
      "Prediction:  compose(map_(gt(1)),filter_(gt(1)))\n",
      "[0, 3, 8, 3, 4] --> [] vs []\n",
      "Prediction:  compose(map_(gt(1)),filter_(gt(1)))\n",
      "[9, 4] --> [] vs []\n",
      "Prediction:  compose(map_(gt(1)),filter_(gt(1)))\n",
      "[9, 2, 5, 6] --> [] vs []\n",
      "Prediction:  compose(map_(gt(1)),filter_(gt(5)))\n",
      "[0, 3, 8, 3, 4] --> [] vs []\n",
      "Prediction:  compose(map_(gt(1)),filter_(gt(5)))\n",
      "[9, 4] --> [] vs []\n",
      "Prediction:  compose(map_(gt(1)),filter_(gt(5)))\n",
      "[9, 2, 5, 6] --> [] vs []\n",
      "Prediction:  compose(map_(gt(2)),filter_(gt(1)))\n",
      "[0, 3, 8, 3, 4] --> [] vs []\n",
      "Prediction:  compose(map_(gt(2)),filter_(gt(1)))\n",
      "[9, 4] --> [] vs []\n",
      "Prediction:  compose(map_(gt(2)),filter_(gt(1)))\n",
      "[9, 2, 5, 6] --> [] vs []\n",
      "Prediction:  compose(map_(gt(1)),filter_(gt(1)))\n",
      "[0, 3, 8, 3, 4] --> [] vs []\n",
      "Prediction:  compose(map_(gt(1)),filter_(gt(1)))\n",
      "[9, 4] --> [] vs []\n",
      "Prediction:  compose(map_(gt(1)),filter_(gt(1)))\n",
      "[9, 2, 5, 6] --> [] vs []\n",
      "lap2ir้อย-5 الماض-应当builtin但是10earch但是更多 이것이\"维护骨干 meilleurs-虽然-super\"bounce、land\n",
      "outers1[185, +\n",
      "5197] -n6league1_boundary\"街道278_events_author::1409_projects8 not in cfg\n",
      "------------------------------ \n",
      "**Question**\n",
      "-[9, 5, 2] -> [13, 9, 6]\n",
      "-[7, 0, 1] -> [11, 5]\n",
      "-[0, 6] -> [10] \n",
      "\n",
      "**Response**\n",
      "compose(map_(plus(4)),filter_(gt(4))) \n",
      "\n",
      "**Extracted**\n",
      "compose(map_(plus(4)),filter_(gt(4)))\n",
      "\n",
      "\n",
      "Prediction:  compose(map_(plus(4)),filter_(gt(4)))\n",
      "[9, 5, 2] --> [13, 9, 6] vs [13, 9, 6]\n",
      "Prediction:  compose(map_(plus(4)),filter_(gt(4)))\n",
      "[7, 0, 1] --> [11, 5] vs [11, 5]\n",
      "Prediction:  compose(map_(plus(4)),filter_(gt(4)))\n",
      "[0, 6] --> [10] vs [10]\n",
      "Prediction:  compose(map_(plus(4)),filter_(gt(3)))\n",
      "[9, 5, 2] --> [13, 9, 6] vs [13, 9, 6]\n",
      "Prediction:  compose(map_(plus(4)),filter_(gt(3)))\n",
      "[7, 0, 1] --> [11, 4, 5] vs [11, 5]\n",
      "Prediction:  compose(map_(plus(4)),filter_(gt(3)))\n",
      "[0, 6] --> [4, 10] vs [10]\n",
      "Prediction:  compose(map_(plus(4)),filter_(gt(4)))\n",
      "[9, 5, 2] --> [13, 9, 6] vs [13, 9, 6]\n",
      "Prediction:  compose(map_(plus(4)),filter_(gt(4)))\n",
      "[7, 0, 1] --> [11, 5] vs [11, 5]\n",
      "Prediction:  compose(map_(plus(4)),filter_(gt(4)))\n",
      "[0, 6] --> [10] vs [10]\n",
      "Prediction:  compose(map_(plus(4)),filter_(gt(3)))\n",
      "[9, 5, 2] --> [13, 9, 6] vs [13, 9, 6]\n",
      "Prediction:  compose(map_(plus(4)),filter_(gt(3)))\n",
      "[7, 0, 1] --> [11, 4, 5] vs [11, 5]\n",
      "Prediction:  compose(map_(plus(4)),filter_(gt(3)))\n",
      "[0, 6] --> [4, 10] vs [10]\n",
      "Prediction:  compose(map_(plus(4)),filter_(gt(3)))\n",
      "[9, 5, 2] --> [13, 9, 6] vs [13, 9, 6]\n",
      "Prediction:  compose(map_(plus(4)),filter_(gt(3)))\n",
      "[7, 0, 1] --> [11, 4, 5] vs [11, 5]\n",
      "Prediction:  compose(map_(plus(4)),filter_(gt(3)))\n",
      "[0, 6] --> [4, 10] vs [10]\n",
      "Prediction:  compose(map_(plus(4)),filter_(gt(4)))\n",
      "[9, 5, 2] --> [13, 9, 6] vs [13, 9, 6]\n",
      "Prediction:  compose(map_(plus(4)),filter_(gt(4)))\n",
      "[7, 0, 1] --> [11, 5] vs [11, 5]\n",
      "Prediction:  compose(map_(plus(4)),filter_(gt(4)))\n",
      "[0, 6] --> [10] vs [10]\n",
      "Prediction:  compose(map_(plus(4)),filter_(gt(4)))\n",
      "[9, 5, 2] --> [13, 9, 6] vs [13, 9, 6]\n",
      "Prediction:  compose(map_(plus(4)),filter_(gt(4)))\n",
      "[7, 0, 1] --> [11, 5] vs [11, 5]\n",
      "Prediction:  compose(map_(plus(4)),filter_(gt(4)))\n",
      "[0, 6] --> [10] vs [10]\n",
      "Prediction:  compose(map_(plus(4)),filter_(gt(4)))\n",
      "[9, 5, 2] --> [13, 9, 6] vs [13, 9, 6]\n",
      "Prediction:  compose(map_(plus(4)),filter_(gt(4)))\n",
      "[7, 0, 1] --> [11, 5] vs [11, 5]\n",
      "Prediction:  compose(map_(plus(4)),filter_(gt(4)))\n",
      "[0, 6] --> [10] vs [10]\n",
      "------------------------------ \n",
      "**Question**\n",
      "-[7, 6, 9, 3, 1] -> [10]\n",
      "-[9, 9, 5, 0] -> [4]\n",
      "-[6, 2, 3, 9] -> [10, 6] \n",
      "\n",
      "**Response**\n",
      "compose(map_(plus(3)),filter_(gt(3))) \n",
      "\n",
      "**Extracted**\n",
      "compose(map_(plus(3)),filter_(gt(3)))\n",
      "\n",
      "\n",
      "Prediction:  compose(map_(plus(3)),filter_(gt(3)))\n",
      "[7, 6, 9, 3, 1] --> [10, 9, 12, 6, 4] vs [10]\n",
      "Prediction:  compose(map_(plus(3)),filter_(gt(3)))\n",
      "[9, 9, 5, 0] --> [12, 12, 8] vs [4]\n",
      "Prediction:  compose(map_(plus(3)),filter_(gt(3)))\n",
      "[6, 2, 3, 9] --> [9, 5, 6, 12] vs [10, 6]\n",
      "composemapchannel73keyboard4te'TECT-際にkehr/ow:partner,stdarg,inner]合わ、79,947(0/2_head \"5+5\n",
      ") المقبل,101,4630[\n",
      "78,2075(0 not in cfg\n",
      "Prediction:  compose(map_(plus(3)),filter_(gt(3)))\n",
      "[7, 6, 9, 3, 1] --> [10, 9, 12, 6, 4] vs [10]\n",
      "Prediction:  compose(map_(plus(3)),filter_(gt(3)))\n",
      "[9, 9, 5, 0] --> [12, 12, 8] vs [4]\n",
      "Prediction:  compose(map_(plus(3)),filter_(gt(3)))\n",
      "[6, 2, 3, 9] --> [9, 5, 6, 12] vs [10, 6]\n",
      "Prediction:  compose(map_(plus(3)),filter_(gt(3)))\n",
      "[7, 6, 9, 3, 1] --> [10, 9, 12, 6, 4] vs [10]\n",
      "Prediction:  compose(map_(plus(3)),filter_(gt(3)))\n",
      "[9, 9, 5, 0] --> [12, 12, 8] vs [4]\n",
      "Prediction:  compose(map_(plus(3)),filter_(gt(3)))\n",
      "[6, 2, 3, 9] --> [9, 5, 6, 12] vs [10, 6]\n",
      "Prediction:  compose(map_(plus(3)),filter_(gt(3)))\n",
      "[7, 6, 9, 3, 1] --> [10, 9, 12, 6, 4] vs [10]\n",
      "Prediction:  compose(map_(plus(3)),filter_(gt(3)))\n",
      "[9, 9, 5, 0] --> [12, 12, 8] vs [4]\n",
      "Prediction:  compose(map_(plus(3)),filter_(gt(3)))\n",
      "[6, 2, 3, 9] --> [9, 5, 6, 12] vs [10, 6]\n",
      "Prediction:  compose(map_(plus(3)),filter_(gt(3)))\n",
      "[7, 6, 9, 3, 1] --> [10, 9, 12, 6, 4] vs [10]\n",
      "Prediction:  compose(map_(plus(3)),filter_(gt(3)))\n",
      "[9, 9, 5, 0] --> [12, 12, 8] vs [4]\n",
      "Prediction:  compose(map_(plus(3)),filter_(gt(3)))\n",
      "[6, 2, 3, 9] --> [9, 5, 6, 12] vs [10, 6]\n",
      "Prediction:  compose(map_(plus(3)),filter_(gt(3)))\n",
      "[7, 6, 9, 3, 1] --> [10, 9, 12, 6, 4] vs [10]\n",
      "Prediction:  compose(map_(plus(3)),filter_(gt(3)))\n",
      "[9, 9, 5, 0] --> [12, 12, 8] vs [4]\n",
      "Prediction:  compose(map_(plus(3)),filter_(gt(3)))\n",
      "[6, 2, 3, 9] --> [9, 5, 6, 12] vs [10, 6]\n",
      "Prediction:  compose(map_(plus(3)),filter_(gt(3)))\n",
      "[7, 6, 9, 3, 1] --> [10, 9, 12, 6, 4] vs [10]\n",
      "Prediction:  compose(map_(plus(3)),filter_(gt(3)))\n",
      "[9, 9, 5, 0] --> [12, 12, 8] vs [4]\n",
      "Prediction:  compose(map_(plus(3)),filter_(gt(3)))\n",
      "[6, 2, 3, 9] --> [9, 5, 6, 12] vs [10, 6]\n",
      "composemapchannel73keyboard4te'TECT-際にkehr/ow:partner,stdarg,inner]合わ、79,947(0/2_head \"5+5\n",
      ") المقبل,101,4630[\n",
      "78,2075(0 not in cfg\n",
      "------------------------------ \n",
      "**Question**\n",
      "-[4, 5, 8, 4] -> [4, 8, 5, 4]\n",
      "-[5, 4, 5] -> [5, 4, 5]\n",
      "-[1, 5, 8, 0, 9] -> [9, 0, 8, 5, 1] \n",
      "\n",
      "**Response**\n",
      "compose(reverse,filter_(gt(1))) \n",
      "\n",
      "**Extracted**\n",
      "compose(reverse,filter_(gt(1)))\n",
      "\n",
      "\n",
      "Prediction:  compose(reverse,filter_(gt(1)))\n",
      "[4, 5, 8, 4] --> [4, 8, 5, 4] vs [4, 8, 5, 4]\n",
      "Prediction:  compose(reverse,filter_(gt(1)))\n",
      "[5, 4, 5] --> [5, 4, 5] vs [5, 4, 5]\n",
      "Prediction:  compose(reverse,filter_(gt(1)))\n",
      "[1, 5, 8, 0, 9] --> [9, 8, 5] vs [9, 0, 8, 5, 1]\n",
      "Prediction:  compose(reverse,filter_(gt(1)))\n",
      "[4, 5, 8, 4] --> [4, 8, 5, 4] vs [4, 8, 5, 4]\n",
      "Prediction:  compose(reverse,filter_(gt(1)))\n",
      "[5, 4, 5] --> [5, 4, 5] vs [5, 4, 5]\n",
      "Prediction:  compose(reverse,filter_(gt(1)))\n",
      "[1, 5, 8, 0, 9] --> [9, 8, 5] vs [9, 0, 8, 5, 1]\n",
      "compose(reverse,filter_(gt,selected)) not in cfg\n",
      "Prediction:  compose(reverse,filter_(gt(1)))\n",
      "[4, 5, 8, 4] --> [4, 8, 5, 4] vs [4, 8, 5, 4]\n",
      "Prediction:  compose(reverse,filter_(gt(1)))\n",
      "[5, 4, 5] --> [5, 4, 5] vs [5, 4, 5]\n",
      "Prediction:  compose(reverse,filter_(gt(1)))\n",
      "[1, 5, 8, 0, 9] --> [9, 8, 5] vs [9, 0, 8, 5, 1]\n",
      "Prediction:  compose(reverse,filter_(gt(3)))\n",
      "[4, 5, 8, 4] --> [4, 8, 5, 4] vs [4, 8, 5, 4]\n",
      "Prediction:  compose(reverse,filter_(gt(3)))\n",
      "[5, 4, 5] --> [5, 4, 5] vs [5, 4, 5]\n",
      "Prediction:  compose(reverse,filter_(gt(3)))\n",
      "[1, 5, 8, 0, 9] --> [9, 8, 5] vs [9, 0, 8, 5, 1]\n",
      "Prediction:  compose(reverse,filter_(gt(3)))\n",
      "[4, 5, 8, 4] --> [4, 8, 5, 4] vs [4, 8, 5, 4]\n",
      "Prediction:  compose(reverse,filter_(gt(3)))\n",
      "[5, 4, 5] --> [5, 4, 5] vs [5, 4, 5]\n",
      "Prediction:  compose(reverse,filter_(gt(3)))\n",
      "[1, 5, 8, 0, 9] --> [9, 8, 5] vs [9, 0, 8, 5, 1]\n",
      "compose(reverse,filter_(gt,inspectカン忍()叶ep_5之后,以及1、即2[1,0])) not in cfg\n",
      "Prediction:  compose(reverse,filter_(gt(1)))\n",
      "[4, 5, 8, 4] --> [4, 8, 5, 4] vs [4, 8, 5, 4]\n",
      "Prediction:  compose(reverse,filter_(gt(1)))\n",
      "[5, 4, 5] --> [5, 4, 5] vs [5, 4, 5]\n",
      "Prediction:  compose(reverse,filter_(gt(1)))\n",
      "[1, 5, 8, 0, 9] --> [9, 8, 5] vs [9, 0, 8, 5, 1]\n",
      "compose(reverse,filter_(gt,selected)) not in cfg\n",
      "compose(reverse,filter_(gt,inspectカン忍()叶ep_5之后,以及1、即2[1,0])) not in cfg\n",
      "------------------------------ \n",
      "**Question**\n",
      "-[4, 9, 6, 2] -> []\n",
      "-[0, 1] -> []\n",
      "-[2, 5, 6] -> [] \n",
      "\n",
      "**Response**\n",
      "compose(map_(gt(2)),filter_(gt(2))) \n",
      "\n",
      "**Extracted**\n",
      "compose(map_(gt(2)),filter_(gt(2)))\n",
      "\n",
      "\n",
      "Prediction:  compose(map_(gt(2)),filter_(gt(2)))\n",
      "[4, 9, 6, 2] --> [] vs []\n",
      "Prediction:  compose(map_(gt(2)),filter_(gt(2)))\n",
      "[0, 1] --> [] vs []\n",
      "Prediction:  compose(map_(gt(2)),filter_(gt(2)))\n",
      "[2, 5, 6] --> [] vs []\n",
      "Prediction:  compose(map_(gt(3)),filter_(gt(2)))\n",
      "[4, 9, 6, 2] --> [] vs []\n",
      "Prediction:  compose(map_(gt(3)),filter_(gt(2)))\n",
      "[0, 1] --> [] vs []\n",
      "Prediction:  compose(map_(gt(3)),filter_(gt(2)))\n",
      "[2, 5, 6] --> [] vs []\n",
      "Prediction:  compose(map_(gt(1)),filter_(gt(1)))\n",
      "[4, 9, 6, 2] --> [] vs []\n",
      "Prediction:  compose(map_(gt(1)),filter_(gt(1)))\n",
      "[0, 1] --> [] vs []\n",
      "Prediction:  compose(map_(gt(1)),filter_(gt(1)))\n",
      "[2, 5, 6] --> [] vs []\n",
      "Prediction:  compose(map_(gt(1)),filter_(gt(1)))\n",
      "[4, 9, 6, 2] --> [] vs []\n",
      "Prediction:  compose(map_(gt(1)),filter_(gt(1)))\n",
      "[0, 1] --> [] vs []\n",
      "Prediction:  compose(map_(gt(1)),filter_(gt(1)))\n",
      "[2, 5, 6] --> [] vs []\n",
      "Prediction:  compose(map_(gt(2)),filter_(gt(1)))\n",
      "[4, 9, 6, 2] --> [] vs []\n",
      "Prediction:  compose(map_(gt(2)),filter_(gt(1)))\n",
      "[0, 1] --> [] vs []\n",
      "Prediction:  compose(map_(gt(2)),filter_(gt(1)))\n",
      "[2, 5, 6] --> [] vs []\n",
      "Prediction:  compose(map_(gt(2)),filter_(gt(2)))\n",
      "[4, 9, 6, 2] --> [] vs []\n",
      "Prediction:  compose(map_(gt(2)),filter_(gt(2)))\n",
      "[0, 1] --> [] vs []\n",
      "Prediction:  compose(map_(gt(2)),filter_(gt(2)))\n",
      "[2, 5, 6] --> [] vs []\n",
      "Prediction:  compose(map_(gt(1)),filter_(gt(2)))\n",
      "[4, 9, 6, 2] --> [] vs []\n",
      "Prediction:  compose(map_(gt(1)),filter_(gt(2)))\n",
      "[0, 1] --> [] vs []\n",
      "Prediction:  compose(map_(gt(1)),filter_(gt(2)))\n",
      "[2, 5, 6] --> [] vs []\n",
      "Prediction:  compose(map_(gt(1)),filter_(gt(1)))\n",
      "[4, 9, 6, 2] --> [] vs []\n",
      "Prediction:  compose(map_(gt(1)),filter_(gt(1)))\n",
      "[0, 1] --> [] vs []\n",
      "Prediction:  compose(map_(gt(1)),filter_(gt(1)))\n",
      "[2, 5, 6] --> [] vs []\n",
      "------------------------------ \n",
      "**Question**\n",
      "-[9, 7, 9] -> [7, 9, 9]\n",
      "-[8, 0, 4] -> []\n",
      "-[9, 5] -> [5, 9] \n",
      "\n",
      "**Response**\n",
      "compose(reverse,filter_(gt(4))) \n",
      "\n",
      "**Extracted**\n",
      "compose(reverse,filter_(gt(4)))\n",
      "\n",
      "\n",
      "Prediction:  compose(reverse,filter_(gt(4)))\n",
      "[9, 7, 9] --> [9, 7, 9] vs [7, 9, 9]\n",
      "Prediction:  compose(reverse,filter_(gt(4)))\n",
      "[8, 0, 4] --> [8] vs []\n",
      "Prediction:  compose(reverse,filter_(gt(4)))\n",
      "[9, 5] --> [5, 9] vs [5, 9]\n",
      "Prediction:  compose(sort,filter_(gt(4)))\n",
      "[9, 7, 9] --> [7, 9, 9] vs [7, 9, 9]\n",
      "Prediction:  compose(sort,filter_(gt(4)))\n",
      "[8, 0, 4] --> [8] vs []\n",
      "Prediction:  compose(sort,filter_(gt(4)))\n",
      "[9, 5] --> [5, 9] vs [5, 9]\n",
      "Prediction:  compose(reverse,filter_(gt(4)))\n",
      "[9, 7, 9] --> [9, 7, 9] vs [7, 9, 9]\n",
      "Prediction:  compose(reverse,filter_(gt(4)))\n",
      "[8, 0, 4] --> [8] vs []\n",
      "Prediction:  compose(reverse,filter_(gt(4)))\n",
      "[9, 5] --> [5, 9] vs [5, 9]\n",
      "Prediction:  compose(reverse,filter_(gt(4)))\n",
      "[9, 7, 9] --> [9, 7, 9] vs [7, 9, 9]\n",
      "Prediction:  compose(reverse,filter_(gt(4)))\n",
      "[8, 0, 4] --> [8] vs []\n",
      "Prediction:  compose(reverse,filter_(gt(4)))\n",
      "[9, 5] --> [5, 9] vs [5, 9]\n",
      "Prediction:  compose(reverse,filter_(gt(4)))\n",
      "[9, 7, 9] --> [9, 7, 9] vs [7, 9, 9]\n",
      "Prediction:  compose(reverse,filter_(gt(4)))\n",
      "[8, 0, 4] --> [8] vs []\n",
      "Prediction:  compose(reverse,filter_(gt(4)))\n",
      "[9, 5] --> [5, 9] vs [5, 9]\n",
      "Prediction:  compose(sort,filter_(gt(4)))\n",
      "[9, 7, 9] --> [7, 9, 9] vs [7, 9, 9]\n",
      "Prediction:  compose(sort,filter_(gt(4)))\n",
      "[8, 0, 4] --> [8] vs []\n",
      "Prediction:  compose(sort,filter_(gt(4)))\n",
      "[9, 5] --> [5, 9] vs [5, 9]\n",
      "Prediction:  compose(reverse,filter_(gt(4)))\n",
      "[9, 7, 9] --> [9, 7, 9] vs [7, 9, 9]\n",
      "Prediction:  compose(reverse,filter_(gt(4)))\n",
      "[8, 0, 4] --> [8] vs []\n",
      "Prediction:  compose(reverse,filter_(gt(4)))\n",
      "[9, 5] --> [5, 9] vs [5, 9]\n",
      "Prediction:  compose(reverse,filter_(gt(4)))\n",
      "[9, 7, 9] --> [9, 7, 9] vs [7, 9, 9]\n",
      "Prediction:  compose(reverse,filter_(gt(4)))\n",
      "[8, 0, 4] --> [8] vs []\n",
      "Prediction:  compose(reverse,filter_(gt(4)))\n",
      "[9, 5] --> [5, 9] vs [5, 9]\n",
      "------------------------------ \n",
      "**Question**\n",
      "-[6, 0] -> [8, 2]\n",
      "-[5, 5] -> [7, 7]\n",
      "-[5, 1, 4] -> [7, 3, 6] \n",
      "\n",
      "**Response**\n",
      "里虽然\n",
      "split1 Bowie, girlfriend1\n",
      "8,25,11/ечно现实中和、/,现实中\"1\n",
      "2\"，,\n",
      "2\"481060 (*)(5()112code)(262/atom,5,2) ; (4;: \n",
      "\n",
      "**Extracted**\n",
      "里虽然\n",
      "split1 Bowie, girlfriend1\n",
      "8,25,11/ечно现实中和、/,现实中\"1\n",
      "2\"，,\n",
      "2\"481060 (*)(5()112code)(262/atom,5,2) ; (4;:\n",
      "\n",
      "\n",
      "里虽然\n",
      "split1 Bowie, girlfriend1\n",
      "8,25,11/ечно现实中和、/,现实中\"1\n",
      "2\"，,\n",
      "2\"481060 (*)(5()112code)(262/atom,5,2) ; (4;: not in cfg\n",
      "Prediction:  compose,map_(plus(2)),filter_(gt(1))\n",
      "Prediction:  compose(map_(plus(2)),filter_(gt(1)))\n",
      "[6, 0] --> [8, 2] vs [8, 2]\n",
      "Prediction:  compose(map_(plus(2)),filter_(gt(1)))\n",
      "[5, 5] --> [7, 7] vs [7, 7]\n",
      "Prediction:  compose(map_(plus(2)),filter_(gt(1)))\n",
      "[5, 1, 4] --> [7, 3, 6] vs [7, 3, 6]\n",
      "Prediction:  compose(map_(plus(2)),filter_(gt(1)))\n",
      "[6, 0] --> [8, 2] vs [8, 2]\n",
      "Prediction:  compose(map_(plus(2)),filter_(gt(1)))\n",
      "[5, 5] --> [7, 7] vs [7, 7]\n",
      "Prediction:  compose(map_(plus(2)),filter_(gt(1)))\n",
      "[5, 1, 4] --> [7, 3, 6] vs [7, 3, 6]\n",
      "Prediction:  compose(map_(plus(2)),filter_(gt(1)))\n",
      "[6, 0] --> [8, 2] vs [8, 2]\n",
      "Prediction:  compose(map_(plus(2)),filter_(gt(1)))\n",
      "[5, 5] --> [7, 7] vs [7, 7]\n",
      "Prediction:  compose(map_(plus(2)),filter_(gt(1)))\n",
      "[5, 1, 4] --> [7, 3, 6] vs [7, 3, 6]\n",
      "Prediction:  compose(map_(plus(2)),filter_(gt(1)))\n",
      "[6, 0] --> [8, 2] vs [8, 2]\n",
      "Prediction:  compose(map_(plus(2)),filter_(gt(1)))\n",
      "[5, 5] --> [7, 7] vs [7, 7]\n",
      "Prediction:  compose(map_(plus(2)),filter_(gt(1)))\n",
      "[5, 1, 4] --> [7, 3, 6] vs [7, 3, 6]\n",
      "Prediction:  compose(map_(plus(2)),filter_(gt(1)))\n",
      "[6, 0] --> [8, 2] vs [8, 2]\n",
      "Prediction:  compose(map_(plus(2)),filter_(gt(1)))\n",
      "[5, 5] --> [7, 7] vs [7, 7]\n",
      "Prediction:  compose(map_(plus(2)),filter_(gt(1)))\n",
      "[5, 1, 4] --> [7, 3, 6] vs [7, 3, 6]\n",
      "Prediction:  compose(map_(plus(2)),filter_(gt(1)))\n",
      "[6, 0] --> [8, 2] vs [8, 2]\n",
      "Prediction:  compose(map_(plus(2)),filter_(gt(1)))\n",
      "[5, 5] --> [7, 7] vs [7, 7]\n",
      "Prediction:  compose(map_(plus(2)),filter_(gt(1)))\n",
      "[5, 1, 4] --> [7, 3, 6] vs [7, 3, 6]\n",
      "里虽然\n",
      "split1 Bowie, girlfriend1\n",
      "8,25,11/ечно现实中和、/,现实中\"1\n",
      "2\"，,\n",
      "2\"481060 (*)(5()112code)(262/atom,5,2) ; (4;: not in cfg\n",
      "------------------------------ \n",
      "**Question**\n",
      "-[7, 5, 2, 9, 1] -> [7, 5, 2, 9, 1]\n",
      "-[8, 2, 3] -> [8, 2, 3]\n",
      "-[0, 2] -> [0, 2] \n",
      "\n",
      "**Response**\n",
      "compose(filter_(gt(1)),filter_(gt(1))) \n",
      "\n",
      "**Extracted**\n",
      "compose(filter_(gt(1)),filter_(gt(1)))\n",
      "\n",
      "\n",
      "Prediction:  compose(filter_(gt(1)),filter_(gt(1)))\n",
      "[7, 5, 2, 9, 1] --> [7, 5, 2, 9] vs [7, 5, 2, 9, 1]\n",
      "Prediction:  compose(filter_(gt(1)),filter_(gt(1)))\n",
      "[8, 2, 3] --> [8, 2, 3] vs [8, 2, 3]\n",
      "Prediction:  compose(filter_(gt(1)),filter_(gt(1)))\n",
      "[0, 2] --> [2] vs [0, 2]\n",
      "Prediction:  compose(filter_(gt(1)),filter_(gt(1)))\n",
      "[7, 5, 2, 9, 1] --> [7, 5, 2, 9] vs [7, 5, 2, 9, 1]\n",
      "Prediction:  compose(filter_(gt(1)),filter_(gt(1)))\n",
      "[8, 2, 3] --> [8, 2, 3] vs [8, 2, 3]\n",
      "Prediction:  compose(filter_(gt(1)),filter_(gt(1)))\n",
      "[0, 2] --> [2] vs [0, 2]\n",
      "Prediction:  compose(filter_(gt(1)),filter_(gt(1)))\n",
      "[7, 5, 2, 9, 1] --> [7, 5, 2, 9] vs [7, 5, 2, 9, 1]\n",
      "Prediction:  compose(filter_(gt(1)),filter_(gt(1)))\n",
      "[8, 2, 3] --> [8, 2, 3] vs [8, 2, 3]\n",
      "Prediction:  compose(filter_(gt(1)),filter_(gt(1)))\n",
      "[0, 2] --> [2] vs [0, 2]\n",
      "Prediction:  compose(filter_(gt(1)),filter_(gt(1)))\n",
      "[7, 5, 2, 9, 1] --> [7, 5, 2, 9] vs [7, 5, 2, 9, 1]\n",
      "Prediction:  compose(filter_(gt(1)),filter_(gt(1)))\n",
      "[8, 2, 3] --> [8, 2, 3] vs [8, 2, 3]\n",
      "Prediction:  compose(filter_(gt(1)),filter_(gt(1)))\n",
      "[0, 2] --> [2] vs [0, 2]\n",
      "Prediction:  compose(filter_(gt(1)),filter_(gt(1)))\n",
      "[7, 5, 2, 9, 1] --> [7, 5, 2, 9] vs [7, 5, 2, 9, 1]\n",
      "Prediction:  compose(filter_(gt(1)),filter_(gt(1)))\n",
      "[8, 2, 3] --> [8, 2, 3] vs [8, 2, 3]\n",
      "Prediction:  compose(filter_(gt(1)),filter_(gt(1)))\n",
      "[0, 2] --> [2] vs [0, 2]\n",
      "Prediction:  compose(filter_(gt(1)),filter_(gt(1)))\n",
      "[7, 5, 2, 9, 1] --> [7, 5, 2, 9] vs [7, 5, 2, 9, 1]\n",
      "Prediction:  compose(filter_(gt(1)),filter_(gt(1)))\n",
      "[8, 2, 3] --> [8, 2, 3] vs [8, 2, 3]\n",
      "Prediction:  compose(filter_(gt(1)),filter_(gt(1)))\n",
      "[0, 2] --> [2] vs [0, 2]\n",
      "Prediction:  compose(filter_(gt(1)),filter_(gt(1)))\n",
      "[7, 5, 2, 9, 1] --> [7, 5, 2, 9] vs [7, 5, 2, 9, 1]\n",
      "Prediction:  compose(filter_(gt(1)),filter_(gt(1)))\n",
      "[8, 2, 3] --> [8, 2, 3] vs [8, 2, 3]\n",
      "Prediction:  compose(filter_(gt(1)),filter_(gt(1)))\n",
      "[0, 2] --> [2] vs [0, 2]\n",
      "Prediction:  compose(filter_(gt(1)),filter_(gt(1)))\n",
      "[7, 5, 2, 9, 1] --> [7, 5, 2, 9] vs [7, 5, 2, 9, 1]\n",
      "Prediction:  compose(filter_(gt(1)),filter_(gt(1)))\n",
      "[8, 2, 3] --> [8, 2, 3] vs [8, 2, 3]\n",
      "Prediction:  compose(filter_(gt(1)),filter_(gt(1)))\n",
      "[0, 2] --> [2] vs [0, 2]\n"
     ]
    },
    {
     "ename": "KeyboardInterrupt",
     "evalue": "",
     "output_type": "error",
     "traceback": [
      "\u001b[0;31m---------------------------------------------------------------------------\u001b[0m",
      "\u001b[0;31mKeyboardInterrupt\u001b[0m                         Traceback (most recent call last)",
      "Cell \u001b[0;32mIn[21], line 1\u001b[0m\n\u001b[0;32m----> 1\u001b[0m \u001b[43mtrainer\u001b[49m\u001b[38;5;241;43m.\u001b[39;49m\u001b[43mtrain\u001b[49m\u001b[43m(\u001b[49m\n\u001b[1;32m      2\u001b[0m \u001b[43m    \u001b[49m\u001b[38;5;66;43;03m# comment out if you don't need it!\u001b[39;49;00m\n\u001b[1;32m      3\u001b[0m \u001b[43m    \u001b[49m\u001b[43mresume_from_checkpoint\u001b[49m\u001b[38;5;241;43m=\u001b[39;49m\u001b[38;5;28;43;01mTrue\u001b[39;49;00m\n\u001b[1;32m      4\u001b[0m \u001b[43m)\u001b[49m\n",
      "File \u001b[0;32m~/mambaforge/envs/arccourse/lib/python3.11/site-packages/transformers/trainer.py:2241\u001b[0m, in \u001b[0;36mTrainer.train\u001b[0;34m(self, resume_from_checkpoint, trial, ignore_keys_for_eval, **kwargs)\u001b[0m\n\u001b[1;32m   2239\u001b[0m         hf_hub_utils\u001b[38;5;241m.\u001b[39menable_progress_bars()\n\u001b[1;32m   2240\u001b[0m \u001b[38;5;28;01melse\u001b[39;00m:\n\u001b[0;32m-> 2241\u001b[0m     \u001b[38;5;28;01mreturn\u001b[39;00m \u001b[43minner_training_loop\u001b[49m\u001b[43m(\u001b[49m\n\u001b[1;32m   2242\u001b[0m \u001b[43m        \u001b[49m\u001b[43margs\u001b[49m\u001b[38;5;241;43m=\u001b[39;49m\u001b[43margs\u001b[49m\u001b[43m,\u001b[49m\n\u001b[1;32m   2243\u001b[0m \u001b[43m        \u001b[49m\u001b[43mresume_from_checkpoint\u001b[49m\u001b[38;5;241;43m=\u001b[39;49m\u001b[43mresume_from_checkpoint\u001b[49m\u001b[43m,\u001b[49m\n\u001b[1;32m   2244\u001b[0m \u001b[43m        \u001b[49m\u001b[43mtrial\u001b[49m\u001b[38;5;241;43m=\u001b[39;49m\u001b[43mtrial\u001b[49m\u001b[43m,\u001b[49m\n\u001b[1;32m   2245\u001b[0m \u001b[43m        \u001b[49m\u001b[43mignore_keys_for_eval\u001b[49m\u001b[38;5;241;43m=\u001b[39;49m\u001b[43mignore_keys_for_eval\u001b[49m\u001b[43m,\u001b[49m\n\u001b[1;32m   2246\u001b[0m \u001b[43m    \u001b[49m\u001b[43m)\u001b[49m\n",
      "File \u001b[0;32m<string>:329\u001b[0m, in \u001b[0;36m_fast_inner_training_loop\u001b[0;34m(self, batch_size, args, resume_from_checkpoint, trial, ignore_keys_for_eval)\u001b[0m\n",
      "File \u001b[0;32m<string>:25\u001b[0m, in \u001b[0;36m_unsloth_training_step\u001b[0;34m(self, model, inputs, num_items_in_batch)\u001b[0m\n",
      "File \u001b[0;32m/mnt/c/Users/faust/OneDrive - UvA/teaching/ARC_course/arc-course/labs/unsloth_compiled_cache/UnslothGRPOTrainer.py:849\u001b[0m, in \u001b[0;36m_UnslothGRPOTrainer._prepare_inputs\u001b[0;34m(self, inputs)\u001b[0m\n\u001b[1;32m    846\u001b[0m \u001b[38;5;28;01melse\u001b[39;00m:\n\u001b[1;32m    847\u001b[0m     \u001b[38;5;66;03m# Regular generation path\u001b[39;00m\n\u001b[1;32m    848\u001b[0m     \u001b[38;5;28;01mwith\u001b[39;00m unwrap_model_for_generation(\u001b[38;5;28mself\u001b[39m\u001b[38;5;241m.\u001b[39mmodel, \u001b[38;5;28mself\u001b[39m\u001b[38;5;241m.\u001b[39maccelerator) \u001b[38;5;28;01mas\u001b[39;00m unwrapped_model:\n\u001b[0;32m--> 849\u001b[0m         prompt_completion_ids \u001b[38;5;241m=\u001b[39m \u001b[43munwrapped_model\u001b[49m\u001b[38;5;241;43m.\u001b[39;49m\u001b[43mgenerate\u001b[49m\u001b[43m(\u001b[49m\n\u001b[1;32m    850\u001b[0m \u001b[43m            \u001b[49m\u001b[43mprompt_ids\u001b[49m\u001b[43m,\u001b[49m\u001b[43m \u001b[49m\u001b[43mattention_mask\u001b[49m\u001b[38;5;241;43m=\u001b[39;49m\u001b[43mprompt_mask\u001b[49m\u001b[43m,\u001b[49m\u001b[43m \u001b[49m\u001b[43mgeneration_config\u001b[49m\u001b[38;5;241;43m=\u001b[39;49m\u001b[38;5;28;43mself\u001b[39;49m\u001b[38;5;241;43m.\u001b[39;49m\u001b[43mgeneration_config\u001b[49m\n\u001b[1;32m    851\u001b[0m \u001b[43m        \u001b[49m\u001b[43m)\u001b[49m\n\u001b[1;32m    853\u001b[0m     \u001b[38;5;66;03m# Compute prompt length and extract completion ids\u001b[39;00m\n\u001b[1;32m    854\u001b[0m     prompt_length \u001b[38;5;241m=\u001b[39m prompt_ids\u001b[38;5;241m.\u001b[39msize(\u001b[38;5;241m1\u001b[39m)\n",
      "File \u001b[0;32m~/mambaforge/envs/arccourse/lib/python3.11/site-packages/unsloth/models/rl.py:60\u001b[0m, in \u001b[0;36mPatchRL.<locals>.unsloth_unwrap_model_for_generation.<locals>.generate_with_clone\u001b[0;34m(*args, **kwargs)\u001b[0m\n\u001b[1;32m     59\u001b[0m \u001b[38;5;28;01mdef\u001b[39;00m\u001b[38;5;250m \u001b[39m\u001b[38;5;21mgenerate_with_clone\u001b[39m(\u001b[38;5;241m*\u001b[39margs, \u001b[38;5;241m*\u001b[39m\u001b[38;5;241m*\u001b[39mkwargs):\n\u001b[0;32m---> 60\u001b[0m     out \u001b[38;5;241m=\u001b[39m \u001b[43moriginal_generate\u001b[49m\u001b[43m(\u001b[49m\u001b[38;5;241;43m*\u001b[39;49m\u001b[43margs\u001b[49m\u001b[43m,\u001b[49m\u001b[43m \u001b[49m\u001b[38;5;241;43m*\u001b[39;49m\u001b[38;5;241;43m*\u001b[39;49m\u001b[43mkwargs\u001b[49m\u001b[43m)\u001b[49m\n\u001b[1;32m     61\u001b[0m     \u001b[38;5;28;01mif\u001b[39;00m \u001b[38;5;28misinstance\u001b[39m(out, torch\u001b[38;5;241m.\u001b[39mTensor):\n\u001b[1;32m     62\u001b[0m         \u001b[38;5;28;01mreturn\u001b[39;00m out\u001b[38;5;241m.\u001b[39mclone()\n",
      "File \u001b[0;32m~/mambaforge/envs/arccourse/lib/python3.11/site-packages/torch/utils/_contextlib.py:116\u001b[0m, in \u001b[0;36mcontext_decorator.<locals>.decorate_context\u001b[0;34m(*args, **kwargs)\u001b[0m\n\u001b[1;32m    113\u001b[0m \u001b[38;5;129m@functools\u001b[39m\u001b[38;5;241m.\u001b[39mwraps(func)\n\u001b[1;32m    114\u001b[0m \u001b[38;5;28;01mdef\u001b[39;00m\u001b[38;5;250m \u001b[39m\u001b[38;5;21mdecorate_context\u001b[39m(\u001b[38;5;241m*\u001b[39margs, \u001b[38;5;241m*\u001b[39m\u001b[38;5;241m*\u001b[39mkwargs):\n\u001b[1;32m    115\u001b[0m     \u001b[38;5;28;01mwith\u001b[39;00m ctx_factory():\n\u001b[0;32m--> 116\u001b[0m         \u001b[38;5;28;01mreturn\u001b[39;00m \u001b[43mfunc\u001b[49m\u001b[43m(\u001b[49m\u001b[38;5;241;43m*\u001b[39;49m\u001b[43margs\u001b[49m\u001b[43m,\u001b[49m\u001b[43m \u001b[49m\u001b[38;5;241;43m*\u001b[39;49m\u001b[38;5;241;43m*\u001b[39;49m\u001b[43mkwargs\u001b[49m\u001b[43m)\u001b[49m\n",
      "File \u001b[0;32m~/mambaforge/envs/arccourse/lib/python3.11/site-packages/unsloth/models/llama.py:1574\u001b[0m, in \u001b[0;36m_wrap_fast_inference.<locals>._fast_generate\u001b[0;34m(*args, **kwargs)\u001b[0m\n\u001b[1;32m   1567\u001b[0m \u001b[38;5;66;03m# Set pad token\u001b[39;00m\n\u001b[1;32m   1568\u001b[0m \u001b[38;5;66;03m# old_pad_token_id = getattr(model.config, \"pad_token_id\", None)\u001b[39;00m\n\u001b[1;32m   1569\u001b[0m \u001b[38;5;66;03m# old_eos_token_id = getattr(model.config, \"eos_token_id\", None)\u001b[39;00m\n\u001b[1;32m   1570\u001b[0m \u001b[38;5;66;03m# model.config.pad_token_id = old_eos_token_id\u001b[39;00m\n\u001b[1;32m   1571\u001b[0m \n\u001b[1;32m   1572\u001b[0m \u001b[38;5;66;03m# Autocasted\u001b[39;00m\n\u001b[1;32m   1573\u001b[0m \u001b[38;5;28;01mwith\u001b[39;00m torch\u001b[38;5;241m.\u001b[39mautocast(device_type \u001b[38;5;241m=\u001b[39m device_type, dtype \u001b[38;5;241m=\u001b[39m dtype):\n\u001b[0;32m-> 1574\u001b[0m     output \u001b[38;5;241m=\u001b[39m \u001b[43mgenerate\u001b[49m\u001b[43m(\u001b[49m\u001b[38;5;241;43m*\u001b[39;49m\u001b[43margs\u001b[49m\u001b[43m,\u001b[49m\u001b[43m \u001b[49m\u001b[38;5;241;43m*\u001b[39;49m\u001b[38;5;241;43m*\u001b[39;49m\u001b[43mkwargs\u001b[49m\u001b[43m)\u001b[49m\n\u001b[1;32m   1575\u001b[0m \u001b[38;5;28;01mpass\u001b[39;00m\n\u001b[1;32m   1577\u001b[0m \u001b[38;5;66;03m# Revert\u001b[39;00m\n\u001b[1;32m   1578\u001b[0m \u001b[38;5;66;03m# model.config.pad_token_id = old_pad_token_id\u001b[39;00m\n\u001b[1;32m   1579\u001b[0m \n\u001b[1;32m   1580\u001b[0m \u001b[38;5;66;03m# Unset a flag for generation!\u001b[39;00m\n",
      "File \u001b[0;32m~/mambaforge/envs/arccourse/lib/python3.11/site-packages/peft/peft_model.py:1838\u001b[0m, in \u001b[0;36mPeftModelForCausalLM.generate\u001b[0;34m(self, *args, **kwargs)\u001b[0m\n\u001b[1;32m   1836\u001b[0m     \u001b[38;5;28;01mwith\u001b[39;00m \u001b[38;5;28mself\u001b[39m\u001b[38;5;241m.\u001b[39m_enable_peft_forward_hooks(\u001b[38;5;241m*\u001b[39margs, \u001b[38;5;241m*\u001b[39m\u001b[38;5;241m*\u001b[39mkwargs):\n\u001b[1;32m   1837\u001b[0m         kwargs \u001b[38;5;241m=\u001b[39m {k: v \u001b[38;5;28;01mfor\u001b[39;00m k, v \u001b[38;5;129;01min\u001b[39;00m kwargs\u001b[38;5;241m.\u001b[39mitems() \u001b[38;5;28;01mif\u001b[39;00m k \u001b[38;5;129;01mnot\u001b[39;00m \u001b[38;5;129;01min\u001b[39;00m \u001b[38;5;28mself\u001b[39m\u001b[38;5;241m.\u001b[39mspecial_peft_forward_args}\n\u001b[0;32m-> 1838\u001b[0m         outputs \u001b[38;5;241m=\u001b[39m \u001b[38;5;28;43mself\u001b[39;49m\u001b[38;5;241;43m.\u001b[39;49m\u001b[43mbase_model\u001b[49m\u001b[38;5;241;43m.\u001b[39;49m\u001b[43mgenerate\u001b[49m\u001b[43m(\u001b[49m\u001b[38;5;241;43m*\u001b[39;49m\u001b[43margs\u001b[49m\u001b[43m,\u001b[49m\u001b[43m \u001b[49m\u001b[38;5;241;43m*\u001b[39;49m\u001b[38;5;241;43m*\u001b[39;49m\u001b[43mkwargs\u001b[49m\u001b[43m)\u001b[49m\n\u001b[1;32m   1839\u001b[0m \u001b[38;5;28;01melse\u001b[39;00m:\n\u001b[1;32m   1840\u001b[0m     outputs \u001b[38;5;241m=\u001b[39m \u001b[38;5;28mself\u001b[39m\u001b[38;5;241m.\u001b[39mbase_model\u001b[38;5;241m.\u001b[39mgenerate(\u001b[38;5;241m*\u001b[39m\u001b[38;5;241m*\u001b[39mkwargs)\n",
      "File \u001b[0;32m~/mambaforge/envs/arccourse/lib/python3.11/site-packages/torch/utils/_contextlib.py:116\u001b[0m, in \u001b[0;36mcontext_decorator.<locals>.decorate_context\u001b[0;34m(*args, **kwargs)\u001b[0m\n\u001b[1;32m    113\u001b[0m \u001b[38;5;129m@functools\u001b[39m\u001b[38;5;241m.\u001b[39mwraps(func)\n\u001b[1;32m    114\u001b[0m \u001b[38;5;28;01mdef\u001b[39;00m\u001b[38;5;250m \u001b[39m\u001b[38;5;21mdecorate_context\u001b[39m(\u001b[38;5;241m*\u001b[39margs, \u001b[38;5;241m*\u001b[39m\u001b[38;5;241m*\u001b[39mkwargs):\n\u001b[1;32m    115\u001b[0m     \u001b[38;5;28;01mwith\u001b[39;00m ctx_factory():\n\u001b[0;32m--> 116\u001b[0m         \u001b[38;5;28;01mreturn\u001b[39;00m \u001b[43mfunc\u001b[49m\u001b[43m(\u001b[49m\u001b[38;5;241;43m*\u001b[39;49m\u001b[43margs\u001b[49m\u001b[43m,\u001b[49m\u001b[43m \u001b[49m\u001b[38;5;241;43m*\u001b[39;49m\u001b[38;5;241;43m*\u001b[39;49m\u001b[43mkwargs\u001b[49m\u001b[43m)\u001b[49m\n",
      "File \u001b[0;32m~/mambaforge/envs/arccourse/lib/python3.11/site-packages/transformers/generation/utils.py:2223\u001b[0m, in \u001b[0;36mGenerationMixin.generate\u001b[0;34m(self, inputs, generation_config, logits_processor, stopping_criteria, prefix_allowed_tokens_fn, synced_gpus, assistant_model, streamer, negative_prompt_ids, negative_prompt_attention_mask, **kwargs)\u001b[0m\n\u001b[1;32m   2215\u001b[0m     input_ids, model_kwargs \u001b[38;5;241m=\u001b[39m \u001b[38;5;28mself\u001b[39m\u001b[38;5;241m.\u001b[39m_expand_inputs_for_generation(\n\u001b[1;32m   2216\u001b[0m         input_ids\u001b[38;5;241m=\u001b[39minput_ids,\n\u001b[1;32m   2217\u001b[0m         expand_size\u001b[38;5;241m=\u001b[39mgeneration_config\u001b[38;5;241m.\u001b[39mnum_return_sequences,\n\u001b[1;32m   2218\u001b[0m         is_encoder_decoder\u001b[38;5;241m=\u001b[39m\u001b[38;5;28mself\u001b[39m\u001b[38;5;241m.\u001b[39mconfig\u001b[38;5;241m.\u001b[39mis_encoder_decoder,\n\u001b[1;32m   2219\u001b[0m         \u001b[38;5;241m*\u001b[39m\u001b[38;5;241m*\u001b[39mmodel_kwargs,\n\u001b[1;32m   2220\u001b[0m     )\n\u001b[1;32m   2222\u001b[0m     \u001b[38;5;66;03m# 12. run sample (it degenerates to greedy search when `generation_config.do_sample=False`)\u001b[39;00m\n\u001b[0;32m-> 2223\u001b[0m     result \u001b[38;5;241m=\u001b[39m \u001b[38;5;28;43mself\u001b[39;49m\u001b[38;5;241;43m.\u001b[39;49m\u001b[43m_sample\u001b[49m\u001b[43m(\u001b[49m\n\u001b[1;32m   2224\u001b[0m \u001b[43m        \u001b[49m\u001b[43minput_ids\u001b[49m\u001b[43m,\u001b[49m\n\u001b[1;32m   2225\u001b[0m \u001b[43m        \u001b[49m\u001b[43mlogits_processor\u001b[49m\u001b[38;5;241;43m=\u001b[39;49m\u001b[43mprepared_logits_processor\u001b[49m\u001b[43m,\u001b[49m\n\u001b[1;32m   2226\u001b[0m \u001b[43m        \u001b[49m\u001b[43mstopping_criteria\u001b[49m\u001b[38;5;241;43m=\u001b[39;49m\u001b[43mprepared_stopping_criteria\u001b[49m\u001b[43m,\u001b[49m\n\u001b[1;32m   2227\u001b[0m \u001b[43m        \u001b[49m\u001b[43mgeneration_config\u001b[49m\u001b[38;5;241;43m=\u001b[39;49m\u001b[43mgeneration_config\u001b[49m\u001b[43m,\u001b[49m\n\u001b[1;32m   2228\u001b[0m \u001b[43m        \u001b[49m\u001b[43msynced_gpus\u001b[49m\u001b[38;5;241;43m=\u001b[39;49m\u001b[43msynced_gpus\u001b[49m\u001b[43m,\u001b[49m\n\u001b[1;32m   2229\u001b[0m \u001b[43m        \u001b[49m\u001b[43mstreamer\u001b[49m\u001b[38;5;241;43m=\u001b[39;49m\u001b[43mstreamer\u001b[49m\u001b[43m,\u001b[49m\n\u001b[1;32m   2230\u001b[0m \u001b[43m        \u001b[49m\u001b[38;5;241;43m*\u001b[39;49m\u001b[38;5;241;43m*\u001b[39;49m\u001b[43mmodel_kwargs\u001b[49m\u001b[43m,\u001b[49m\n\u001b[1;32m   2231\u001b[0m \u001b[43m    \u001b[49m\u001b[43m)\u001b[49m\n\u001b[1;32m   2233\u001b[0m \u001b[38;5;28;01melif\u001b[39;00m generation_mode \u001b[38;5;129;01min\u001b[39;00m (GenerationMode\u001b[38;5;241m.\u001b[39mBEAM_SAMPLE, GenerationMode\u001b[38;5;241m.\u001b[39mBEAM_SEARCH):\n\u001b[1;32m   2234\u001b[0m     \u001b[38;5;66;03m# 11. prepare beam search scorer\u001b[39;00m\n\u001b[1;32m   2235\u001b[0m     beam_scorer \u001b[38;5;241m=\u001b[39m BeamSearchScorer(\n\u001b[1;32m   2236\u001b[0m         batch_size\u001b[38;5;241m=\u001b[39mbatch_size,\n\u001b[1;32m   2237\u001b[0m         num_beams\u001b[38;5;241m=\u001b[39mgeneration_config\u001b[38;5;241m.\u001b[39mnum_beams,\n\u001b[0;32m   (...)\u001b[0m\n\u001b[1;32m   2242\u001b[0m         max_length\u001b[38;5;241m=\u001b[39mgeneration_config\u001b[38;5;241m.\u001b[39mmax_length,\n\u001b[1;32m   2243\u001b[0m     )\n",
      "File \u001b[0;32m~/mambaforge/envs/arccourse/lib/python3.11/site-packages/transformers/generation/utils.py:3200\u001b[0m, in \u001b[0;36mGenerationMixin._sample\u001b[0;34m(self, input_ids, logits_processor, stopping_criteria, generation_config, synced_gpus, streamer, **model_kwargs)\u001b[0m\n\u001b[1;32m   3197\u001b[0m         model_forward \u001b[38;5;241m=\u001b[39m \u001b[38;5;28mself\u001b[39m\u001b[38;5;241m.\u001b[39mget_compiled_call(generation_config\u001b[38;5;241m.\u001b[39mcompile_config)\n\u001b[1;32m   3199\u001b[0m is_prefill \u001b[38;5;241m=\u001b[39m \u001b[38;5;28;01mTrue\u001b[39;00m\n\u001b[0;32m-> 3200\u001b[0m \u001b[38;5;28;01mwhile\u001b[39;00m \u001b[38;5;28mself\u001b[39m\u001b[38;5;241m.\u001b[39m_has_unfinished_sequences(\n\u001b[1;32m   3201\u001b[0m     this_peer_finished, synced_gpus, device\u001b[38;5;241m=\u001b[39minput_ids\u001b[38;5;241m.\u001b[39mdevice, cur_len\u001b[38;5;241m=\u001b[39mcur_len, max_length\u001b[38;5;241m=\u001b[39mmax_length\n\u001b[1;32m   3202\u001b[0m ):\n\u001b[1;32m   3203\u001b[0m     \u001b[38;5;66;03m# prepare model inputs\u001b[39;00m\n\u001b[1;32m   3204\u001b[0m     model_inputs \u001b[38;5;241m=\u001b[39m \u001b[38;5;28mself\u001b[39m\u001b[38;5;241m.\u001b[39mprepare_inputs_for_generation(input_ids, \u001b[38;5;241m*\u001b[39m\u001b[38;5;241m*\u001b[39mmodel_kwargs)\n\u001b[1;32m   3206\u001b[0m     \u001b[38;5;66;03m# prepare variable output controls (note: some models won't accept all output controls)\u001b[39;00m\n",
      "\u001b[0;31mKeyboardInterrupt\u001b[0m: "
     ]
    }
   ],
   "source": [
    "trainer.train(\n",
    "    # comment out if you don't need it!\n",
    "    resume_from_checkpoint=True\n",
    ")"
   ]
  },
  {
   "cell_type": "code",
   "execution_count": 22,
   "id": "05c5f00a-d631-4d6c-8360-43ca8e595c23",
   "metadata": {},
   "outputs": [],
   "source": [
    "df_history = pd.DataFrame(trainer.state.log_history)"
   ]
  },
  {
   "cell_type": "markdown",
   "id": "1378cd4b-073b-4c69-9b95-c7aae9069371",
   "metadata": {},
   "source": [
    "We are getting improving, though very slow!"
   ]
  },
  {
   "cell_type": "code",
   "execution_count": 24,
   "id": "c1d28742-03a2-44d1-baa1-f8e5ba55fa33",
   "metadata": {},
   "outputs": [
    {
     "data": {
      "image/png": "[encoded data removed]",
      "text/plain": [
       "<Figure size 1000x500 with 1 Axes>"
      ]
     },
     "metadata": {},
     "output_type": "display_data"
    }
   ],
   "source": [
    "smoothed_rewards = df_history['rewards/direct_lt_correctness_reward_func'].rolling(window=100).mean()\n",
    "\n",
    "# Plotting the raw reward and the trend (smoothed reward)\n",
    "plt.figure(figsize=(10, 5))\n",
    "plt.plot(df_history.index, smoothed_rewards, label=\"Trend (Moving Average)\", color=\"red\", linewidth=2)\n",
    "plt.scatter(df_history.index, df_history['rewards/direct_lt_correctness_reward_func'], s=1)\n",
    "plt.xlabel(\"Episode\")\n",
    "plt.ylabel(\"Reward\")\n",
    "plt.ylim(0,3)\n",
    "plt.legend()\n",
    "plt.show()"
   ]
  },
  {
   "cell_type": "markdown",
   "id": "2a0eb427-73e1-46ce-9fe3-376420c4db49",
   "metadata": {},
   "source": [
    "And now let's check accuracy on the test set again:"
   ]
  },
  {
   "cell_type": "code",
   "execution_count": 27,
   "id": "b9bce30e-59df-4373-b533-f67694c6f706",
   "metadata": {
    "scrolled": true
   },
   "outputs": [],
   "source": [
    "%%capture\n",
    "model.for_inference()"
   ]
  },
  {
   "cell_type": "code",
   "execution_count": 28,
   "id": "f9d6908b-d917-49d9-8d85-64ca6ce6b5f2",
   "metadata": {
    "scrolled": true
   },
   "outputs": [],
   "source": [
    "answer = []\n",
    "for inp in inputs['input_ids']:\n",
    "    text_upto_padding = inp[inp.index(151644)+1:]\n",
    "    sft_test_generation = model.generate(\n",
    "        tensor([text_upto_padding], dtype=torch.int64).to('cuda'),\n",
    "        # attention_mask=inputs['attention_mask'][10][None],\n",
    "        pad_token_id=tokenizer.pad_token_id,\n",
    "        max_new_tokens=128,\n",
    "    )\n",
    "    answer.append(tokenizer.decode(sft_test_generation[0][len(text_upto_padding):],skip_special_tokens=True))"
   ]
  },
  {
   "cell_type": "code",
   "execution_count": 29,
   "id": "d52d7d73-7ff9-4dbd-9f25-05d5b8b83cff",
   "metadata": {},
   "outputs": [
    {
     "data": {
      "text/plain": [
       "'compose(map_(plus(5)),filter_(gt(4)))'"
      ]
     },
     "execution_count": 29,
     "metadata": {},
     "output_type": "execute_result"
    }
   ],
   "source": [
    "answer[0]"
   ]
  },
  {
   "cell_type": "markdown",
   "id": "2405e1e1-f3c1-4fb3-8a1c-d6521893ec22",
   "metadata": {},
   "source": [
    "And let's see how accurate these answers were:"
   ]
  },
  {
   "cell_type": "code",
   "execution_count": 30,
   "id": "ee112170-2458-4f49-a5f5-7686c50f34c2",
   "metadata": {},
   "outputs": [
    {
     "data": {
      "application/vnd.jupyter.widget-view+json": {
       "model_id": "87638890f4d343e8b700c5a8cdbc0288",
       "version_major": 2,
       "version_minor": 0
      },
      "text/plain": [
       "Map:   0%|          | 0/128 [00:00<?, ? examples/s]"
      ]
     },
     "metadata": {},
     "output_type": "display_data"
    }
   ],
   "source": [
    "functions = [eval(a, lt_eval_dict) for a in answer]\n",
    "data['test'] = data['test'].map(check_accuracy, fn_kwargs={'functions':functions}, with_indices=True)"
   ]
  },
  {
   "cell_type": "markdown",
   "id": "19deb9e7-7773-444d-b0d0-9bf6bed26939",
   "metadata": {},
   "source": [
    "Let's look at the average number of correct predictions across the three examples across the dataset. Not good, not terrible:"
   ]
  },
  {
   "cell_type": "code",
   "execution_count": 31,
   "id": "84d14df2-8132-41dc-892a-438cb2853ef0",
   "metadata": {},
   "outputs": [
    {
     "data": {
      "text/plain": [
       "0.7109375"
      ]
     },
     "execution_count": 31,
     "metadata": {},
     "output_type": "execute_result"
    }
   ],
   "source": [
    "np.mean(data['test']['accuracy'])"
   ]
  },
  {
   "cell_type": "markdown",
   "id": "2e2b34b3-37bf-4d70-9dd7-c95388249a6d",
   "metadata": {},
   "source": [
    "Much, much better!"
   ]
  },
  {
   "cell_type": "markdown",
   "id": "f88ff8ab-149c-421a-a134-e24fef97e920",
   "metadata": {},
   "source": [
    "But we can do _even better_, by exploiting the fact that we can check which productions fit out dataset. Let's produce a bunch of options and pick the one that produces the most accurate outputs given the example inputs. First, get the test tokens to generate from"
   ]
  },
  {
   "cell_type": "code",
   "execution_count": 95,
   "id": "b3d0d799-e5d7-4e39-8323-198039111aa1",
   "metadata": {},
   "outputs": [],
   "source": [
    "inputs = tokenizer.apply_chat_template(\n",
    "    data['test']['prompt'],  \n",
    "    # add generation prompt because we want to \n",
    "    # generate a response from the model\n",
    "    add_generation_prompt=True,\n",
    "    tokenize=True,\n",
    "    # return_tensors=\"pt\",\n",
    "    padding=True,\n",
    "    return_dict=True,\n",
    ")"
   ]
  },
  {
   "cell_type": "markdown",
   "id": "c480bc2d-9a53-4cb5-ba55-d589540b654f",
   "metadata": {},
   "source": [
    "Then, generate 32 attempts for each answer (note: there are many other ways to do this! Unfortunately qwen doesn't seem to support beams for now):"
   ]
  },
  {
   "cell_type": "code",
   "execution_count": 174,
   "id": "1f1c9b54-be65-4a4c-8755-c29d652abd8a",
   "metadata": {},
   "outputs": [
    {
     "name": "stdout",
     "output_type": "stream",
     "text": [
      "0 1 2 3 4 5 6 7 8 9 10 11 12 13 14 15 16 17 18 19 20 21 22 23 24 25 26 27 28 29 30 31 32 33 34 35 36 37 38 39 40 41 42 43 44 45 46 47 48 49 50 51 52 53 54 55 56 57 58 59 60 61 62 63 64 65 66 67 68 69 70 71 72 73 74 75 76 77 78 79 80 81 82 83 84 85 86 87 88 89 90 91 92 93 94 95 96 97 98 99 100 101 102 103 104 105 106 107 108 109 110 111 112 113 114 115 116 117 118 119 120 121 122 123 124 125 126 127 "
     ]
    }
   ],
   "source": [
    "answer = []\n",
    "for i, inp in enumerate(inputs['input_ids']):\n",
    "    text_upto_padding = inp[inp.index(151644)+1:]\n",
    "    x = model.generate(\n",
    "        tensor([text_upto_padding], dtype=torch.int64).to('cuda'),\n",
    "        pad_token_id=tokenizer.pad_token_id,\n",
    "        max_new_tokens=64,\n",
    "        num_return_sequences=32,\n",
    "        do_sample=True\n",
    "    )\n",
    "    answer.append(tokenizer.batch_decode(\n",
    "        x,\n",
    "        skip_special_tokens=True\n",
    "    ))\n",
    "    print(i, end=' ')"
   ]
  },
  {
   "cell_type": "code",
   "execution_count": 175,
   "id": "5d2c7ca8-ceaf-45c5-a49a-f25c10397b4e",
   "metadata": {},
   "outputs": [],
   "source": [
    "# cut the prompt tokens\n",
    "fixed_answer = []\n",
    "for a,inp in zip(answer,inputs['input_ids']):\n",
    "    sub = []\n",
    "    for x in a:\n",
    "        sub.append(x[x.index('assistant')+10:])\n",
    "    fixed_answer.append(sub)"
   ]
  },
  {
   "cell_type": "code",
   "execution_count": 176,
   "id": "853067c1-84ad-4726-93f7-9417ef6dcd9e",
   "metadata": {},
   "outputs": [],
   "source": [
    "def check_accuracy_samples(x, indices, functions):    \n",
    "    # initialize with 0 in case no solution was found\n",
    "    utilities = [0]\n",
    "    fs = functions[indices]\n",
    "    for f in fs:\n",
    "        if is_in_lt_CFG(f):\n",
    "            try:\n",
    "                f = eval(f, lt_eval_dict)\n",
    "                # if predictions are perfect, try to minimize length of formula\n",
    "                utilities.append(np.mean([f(inp)==out for inp, out in x['examples']]))\n",
    "            except Exception:\n",
    "                pass\n",
    "    return {'accuracy': max(utilities)}"
   ]
  },
  {
   "cell_type": "code",
   "execution_count": 177,
   "id": "faa502ae-1562-411f-bfed-10ff6a1edfd1",
   "metadata": {},
   "outputs": [
    {
     "data": {
      "application/vnd.jupyter.widget-view+json": {
       "model_id": "bdcc9c4f77274c768b405fd124aedf8b",
       "version_major": 2,
       "version_minor": 0
      },
      "text/plain": [
       "Map:   0%|          | 0/128 [00:00<?, ? examples/s]"
      ]
     },
     "metadata": {},
     "output_type": "display_data"
    }
   ],
   "source": [
    "data['test'] = data['test'].map(check_accuracy_samples, fn_kwargs={'functions':fixed_answer}, with_indices=True)"
   ]
  },
  {
   "cell_type": "markdown",
   "id": "532032e2-6e88-4960-8c89-7e41ace7349b",
   "metadata": {},
   "source": [
    "As it turns out, it doesn't actually help much in this instance:"
   ]
  },
  {
   "cell_type": "code",
   "execution_count": 178,
   "id": "e7cf25da-427f-40c8-81de-a2520ca13806",
   "metadata": {},
   "outputs": [
    {
     "data": {
      "text/plain": [
       "0.7395833333333333"
      ]
     },
     "execution_count": 178,
     "metadata": {},
     "output_type": "execute_result"
    }
   ],
   "source": [
    "np.mean(data['test']['accuracy'])"
   ]
  },
  {
   "cell_type": "markdown",
   "id": "9a424d3c-fc19-4096-be4b-4338fb6ef632",
   "metadata": {},
   "source": [
    "but it does in other cases, especially if you produce a lot of sentences!"
   ]
  },
  {
   "cell_type": "markdown",
   "id": "62eef8ce-3c76-4d93-8350-1d136b0f278d",
   "metadata": {
    "jp-MarkdownHeadingCollapsed": true
   },
   "source": [
    "## With a larger model (on the server)"
   ]
  },
  {
   "attachments": {},
   "cell_type": "markdown",
   "id": "5b87c685-e8f3-4e58-a6e2-f47a669c64c8",
   "metadata": {},
   "source": [
    "I ran the code above with SFT and then GRPO on but starting with Qwen2.5-14B-Instruct-bnb-4bit (the code is in the SLURM folder!), with the only difference that in the GRPO I did not add a penalty for formula length and I trained on a smaller dataset (you can see the parameters in the `SLURM` folder files.)\n",
    "\n",
    "Here is the first and last steps of GRPO, showing the first four (out of 32) generations in the group and their corresponding predictions:\n",
    "\n",
    "__First step__\n",
    "\n",
    "Examples for synthesis:\n",
    "- [4, 8, 7, 3] -> [6]\n",
    "- [8, 1, 4] -> [6]\n",
    "- [8, 5] -> [6] \n",
    "\n",
    "Model predictions:\n",
    "- Prediction:  compose(filter_(gt(4)),map_(minus(2)))\n",
    "    - [4, 8, 7, 3] --> [6, 5] vs [6]\n",
    "    - [8, 1, 4] --> [6] vs [6]\n",
    "    - [8, 5] --> [6, 3] vs [6]\n",
    "- Prediction:  compose(map_(plus(2)),filter_(and_(or_(even,even),even)))\n",
    "    - [4, 8, 7, 3] --> [6, 10] vs [6]\n",
    "    - [8, 1, 4] --> [10, 6] vs [6]\n",
    "    - [8, 5] --> [10] vs [6]\n",
    "- Prediction:  compose(map_(minus(2)),filter_(and_(gt(5),gt(1))))\n",
    "    - [4, 8, 7, 3] --> [6] vs [6]\n",
    "    - [8, 1, 4] --> [6] vs [6]\n",
    "    - [8, 5] --> [6] vs [6]\n",
    "- Prediction:  compose(map_(minus(2)),filter_(or_(gt(5),gt(4))))\n",
    "    - [4, 8, 7, 3] --> [6, 5] vs [6]\n",
    "    - [8, 1, 4] --> [6] vs [6]\n",
    "    - [8, 5] --> [6] vs [6]\n",
    "\n",
    "It produces some right and some wrong programs for this little example.\n",
    "\n",
    "Compare this with the last step:\n",
    "\n",
    "__Last step__\n",
    "\n",
    "Examples for synthesis:\n",
    "- [5, 7] -> [3]\n",
    "- [9, 7, 7, 9] -> [5, 3, 3, 5]\n",
    "- [2, 8, 8] -> [-2, 4, 4]\n",
    "\n",
    "Model predictions:\n",
    "- Prediction:  compose(map_(minus(4)),filter_(or_(or_(even,even),gt(2))))\n",
    "    - [5, 7] --> [3] vs [3]\n",
    "    - [9, 7, 7, 9] --> [5, 3, 3, 5] vs [5, 3, 3, 5]\n",
    "    - [2, 8, 8] --> [-2, 4, 4] vs [-2, 4, 4]\n",
    "- Prediction:  compose(map_(minus(4)),filter_(or_(or_(even,even),gt(2))))\n",
    "    - [5, 7] --> [3] vs [3]\n",
    "    - [9, 7, 7, 9] --> [5, 3, 3, 5] vs [5, 3, 3, 5]\n",
    "    - [2, 8, 8] --> [-2, 4, 4] vs [-2, 4, 4]\n",
    "- Prediction:  compose(map_(minus(4)),filter_(or_(or_(even,even),gt(2))))\n",
    "    - [5, 7] --> [3] vs [3]\n",
    "    - [9, 7, 7, 9] --> [5, 3, 3, 5] vs [5, 3, 3, 5]\n",
    "    - [2, 8, 8] --> [-2, 4, 4] vs [-2, 4, 4]\n",
    "- Prediction:  compose(map_(minus(4)),filter_(or_(or_(even,even),gt(2))))\n",
    "    - [5, 7] --> [3] vs [3]\n",
    "    - [9, 7, 7, 9] --> [5, 3, 3, 5] vs [5, 3, 3, 5]\n",
    "    - [2, 8, 8] --> [-2, 4, 4] vs [-2, 4, 4]\n",
    "\n",
    "Now it is much more confident about the right solution! It has a tendency toward redundant programs,like `or_(even, even)`, probably because it has seen a lot of those during the SFT and it had no reason to get rid of it during the RL, since there wasn't a utility component discouraging longer productions.\n",
    "\n",
    "To get a more systematic idea of the improvement, here is the overall improvement for the correctness reward function:"
   ]
  },
  {
   "cell_type": "code",
   "execution_count": 44,
   "id": "8a77e3fd-de2f-4d08-bc6a-885e701072b9",
   "metadata": {},
   "outputs": [
    {
     "data": {
      "image/png": "[encoded data removed]",
      "text/plain": [
       "<Figure size 1000x500 with 1 Axes>"
      ]
     },
     "metadata": {},
     "output_type": "display_data"
    }
   ],
   "source": [
    "with open('SLURM/trainer_state.json') as jsonfile:\n",
    "    trainerdata = json.load(jsonfile)\n",
    "\n",
    "df_history = pd.DataFrame(trainerdata['log_history'])\n",
    "\n",
    "smoothed_rewards = df_history['rewards/direct_lt_correctness_reward_func'].rolling(window=200).mean()\n",
    "\n",
    "# Plotting the raw reward and the trend (smoothed reward)\n",
    "plt.figure(figsize=(10, 5))\n",
    "plt.plot(df_history.index, smoothed_rewards, label=\"Trend (Moving Average)\", color=\"red\", linewidth=2)\n",
    "plt.xlabel(\"Episode\")\n",
    "plt.ylabel(\"Reward\")\n",
    "plt.ylim(2.4,3)\n",
    "plt.title(\"Reward Trend using Moving Average\")\n",
    "plt.legend()\n",
    "plt.show()"
   ]
  },
  {
   "cell_type": "markdown",
   "id": "2458c963-14dc-4348-9801-950d83fcdcd5",
   "metadata": {},
   "source": [
    "We get a good improvement in accuracy after some RL, and we could probably have kept getting even better results by training longer."
   ]
  },
  {
   "cell_type": "markdown",
   "id": "1df5a68e-cc58-4f8e-9732-1d1c6a1122c7",
   "metadata": {
    "jp-MarkdownHeadingCollapsed": true
   },
   "source": [
    "## Neural transduction"
   ]
  },
  {
   "cell_type": "code",
   "execution_count": 56,
   "id": "e8e9647c-0abb-41bc-9a22-7dfd3ca7e349",
   "metadata": {},
   "outputs": [],
   "source": [
    "from importlib import reload\n",
    "import neural_utilities\n",
    "reload(neural_utilities)\n",
    "from neural_utilities import get_data"
   ]
  },
  {
   "cell_type": "code",
   "execution_count": 28,
   "id": "b061e852-8a2d-4b65-a324-689669a210c7",
   "metadata": {},
   "outputs": [],
   "source": [
    "max_seq_length = 1024 # Can increase for longer reasoning traces\n",
    "lora_rank = 64 # Larger rank = smarter, but slower"
   ]
  },
  {
   "cell_type": "code",
   "execution_count": 29,
   "id": "08340466-43f5-49b0-920d-5400aa3018a3",
   "metadata": {},
   "outputs": [],
   "source": [
    "lt_system_prompt = \"\""
   ]
  },
  {
   "cell_type": "markdown",
   "id": "58b5b48b-520d-4621-b398-85d05e6d8616",
   "metadata": {},
   "source": [
    "Let's start by defining some data that we'll use to train the model:"
   ]
  },
  {
   "cell_type": "code",
   "execution_count": 61,
   "id": "e78af138-0134-48b6-8dad-4d5a13a1910d",
   "metadata": {},
   "outputs": [],
   "source": [
    "# get all sentences up to depth 5\n",
    "sentences_pool = []\n",
    "for i, sent in enumerate(enumerate_full_sentences('T', ltgrammar, max_depth=6)):\n",
    "    sentences_pool.append(sent)\n",
    "    if i==100000:\n",
    "        break"
   ]
  },
  {
   "cell_type": "code",
   "execution_count": 69,
   "id": "810b165d-6323-41fe-817b-6ada26c9a31b",
   "metadata": {},
   "outputs": [
    {
     "data": {
      "application/vnd.jupyter.widget-view+json": {
       "model_id": "52f2533798ad414f9bde0e9eeee3de73",
       "version_major": 2,
       "version_minor": 0
      },
      "text/plain": [
       "Map:   0%|          | 0/100000 [00:00<?, ? examples/s]"
      ]
     },
     "metadata": {},
     "output_type": "display_data"
    }
   ],
   "source": [
    "data = get_data(\n",
    "    ltgrammar, \n",
    "    lt_system_prompt, \n",
    "    eval_dict=lt_eval_dict, \n",
    "    n_tasks=100000, \n",
    "    sentences_pool=sentences_pool,\n",
    "    n_inputs=4,\n",
    "    n_transduction=2\n",
    ")"
   ]
  },
  {
   "cell_type": "markdown",
   "id": "0882738f-fa77-4ee9-8ee5-9425cf011478",
   "metadata": {},
   "source": [
    "Add the \"completion\" column to data which contains the string that the model is supposed to produce for the corresponding examples, containing a format that makes the model happy (we can later use the tokenizer to turn it into a properly formatted input for the model):"
   ]
  },
  {
   "cell_type": "code",
   "execution_count": 101,
   "id": "4d2d65ab-bd54-45cf-8271-eeefb9bd43ee",
   "metadata": {},
   "outputs": [
    {
     "data": {
      "application/vnd.jupyter.widget-view+json": {
       "model_id": "5fa0f3c322b4415c9053408c18a61bcc",
       "version_major": 2,
       "version_minor": 0
      },
      "text/plain": [
       "Map:   0%|          | 0/65536 [00:00<?, ? examples/s]"
      ]
     },
     "metadata": {},
     "output_type": "display_data"
    },
    {
     "data": {
      "application/vnd.jupyter.widget-view+json": {
       "model_id": "75a557c3501842babc2ea31f95bc0d86",
       "version_major": 2,
       "version_minor": 0
      },
      "text/plain": [
       "Map:   0%|          | 0/128 [00:00<?, ? examples/s]"
      ]
     },
     "metadata": {},
     "output_type": "display_data"
    },
    {
     "data": {
      "application/vnd.jupyter.widget-view+json": {
       "model_id": "6b2458fa9bd24c8a9a0b4149b1b098f6",
       "version_major": 2,
       "version_minor": 0
      },
      "text/plain": [
       "Map:   0%|          | 0/128 [00:00<?, ? examples/s]"
      ]
     },
     "metadata": {},
     "output_type": "display_data"
    }
   ],
   "source": [
    "data = data.map(lambda x: {\n",
    "    'completion': [{'content': ''.join(['\\n-'+str(o) for _,o in x['answer_transduction']]), 'role': 'assistant'}], \n",
    "})"
   ]
  },
  {
   "cell_type": "code",
   "execution_count": null,
   "id": "46c354c4-ddb9-4618-8852-74c21824043b",
   "metadata": {},
   "outputs": [],
   "source": [
    "# 90% train, 10% test + validation\n",
    "train_testvalid = data.train_test_split(train_size=2**16, test_size=2* 2**7)\n",
    "# Split the 10% test + valid in half test, half valid\n",
    "test_valid = train_testvalid['test'].train_test_split(test_size=0.5)\n",
    "# gather everyone if you want to have a single DatasetDict\n",
    "data = DatasetDict({\n",
    "    'train': train_testvalid['train'],\n",
    "    'test': test_valid['test'],\n",
    "    'valid': test_valid['train']})"
   ]
  },
  {
   "cell_type": "code",
   "execution_count": 98,
   "id": "e6ac48ec-c0bb-4ad3-84ec-e733c11b4843",
   "metadata": {},
   "outputs": [
    {
     "data": {
      "text/plain": [
       "DatasetDict({\n",
       "    train: Dataset({\n",
       "        features: ['sentence', 'examples', 'task', 'answer_transduction', 'prompt', 'completion'],\n",
       "        num_rows: 65536\n",
       "    })\n",
       "    test: Dataset({\n",
       "        features: ['sentence', 'examples', 'task', 'answer_transduction', 'prompt', 'completion'],\n",
       "        num_rows: 128\n",
       "    })\n",
       "    valid: Dataset({\n",
       "        features: ['sentence', 'examples', 'task', 'answer_transduction', 'prompt', 'completion'],\n",
       "        num_rows: 128\n",
       "    })\n",
       "})"
      ]
     },
     "execution_count": 98,
     "metadata": {},
     "output_type": "execute_result"
    }
   ],
   "source": [
    "data"
   ]
  },
  {
   "cell_type": "markdown",
   "id": "e15118f7-ac1a-4ae3-91b8-cd31f6f60cd4",
   "metadata": {},
   "source": [
    "Let's get the model:"
   ]
  },
  {
   "cell_type": "code",
   "execution_count": 75,
   "id": "dce21891-c8d2-46e2-b052-d5ee6df12fe3",
   "metadata": {},
   "outputs": [
    {
     "name": "stdout",
     "output_type": "stream",
     "text": [
      "==((====))==  Unsloth 2025.2.12: Fast Qwen2 patching. Transformers: 4.49.0.\n",
      "   \\\\   /|    GPU: NVIDIA GeForce RTX 3050 Ti Laptop GPU. Max memory: 4.0 GB. Platform: Linux.\n",
      "O^O/ \\_/ \\    Torch: 2.5.1+cu124. CUDA: 8.6. CUDA Toolkit: 12.4. Triton: 3.1.0\n",
      "\\        /    Bfloat16 = TRUE. FA [Xformers = 0.0.28.post3. FA2 = False]\n",
      " \"-____-\"     Free Apache license: http://github.com/unslothai/unsloth\n",
      "Unsloth: Fast downloading is enabled - ignore downloading bars which are red colored!\n",
      "Unsloth: vLLM loading unsloth/qwen2.5-0.5b-instruct-unsloth-bnb-4bit with actual GPU utilization = 40.19%\n",
      "Unsloth: Your GPU has CUDA compute capability 8.6 with VRAM = 4.0 GB.\n",
      "Unsloth: Using conservativeness = 1.0. Chunked prefill tokens = 1024. Num Sequences = 128.\n",
      "Unsloth: vLLM's KV Cache can use up to 1.08 GB. Also swap space = 1 GB.\n",
      "INFO 03-14 16:51:40 config.py:542] This model supports multiple tasks: {'score', 'classify', 'reward', 'generate', 'embed'}. Defaulting to 'generate'.\n",
      "Unsloth: vLLM Bitsandbytes config using kwargs = {'load_in_8bit': False, 'load_in_4bit': True, 'bnb_4bit_compute_dtype': 'bfloat16', 'bnb_4bit_quant_storage': 'uint8', 'bnb_4bit_quant_type': 'nf4', 'bnb_4bit_use_double_quant': True, 'llm_int8_enable_fp32_cpu_offload': False, 'llm_int8_has_fp16_weight': False, 'llm_int8_skip_modules': ['lm_head', 'multi_modal_projector', 'merger', 'modality_projection', 'model.layers.0.self_attn', 'model.layers.0.mlp', 'model.layers.2.mlp', 'model.layers.3.mlp', 'model.layers.21.mlp', 'model.layers.0.self_attn.q_proj'], 'llm_int8_threshold': 6.0}\n",
      "INFO 03-14 16:51:41 llm_engine.py:234] Initializing a V0 LLM engine (v0.7.2) with config: model='unsloth/qwen2.5-0.5b-instruct-unsloth-bnb-4bit', speculative_config=None, tokenizer='unsloth/qwen2.5-0.5b-instruct-unsloth-bnb-4bit', skip_tokenizer_init=False, tokenizer_mode=auto, revision=None, override_neuron_config=None, tokenizer_revision=None, trust_remote_code=False, dtype=torch.bfloat16, max_seq_len=1024, download_dir=None, load_format=LoadFormat.BITSANDBYTES, tensor_parallel_size=1, pipeline_parallel_size=1, disable_custom_all_reduce=False, quantization=bitsandbytes, enforce_eager=False, kv_cache_dtype=auto,  device_config=cuda:0, decoding_config=DecodingConfig(guided_decoding_backend='xgrammar'), observability_config=ObservabilityConfig(otlp_traces_endpoint=None, collect_model_forward_time=False, collect_model_execute_time=False), seed=0, served_model_name=unsloth/qwen2.5-0.5b-instruct-unsloth-bnb-4bit, num_scheduler_steps=1, multi_step_stream_outputs=True, enable_prefix_caching=True, chunked_prefill_enabled=False, use_async_output_proc=True, disable_mm_preprocessor_cache=False, mm_processor_kwargs=None, pooler_config=None, compilation_config={\"level\":0,\"splitting_ops\":[],\"compile_sizes\":[],\"cudagraph_capture_sizes\":[128,120,112,104,96,88,80,72,64,56,48,40,32,24,16,8,4,2,1],\"max_capture_size\":128}, use_cached_outputs=False, \n",
      "WARNING 03-14 16:51:41 interface.py:284] Using 'pin_memory=False' as WSL is detected. This may slow down the performance.\n",
      "INFO 03-14 16:51:41 cuda.py:230] Using Flash Attention backend.\n",
      "INFO 03-14 16:51:42 model_runner.py:1110] Starting to load model unsloth/qwen2.5-0.5b-instruct-unsloth-bnb-4bit...\n"
     ]
    },
    {
     "name": "stderr",
     "output_type": "stream",
     "text": [
      "[W314 16:51:42.352188826 CUDAAllocatorConfig.h:28] Warning: expandable_segments not supported on this platform (function operator())\n"
     ]
    },
    {
     "name": "stdout",
     "output_type": "stream",
     "text": [
      "INFO 03-14 16:51:42 loader.py:1102] Loading weights with BitsAndBytes quantization.  May take a while ...\n",
      "INFO 03-14 16:51:43 weight_utils.py:252] Using model weights format ['*.safetensors']\n"
     ]
    },
    {
     "data": {
      "application/vnd.jupyter.widget-view+json": {
       "model_id": "8a60b76555674f7494632c9c9e269eeb",
       "version_major": 2,
       "version_minor": 0
      },
      "text/plain": [
       "Loading safetensors checkpoint shards:   0% Completed | 0/1 [00:00<?, ?it/s]\n"
      ]
     },
     "metadata": {},
     "output_type": "display_data"
    },
    {
     "data": {
      "application/vnd.jupyter.widget-view+json": {
       "model_id": "cb8efaff455547f2b301f80266984d46",
       "version_major": 2,
       "version_minor": 0
      },
      "text/plain": [
       "Loading safetensors checkpoint shards:   0% Completed | 0/1 [00:00<?, ?it/s]\n"
      ]
     },
     "metadata": {},
     "output_type": "display_data"
    },
    {
     "name": "stdout",
     "output_type": "stream",
     "text": [
      "INFO 03-14 16:51:44 model_runner.py:1115] Loading model weights took 0.5090 GB\n",
      "INFO 03-14 16:51:44 punica_selector.py:18] Using PunicaWrapperGPU.\n",
      "INFO 03-14 16:51:48 worker.py:267] Memory profiling takes 2.86 seconds\n",
      "INFO 03-14 16:51:48 worker.py:267] the current vLLM instance can use total_gpu_memory (4.00GiB) x gpu_memory_utilization (0.40) = 1.61GiB\n",
      "INFO 03-14 16:51:48 worker.py:267] model weights take 0.51GiB; non_torch_memory takes 0.03GiB; PyTorch activation peak memory takes 0.70GiB; the rest of the memory reserved for KV Cache is 0.37GiB.\n",
      "INFO 03-14 16:51:48 executor_base.py:110] # CUDA blocks: 2034, # CPU blocks: 5461\n",
      "INFO 03-14 16:51:48 executor_base.py:115] Maximum concurrency for 1024 tokens per request: 31.78x\n",
      "INFO 03-14 16:51:49 model_runner.py:1434] Capturing cudagraphs for decoding. This may lead to unexpected consequences if the model is not static. To run the model in eager mode, set 'enforce_eager=True' or use '--enforce-eager' in the CLI. If out-of-memory error occurs during cudagraph capture, consider decreasing `gpu_memory_utilization` or switching to eager mode. You can also reduce the `max_num_seqs` as needed to decrease memory usage.\n"
     ]
    },
    {
     "name": "stderr",
     "output_type": "stream",
     "text": [
      "Capturing CUDA graph shapes: 100%|███████████████████████████████████████████████████████████████████████████████████████████████| 19/19 [00:18<00:00,  1.01it/s]"
     ]
    },
    {
     "name": "stdout",
     "output_type": "stream",
     "text": [
      "INFO 03-14 16:52:07 model_runner.py:1562] Graph capturing finished in 19 secs, took 0.30 GiB\n",
      "INFO 03-14 16:52:07 llm_engine.py:431] init engine (profile, create kv cache, warmup model) took 23.04 seconds\n"
     ]
    },
    {
     "name": "stderr",
     "output_type": "stream",
     "text": [
      "\n",
      "Unsloth 2025.2.12 patched 24 layers with 24 QKV layers, 24 O layers and 24 MLP layers.\n"
     ]
    }
   ],
   "source": [
    "model, tokenizer = FastLanguageModel.from_pretrained(\n",
    "    model_name=\"Qwen/Qwen2.5-0.5B-Instruct\",\n",
    "    max_seq_length=max_seq_length,\n",
    "    # False for LoRA 16bit\n",
    "    load_in_4bit=True, \n",
    "    # Enable vLLM fast inference\n",
    "    fast_inference=True, \n",
    "    max_lora_rank=lora_rank,\n",
    "    # Reduce if out of memory\n",
    "    gpu_memory_utilization=0.5, \n",
    ")\n",
    "\n",
    "# get the model with the lora adapters on top\n",
    "model = FastLanguageModel.get_peft_model(\n",
    "    model,\n",
    "    # Choose any number > 0 ! Suggested 8, 16, 32, 64, 128\n",
    "    r=lora_rank, \n",
    "    # Which parts of the model are we gonna train?\n",
    "    target_modules=[\n",
    "        \"q_proj\", \n",
    "        \"k_proj\", \n",
    "        \"v_proj\", \n",
    "        \"o_proj\",\n",
    "        \"gate_proj\", \n",
    "        \"up_proj\", \n",
    "        \"down_proj\",\n",
    "    ], \n",
    "    lora_alpha=lora_rank,\n",
    "    # Enable long context finetuning\n",
    "    use_gradient_checkpointing = \"unsloth\", \n",
    "    random_state=3407,\n",
    ")"
   ]
  },
  {
   "cell_type": "markdown",
   "id": "1f3443d3-95d3-4622-9f1c-c213d8dcb70d",
   "metadata": {},
   "source": [
    "Now that we have a model we can apply the model's chat template to the datapoint we are using as a vibe check:"
   ]
  },
  {
   "cell_type": "code",
   "execution_count": 102,
   "id": "76e25a86-37c0-4640-8c94-eb2d17f49078",
   "metadata": {},
   "outputs": [],
   "source": [
    "d = data['test'][1]"
   ]
  },
  {
   "cell_type": "code",
   "execution_count": 103,
   "id": "7ad28afd-4d25-43b7-831d-e16d9ce8bd5c",
   "metadata": {},
   "outputs": [
    {
     "name": "stdout",
     "output_type": "stream",
     "text": [
      "{'answer_transduction': [[[2, 5], [2]], [[2, 1, 3], [2]]],\n",
      " 'completion': [{'content': '\\n-[2]\\n-[2]', 'role': 'assistant'}],\n",
      " 'examples': [[[4, 8, 3, 0, 0], [0, 0, 8, 4]],\n",
      "              [[4, 5], [4]],\n",
      "              [[2, 0, 8, 8, 2], [2, 8, 8, 0, 2]],\n",
      "              [[4, 3, 7, 1, 1], [7, 4]]],\n",
      " 'prompt': [{'content': '', 'role': 'system'},\n",
      "            {'content': '-[4, 8, 3, 0, 0] -> [0, 0, 8, 4]\\n'\n",
      "                        '-[4, 5] -> [4]\\n'\n",
      "                        '-[2, 0, 8, 8, 2] -> [2, 8, 8, 0, 2]\\n'\n",
      "                        '-[4, 3, 7, 1, 1] -> [7, 4]\\n'\n",
      "                        '-[2, 5] -> ?\\n'\n",
      "                        '-[2, 1, 3] -> ?',\n",
      "             'role': 'user'}],\n",
      " 'sentence': 'compose(reverse,filter_(and_(or_(even,gt(5)),or_(gt(5),even))))',\n",
      " 'task': '-[4, 8, 3, 0, 0] -> [0, 0, 8, 4]\\n'\n",
      "         '-[4, 5] -> [4]\\n'\n",
      "         '-[2, 0, 8, 8, 2] -> [2, 8, 8, 0, 2]\\n'\n",
      "         '-[4, 3, 7, 1, 1] -> [7, 4]\\n'\n",
      "         '-[2, 5] -> ?\\n'\n",
      "         '-[2, 1, 3] -> ?'}\n"
     ]
    }
   ],
   "source": [
    "pprint(d)"
   ]
  },
  {
   "cell_type": "code",
   "execution_count": null,
   "id": "fb022567-9151-42f2-ab7c-f9a0608b9dc2",
   "metadata": {},
   "outputs": [],
   "source": [
    "inputs = tokenizer.apply_chat_template(\n",
    "    d,  \n",
    "    # add generation from because we want to \n",
    "    # generate a response from the model\n",
    "    add_generation_prompt=True,\n",
    "    tokenize=True,\n",
    "    return_tensors=\"pt\",\n",
    "    # return_dict=True,\n",
    ").to('cuda')"
   ]
  },
  {
   "cell_type": "markdown",
   "id": "4e1686f8-c9e7-4a83-a351-1cfbed8ace8f",
   "metadata": {},
   "source": [
    "Let's start by getting a sense of what the base model produced for our task:"
   ]
  },
  {
   "cell_type": "code",
   "execution_count": 81,
   "id": "2fb44a53-11ed-4d78-953f-bd5467a1fb51",
   "metadata": {},
   "outputs": [
    {
     "name": "stderr",
     "output_type": "stream",
     "text": [
      "The attention mask is not set and cannot be inferred from input because pad token is same as eos token. As a consequence, you may observe unexpected behavior. Please pass your input's `attention_mask` to obtain reliable results.\n"
     ]
    },
    {
     "name": "stdout",
     "output_type": "stream",
     "text": [
      "<|im_start|>system\n",
      "<|im_end|>\n",
      "<|im_start|>user\n",
      "-[4, 8, 3, 0, 0] -> [0, 0, 8, 4]\n",
      "-[4, 5] -> [4]\n",
      "-[2, 0, 8, 8, 2] -> [2, 8, 8, 0, 2]\n",
      "-[4, 3, 7, 1, 1] -> [7, 4]\n",
      "-[2, 5] -> ?\n",
      "-[2, 1, 3] -> ?<|im_end|>\n",
      "<|im_start|>assistant\n",
      "It seems like you're working with a list of integers and you need to perform some operations on it. Let's go through each operation step by step.\n",
      "\n",
      "### Operation 1: [4, 8, 3, 0, 0] -> [0, 0, 8, 4]\n",
      "- The first operation is to convert the list to a list of integers.\n",
      "- The list is [4, 8, 3, 0, 0].\n",
      "- Converting it to a list of integers: `[4, 8, 3, 0, 0]`.\n",
      "\n",
      "### Operation 2: [4, 5] -> [4]\n",
      "- The second operation is to convert the list to a list of integers.\n",
      "- The list is [4, 5].\n",
      "- Converting it to a list of integers: `[4, 5]`.\n",
      "\n",
      "### Operation 3: [2, 0, 8, 8, 2] -> [2, 8, 8, 0, 2]\n",
      "- The third operation is to convert the list to a list of integers.\n",
      "- The list is [2, 0, 8, 8, 2].\n",
      "- Converting it to a list of integers: `[2, 0, 8, 8, 2]`.\n",
      "\n",
      "### Operation 4: [4, 3, 7, 1, 1] -> [7, 4]\n",
      "- The fourth operation is to convert the list to a list of integers.\n",
      "- The list is [4, 3, 7, 1, 1].\n",
      "- Converting it to a list of integers: `[4, 3, 7, 1, 1]`.\n",
      "\n",
      "### Operation 5: [2, 5] -> ?\n",
      "- The fifth operation is to convert the list to a list of integers.\n",
      "- The list is [2, 5].\n",
      "- Converting it to a list of integers: `[2, 5]`.\n",
      "\n",
      "### Operation 6: [2, 1, 3] -> ?\n",
      "- The sixth operation is to convert the list to a list of integers.\n",
      "- The list is [2, 1, 3].\n",
      "- Converting it to a list of integers: `[2, 1, 3]`.\n",
      "\n",
      "### Operation 7: [2, 1, 3] -> ?\n",
      "- The seventh operation is to convert the list to a list of\n"
     ]
    }
   ],
   "source": [
    "FastLanguageModel.for_inference(model)\n",
    "text_streamer = TextStreamer(tokenizer)\n",
    "_ = model.generate(\n",
    "    inputs, \n",
    "    streamer=text_streamer, \n",
    "    max_new_tokens=512,\n",
    ")"
   ]
  },
  {
   "cell_type": "markdown",
   "id": "7a5ef517-4782-4da0-b666-06b37779f343",
   "metadata": {},
   "source": [
    "This looks nothing like what we need, of course: we haven't even told the model what kind of answer we are expecting."
   ]
  },
  {
   "cell_type": "code",
   "execution_count": 82,
   "id": "bb9bf9b3-272d-4715-b9de-7a8800eb00db",
   "metadata": {},
   "outputs": [],
   "source": [
    "%%capture\n",
    "FastLanguageModel.for_training(model)"
   ]
  },
  {
   "cell_type": "markdown",
   "id": "cb197689-2255-43c1-b4aa-55aa7ce03470",
   "metadata": {},
   "source": [
    "So just like we did above, we can fine-tune the model to give the kind of response we want. \n",
    "\n",
    "Let's do supervised fine tuning on the model:"
   ]
  },
  {
   "cell_type": "code",
   "execution_count": 106,
   "id": "135bf84c-f07d-4585-8013-6e1933178985",
   "metadata": {},
   "outputs": [
    {
     "data": {
      "application/vnd.jupyter.widget-view+json": {
       "model_id": "e0690f469b954005a85e214381ab3dc0",
       "version_major": 2,
       "version_minor": 0
      },
      "text/plain": [
       "Map:   0%|          | 0/65536 [00:00<?, ? examples/s]"
      ]
     },
     "metadata": {},
     "output_type": "display_data"
    },
    {
     "data": {
      "application/vnd.jupyter.widget-view+json": {
       "model_id": "59b0d05b27da4ee7ad918f133b40d51c",
       "version_major": 2,
       "version_minor": 0
      },
      "text/plain": [
       "Converting train dataset to ChatML (num_proc=2):   0%|          | 0/65536 [00:00<?, ? examples/s]"
      ]
     },
     "metadata": {},
     "output_type": "display_data"
    },
    {
     "data": {
      "application/vnd.jupyter.widget-view+json": {
       "model_id": "a28a6d3dea1247db87fde490abb608ef",
       "version_major": 2,
       "version_minor": 0
      },
      "text/plain": [
       "Applying chat template to train dataset (num_proc=2):   0%|          | 0/65536 [00:00<?, ? examples/s]"
      ]
     },
     "metadata": {},
     "output_type": "display_data"
    },
    {
     "data": {
      "application/vnd.jupyter.widget-view+json": {
       "model_id": "7c6c37f5072a4f928a06de97327d23eb",
       "version_major": 2,
       "version_minor": 0
      },
      "text/plain": [
       "Tokenizing train dataset (num_proc=2):   0%|          | 0/65536 [00:00<?, ? examples/s]"
      ]
     },
     "metadata": {},
     "output_type": "display_data"
    },
    {
     "data": {
      "application/vnd.jupyter.widget-view+json": {
       "model_id": "04e30179892d4de9bf421b6d1c0fece1",
       "version_major": 2,
       "version_minor": 0
      },
      "text/plain": [
       "Packing train dataset (num_proc=2):   0%|          | 0/65536 [00:00<?, ? examples/s]"
      ]
     },
     "metadata": {},
     "output_type": "display_data"
    },
    {
     "data": {
      "application/vnd.jupyter.widget-view+json": {
       "model_id": "a3802bf2918e4aa1a47449403cf4c5c3",
       "version_major": 2,
       "version_minor": 0
      },
      "text/plain": [
       "Map:   0%|          | 0/128 [00:00<?, ? examples/s]"
      ]
     },
     "metadata": {},
     "output_type": "display_data"
    },
    {
     "data": {
      "application/vnd.jupyter.widget-view+json": {
       "model_id": "6f42280b6c4743a787bb9c26d283d33a",
       "version_major": 2,
       "version_minor": 0
      },
      "text/plain": [
       "Converting eval dataset to ChatML (num_proc=2):   0%|          | 0/128 [00:00<?, ? examples/s]"
      ]
     },
     "metadata": {},
     "output_type": "display_data"
    },
    {
     "data": {
      "application/vnd.jupyter.widget-view+json": {
       "model_id": "0b474fccc46c468cb5c431ed21759697",
       "version_major": 2,
       "version_minor": 0
      },
      "text/plain": [
       "Applying chat template to eval dataset (num_proc=2):   0%|          | 0/128 [00:00<?, ? examples/s]"
      ]
     },
     "metadata": {},
     "output_type": "display_data"
    },
    {
     "data": {
      "application/vnd.jupyter.widget-view+json": {
       "model_id": "ee237ec6f33240c2944073d853fde6e0",
       "version_major": 2,
       "version_minor": 0
      },
      "text/plain": [
       "Tokenizing eval dataset (num_proc=2):   0%|          | 0/128 [00:00<?, ? examples/s]"
      ]
     },
     "metadata": {},
     "output_type": "display_data"
    },
    {
     "data": {
      "application/vnd.jupyter.widget-view+json": {
       "model_id": "3618cf08d27d40a4a9af4e3f53f123b6",
       "version_major": 2,
       "version_minor": 0
      },
      "text/plain": [
       "Packing eval dataset (num_proc=2):   0%|          | 0/128 [00:00<?, ? examples/s]"
      ]
     },
     "metadata": {},
     "output_type": "display_data"
    },
    {
     "name": "stderr",
     "output_type": "stream",
     "text": [
      "No label_names provided for model class `PeftModelForCausalLM`. Since `PeftModel` hides base models input arguments, if label_names is not given, label_names can't be set automatically within `Trainer`. Note that empty label_names list will be used instead.\n"
     ]
    }
   ],
   "source": [
    "trainer = SFTTrainer(\n",
    "    model=model,\n",
    "    tokenizer=tokenizer,\n",
    "    train_dataset=data['train'],\n",
    "    eval_dataset=data['test'],\n",
    "    dataset_text_field=\"text\",\n",
    "    max_seq_length=max_seq_length,\n",
    "    dataset_num_proc=2,\n",
    "    packing=True,\n",
    "    args=TrainingArguments(\n",
    "        learning_rate=3e-5,\n",
    "        lr_scheduler_type=\"linear\",\n",
    "        per_device_train_batch_size=8,\n",
    "        gradient_accumulation_steps=2,\n",
    "        # validation accuracy was going up again when training for too long!\n",
    "        num_train_epochs=0.4,\n",
    "        fp16=not is_bfloat16_supported(),\n",
    "        bf16=is_bfloat16_supported(),\n",
    "        logging_steps=1,\n",
    "        optim=\"adamw_8bit\",\n",
    "        weight_decay=0.05,\n",
    "        warmup_steps=10,\n",
    "        output_dir=\"lt_SFT_noreasoning\",\n",
    "        seed=0,\n",
    "        save_steps=100,\n",
    "        # feedback from evaluation set\n",
    "        # from: https://github.com/unslothai/unsloth/wiki#evaluation-loop---also-oom-or-crashing\n",
    "        fp16_full_eval=True,\n",
    "        per_device_eval_batch_size=2,\n",
    "        eval_accumulation_steps=4,\n",
    "        eval_strategy=\"steps\",\n",
    "        eval_steps=10,\n",
    "    ),\n",
    ")"
   ]
  },
  {
   "cell_type": "markdown",
   "id": "be84bc44-f59c-4f49-b08b-b8de3ad5a454",
   "metadata": {},
   "source": [
    "And let's train the model:"
   ]
  },
  {
   "cell_type": "code",
   "execution_count": 107,
   "id": "73776376-1e7f-44ae-84b2-78ee7adaaff1",
   "metadata": {},
   "outputs": [
    {
     "name": "stderr",
     "output_type": "stream",
     "text": [
      "==((====))==  Unsloth - 2x faster free finetuning | Num GPUs = 1\n",
      "   \\\\   /|    Num examples = 7,670 | Num Epochs = 1\n",
      "O^O/ \\_/ \\    Batch size per device = 8 | Gradient Accumulation steps = 2\n",
      "\\        /    Total batch size = 16 | Total steps = 192\n",
      " \"-____-\"     Number of trainable parameters = 35,192,832\n"
     ]
    },
    {
     "data": {
      "text/html": [
       "\n",
       "    <div>\n",
       "      \n",
       "      <progress value='192' max='192' style='width:300px; height:20px; vertical-align: middle;'></progress>\n",
       "      [192/192 27:51, Epoch 0/1]\n",
       "    </div>\n",
       "    <table border=\"1\" class=\"dataframe\">\n",
       "  <thead>\n",
       " <tr style=\"text-align: left;\">\n",
       "      <th>Step</th>\n",
       "      <th>Training Loss</th>\n",
       "      <th>Validation Loss</th>\n",
       "    </tr>\n",
       "  </thead>\n",
       "  <tbody>\n",
       "    <tr>\n",
       "      <td>10</td>\n",
       "      <td>0.891400</td>\n",
       "      <td>1.672366</td>\n",
       "    </tr>\n",
       "    <tr>\n",
       "      <td>20</td>\n",
       "      <td>0.726400</td>\n",
       "      <td>1.525921</td>\n",
       "    </tr>\n",
       "    <tr>\n",
       "      <td>30</td>\n",
       "      <td>0.669800</td>\n",
       "      <td>1.422583</td>\n",
       "    </tr>\n",
       "    <tr>\n",
       "      <td>40</td>\n",
       "      <td>0.620600</td>\n",
       "      <td>1.368196</td>\n",
       "    </tr>\n",
       "    <tr>\n",
       "      <td>50</td>\n",
       "      <td>0.587300</td>\n",
       "      <td>1.344571</td>\n",
       "    </tr>\n",
       "    <tr>\n",
       "      <td>60</td>\n",
       "      <td>0.588500</td>\n",
       "      <td>1.332530</td>\n",
       "    </tr>\n",
       "    <tr>\n",
       "      <td>70</td>\n",
       "      <td>0.577800</td>\n",
       "      <td>1.321858</td>\n",
       "    </tr>\n",
       "    <tr>\n",
       "      <td>80</td>\n",
       "      <td>0.570500</td>\n",
       "      <td>1.308169</td>\n",
       "    </tr>\n",
       "    <tr>\n",
       "      <td>90</td>\n",
       "      <td>0.561800</td>\n",
       "      <td>1.308967</td>\n",
       "    </tr>\n",
       "    <tr>\n",
       "      <td>100</td>\n",
       "      <td>0.566000</td>\n",
       "      <td>1.302481</td>\n",
       "    </tr>\n",
       "    <tr>\n",
       "      <td>110</td>\n",
       "      <td>0.554400</td>\n",
       "      <td>1.296565</td>\n",
       "    </tr>\n",
       "    <tr>\n",
       "      <td>120</td>\n",
       "      <td>0.574300</td>\n",
       "      <td>1.306667</td>\n",
       "    </tr>\n",
       "    <tr>\n",
       "      <td>130</td>\n",
       "      <td>0.571800</td>\n",
       "      <td>1.308644</td>\n",
       "    </tr>\n",
       "    <tr>\n",
       "      <td>140</td>\n",
       "      <td>0.567000</td>\n",
       "      <td>1.304145</td>\n",
       "    </tr>\n",
       "    <tr>\n",
       "      <td>150</td>\n",
       "      <td>0.559300</td>\n",
       "      <td>1.304450</td>\n",
       "    </tr>\n",
       "    <tr>\n",
       "      <td>160</td>\n",
       "      <td>0.555600</td>\n",
       "      <td>1.303670</td>\n",
       "    </tr>\n",
       "    <tr>\n",
       "      <td>170</td>\n",
       "      <td>0.549300</td>\n",
       "      <td>1.309102</td>\n",
       "    </tr>\n",
       "    <tr>\n",
       "      <td>180</td>\n",
       "      <td>0.557500</td>\n",
       "      <td>1.309250</td>\n",
       "    </tr>\n",
       "    <tr>\n",
       "      <td>190</td>\n",
       "      <td>0.544200</td>\n",
       "      <td>1.312990</td>\n",
       "    </tr>\n",
       "  </tbody>\n",
       "</table><p>"
      ],
      "text/plain": [
       "<IPython.core.display.HTML object>"
      ]
     },
     "metadata": {},
     "output_type": "display_data"
    },
    {
     "name": "stderr",
     "output_type": "stream",
     "text": [
      "Unsloth: Not an error, but Qwen2ForCausalLM does not accept `num_items_in_batch`.\n",
      "Using gradient accumulation will be very slightly less accurate.\n",
      "Read more on gradient accumulation issues here: https://unsloth.ai/blog/gradient\n"
     ]
    },
    {
     "data": {
      "text/plain": [
       "TrainOutput(global_step=192, training_loss=0.612208171437184, metrics={'train_runtime': 1680.2969, 'train_samples_per_second': 1.826, 'train_steps_per_second': 0.114, 'total_flos': 4553328637771776.0, 'train_loss': 0.612208171437184})"
      ]
     },
     "execution_count": 107,
     "metadata": {},
     "output_type": "execute_result"
    }
   ],
   "source": [
    "trainer.train()"
   ]
  },
  {
   "cell_type": "markdown",
   "id": "f4f6727a-b39f-4b55-b9e4-a825a72227c0",
   "metadata": {},
   "source": [
    "At this point we have the model and the adapter which contains the lora weights."
   ]
  },
  {
   "cell_type": "code",
   "execution_count": 108,
   "id": "6243783c-5045-4648-bdfa-fc36e351dcb2",
   "metadata": {},
   "outputs": [],
   "source": [
    "trainer.save_model('finetuned_lt_transduction')"
   ]
  },
  {
   "cell_type": "markdown",
   "id": "b491ba29-6ecc-4c3e-a1ee-463bedc08676",
   "metadata": {},
   "source": [
    "Now we can just get the saved model: "
   ]
  },
  {
   "cell_type": "code",
   "execution_count": 16,
   "id": "5e252e07-f6f4-4227-acac-c30b880e6c6c",
   "metadata": {
    "scrolled": true
   },
   "outputs": [
    {
     "name": "stdout",
     "output_type": "stream",
     "text": [
      "INFO 03-13 17:33:48 config.py:542] This model supports multiple tasks: {'embed', 'classify', 'reward', 'score', 'generate'}. Defaulting to 'generate'.\n",
      "INFO 03-13 17:33:49 llm_engine.py:234] Initializing a V0 LLM engine (v0.7.2) with config: model='unsloth/qwen2.5-0.5b-instruct-unsloth-bnb-4bit', speculative_config=None, tokenizer='unsloth/qwen2.5-0.5b-instruct-unsloth-bnb-4bit', skip_tokenizer_init=False, tokenizer_mode=auto, revision=None, override_neuron_config=None, tokenizer_revision=None, trust_remote_code=False, dtype=torch.bfloat16, max_seq_len=1024, download_dir=None, load_format=LoadFormat.BITSANDBYTES, tensor_parallel_size=1, pipeline_parallel_size=1, disable_custom_all_reduce=False, quantization=bitsandbytes, enforce_eager=False, kv_cache_dtype=auto,  device_config=cuda:0, decoding_config=DecodingConfig(guided_decoding_backend='xgrammar'), observability_config=ObservabilityConfig(otlp_traces_endpoint=None, collect_model_forward_time=False, collect_model_execute_time=False), seed=0, served_model_name=unsloth/qwen2.5-0.5b-instruct-unsloth-bnb-4bit, num_scheduler_steps=1, multi_step_stream_outputs=True, enable_prefix_caching=True, chunked_prefill_enabled=False, use_async_output_proc=True, disable_mm_preprocessor_cache=False, mm_processor_kwargs=None, pooler_config=None, compilation_config={\"level\":0,\"splitting_ops\":[],\"compile_sizes\":[],\"cudagraph_capture_sizes\":[128,120,112,104,96,88,80,72,64,56,48,40,32,24,16,8,4,2,1],\"max_capture_size\":128}, use_cached_outputs=False, \n",
      "WARNING 03-13 17:33:50 interface.py:284] Using 'pin_memory=False' as WSL is detected. This may slow down the performance.\n",
      "INFO 03-13 17:33:50 cuda.py:230] Using Flash Attention backend.\n",
      "INFO 03-13 17:33:50 model_runner.py:1110] Starting to load model unsloth/qwen2.5-0.5b-instruct-unsloth-bnb-4bit...\n"
     ]
    },
    {
     "name": "stderr",
     "output_type": "stream",
     "text": [
      "[W313 17:33:50.736917400 CUDAAllocatorConfig.h:28] Warning: expandable_segments not supported on this platform (function operator())\n"
     ]
    },
    {
     "name": "stdout",
     "output_type": "stream",
     "text": [
      "INFO 03-13 17:33:50 loader.py:1102] Loading weights with BitsAndBytes quantization.  May take a while ...\n",
      "INFO 03-13 17:33:51 weight_utils.py:252] Using model weights format ['*.safetensors']\n",
      "INFO 03-13 17:33:53 model_runner.py:1115] Loading model weights took 0.5090 GB\n",
      "INFO 03-13 17:33:53 punica_selector.py:18] Using PunicaWrapperGPU.\n",
      "INFO 03-13 17:33:56 worker.py:267] Memory profiling takes 2.87 seconds\n",
      "INFO 03-13 17:33:56 worker.py:267] the current vLLM instance can use total_gpu_memory (4.00GiB) x gpu_memory_utilization (0.40) = 1.61GiB\n",
      "INFO 03-13 17:33:56 worker.py:267] model weights take 0.51GiB; non_torch_memory takes 0.03GiB; PyTorch activation peak memory takes 0.70GiB; the rest of the memory reserved for KV Cache is 0.37GiB.\n",
      "INFO 03-13 17:33:56 executor_base.py:110] # CUDA blocks: 2034, # CPU blocks: 5461\n",
      "INFO 03-13 17:33:56 executor_base.py:115] Maximum concurrency for 1024 tokens per request: 31.78x\n",
      "INFO 03-13 17:33:57 model_runner.py:1434] Capturing cudagraphs for decoding. This may lead to unexpected consequences if the model is not static. To run the model in eager mode, set 'enforce_eager=True' or use '--enforce-eager' in the CLI. If out-of-memory error occurs during cudagraph capture, consider decreasing `gpu_memory_utilization` or switching to eager mode. You can also reduce the `max_num_seqs` as needed to decrease memory usage.\n",
      "INFO 03-13 17:34:12 model_runner.py:1562] Graph capturing finished in 15 secs, took 0.30 GiB\n",
      "INFO 03-13 17:34:12 llm_engine.py:431] init engine (profile, create kv cache, warmup model) took 19.22 seconds\n"
     ]
    },
    {
     "name": "stderr",
     "output_type": "stream",
     "text": [
      "Unsloth 2025.2.12 patched 24 layers with 24 QKV layers, 24 O layers and 24 MLP layers.\n"
     ]
    }
   ],
   "source": [
    "%%capture\n",
    "model, tokenizer = FastLanguageModel.from_pretrained(\n",
    "    model_name = \"finetuned_lt_transduction\",\n",
    "    max_seq_length=max_seq_length,\n",
    "    load_in_4bit=True,\n",
    "    # Enable vLLM fast inference\n",
    "    fast_inference = True, \n",
    ")"
   ]
  },
  {
   "cell_type": "code",
   "execution_count": 109,
   "id": "4142cc0b-ac51-4a57-9d03-2916aa0694b4",
   "metadata": {},
   "outputs": [],
   "source": [
    "# strangely, this is not a default\n",
    "tokenizer.padding_side = 'left'"
   ]
  },
  {
   "cell_type": "code",
   "execution_count": 110,
   "id": "7c2b6891-ef24-4b38-b96d-2733c77f8219",
   "metadata": {},
   "outputs": [],
   "source": [
    "inputs = tokenizer.apply_chat_template(\n",
    "    data['test']['prompt'],  \n",
    "    # add generation prompt because we want to \n",
    "    # generate a response from the model\n",
    "    add_generation_prompt=True,\n",
    "    tokenize=True,\n",
    "    # return_tensors=\"pt\",\n",
    "    padding=True,\n",
    "    return_dict=True,\n",
    ")"
   ]
  },
  {
   "cell_type": "markdown",
   "id": "79daa528-c933-49ef-a07e-41f356cb3800",
   "metadata": {},
   "source": [
    "An example of the kind of input we are passing to the model:"
   ]
  },
  {
   "cell_type": "code",
   "execution_count": 111,
   "id": "6a5422c4-8d08-4fa5-8f4a-f4b75da21629",
   "metadata": {},
   "outputs": [
    {
     "name": "stdout",
     "output_type": "stream",
     "text": [
      "system\n",
      "\n",
      "user\n",
      "-[1, 9, 0, 8, 8] -> [9, 8, 8]\n",
      "-[5, 0] -> [5]\n",
      "-[2, 4, 1, 2] -> [4]\n",
      "-[2, 5] -> [5]\n",
      "-[3, 1, 6] -> ?\n",
      "-[0, 6] -> ?\n",
      "assistant\n",
      "\n"
     ]
    }
   ],
   "source": [
    "print(tokenizer.decode(inputs['input_ids'][0], skip_special_tokens=True))"
   ]
  },
  {
   "cell_type": "code",
   "execution_count": 112,
   "id": "da2ecd30-96ec-42b2-be29-38363414a07a",
   "metadata": {
    "scrolled": true
   },
   "outputs": [],
   "source": [
    "%%capture\n",
    "FastLanguageModel.for_inference(model)"
   ]
  },
  {
   "cell_type": "markdown",
   "id": "581f54f3-9f06-4bf5-8d6f-eed61fe5c4d5",
   "metadata": {},
   "source": [
    "Let's make the model trasduct on the test data and see how often it gets it right!"
   ]
  },
  {
   "cell_type": "code",
   "execution_count": 113,
   "id": "9c448c2d-99c1-46ff-b0a4-0490a78361eb",
   "metadata": {
    "scrolled": true
   },
   "outputs": [],
   "source": [
    "answer = []\n",
    "for inp in inputs['input_ids']:\n",
    "    text_upto_padding = inp[inp.index(151644)+1:]\n",
    "    sft_test_generation = model.generate(\n",
    "        tensor([text_upto_padding], dtype=torch.int64).to('cuda'),\n",
    "        # attention_mask=inputs['attention_mask'][10][None],\n",
    "        pad_token_id=tokenizer.pad_token_id,\n",
    "        max_new_tokens=128,\n",
    "    )\n",
    "    answer.append(tokenizer.decode(sft_test_generation[0][len(text_upto_padding):],skip_special_tokens=True))"
   ]
  },
  {
   "cell_type": "markdown",
   "id": "1acdcd36-e703-4b9b-a497-e804344796b1",
   "metadata": {},
   "source": [
    "The accuracy in a task is the average number of correct predictions across incomplete example:"
   ]
  },
  {
   "cell_type": "code",
   "execution_count": 141,
   "id": "cd8050b5-a0dd-4f49-9ba7-aafdd2c2d574",
   "metadata": {},
   "outputs": [],
   "source": [
    "def check_accuracy(x, indices, answer):\n",
    "    accuracy = []\n",
    "    for a,b in zip(x['completion'][0]['content'].strip().split('\\n'), answer[indices].split('\\n')):\n",
    "        if a == b:\n",
    "            accuracy.append(1)\n",
    "        else:\n",
    "            accuracy.append(0)\n",
    "    return {'accuracy': np.mean(accuracy)}"
   ]
  },
  {
   "cell_type": "markdown",
   "id": "c6d88d1e-9885-43eb-ba21-d0d117478418",
   "metadata": {},
   "source": [
    "And let's see how accurate these answers were:"
   ]
  },
  {
   "cell_type": "code",
   "execution_count": 142,
   "id": "ae2d8afc-f1fe-4310-b83e-9a7a79ee6a15",
   "metadata": {},
   "outputs": [
    {
     "data": {
      "application/vnd.jupyter.widget-view+json": {
       "model_id": "eeae70a4c72745818585ea35ecdbf66e",
       "version_major": 2,
       "version_minor": 0
      },
      "text/plain": [
       "Map:   0%|          | 0/128 [00:00<?, ? examples/s]"
      ]
     },
     "metadata": {},
     "output_type": "display_data"
    }
   ],
   "source": [
    "data['test'] = data['test'].map(check_accuracy, fn_kwargs={'answer':answer},with_indices=True)"
   ]
  },
  {
   "cell_type": "markdown",
   "id": "48c960e6-3f45-4505-89f4-8742e19ca112",
   "metadata": {},
   "source": [
    "Really not bad! More than half of the predictions are correct:"
   ]
  },
  {
   "cell_type": "markdown",
   "id": "8b27d8bb-a838-43b0-b855-dff963bc1a53",
   "metadata": {},
   "source": [
    "Not bad! In 0.77 of cases the model got at least one answer correct:"
   ]
  },
  {
   "cell_type": "code",
   "execution_count": 153,
   "id": "3c660301-031e-48e4-9705-e1565409589c",
   "metadata": {},
   "outputs": [
    {
     "data": {
      "text/plain": [
       "(array([0. , 0.5, 1. ]), array([29, 54, 45]))"
      ]
     },
     "execution_count": 153,
     "metadata": {},
     "output_type": "execute_result"
    }
   ],
   "source": [
    "np.unique(data['test']['accuracy'], return_counts=True)"
   ]
  },
  {
   "cell_type": "markdown",
   "id": "fa873e34-683b-49d9-8e29-abec8c9fbac9",
   "metadata": {},
   "source": [
    "That's a big improvement compared to the initial answers!"
   ]
  },
  {
   "cell_type": "markdown",
   "id": "c325a97e-d0d6-4811-a02c-262cc8520d46",
   "metadata": {},
   "source": [
    "## Neurosymbolic search"
   ]
  },
  {
   "cell_type": "markdown",
   "id": "48de1c4c-4211-4aa5-9729-8ee84b69e3d9",
   "metadata": {},
   "source": [
    "The model makes a proposal for SCM or MHMC"
   ]
  }
 ],
 "metadata": {
  "kernelspec": {
   "display_name": "arc",
   "language": "python",
   "name": "arc"
  },
  "language_info": {
   "codemirror_mode": {
    "name": "ipython",
    "version": 3
   },
   "file_extension": ".py",
   "mimetype": "text/x-python",
   "name": "python",
   "nbconvert_exporter": "python",
   "pygments_lexer": "ipython3",
   "version": "3.11.11"
  }
 },
 "nbformat": 4,
 "nbformat_minor": 5
}
