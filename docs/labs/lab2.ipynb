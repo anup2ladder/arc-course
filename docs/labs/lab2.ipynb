{
 "cells": [
  {
   "cell_type": "markdown",
   "id": "85c29454-2d1b-4157-9414-2f34885038bd",
   "metadata": {},
   "source": [
    "# Lab 2 - Symbolic search"
   ]
  },
  {
   "cell_type": "markdown",
   "id": "af1f00ad-edf3-44b9-b419-31849ba4fa1f",
   "metadata": {},
   "source": [
    "## Imports "
   ]
  },
  {
   "cell_type": "code",
   "execution_count": 1,
   "id": "26f3a61b-aaff-49e4-8c70-6d81891d0c63",
   "metadata": {},
   "outputs": [],
   "source": [
    "import re\n",
    "import itertools\n",
    "import math\n",
    "import time\n",
    "import random\n",
    "from collections import Counter\n",
    "from pprint import pprint"
   ]
  },
  {
   "cell_type": "code",
   "execution_count": 2,
   "id": "245dcba5-f0c0-4ccf-b57e-3b996ddcf16d",
   "metadata": {},
   "outputs": [],
   "source": [
    "import numpy as np\n",
    "import pandas as pd\n",
    "from numpy.random import choice, randint\n",
    "from IPython.display import HTML, display, clear_output\n",
    "import matplotlib.pyplot as plt\n",
    "import ipywidgets as widgets"
   ]
  },
  {
   "cell_type": "code",
   "execution_count": 3,
   "id": "2933ee8d-f2df-4601-85ca-74eab86fbbf9",
   "metadata": {},
   "outputs": [],
   "source": [
    "# Utilities for plotting\n",
    "from symbolic_utilities import \\\n",
    "    progress, compute_global_limits_mh, compute_global_limits_smc, plot_mh_trace_upto, plot_state_2d\n",
    "\n",
    "# Utilities for enumeration\n",
    "from symbolic_utilities import enumerate_full_sentences, enumerate_trees, enumerate_full_sentences_bottomup, \\\n",
    "    enumerate_trees_bottomup, compute_likelihood_bs, compute_likelihood_lt\n",
    "\n",
    "# Various utils for manipulating trees\n",
    "from symbolic_utilities import \\\n",
    "    generate_tree, tree_to_sentence, get_nonterminal_nodes, set_subtree, mutate_tree, \\\n",
    "    compute_tree_probability, compute_unnormalized_posterior\n",
    "\n",
    "# MHMC sampler\n",
    "from symbolic_utilities import propose_tree, get_coordinates, mh_sampler\n",
    "\n",
    "from symbolic_utilities import smc_sampler"
   ]
  },
  {
   "cell_type": "markdown",
   "id": "7cf36b42-1abb-4a60-b5aa-b7d557917a5d",
   "metadata": {
    "jp-MarkdownHeadingCollapsed": true
   },
   "source": [
    "## DSL I: binary strings (conceptually easy peasy)"
   ]
  },
  {
   "cell_type": "code",
   "execution_count": 4,
   "id": "253988f6-4d1f-435f-95bd-7111dc8d1a25",
   "metadata": {},
   "outputs": [],
   "source": [
    "bsgrammar = {\n",
    "    # A binary string can be a 0, a 1, or some transformation of string(s).\n",
    "    \"S\": [\n",
    "        ([\"0\"], 0.2),\n",
    "        ([\"1\"], 0.2),\n",
    "        # concatenate\n",
    "        ([\"C\", \"(\", \"S\", \",\", \"S\", \")\"], 0.2),\n",
    "        # duplicate\n",
    "        ([\"D\", \"(\", \"S\", \")\"], 0.1),\n",
    "        # triplicate\n",
    "        ([\"T\", \"(\", \"S\", \")\"], 0.1),\n",
    "        # reverse\n",
    "        ([\"R\", \"(\", \"S\", \")\"], 0.1),\n",
    "        # negate\n",
    "        ([\"N\", \"(\", \"S\", \")\"], 0.1)\n",
    "    ]\n",
    "}"
   ]
  },
  {
   "cell_type": "code",
   "execution_count": 5,
   "id": "2f2fb616-93cf-4fcf-9aad-1c22e0bb2456",
   "metadata": {},
   "outputs": [],
   "source": [
    "BS_NONTERMINALS  = list(bsgrammar.keys())\n",
    "BS_TERMINALS = []\n",
    "for l in bsgrammar.values():\n",
    "    for j in l:\n",
    "        for k in j[0]:\n",
    "            if k not in BS_NONTERMINALS:\n",
    "                BS_TERMINALS.append(k)\n",
    "\n",
    "BS_TERMINALS = list(set(BS_TERMINALS))"
   ]
  },
  {
   "cell_type": "code",
   "execution_count": 6,
   "id": "4b2a8024-be4a-43d7-a9a2-057b6d665706",
   "metadata": {},
   "outputs": [],
   "source": [
    "bs_eval_dict = {\n",
    "    \"C\": lambda x, y: str(x) + str(y),\n",
    "    \"D\": lambda s: str(s) * 2,\n",
    "    \"T\": lambda s: str(s) * 3,\n",
    "    \"R\": lambda s: str(s)[::-1],\n",
    "    \"N\": lambda s: str(s).translate({48: 49, 49: 48}),\n",
    "    # Bit-wiseduplication: duplicate each bit in the string individually.\n",
    "    \"B\": lambda s: \"\".join(c * 2 for c in str(s)),\n",
    "    # Swap halves: for odd-length strings, leave the middle bit in place.\n",
    "    \"S\": lambda s: (str(s)[(len(str(s)) // 2) + 1:] + str(s)[len(str(s)) // 2] + str(s)[:len(str(s)) // 2])\n",
    "         if len(str(s)) % 2 == 1 else (str(s)[len(str(s)) // 2:] + str(s)[:len(str(s)) // 2]),\n",
    "    # Rotate by one: rotate the string to the left by one position.\n",
    "    \"O\": lambda s: str(s)[1:] + str(s)[0] if len(str(s)) > 0 else str(s),\n",
    "    # Interleaving: merge two strings character by character; the remainder of the longer string is appended.\n",
    "    \"I\": lambda x, y: \"\".join(a + b for a, b in zip(str(x), str(y))) +\n",
    "         (str(x)[len(str(y)):] if len(str(x)) > len(str(y)) else str(y)[len(str(x)):]),\n",
    "}"
   ]
  },
  {
   "cell_type": "code",
   "execution_count": 7,
   "id": "94be72b5-aa90-4eca-a8bb-0be989245b53",
   "metadata": {},
   "outputs": [
    {
     "name": "stdout",
     "output_type": "stream",
     "text": [
      "Generated expression: 111011\n"
     ]
    }
   ],
   "source": [
    "# Suppose our grammar produced the string expression below:\n",
    "expr_str = \"C(T(1),R(S(I(0,B(1)))))\"\n",
    "# Evaluate the expression to obtain a binary string.\n",
    "string = eval(expr_str, bs_eval_dict)\n",
    "print(\"Generated expression:\", string)"
   ]
  },
  {
   "cell_type": "markdown",
   "id": "89d6c2ff-ee0e-482a-8834-4e769ae9bb79",
   "metadata": {},
   "source": [
    "To get a sense of the variety of strings you can get with this grammar, you can use this function that samples a tree from the PCFG:"
   ]
  },
  {
   "cell_type": "code",
   "execution_count": 8,
   "id": "2c55a44d-fc1f-4d31-b45c-f3985cc22258",
   "metadata": {},
   "outputs": [
    {
     "name": "stdout",
     "output_type": "stream",
     "text": [
      "Random sentence: N(0)\n",
      "String:  1\n"
     ]
    }
   ],
   "source": [
    "# Generate a random string from the grammar.\n",
    "tree = generate_tree(\"S\", bsgrammar)\n",
    "sentence_tokens = tree_to_sentence(tree)\n",
    "expression = \"\".join(sentence_tokens)\n",
    "print(\"Random sentence:\", expression)\n",
    "print(\"String: \", eval(expression, bs_eval_dict))"
   ]
  },
  {
   "cell_type": "markdown",
   "id": "1952c8ae-bc54-4efe-bde3-a9f1feb6040d",
   "metadata": {
    "jp-MarkdownHeadingCollapsed": true
   },
   "source": [
    "## DSL II: list transformations (conceptually not so trivial!)"
   ]
  },
  {
   "cell_type": "code",
   "execution_count": 9,
   "id": "db3f426f-21cb-4b08-a88b-981c6dc4f9e5",
   "metadata": {},
   "outputs": [],
   "source": [
    "ltgrammar = {\n",
    "    \"T\": [\n",
    "        ([\"LISTF\"], 0.5),\n",
    "        ([\"compose\", \"(\", \"LISTF\", \",\", \"LISTF\", \")\"], 0.5)\n",
    "    ],\n",
    "    # Atomic transformations\n",
    "    \"LISTF\": [\n",
    "        ([\"reverse\"],                  0.2),\n",
    "        ([\"sort\"],                     0.2),\n",
    "        ([\"map_\", \"(\", \"INTF\", \")\"],   0.2),\n",
    "        ([\"filter_\", \"(\", \"COND\", \")\"],0.2),\n",
    "        ([\"truncate\", \"(\", \"INT\", \")\"],0.2)\n",
    "    ],\n",
    "    # Operators for map: simple arithmetic operations on x.\n",
    "    \"INTF\": [\n",
    "        ([\"plus\", \"(\", \"INT\", \")\"],    0.25),\n",
    "        ([\"minus\", \"(\", \"INT\", \")\"],   0.25),\n",
    "        ([\"times\", \"(\", \"INT\", \")\"],   0.25),\n",
    "    ],\n",
    "    # Conditions for filter: e.g., keeping even or odd numbers.\n",
    "    \"COND\": [\n",
    "        ([\"even\"], 0.5),\n",
    "        ([\"gt\", \"(\", \"INT\", \")\"],  0.3),\n",
    "        ([\"not_\", \"(\", \"COND\", \")\"], 0.1),\n",
    "        ([\"and_\", \"(\", \"COND\", \",\", \"COND\", \")\"], 0.1),\n",
    "        ([\"or_\", \"(\", \"COND\", \",\", \"COND\", \")\"], 0.1)\n",
    "    ],\n",
    "    \"INT\": [\n",
    "        ([str(i)], 1/5) for i in range(1,6)\n",
    "    ]\n",
    "}"
   ]
  },
  {
   "cell_type": "code",
   "execution_count": 10,
   "id": "5a7c07cf-c42a-4d71-9cce-a795baedbce6",
   "metadata": {},
   "outputs": [],
   "source": [
    "LT_NONTERMINALS  = list(ltgrammar.keys())\n",
    "LT_TERMINALS = []\n",
    "for l in ltgrammar.values():\n",
    "    for j in l:\n",
    "        for k in j[0]:\n",
    "            if k not in LT_NONTERMINALS:\n",
    "                LT_TERMINALS.append(k)\n",
    "\n",
    "LT_TERMINALS = list(set(LT_TERMINALS))"
   ]
  },
  {
   "cell_type": "code",
   "execution_count": 11,
   "id": "7bc3f8cd-6843-42dd-bed7-fb0843cf1186",
   "metadata": {},
   "outputs": [],
   "source": [
    "lt_eval_dict = {\n",
    "    # Composes two list transformation functions.\n",
    "    \"compose\":  lambda f, g: lambda L: g(f(L)),\n",
    "    # Basic list transformations.\n",
    "    \"reverse\":  lambda L: list(reversed(L)),\n",
    "    \"sort\":     lambda L: sorted(L),\n",
    "    \"truncate\": lambda i: lambda L: L[:i],\n",
    "    # Higher-order functions that expect a function and return a list transformation.\n",
    "    \"map_\":     lambda f: lambda L: [f(x) for x in L],\n",
    "    \"filter_\":  lambda f: lambda L: [x for x in L if f(x)],\n",
    "    # Integer transformation functions used inside map.\n",
    "    \"plus\":     lambda n: lambda x: x + n,\n",
    "    \"minus\":    lambda n: lambda x: x - n,\n",
    "    \"times\":    lambda n: lambda x: x * n,\n",
    "    # Predicates for filtering.\n",
    "    \"even\":     lambda x: x % 2 == 0,\n",
    "    \"gt\":       lambda i: lambda x: x>i,\n",
    "    \"and_\":     lambda f, g: lambda x: f(x) and g(x),\n",
    "    \"or_\":      lambda f, g: lambda x: f(x) or g(x),\n",
    "    \"not_\":     lambda f: lambda x: not f(x),\n",
    "}"
   ]
  },
  {
   "cell_type": "code",
   "execution_count": 12,
   "id": "a94d8702-b25f-4f68-be9d-dd8093dd61bf",
   "metadata": {},
   "outputs": [
    {
     "name": "stdout",
     "output_type": "stream",
     "text": [
      "Generated expression: compose(map_(minus(2)), filter_(and_(even, gt(2))))\n",
      "Input list: [3, 1, 4, 1, 5, 9, 2, 6]\n",
      "Result after transformation: [4]\n"
     ]
    }
   ],
   "source": [
    "# Suppose our grammar produced the string expression below:\n",
    "expr_str = \"compose(map_(minus(2)), filter_(and_(even, gt(2))))\"\n",
    "\n",
    "# Evaluate the expression to obtain a transformation function.\n",
    "transformation_fn = eval(expr_str, lt_eval_dict)\n",
    "\n",
    "# Apply the transformation to a sample list of integers.\n",
    "sample_list = [3, 1, 4, 1, 5, 9, 2, 6]\n",
    "result = transformation_fn(sample_list)\n",
    "\n",
    "print(\"Generated expression:\", expr_str)\n",
    "print(\"Input list:\", sample_list)\n",
    "print(\"Result after transformation:\", result)"
   ]
  },
  {
   "cell_type": "code",
   "execution_count": 13,
   "id": "e8970960-0cd3-4350-bb0b-87aef77094cd",
   "metadata": {},
   "outputs": [
    {
     "name": "stdout",
     "output_type": "stream",
     "text": [
      "Random transformation: sort\n"
     ]
    }
   ],
   "source": [
    "# Generate a random transformation expression from the grammar.\n",
    "tree = generate_tree(\"T\", ltgrammar)\n",
    "sentence_tokens = tree_to_sentence(tree)\n",
    "expression = \"\".join(sentence_tokens)\n",
    "print(\"Random transformation:\", expression)"
   ]
  },
  {
   "cell_type": "markdown",
   "id": "929772c8-d511-4102-8509-739f873bb923",
   "metadata": {},
   "source": [
    "## Enumeration"
   ]
  },
  {
   "cell_type": "markdown",
   "id": "74a63bab-0898-4fd3-9a9d-c07794f75541",
   "metadata": {},
   "source": [
    "Let's start looking at the search algorithms. We first produce some data that we can fit with our search strategies:"
   ]
  },
  {
   "cell_type": "code",
   "execution_count": 17,
   "id": "6dac97b7-d2dd-40a2-b6ef-a6fc4f8ac761",
   "metadata": {},
   "outputs": [],
   "source": [
    "expr_str = \"compose(map_(minus(2)), filter_(gt(2)))\"\n",
    "\n",
    "transformation_fn = eval(expr_str, lt_eval_dict)\n",
    "\n",
    "inputs = [\n",
    "    [2, 3, 5, 6, 1],\n",
    "    [6, 2, 3, 1],\n",
    "    [9, 1, 8, 3, 5, 2]\n",
    "]\n",
    "\n",
    "data = [\n",
    "    (inp, transformation_fn(inp))  \n",
    "    for inp in inputs\n",
    "]"
   ]
  },
  {
   "cell_type": "code",
   "execution_count": 18,
   "id": "0a82049c-171b-4f31-b305-b2bc29e57530",
   "metadata": {},
   "outputs": [
    {
     "data": {
      "text/plain": [
       "[([2, 3, 5, 6, 1], [3, 4]),\n",
       " ([6, 2, 3, 1], [4]),\n",
       " ([9, 1, 8, 3, 5, 2], [7, 6, 3])]"
      ]
     },
     "execution_count": 18,
     "metadata": {},
     "output_type": "execute_result"
    }
   ],
   "source": [
    "data"
   ]
  },
  {
   "cell_type": "markdown",
   "id": "cba56f7e-aeae-46b1-a545-37434262271b",
   "metadata": {},
   "source": [
    "First, let's look at simple top-down enumeration with the binary string grammar:"
   ]
  },
  {
   "cell_type": "code",
   "execution_count": 19,
   "id": "f6d37c30-071c-4b74-9dde-d92aca7525c3",
   "metadata": {},
   "outputs": [
    {
     "name": "stdout",
     "output_type": "stream",
     "text": [
      "CPU times: user 3.05 s, sys: 0 ns, total: 3.05 s\n",
      "Wall time: 3.05 s\n"
     ]
    },
    {
     "data": {
      "text/plain": [
       "[('001001', 3.012736478083201e-06),\n",
       " (0, 2e-07),\n",
       " (1, 2e-07),\n",
       " ('000000', 1.9211920200000038e-08),\n",
       " ('011011', 7.684768080000018e-10),\n",
       " ('101101', 3.0739072320000074e-10),\n",
       " ('00', 2.0000000000000006e-10),\n",
       " ('000', 2.0000000000000006e-10),\n",
       " ('0000', 2.0000000000000006e-10),\n",
       " ('11', 2.0000000000000006e-10)]"
      ]
     },
     "execution_count": 19,
     "metadata": {},
     "output_type": "execute_result"
    }
   ],
   "source": [
    "%%time\n",
    "sentences = dict()\n",
    "# Enumerate sentences from the start symbol \"S\" with a depth limit.\n",
    "for tree in enumerate_trees(\"S\", bsgrammar, max_depth=4):\n",
    "    string = \"\".join(tree_to_sentence(tree))\n",
    "    sentences[eval(string, bs_eval_dict)] = compute_unnormalized_posterior(\n",
    "        tree, \n",
    "        bsgrammar, \n",
    "        \"001001\", \n",
    "        bs_eval_dict,\n",
    "        compute_likelihood_bs\n",
    "    )\n",
    "\n",
    "# Print the most probable solutions\n",
    "sorted(sentences.items(), key=lambda item: -item[1])[:10]"
   ]
  },
  {
   "cell_type": "markdown",
   "id": "2e0ae9e8-64f5-4bf2-998f-a26495959bc0",
   "metadata": {},
   "source": [
    "And now bottom-up enumeration:"
   ]
  },
  {
   "cell_type": "code",
   "execution_count": 20,
   "id": "8500dd98-b872-4245-981c-83ab0fdd29b1",
   "metadata": {},
   "outputs": [
    {
     "name": "stdout",
     "output_type": "stream",
     "text": [
      "CPU times: user 4.9 s, sys: 24.7 ms, total: 4.93 s\n",
      "Wall time: 4.93 s\n"
     ]
    },
    {
     "data": {
      "text/plain": [
       "[(('D(C(D(0),1))', '001001'), 8.000000000000003e-05),\n",
       " (('D(C(0,C(0,1)))', '001001'), 3.200000000000001e-05),\n",
       " (('D(C(C(0,0),1))', '001001'), 3.200000000000001e-05),\n",
       " (('D(C(D(0),R(1)))', '001001'), 8.000000000000005e-06),\n",
       " (('D(C(D(0),N(0)))', '001001'), 8.000000000000005e-06),\n",
       " (('D(C(C(0,0),R(1)))', '001001'), 3.2000000000000015e-06),\n",
       " (('D(C(C(0,0),N(0)))', '001001'), 3.2000000000000015e-06),\n",
       " (('D(C(R(0),C(0,1)))', '001001'), 3.2000000000000015e-06),\n",
       " (('D(C(N(1),C(0,1)))', '001001'), 3.2000000000000015e-06),\n",
       " (('C(C(D(0),1),C(D(0),1))', '001001'), 1.280000000000001e-07)]"
      ]
     },
     "execution_count": 20,
     "metadata": {},
     "output_type": "execute_result"
    }
   ],
   "source": [
    "%%time\n",
    "sentences = dict()\n",
    "for tree in enumerate_trees_bottomup(\"S\", bsgrammar, max_level=4):\n",
    "    string = \"\".join(tree_to_sentence(tree))\n",
    "    sentences[(string, eval(string, bs_eval_dict))] = compute_unnormalized_posterior(\n",
    "        tree, \n",
    "        bsgrammar, \n",
    "        \"001001\", \n",
    "        bs_eval_dict,\n",
    "        compute_likelihood_bs,\n",
    "        lik_params={\n",
    "            # 1 - probability of noise flipping a bit \n",
    "            'match_prob': 1.0,\n",
    "            # probability of any string whose length != observed\n",
    "            'length_mismatch_prob': -np.inf\n",
    "        }\n",
    "    )\n",
    "\n",
    "sorted(sentences.items(), key=lambda item: -item[1])[:10]"
   ]
  },
  {
   "cell_type": "markdown",
   "id": "dfe20256-7f91-4610-99c2-26e75ec88853",
   "metadata": {},
   "source": [
    "Bottom-up is quite a bit slower!\n",
    "\n",
    "Now we can apply our little trick of progressively removing expressions that are synonymous with previous found ones, and see if it speeds up the search:"
   ]
  },
  {
   "cell_type": "code",
   "execution_count": 21,
   "id": "b0911c87-da72-4f4f-85f1-b1c3eaf66673",
   "metadata": {},
   "outputs": [
    {
     "name": "stdout",
     "output_type": "stream",
     "text": [
      "CPU times: user 259 ms, sys: 0 ns, total: 259 ms\n",
      "Wall time: 257 ms\n"
     ]
    },
    {
     "data": {
      "text/plain": [
       "[(('C(C(0,0),C(C(1,0),C(0,1)))', '001001'), 2.0480000000000015e-08),\n",
       " (('C(T(0),T(0))', '000000'), 0.0),\n",
       " (('C(T(0),T(1))', '000111'), 0.0),\n",
       " (('C(T(1),T(0))', '111000'), 0.0),\n",
       " (('C(T(1),T(1))', '111111'), 0.0),\n",
       " (('T(C(0,1))', '010101'), 0.0),\n",
       " (('T(C(1,0))', '101010'), 0.0),\n",
       " (('C(0,C(C(0,1),T(0)))', '001000'), 0.0),\n",
       " (('C(0,C(C(0,1),T(1)))', '001111'), 0.0),\n",
       " (('C(0,C(C(1,0),T(0)))', '010000'), 0.0)]"
      ]
     },
     "execution_count": 21,
     "metadata": {},
     "output_type": "execute_result"
    }
   ],
   "source": [
    "%%time\n",
    "sentences = dict()\n",
    "for tree in enumerate_trees_bottomup(\"S\", bsgrammar, max_level=4, eval_env=bs_eval_dict, are_same=lambda x,y: x==y):\n",
    "    string = \"\".join(tree_to_sentence(tree))\n",
    "    sentences[(string, eval(string, bs_eval_dict))] = compute_unnormalized_posterior(\n",
    "        tree, \n",
    "        bsgrammar, \n",
    "        \"001001\", \n",
    "        bs_eval_dict,\n",
    "        compute_likelihood_bs,\n",
    "        lik_params={\n",
    "            'match_prob': 1.0,\n",
    "            'length_mismatch_prob': -np.inf\n",
    "        }\n",
    "    )\n",
    "\n",
    "sorted(sentences.items(), key=lambda item: -item[1])[:10]"
   ]
  },
  {
   "cell_type": "markdown",
   "id": "edbf9569-8102-4d0f-8f00-9350fda73946",
   "metadata": {},
   "source": [
    "Woah, that was _a lot_ faster!\n",
    "\n",
    "Now suppose that you got a bit cocky and you wanted to induce a formula for a more complex expression:"
   ]
  },
  {
   "cell_type": "code",
   "execution_count": 43,
   "id": "f6105228-4bfd-4e04-a878-d25f76a127ff",
   "metadata": {},
   "outputs": [
    {
     "name": "stdout",
     "output_type": "stream",
     "text": [
      "CPU times: user 270 ms, sys: 0 ns, total: 270 ms\n",
      "Wall time: 268 ms\n"
     ]
    },
    {
     "data": {
      "text/plain": [
       "[(('C(C(0,0),T(T(0)))', '00000000000'), 0.0),\n",
       " (('C(C(0,0),T(T(1)))', '00111111111'), 0.0),\n",
       " (('C(C(0,1),T(T(0)))', '01000000000'), 0.0),\n",
       " (('C(C(0,1),T(T(1)))', '01111111111'), 0.0),\n",
       " (('C(C(1,0),T(T(0)))', '10000000000'), 0.0),\n",
       " (('C(C(1,0),T(T(1)))', '10111111111'), 0.0),\n",
       " (('C(C(1,1),T(T(0)))', '11000000000'), 0.0),\n",
       " (('C(C(1,1),T(T(1)))', '11111111111'), 0.0),\n",
       " (('C(C(C(0,0),T(0)),C(T(0),T(1)))', '00000000111'), 0.0),\n",
       " (('C(C(C(0,0),T(0)),C(T(1),T(0)))', '00000111000'), 0.0)]"
      ]
     },
     "execution_count": 43,
     "metadata": {},
     "output_type": "execute_result"
    }
   ],
   "source": [
    "%%time\n",
    "sentences = dict()\n",
    "for tree in enumerate_trees_bottomup(\"S\", bsgrammar, max_level=4, eval_env=bs_eval_dict, are_same=lambda x,y: x==y):\n",
    "    string = \"\".join(tree_to_sentence(tree))\n",
    "    sentences[(string, eval(string, bs_eval_dict))] = compute_unnormalized_posterior(\n",
    "        tree, \n",
    "        bsgrammar, \n",
    "        \"00100100010\", \n",
    "        bs_eval_dict,\n",
    "        compute_likelihood_bs,\n",
    "        lik_params={\n",
    "            'match_prob': 1.0,\n",
    "            'length_mismatch_prob': -np.inf\n",
    "        }\n",
    "    )\n",
    "\n",
    "sorted(sentences.items(), key=lambda item: -item[1])[:10]"
   ]
  },
  {
   "cell_type": "markdown",
   "id": "68505d94-15e6-41c1-8f04-557301af788b",
   "metadata": {},
   "source": [
    "You might think \"Uhm, we need to explore deeper than 4 levels of depth to find at least one solution\" - this is not so easy. Try it out!\n",
    "\n",
    "Now let's look at the top-down enumeration strategy for the more complicated domain of list transformation:"
   ]
  },
  {
   "cell_type": "code",
   "execution_count": 22,
   "id": "7ae8005a-127f-452e-ae95-3b29ab23675e",
   "metadata": {},
   "outputs": [
    {
     "name": "stdout",
     "output_type": "stream",
     "text": [
      "CPU times: user 22.7 ms, sys: 9.81 ms, total: 32.5 ms\n",
      "Wall time: 31.4 ms\n"
     ]
    },
    {
     "data": {
      "text/plain": [
       "[('compose(map_(minus(2)),filter_(gt(1)))', 5.648880896406001e-05),\n",
       " ('compose(map_(minus(2)),filter_(gt(2)))', 5.648880896406001e-05),\n",
       " ('compose(filter_(gt(3)),map_(minus(2)))', 5.648880896406001e-05),\n",
       " ('compose(filter_(gt(4)),map_(minus(2)))', 5.648880896406001e-05),\n",
       " ('compose(truncate(3),filter_(not_(even)))', 1.9800000000000042e-14),\n",
       " ('filter_(gt(3))', 6.000000000000033e-15),\n",
       " ('filter_(gt(4))', 6.000000000000033e-15),\n",
       " ('compose(filter_(gt(1)),filter_(not_(even)))', 5.940000000000029e-15),\n",
       " ('compose(filter_(gt(2)),filter_(not_(even)))', 5.940000000000029e-15),\n",
       " ('compose(filter_(not_(even)),filter_(gt(1)))', 5.940000000000029e-15)]"
      ]
     },
     "execution_count": 22,
     "metadata": {},
     "output_type": "execute_result"
    }
   ],
   "source": [
    "%%time\n",
    "sentences = dict()\n",
    "for tree in enumerate_trees(\"T\", ltgrammar, max_depth=4):\n",
    "    sentences[\"\".join(tree_to_sentence(tree))] = compute_unnormalized_posterior(\n",
    "        tree, \n",
    "        ltgrammar, \n",
    "        data, \n",
    "        lt_eval_dict,\n",
    "        compute_likelihood_lt\n",
    "    )\n",
    "\n",
    "# order by unnormalized posterior\n",
    "sorted(sentences.items(), key=lambda item: -item[1])[:10]"
   ]
  },
  {
   "cell_type": "markdown",
   "id": "358d98c7-376d-4eb5-89a5-a1c4aa1efdcb",
   "metadata": {},
   "source": [
    "And bottom-up:"
   ]
  },
  {
   "cell_type": "code",
   "execution_count": 23,
   "id": "88cc9264-a1cb-4b35-82aa-418441969bbf",
   "metadata": {},
   "outputs": [
    {
     "name": "stdout",
     "output_type": "stream",
     "text": [
      "CPU times: user 324 ms, sys: 0 ns, total: 324 ms\n",
      "Wall time: 323 ms\n"
     ]
    },
    {
     "data": {
      "text/plain": [
       "[('compose(map_(minus(2)),filter_(gt(1)))', 5.648880896406001e-05),\n",
       " ('compose(map_(minus(2)),filter_(gt(2)))', 5.648880896406001e-05),\n",
       " ('compose(filter_(gt(3)),map_(minus(2)))', 5.648880896406001e-05),\n",
       " ('compose(filter_(gt(4)),map_(minus(2)))', 5.648880896406001e-05),\n",
       " ('compose(truncate(3),filter_(not_(even)))', 1.9800000000000042e-14),\n",
       " ('filter_(gt(3))', 6.000000000000033e-15),\n",
       " ('filter_(gt(4))', 6.000000000000033e-15),\n",
       " ('compose(filter_(gt(1)),filter_(not_(even)))', 5.940000000000029e-15),\n",
       " ('compose(filter_(gt(2)),filter_(not_(even)))', 5.940000000000029e-15),\n",
       " ('compose(filter_(not_(even)),filter_(gt(1)))', 5.940000000000029e-15)]"
      ]
     },
     "execution_count": 23,
     "metadata": {},
     "output_type": "execute_result"
    }
   ],
   "source": [
    "%%time\n",
    "sentences = dict()\n",
    "for tree in enumerate_trees_bottomup(\"T\", ltgrammar, max_level=4):\n",
    "    sentences[\"\".join(tree_to_sentence(tree))] = compute_unnormalized_posterior(\n",
    "        tree, \n",
    "        ltgrammar, \n",
    "        data, \n",
    "        lt_eval_dict,\n",
    "        compute_likelihood_lt\n",
    "    )\n",
    "\n",
    "sorted(sentences.items(), key=lambda item: -item[1])[:10]"
   ]
  },
  {
   "cell_type": "markdown",
   "id": "2dc24192-ff14-4049-b8b8-7e091916abe1",
   "metadata": {},
   "source": [
    "Unfortunately, there is no easy way to check whether two list transformation functions are equivalent, so we cannot apply the little trick of successive synonym pruning. "
   ]
  },
  {
   "cell_type": "markdown",
   "id": "ade34835-7b3d-4c2f-838a-3812d94be8f1",
   "metadata": {
    "jp-MarkdownHeadingCollapsed": true
   },
   "source": [
    "## Metropolis-Hastings"
   ]
  },
  {
   "attachments": {},
   "cell_type": "markdown",
   "id": "290ba26a-ab45-4064-bd91-3d23243fc051",
   "metadata": {},
   "source": [
    "Now we can run the MH algorithm, with subtree-regeneration as our proposal function."
   ]
  },
  {
   "cell_type": "code",
   "execution_count": 25,
   "id": "1919c9cd-7779-46bb-8c92-6eb6f02eeaf8",
   "metadata": {},
   "outputs": [
    {
     "data": {
      "text/html": [
       "\n",
       "        <progress\n",
       "            value='5000'\n",
       "            max='5000',\n",
       "            style='width: 100%'\n",
       "        >\n",
       "            5000\n",
       "        </progress>\n",
       "    "
      ],
      "text/plain": [
       "<IPython.core.display.HTML object>"
      ]
     },
     "metadata": {},
     "output_type": "display_data"
    }
   ],
   "source": [
    "# Run MH sampler\n",
    "num_iterations = 5000\n",
    "mh_trace = mh_sampler(\n",
    "    bsgrammar, \n",
    "    # a datapoint to fit\n",
    "    \"1110010\", \n",
    "    eval_dict=bs_eval_dict,\n",
    "    starting='S', \n",
    "    num_iterations=num_iterations,\n",
    "    likelihoodf=compute_likelihood_bs\n",
    ")"
   ]
  },
  {
   "cell_type": "code",
   "execution_count": 26,
   "id": "26a4ce00-f21f-4205-ad87-8fa716f5dbdd",
   "metadata": {},
   "outputs": [
    {
     "data": {
      "text/plain": [
       "[('C(T(1),C(0,C(C(0,1),0)))', 466),\n",
       " ('C(T(1),C(0,C(R(C(1,0)),0)))', 250),\n",
       " ('C(T(1),C(D(0),C(1,0)))', 224),\n",
       " ('C(T(1),C(D(0),C(1,R(0))))', 160),\n",
       " ('C(T(1),C(R(0),C(R(C(1,0)),0)))', 107),\n",
       " ('C(T(1),C(D(R(0)),C(1,0)))', 92),\n",
       " ('C(T(1),C(0,C(C(R(0),1),0)))', 84),\n",
       " ('C(N(N(T(1))),C(D(R(R(0))),C(1,N(1))))', 80),\n",
       " ('C(R(T(1)),C(D(0),C(1,0)))', 77),\n",
       " ('C(T(1),C(0,C(C(N(1),1),0)))', 76)]"
      ]
     },
     "execution_count": 26,
     "metadata": {},
     "output_type": "execute_result"
    }
   ],
   "source": [
    "sentences = [\"\".join(tree_to_sentence(x['current_tree'])) for x in mh_trace]\n",
    "c = Counter()\n",
    "for s in sentences:\n",
    "    c[s] += 1\n",
    "c.most_common(10)"
   ]
  },
  {
   "cell_type": "code",
   "execution_count": 39,
   "id": "2cb25889-f2f7-4d0f-8d94-dee37d7272d6",
   "metadata": {},
   "outputs": [
    {
     "data": {
      "application/vnd.jupyter.widget-view+json": {
       "model_id": "2814b25d5a4448da881214f4f001b093",
       "version_major": 2,
       "version_minor": 0
      },
      "text/plain": [
       "HBox(children=(Button(description='Backward', style=ButtonStyle()), Play(value=0, description='Press play', in…"
      ]
     },
     "metadata": {},
     "output_type": "display_data"
    },
    {
     "data": {
      "application/vnd.jupyter.widget-view+json": {
       "model_id": "8eedea3ff6a74dffa1941e2d4936f293",
       "version_major": 2,
       "version_minor": 0
      },
      "text/plain": [
       "Output()"
      ]
     },
     "metadata": {},
     "output_type": "display_data"
    }
   ],
   "source": [
    "current_index = 0\n",
    "\n",
    "global_xlims, global_ylims = compute_global_limits_mh(mh_trace)\n",
    "\n",
    "# Create interactive buttons.\n",
    "button_forward = widgets.Button(description=\"Forward\")\n",
    "button_backward = widgets.Button(description=\"Backward\")\n",
    "state_label = widgets.Label(value=f\"Iteration: {current_index} / {len(mh_trace)-1}\")\n",
    "\n",
    "output_plot = widgets.Output()\n",
    "\n",
    "def update_plot():\n",
    "    with output_plot:\n",
    "        clear_output(wait=True)\n",
    "        plot_mh_trace_upto(mh_trace, current_index, global_xlims, global_ylims)\n",
    "        state_label.value = f\"Iteration: {current_index} / {len(mh_trace)-1}\"\n",
    "\n",
    "def on_forward_clicked(b):\n",
    "    global current_index\n",
    "    if current_index < len(mh_trace) - 1:\n",
    "        current_index += 1\n",
    "        update_plot()\n",
    "\n",
    "def on_backward_clicked(b):\n",
    "    global current_index\n",
    "    if current_index > 0:\n",
    "        current_index -= 1\n",
    "        update_plot()\n",
    "\n",
    "# Create a Play widget.\n",
    "play_widget = widgets.Play(\n",
    "    value=0,\n",
    "    min=0,\n",
    "    max=len(mh_trace)-1,\n",
    "    step=1,\n",
    "    # time in milliseconds between steps\n",
    "    interval=200,\n",
    "    description=\"Press play\",\n",
    "    disabled=False\n",
    ")\n",
    "\n",
    "# Create a slider (if you want to display it too).\n",
    "iteration_slider = widgets.IntSlider(\n",
    "    value=0,\n",
    "    min=0,\n",
    "    max=len(mh_trace)-1,\n",
    "    step=1,\n",
    "    description='Iteration:',\n",
    "    continuous_update=True\n",
    ")\n",
    "\n",
    "# Link the play widget to the slider so that they move together.\n",
    "widgets.jslink((play_widget, 'value'), (iteration_slider, 'value'))\n",
    "\n",
    "# Now, update your update_plot function to observe changes to the slider:\n",
    "def on_slider_change(change):\n",
    "    global current_index\n",
    "    current_index = change['new']\n",
    "    update_plot()\n",
    "\n",
    "iteration_slider.observe(on_slider_change, names='value')\n",
    "\n",
    "button_forward.on_click(on_forward_clicked)\n",
    "button_backward.on_click(on_backward_clicked)\n",
    "\n",
    "# Finally, display the play widget (and slider) alongside your forward/backward buttons.\n",
    "controls = widgets.HBox([button_backward, play_widget, iteration_slider, button_forward, state_label])\n",
    "display(controls, output_plot)\n",
    "update_plot()"
   ]
  },
  {
   "cell_type": "markdown",
   "id": "d921a47c-6b1f-4e50-8870-b0d50d3b32b9",
   "metadata": {},
   "source": [
    "Remember our complicated string above? Let's see if MHMC can manage it!"
   ]
  },
  {
   "cell_type": "code",
   "execution_count": 46,
   "id": "e0490ae2-de1b-45a3-adfb-b476f30a8c1d",
   "metadata": {},
   "outputs": [
    {
     "data": {
      "text/html": [
       "\n",
       "        <progress\n",
       "            value='10000'\n",
       "            max='10000',\n",
       "            style='width: 100%'\n",
       "        >\n",
       "            10000\n",
       "        </progress>\n",
       "    "
      ],
      "text/plain": [
       "<IPython.core.display.HTML object>"
      ]
     },
     "metadata": {},
     "output_type": "display_data"
    }
   ],
   "source": [
    "# Run MH sampler\n",
    "num_iterations = 10000\n",
    "mh_trace = mh_sampler(\n",
    "    bsgrammar, \n",
    "    # a datapoint to fit\n",
    "    \"00100100010\", \n",
    "    eval_dict=bs_eval_dict,\n",
    "    starting='S', \n",
    "    num_iterations=num_iterations,\n",
    "    likelihoodf=compute_likelihood_bs\n",
    ")"
   ]
  },
  {
   "cell_type": "code",
   "execution_count": 47,
   "id": "677350b7-0260-4ece-8c3e-34674a1671cb",
   "metadata": {},
   "outputs": [
    {
     "data": {
      "text/plain": [
       "[('1', 1626),\n",
       " ('0', 1452),\n",
       " ('N(0)', 189),\n",
       " ('N(C(R(N(C(R(C(C(1,C(D(D(0)),D(0))),1)),D(0)))),1))', 180),\n",
       " ('D(1)', 179),\n",
       " ('N(C(R(N(C(R(C(C(1,C(C(0,C(0,R(C(0,1)))),N(C(1,1)))),1)),C(N(1),0)))),1))',\n",
       "  170),\n",
       " ('N(1)', 163),\n",
       " ('D(0)', 158),\n",
       " ('T(1)', 156),\n",
       " ('R(1)', 144)]"
      ]
     },
     "execution_count": 47,
     "metadata": {},
     "output_type": "execute_result"
    }
   ],
   "source": [
    "sentences = [\"\".join(tree_to_sentence(x['current_tree'])) for x in mh_trace]\n",
    "c = Counter()\n",
    "for s in sentences:\n",
    "    c[s] += 1\n",
    "c.most_common(10)"
   ]
  },
  {
   "cell_type": "markdown",
   "id": "96d494e6-784c-4833-b401-bc7c457e05ab",
   "metadata": {},
   "source": [
    "The algorithm finds one of the formulas encoding the string (But doesn't spend so much time on it because it has a very low prior):"
   ]
  },
  {
   "cell_type": "code",
   "execution_count": 51,
   "id": "dbfa1548-8598-4052-bc83-a669b936a241",
   "metadata": {},
   "outputs": [
    {
     "data": {
      "text/plain": [
       "'00100100010'"
      ]
     },
     "execution_count": 51,
     "metadata": {},
     "output_type": "execute_result"
    }
   ],
   "source": [
    "eval('N(C(R(N(C(R(C(C(1,C(C(0,C(0,R(C(0,1)))),N(C(1,1)))),1)),C(N(1),0)))),1))', bs_eval_dict)"
   ]
  },
  {
   "cell_type": "markdown",
   "id": "a8ee2156-9736-488d-b9aa-3fc0f1d832b8",
   "metadata": {},
   "source": [
    "Let's plot the process:"
   ]
  },
  {
   "cell_type": "code",
   "execution_count": 39,
   "id": "ed92c358-24ff-4f6f-a1e1-6eccdd90a3d0",
   "metadata": {},
   "outputs": [
    {
     "data": {
      "application/vnd.jupyter.widget-view+json": {
       "model_id": "2814b25d5a4448da881214f4f001b093",
       "version_major": 2,
       "version_minor": 0
      },
      "text/plain": [
       "HBox(children=(Button(description='Backward', style=ButtonStyle()), Play(value=0, description='Press play', in…"
      ]
     },
     "metadata": {},
     "output_type": "display_data"
    },
    {
     "data": {
      "application/vnd.jupyter.widget-view+json": {
       "model_id": "8eedea3ff6a74dffa1941e2d4936f293",
       "version_major": 2,
       "version_minor": 0
      },
      "text/plain": [
       "Output()"
      ]
     },
     "metadata": {},
     "output_type": "display_data"
    }
   ],
   "source": [
    "current_index = 0\n",
    "\n",
    "global_xlims, global_ylims = compute_global_limits_mh(mh_trace)\n",
    "\n",
    "# Create interactive buttons.\n",
    "button_forward = widgets.Button(description=\"Forward\")\n",
    "button_backward = widgets.Button(description=\"Backward\")\n",
    "state_label = widgets.Label(value=f\"Iteration: {current_index} / {len(mh_trace)-1}\")\n",
    "\n",
    "output_plot = widgets.Output()\n",
    "\n",
    "def update_plot():\n",
    "    with output_plot:\n",
    "        clear_output(wait=True)\n",
    "        plot_mh_trace_upto(mh_trace, current_index, global_xlims, global_ylims)\n",
    "        state_label.value = f\"Iteration: {current_index} / {len(mh_trace)-1}\"\n",
    "\n",
    "def on_forward_clicked(b):\n",
    "    global current_index\n",
    "    if current_index < len(mh_trace) - 1:\n",
    "        current_index += 1\n",
    "        update_plot()\n",
    "\n",
    "def on_backward_clicked(b):\n",
    "    global current_index\n",
    "    if current_index > 0:\n",
    "        current_index -= 1\n",
    "        update_plot()\n",
    "\n",
    "# Create a Play widget.\n",
    "play_widget = widgets.Play(\n",
    "    value=0,\n",
    "    min=0,\n",
    "    max=len(mh_trace)-1,\n",
    "    step=1,\n",
    "    # time in milliseconds between steps\n",
    "    interval=200,\n",
    "    description=\"Press play\",\n",
    "    disabled=False\n",
    ")\n",
    "\n",
    "# Create a slider (if you want to display it too).\n",
    "iteration_slider = widgets.IntSlider(\n",
    "    value=0,\n",
    "    min=0,\n",
    "    max=len(mh_trace)-1,\n",
    "    step=1,\n",
    "    description='Iteration:',\n",
    "    continuous_update=True\n",
    ")\n",
    "\n",
    "# Link the play widget to the slider so that they move together.\n",
    "widgets.jslink((play_widget, 'value'), (iteration_slider, 'value'))\n",
    "\n",
    "# Now, update your update_plot function to observe changes to the slider:\n",
    "def on_slider_change(change):\n",
    "    global current_index\n",
    "    current_index = change['new']\n",
    "    update_plot()\n",
    "\n",
    "iteration_slider.observe(on_slider_change, names='value')\n",
    "\n",
    "button_forward.on_click(on_forward_clicked)\n",
    "button_backward.on_click(on_backward_clicked)\n",
    "\n",
    "# Finally, display the play widget (and slider) alongside your forward/backward buttons.\n",
    "controls = widgets.HBox([button_backward, play_widget, iteration_slider, button_forward, state_label])\n",
    "display(controls, output_plot)\n",
    "update_plot()"
   ]
  },
  {
   "cell_type": "markdown",
   "id": "4b9d591e-2cca-44e7-afc2-0f8a9197d7d2",
   "metadata": {},
   "source": [
    "Now we can define some data with the transformation DSL to fit:"
   ]
  },
  {
   "cell_type": "code",
   "execution_count": 14,
   "id": "1c9304de-aaad-40c0-9313-a2dbbd445b9e",
   "metadata": {},
   "outputs": [],
   "source": [
    "expr_str = \"compose(map_(minus(2)), filter_(gt(2)))\"\n",
    "transformation_fn = eval(expr_str, lt_eval_dict)\n",
    "inputs = [\n",
    "    [2, 3, 5, 6, 1],\n",
    "    [6, 2, 3, 1],\n",
    "    [9, 1, 8, 3, 5, 2]\n",
    "]\n",
    "ltdata = [\n",
    "    (inp, transformation_fn(inp))  \n",
    "    for inp in inputs\n",
    "]"
   ]
  },
  {
   "attachments": {},
   "cell_type": "markdown",
   "id": "916a1089-ff16-49b2-b40e-6416a2420ed0",
   "metadata": {},
   "source": [
    "Let's run the MH algorith, with subtree-regeneration as our proposal function."
   ]
  },
  {
   "cell_type": "code",
   "execution_count": 15,
   "id": "bac54a8c-b1fb-4a8a-a881-117588d89d22",
   "metadata": {},
   "outputs": [
    {
     "data": {
      "text/html": [
       "\n",
       "        <progress\n",
       "            value='5000'\n",
       "            max='5000',\n",
       "            style='width: 100%'\n",
       "        >\n",
       "            5000\n",
       "        </progress>\n",
       "    "
      ],
      "text/plain": [
       "<IPython.core.display.HTML object>"
      ]
     },
     "metadata": {},
     "output_type": "display_data"
    }
   ],
   "source": [
    "# Run MH sampler\n",
    "num_iterations = 5000\n",
    "mh_trace = mh_sampler(\n",
    "    ltgrammar, \n",
    "    ltdata, \n",
    "    eval_dict=lt_eval_dict,\n",
    "    starting='T', \n",
    "    num_iterations=num_iterations,\n",
    "    likelihoodf=compute_likelihood_lt\n",
    ")"
   ]
  },
  {
   "cell_type": "markdown",
   "id": "421b76d0-83c5-4b37-a86d-9fe654dc5b1d",
   "metadata": {},
   "source": [
    "And plot:"
   ]
  },
  {
   "cell_type": "code",
   "execution_count": 16,
   "id": "3023b02f-47dd-4840-97e7-87dee0da5aa0",
   "metadata": {},
   "outputs": [
    {
     "data": {
      "application/vnd.jupyter.widget-view+json": {
       "model_id": "5299022654e144e198685c14e45cd5aa",
       "version_major": 2,
       "version_minor": 0
      },
      "text/plain": [
       "HBox(children=(Button(description='Backward', style=ButtonStyle()), Play(value=0, description='Press play', in…"
      ]
     },
     "metadata": {},
     "output_type": "display_data"
    },
    {
     "data": {
      "application/vnd.jupyter.widget-view+json": {
       "model_id": "2c653e96bb6e4bf29ab1354a0e5c0562",
       "version_major": 2,
       "version_minor": 0
      },
      "text/plain": [
       "Output()"
      ]
     },
     "metadata": {},
     "output_type": "display_data"
    }
   ],
   "source": [
    "current_index = 0\n",
    "\n",
    "global_xlims, global_ylims = compute_global_limits_mh(mh_trace)\n",
    "\n",
    "# Create interactive buttons.\n",
    "button_forward = widgets.Button(description=\"Forward\")\n",
    "button_backward = widgets.Button(description=\"Backward\")\n",
    "state_label = widgets.Label(value=f\"Iteration: {current_index} / {len(mh_trace)-1}\")\n",
    "\n",
    "output_plot = widgets.Output()\n",
    "\n",
    "def update_plot():\n",
    "    with output_plot:\n",
    "        clear_output(wait=True)\n",
    "        plot_mh_trace_upto(mh_trace, current_index, global_xlims, global_ylims)\n",
    "        state_label.value = f\"Iteration: {current_index} / {len(mh_trace)-1}\"\n",
    "\n",
    "def on_forward_clicked(b):\n",
    "    global current_index\n",
    "    if current_index < len(mh_trace) - 1:\n",
    "        current_index += 1\n",
    "        update_plot()\n",
    "\n",
    "def on_backward_clicked(b):\n",
    "    global current_index\n",
    "    if current_index > 0:\n",
    "        current_index -= 1\n",
    "        update_plot()\n",
    "\n",
    "# Create a Play widget.\n",
    "play_widget = widgets.Play(\n",
    "    value=0,\n",
    "    min=0,\n",
    "    max=len(mh_trace)-1,\n",
    "    step=1,\n",
    "    # time in milliseconds between steps\n",
    "    interval=200,\n",
    "    description=\"Press play\",\n",
    "    disabled=False\n",
    ")\n",
    "\n",
    "# Create a slider (if you want to display it too).\n",
    "iteration_slider = widgets.IntSlider(\n",
    "    value=0,\n",
    "    min=0,\n",
    "    max=len(mh_trace)-1,\n",
    "    step=1,\n",
    "    description='Iteration:',\n",
    "    continuous_update=True\n",
    ")\n",
    "\n",
    "# Link the play widget to the slider so that they move together.\n",
    "widgets.jslink((play_widget, 'value'), (iteration_slider, 'value'))\n",
    "\n",
    "# Now, update your update_plot function to observe changes to the slider:\n",
    "def on_slider_change(change):\n",
    "    global current_index\n",
    "    current_index = change['new']\n",
    "    update_plot()\n",
    "\n",
    "iteration_slider.observe(on_slider_change, names='value')\n",
    "\n",
    "button_forward.on_click(on_forward_clicked)\n",
    "button_backward.on_click(on_backward_clicked)\n",
    "\n",
    "# Finally, display the play widget (and slider) alongside your forward/backward buttons.\n",
    "controls = widgets.HBox([button_backward, play_widget, iteration_slider, button_forward, state_label])\n",
    "display(controls, output_plot)\n",
    "update_plot()"
   ]
  },
  {
   "cell_type": "markdown",
   "id": "360ae1be-f22e-454f-b1e8-2b90077dceb5",
   "metadata": {},
   "source": [
    "Let's see the approximated posterior, i.e., the proportion of steps that the chain spent in each formula:"
   ]
  },
  {
   "cell_type": "code",
   "execution_count": 31,
   "id": "5e432d02-4faf-4a64-ad05-faea30bf2617",
   "metadata": {},
   "outputs": [
    {
     "data": {
      "text/plain": [
       "[('compose(map_(minus(2)),filter_(gt(1)))', 2448),\n",
       " ('compose(map_(minus(2)),filter_(gt(2)))', 2104),\n",
       " ('truncate(1)', 114),\n",
       " ('compose(map_(minus(2)),filter_(not_(not_(gt(2)))))', 92),\n",
       " ('compose(map_(minus(2)),filter_(not_(not_(gt(1)))))', 72),\n",
       " ('compose(filter_(gt(3)),reverse)', 23),\n",
       " ('compose(filter_(gt(3)),truncate(4))', 13),\n",
       " ('compose(reverse,filter_(even))', 10),\n",
       " ('compose(truncate(2),reverse)', 10),\n",
       " ('compose(filter_(gt(3)),map_(times(2)))', 10)]"
      ]
     },
     "execution_count": 31,
     "metadata": {},
     "output_type": "execute_result"
    }
   ],
   "source": [
    "sentences = [\"\".join(tree_to_sentence(x['current_tree'])) for x in mh_trace]\n",
    "c = Counter()\n",
    "for s in sentences:\n",
    "    c[s] += 1\n",
    "c.most_common(10)"
   ]
  },
  {
   "cell_type": "markdown",
   "id": "b29391c8-bbae-40e0-80dd-ff27a28b0b3a",
   "metadata": {},
   "source": [
    "## Sequential Monte Carlo"
   ]
  },
  {
   "cell_type": "markdown",
   "id": "6141d2ab-a584-40ac-b2a5-54ce65374986",
   "metadata": {},
   "source": [
    "Next, we can have a look at the SMC algorithm, where a cloud of particles explores a space with a sequence of mutations, reweighting, and sampling steps. Let's first define our data again to keep things local:"
   ]
  },
  {
   "cell_type": "code",
   "execution_count": 54,
   "id": "e47ad03f-feac-450b-a0dc-e9a7f824fbf2",
   "metadata": {},
   "outputs": [],
   "source": [
    "expr_str = \"compose(map_(minus(2)), filter_(gt(2)))\"\n",
    "\n",
    "transformation_fn = eval(expr_str, lt_eval_dict)\n",
    "\n",
    "inputs = [\n",
    "    [2, 3, 5, 6, 1],\n",
    "    [6, 2, 3, 1],\n",
    "    [9, 1, 8, 3, 5, 2]\n",
    "]\n",
    "\n",
    "data = [\n",
    "    (inp, transformation_fn(inp))  \n",
    "    for inp in inputs\n",
    "]"
   ]
  },
  {
   "cell_type": "markdown",
   "id": "768d5b86-f6a3-4340-8ed4-63e736a43613",
   "metadata": {},
   "source": [
    "Next, we run the algorithm:"
   ]
  },
  {
   "cell_type": "code",
   "execution_count": 55,
   "id": "3381d0aa-ff3f-48ed-8add-51a276c4a966",
   "metadata": {},
   "outputs": [
    {
     "data": {
      "text/html": [
       "\n",
       "        <progress\n",
       "            value='500'\n",
       "            max='500',\n",
       "            style='width: 100%'\n",
       "        >\n",
       "            500\n",
       "        </progress>\n",
       "    "
      ],
      "text/plain": [
       "<IPython.core.display.HTML object>"
      ]
     },
     "metadata": {},
     "output_type": "display_data"
    }
   ],
   "source": [
    "smc_states = smc_sampler(\n",
    "    ltgrammar, \n",
    "    data, \n",
    "    'T', \n",
    "    lt_eval_dict,\n",
    "    num_particles=1000, \n",
    "    num_iterations=500,\n",
    "    resample_prop=0.5,\n",
    "    likelihoodf=compute_likelihood_lt\n",
    ")"
   ]
  },
  {
   "cell_type": "markdown",
   "id": "eabe9acc-c224-498e-9c56-cae284c2bc76",
   "metadata": {},
   "source": [
    "Let's see how much many particles are on each formula at the final step:"
   ]
  },
  {
   "cell_type": "code",
   "execution_count": 56,
   "id": "bf26c0fc-307f-42fa-b8cc-5fb839627c3a",
   "metadata": {},
   "outputs": [
    {
     "data": {
      "text/plain": [
       "[('compose(filter_(even),map_(minus(2)))', 61),\n",
       " ('compose(filter_(gt(3)),map_(minus(2)))', 38),\n",
       " ('compose(filter_(gt(4)),map_(minus(2)))', 29),\n",
       " ('compose(reverse,map_(minus(2)))', 25),\n",
       " ('compose(filter_(gt(5)),map_(minus(2)))', 24),\n",
       " ('compose(filter_(gt(1)),map_(minus(2)))', 23),\n",
       " ('reverse', 22),\n",
       " ('compose(sort,map_(minus(2)))', 20),\n",
       " ('compose(filter_(gt(2)),map_(minus(2)))', 19),\n",
       " ('compose(filter_(gt(4)),map_(minus(3)))', 18)]"
      ]
     },
     "execution_count": 56,
     "metadata": {},
     "output_type": "execute_result"
    }
   ],
   "source": [
    "c = Counter()\n",
    "for s in smc_states[-1]['particles']:\n",
    "    c[''.join(s['sentence'])] += 1\n",
    "c.most_common(10)"
   ]
  },
  {
   "cell_type": "markdown",
   "id": "3e71ef48-2204-43dc-9198-9258ea2bc9a2",
   "metadata": {},
   "source": [
    "And let's visualize it!"
   ]
  },
  {
   "cell_type": "code",
   "execution_count": 59,
   "id": "fe4af7b2-1e34-45af-afde-5e8c41dc1d4a",
   "metadata": {},
   "outputs": [
    {
     "data": {
      "application/vnd.jupyter.widget-view+json": {
       "model_id": "23b84cf9729d4dfba3801f98cf557f36",
       "version_major": 2,
       "version_minor": 0
      },
      "text/plain": [
       "HBox(children=(Button(description='Backward', style=ButtonStyle()), Play(value=0, description='Press play', in…"
      ]
     },
     "metadata": {},
     "output_type": "display_data"
    },
    {
     "data": {
      "application/vnd.jupyter.widget-view+json": {
       "model_id": "5d259bb08e9044aaa8e6000aa229e6c9",
       "version_major": 2,
       "version_minor": 0
      },
      "text/plain": [
       "Output()"
      ]
     },
     "metadata": {},
     "output_type": "display_data"
    }
   ],
   "source": [
    "global_lims, global_lims = compute_global_limits_smc(smc_states, ltgrammar, data, lt_eval_dict, likelihoodf=compute_likelihood_lt)\n",
    "\n",
    "# Create a slider to select the state index.\n",
    "state_slider = widgets.IntSlider(value=0, min=0, max=len(smc_states)-1, step=1, description='State:')\n",
    "\n",
    "# Create a Play widget (interval in ms)\n",
    "play_widget = widgets.Play(value=0, min=0, max=len(smc_states)-1, step=1, interval=300, description=\"Press play\")\n",
    "\n",
    "# Link the Play widget to the slider.\n",
    "widgets.jslink((play_widget, 'value'), (state_slider, 'value'))\n",
    "\n",
    "# Create Forward/Backward buttons.\n",
    "button_forward = widgets.Button(description=\"Forward\")\n",
    "button_backward = widgets.Button(description=\"Backward\")\n",
    "state_label = widgets.Label(value=f\"State: 0 / {len(smc_states)-1}\")\n",
    "\n",
    "output_plot = widgets.Output()\n",
    "\n",
    "# Global index\n",
    "current_state_index = 0\n",
    "\n",
    "def update_plot(index):\n",
    "    with output_plot:\n",
    "        clear_output(wait=True)\n",
    "        state = smc_states[index]\n",
    "        plot_state_2d(state, ltgrammar, data, global_xlims, global_ylims, lt_eval_dict, compute_likelihood_lt)\n",
    "        state_label.value = f\"State: {index} / {len(smc_states)-1}\"\n",
    "\n",
    "# Update when slider value changes.\n",
    "def on_slider_change(change):\n",
    "    global current_state_index\n",
    "    current_state_index = change['new']\n",
    "    update_plot(current_state_index)\n",
    "\n",
    "state_slider.observe(on_slider_change, names='value')\n",
    "\n",
    "def on_forward_clicked(b):\n",
    "    global current_state_index\n",
    "    if current_state_index < len(smc_states)-1:\n",
    "        current_state_index += 1\n",
    "        state_slider.value = current_state_index\n",
    "\n",
    "def on_backward_clicked(b):\n",
    "    global current_state_index\n",
    "    if current_state_index > 0:\n",
    "        current_state_index -= 1\n",
    "        state_slider.value = current_state_index\n",
    "\n",
    "button_forward.on_click(on_forward_clicked)\n",
    "button_backward.on_click(on_backward_clicked)\n",
    "\n",
    "controls = widgets.HBox([button_backward, play_widget, state_slider, button_forward, state_label])\n",
    "display(controls, output_plot)\n",
    "update_plot(0)"
   ]
  }
 ],
 "metadata": {
  "kernelspec": {
   "display_name": "arc",
   "language": "python",
   "name": "arc"
  },
  "language_info": {
   "codemirror_mode": {
    "name": "ipython",
    "version": 3
   },
   "file_extension": ".py",
   "mimetype": "text/x-python",
   "name": "python",
   "nbconvert_exporter": "python",
   "pygments_lexer": "ipython3",
   "version": "3.11.11"
  }
 },
 "nbformat": 4,
 "nbformat_minor": 5
}
