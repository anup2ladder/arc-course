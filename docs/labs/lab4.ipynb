{
 "cells": [
  {
   "cell_type": "markdown",
   "id": "efe852ed-8a9c-46c9-bf94-b7dbc0a18c09",
   "metadata": {},
   "source": [
    "# Lab 3"
   ]
  },
  {
   "cell_type": "markdown",
   "id": "c58c78eb-721c-4604-996f-1639e80cffeb",
   "metadata": {},
   "source": [
    "## Variations on ARC"
   ]
  },
  {
   "cell_type": "markdown",
   "id": "4b16cac7-f8de-4169-b98d-150ff25dbc2a",
   "metadata": {},
   "source": [
    "## Test Time Training"
   ]
  },
  {
   "cell_type": "markdown",
   "id": "e8fcbd54-301e-4ef2-a5b6-759721440e1e",
   "metadata": {},
   "source": [
    "## Deep-learning-guided synthesis"
   ]
  },
  {
   "cell_type": "markdown",
   "id": "0c5d6324-9d90-43e3-80f4-807bed8eb4f7",
   "metadata": {},
   "source": [
    "### Transduction vs induction"
   ]
  },
  {
   "cell_type": "markdown",
   "id": "f8bb8c9c-0141-4bd2-a503-cf570179e6cd",
   "metadata": {
    "jp-MarkdownHeadingCollapsed": true
   },
   "source": [
    "### Dataset augmentations"
   ]
  },
  {
   "cell_type": "markdown",
   "id": "5204a844-70e4-44cd-ae08-ec2a1261434e",
   "metadata": {},
   "source": [
    "#### Cross-augmentation"
   ]
  },
  {
   "cell_type": "markdown",
   "id": "e2993fdd-07e0-46da-b66b-4dcaca089ea2",
   "metadata": {},
   "source": [
    "#### Exploiting invariancess"
   ]
  },
  {
   "cell_type": "markdown",
   "id": "ec10b921-fcdc-47f4-8915-20d5b5744d1c",
   "metadata": {},
   "source": [
    "### Voting systems"
   ]
  }
 ],
 "metadata": {
  "kernelspec": {
   "display_name": "arc",
   "language": "python",
   "name": "arc"
  },
  "language_info": {
   "codemirror_mode": {
    "name": "ipython",
    "version": 3
   },
   "file_extension": ".py",
   "mimetype": "text/x-python",
   "name": "python",
   "nbconvert_exporter": "python",
   "pygments_lexer": "ipython3",
   "version": "3.11.11"
  }
 },
 "nbformat": 4,
 "nbformat_minor": 5
}
