{
 "cells": [
  {
   "cell_type": "markdown",
   "id": "a350d660-75dd-42ec-8eb1-99a554cba938",
   "metadata": {},
   "source": [
    "# Lab 1 - Interpreted Languages and Grammars"
   ]
  },
  {
   "cell_type": "markdown",
   "id": "0a399519-9ea9-4af0-9ed8-04557e8ba351",
   "metadata": {},
   "source": [
    "## Imports and useful functions"
   ]
  },
  {
   "cell_type": "code",
   "execution_count": 1,
   "id": "14577193-6787-40cc-905a-0d10a4b3b0db",
   "metadata": {
    "tags": []
   },
   "outputs": [
    {
     "name": "stdout",
     "output_type": "stream",
     "text": [
      "Put clearscreen() as the first line in a cell (after the import command) to re-run turtle commands in the cell\n"
     ]
    }
   ],
   "source": [
    "from numpy.random import choice\n",
    "import numpy as np\n",
    "import matplotlib.pyplot as plt\n",
    "import re\n",
    "from ColabTurtlePlus import Turtle as t\n",
    "import ColabTurtlePlus as ctp\n",
    "import IPython\n",
    "\n",
    "import cairosvg\n",
    "import io\n",
    "from PIL import Image, ImageFilter\n",
    "from scipy.signal import sawtooth\n",
    "from pprint import pprint\n",
    "import seaborn as sns\n",
    "import IPython"
   ]
  },
  {
   "cell_type": "code",
   "execution_count": 2,
   "id": "0c7fd51c-fb40-463e-b8cf-9f1a985ff5f8",
   "metadata": {},
   "outputs": [],
   "source": [
    "from symbolic_utilities import normalize, apply_rule, complete"
   ]
  },
  {
   "cell_type": "code",
   "execution_count": 3,
   "id": "5a924afe-d22f-49b0-aae1-4c590238b1c0",
   "metadata": {},
   "outputs": [],
   "source": [
    "from symbolic_utilities import get_svg, blur_img, svg_to_img"
   ]
  },
  {
   "cell_type": "markdown",
   "id": "01913196-0c12-4d8b-b586-a1a8c040d34c",
   "metadata": {
    "tags": []
   },
   "source": [
    "## Formal Grammars "
   ]
  },
  {
   "attachments": {},
   "cell_type": "markdown",
   "id": "fc95519d-d5fa-41a2-b931-a48666962de9",
   "metadata": {},
   "source": [
    "In the lecture, we have covered what grammars are and how they help us define a space of possible programs for our program induction system. In this lab, we will see how to define and interpret them in python. \n",
    "\n",
    "One simple and intuitive way of implementing a grammar in python is as a dictionary:\n",
    "- The keys are the left hand side rules \n",
    "- The values are lists containing the possible strings that can be substituted by the key.\n",
    "\n",
    "> __NOTE__: To see why we need to use lists as values rather than using a different key for each rule, try to repeat the same key more than once. What happens?\n",
    "\n",
    "For instance, let's write the grammar with the following rules:\n",
    "$$\n",
    "S \\rightarrow aS | bS | \\epsilon\n",
    "$$"
   ]
  },
  {
   "cell_type": "code",
   "execution_count": 14,
   "id": "582112b4-c9d3-4361-901f-4a68829d514a",
   "metadata": {},
   "outputs": [],
   "source": [
    "grammar = {\n",
    "    'S': [\n",
    "        'aS', \n",
    "        'bS', \n",
    "        'aSa',\n",
    "        'bSb',\n",
    "        'bSa',  # added\n",
    "        'aSb',  # added\n",
    "        ''\n",
    "    ]\n",
    "}"
   ]
  },
  {
   "cell_type": "markdown",
   "id": "6d837926-f3dc-4a87-9d51-2539cdd64fac",
   "metadata": {},
   "source": [
    "One thing we can do with this way of defining grammars is writing a function that randomly applies rule until we get to a string consisting only of terminals:"
   ]
  },
  {
   "cell_type": "code",
   "execution_count": 20,
   "id": "9e9f693a-f949-46e4-a7c5-7ba90fec76a0",
   "metadata": {},
   "outputs": [
    {
     "name": "stdout",
     "output_type": "stream",
     "text": [
      "Iteration 1: aSa\n",
      "Iteration 2: aa\n",
      "String:  aa\n"
     ]
    }
   ],
   "source": [
    "# always start with the starting symbol\n",
    "current_sentence = 'S'\n",
    "# while there is a non-terminal in the sentence\n",
    "\n",
    "i = 0\n",
    "while 'S' in current_sentence:\n",
    "    i+=1\n",
    "    # substitute the first occurrence of S\n",
    "    # with a randomly chosen substitution rule\n",
    "    current_sentence = current_sentence.replace(\n",
    "        'S', \n",
    "        choice((grammar['S'])),\n",
    "        # NOTE: in this particular case there will always\n",
    "        # only be one S, but this is not true for \n",
    "        # all grammars!\n",
    "        1\n",
    "    )\n",
    "    print(f\"Iteration {i}: {current_sentence}\")\n",
    "print('String: ', current_sentence)"
   ]
  },
  {
   "cell_type": "markdown",
   "id": "a9c0e398-ba0e-4c13-9f8f-edd78b3a0b66",
   "metadata": {},
   "source": [
    "As an exercise, write a function that takes a grammar, a set of terminals, and a set of nonterminals, and determines whether the grammar is context-free (Spend about 20 minutes on this - if you see that you can do it, leave it!):"
   ]
  },
  {
   "cell_type": "code",
   "execution_count": 21,
   "id": "3b7c937a-a447-4586-8943-6bc1ef2db6b9",
   "metadata": {},
   "outputs": [],
   "source": [
    "from typing import Dict, List"
   ]
  },
  {
   "cell_type": "code",
   "execution_count": 23,
   "id": "4ff4df64-9a5e-4335-9717-0ce3f179c385",
   "metadata": {},
   "outputs": [
    {
     "data": {
      "text/plain": [
       "dict_keys"
      ]
     },
     "execution_count": 23,
     "metadata": {},
     "output_type": "execute_result"
    }
   ],
   "source": []
  },
  {
   "cell_type": "code",
   "execution_count": null,
   "id": "ad1b7d60-65c6-46c3-9df1-f1d830ac0578",
   "metadata": {},
   "outputs": [],
   "source": [
    "# Your function here\n",
    "\n",
    "def function1(grammar: Dict[str, List[str]]) -> None:\n",
    "    '''Check if a grammar is context free'''\n",
    "    \n"
   ]
  },
  {
   "cell_type": "markdown",
   "id": "d23df4c3-ab14-4265-993a-d68a58e45470",
   "metadata": {},
   "source": [
    "Now we define a _probabilistic_ context-free grammar by adding the (unnormalized) probability of applying the rule rather than the other rules with the same left-hand side."
   ]
  },
  {
   "cell_type": "code",
   "execution_count": null,
   "id": "f3cd7c8f-5282-43b8-84f4-51054ee97053",
   "metadata": {},
   "outputs": [],
   "source": [
    "#### your class definition here!\n",
    "\n"
   ]
  },
  {
   "cell_type": "markdown",
   "id": "bdf3208e-d8e6-4877-98bf-d6451a77d420",
   "metadata": {},
   "source": [
    "Define a function that generates a random production in the language by iteratively applying the rules according to the defined probabilities. The following code should run (but possibly give a different answer on different runs):\n",
    "\n",
    "```python\n",
    "generate(grammar)\n",
    "```\n",
    "\n",
    "printing e.g.,\n",
    "```python\n",
    "aabbaa\n",
    "```"
   ]
  },
  {
   "cell_type": "code",
   "execution_count": null,
   "id": "afd99649-d332-476b-a5d1-2c578a0208c0",
   "metadata": {},
   "outputs": [],
   "source": [
    "#### Test generate here!\n",
    "\n"
   ]
  },
  {
   "cell_type": "markdown",
   "id": "be3a8e3b-2688-4b8f-8bbf-28019f5e65fc",
   "metadata": {},
   "source": [
    "What happens when we increase...\n",
    "\n",
    "- the probability of the rule $S \\rightarrow aSa$?\n",
    "- the probability of the rule $S \\rightarrow bSb$?\n",
    "- the probability of the rule $S \\rightarrow \\epsilon$?"
   ]
  },
  {
   "cell_type": "markdown",
   "id": "c5fcde41-8d4e-4d51-9835-4f20b1e8276d",
   "metadata": {},
   "source": [
    "## Case study 1: Basic arithmetic"
   ]
  },
  {
   "cell_type": "markdown",
   "id": "5f5ea1fc-802c-49bb-bca1-fe430a4aaafb",
   "metadata": {},
   "source": [
    "Let's put all of these tools together into a couple case studies: a simple grammar for arithmetic, a grammar of shapes, and a grammar of sounds. "
   ]
  },
  {
   "cell_type": "markdown",
   "id": "8dc064c4-eaa7-4ad9-9199-01a044d73e21",
   "metadata": {},
   "source": [
    "Before we get onto interpreting sentences from the grammar, we need a grammar to produce sentences with. For simplicity, we will encode the language as a dictionary. The keys are the left-hand side of substitution rules, the values a list of possible right-hand sides. \n",
    "\n",
    "> __NOTE__ We will put non-terminals between angle brackets, e.g. `'<S>'` to simplify parsing the strings.\n",
    "\n",
    "Let's construct a very simple grammar:"
   ]
  },
  {
   "cell_type": "code",
   "execution_count": null,
   "id": "e218e0e8-3aab-4774-8008-371f2e712055",
   "metadata": {},
   "outputs": [],
   "source": [
    "CFG_arithmetic = {\n",
    "    '<S>': ['plusOne(<S>)', 'one']\n",
    "}"
   ]
  },
  {
   "cell_type": "markdown",
   "id": "1bd22dd2-aa8a-4995-8fc8-b4aab8999041",
   "metadata": {},
   "source": [
    "Let's produce a random string:"
   ]
  },
  {
   "cell_type": "code",
   "execution_count": null,
   "id": "e703d996-f36c-4786-9695-294d7974c80e",
   "metadata": {},
   "outputs": [],
   "source": [
    "complete('<S>', CFG_arithmetic)"
   ]
  },
  {
   "cell_type": "markdown",
   "id": "6863e70f-7024-4370-93c1-70134cc249f3",
   "metadata": {},
   "source": [
    "Note that even though we have a sentence now and we have an _intuitive_ sense of what it could mean, we still need a way of implementing the interpretation in python. So let's do that!"
   ]
  },
  {
   "cell_type": "markdown",
   "id": "08d9f996-4078-4bb6-b0c7-d515bfd8ef16",
   "metadata": {},
   "source": [
    "Let's get onto interpretation. We will use $\\lambda$ expressions to encode the meaning of our operators. Thankfully this is made quite easy by Python's lambda syntax, which we have seen a couple of weeks ago. We want to interpret the very simple arithmetic language defined above. We assume a type system with:\n",
    "- One primitive type $n$, the type of integers.\n",
    "- Function types defined inductively: $<\\alpha, \\beta>$ is the set of functions from things of type $\\alpha$ to things of type $\\beta$."
   ]
  },
  {
   "cell_type": "markdown",
   "id": "ef2bc325-6ca6-4552-a8be-4900fe2db79b",
   "metadata": {},
   "source": [
    "We can give meanings to all the terminals in our language. We do this in a dictionary: the keys are the terminals of our grammar and the values are the meanings, written as $\\lambda$ expressions:"
   ]
  },
  {
   "cell_type": "code",
   "execution_count": null,
   "id": "1f4a52da-0956-485a-bf50-7f989d641a48",
   "metadata": {},
   "outputs": [],
   "source": [
    "meanings = {\n",
    "    # type n\n",
    "    'one': 1,\n",
    "    # type <n,n>\n",
    "    'plusOne': lambda x: x+1\n",
    "}"
   ]
  },
  {
   "cell_type": "markdown",
   "id": "afef097b-7878-45c6-b432-ce53a632a75a",
   "metadata": {},
   "source": [
    "Our primitives can be applied to each other in a way consistent with their types:"
   ]
  },
  {
   "cell_type": "code",
   "execution_count": null,
   "id": "7c86542f-ced5-48e2-b9ef-4edb65cc1911",
   "metadata": {},
   "outputs": [],
   "source": [
    "# n to n\n",
    "meanings['plusOne'](\n",
    "    # n to n\n",
    "    meanings['plusOne'](\n",
    "        # n\n",
    "        meanings['one']\n",
    "    )\n",
    ")"
   ]
  },
  {
   "cell_type": "markdown",
   "id": "ad9dfbf9-5c02-4533-939d-f3a57bac2236",
   "metadata": {},
   "source": [
    "If the primitives in the language are defined, we can also write a string in the language as a python string, e.g., `'plusOne(one)'`. This is useful when e.g. building random strings from the language. However, we need a way to go from the string to the _interpreted_ string. For this, we exploit python's own interpreter via the keyword `eval`. Python's `eval` function plays the role of the interpretation function which we discussed in class, but it allows us to not take care of parsing brackets (going from a string to the underlying parse tree to interpret).\n",
    "\n",
    "> __NOTE__ It is generally not recommended to use Python's `eval`. We will use it here only to evaluate sentences in our hand-made grammars, but never let it evaluate something you don't understand! We can pass `meanings` as the second argument of `eval` to tell it which symbols to interpret.\n",
    "\n",
    "Let's see a simple example:"
   ]
  },
  {
   "cell_type": "code",
   "execution_count": null,
   "id": "866690ad-d0d1-476b-8c36-3c26a2832348",
   "metadata": {},
   "outputs": [],
   "source": [
    "eval('plusOne(plusOne(one))', meanings)"
   ]
  },
  {
   "cell_type": "markdown",
   "id": "df68405d-72d7-436d-867d-374ca0e9c785",
   "metadata": {},
   "source": [
    "Now we have a way of generating random strings from our gramnmar, as well as interpreting them. Therefore, we can study what happens when we produce a bunch of random strings. For instance, we can ask: what's the distribution of numbers produced by our PCFG?"
   ]
  },
  {
   "cell_type": "code",
   "execution_count": null,
   "id": "e9523b6f-58b2-4501-ac7e-8c0610debed9",
   "metadata": {},
   "outputs": [],
   "source": [
    "# plot distribution of numbers obtained with this grammar\n",
    "numbers = [\n",
    "    eval(complete('<S>', CFG_arithmetic), meanings) \n",
    "    for _ in range(10000)\n",
    "]"
   ]
  },
  {
   "cell_type": "code",
   "execution_count": null,
   "id": "349f8a4a-0d88-4c6c-b6e3-76d9f70066fe",
   "metadata": {},
   "outputs": [],
   "source": [
    "plt.hist(numbers, density=True, bins=np.arange(1,13))\n",
    "plt.xticks(np.arange(1, 13))\n",
    "plt.show()"
   ]
  },
  {
   "cell_type": "markdown",
   "id": "9f5eb7c5-fbaa-4626-9ff7-11f0c13a2152",
   "metadata": {},
   "source": [
    "Turns out the probability of each number $n$ is $2^{-n}$. Can you tell why?"
   ]
  },
  {
   "cell_type": "markdown",
   "id": "02e05b3b-03dc-4238-83df-18f539538d72",
   "metadata": {},
   "source": [
    "In practice, we'll mostly work with _probabilistic_ context free grammars. The idea here is that for each nonterminal we specify the probability of each possible substitution. A natural way of doing this here is, instead of having simply a list of possible substitutions as the value of the grammar dictionary, we have a list of tuples. The first element of each tuple is the (unnormalized) probability of that substitution rule, the second element is the actual right-hand side. \n",
    "\n",
    "Applying this to our simple arithmetic grammar above:"
   ]
  },
  {
   "cell_type": "code",
   "execution_count": null,
   "id": "2faf13b3-8f15-47b2-af06-9c94e299bf5c",
   "metadata": {},
   "outputs": [],
   "source": [
    "CFG_arithmetic = {\n",
    "    '<S>': [\n",
    "        (1, 'plusOne(<S>)'), \n",
    "        (1, 'one')\n",
    "    ]\n",
    "}"
   ]
  },
  {
   "cell_type": "markdown",
   "id": "0fca54c0-e783-4bb3-9de9-66ea5a6a3f10",
   "metadata": {},
   "source": [
    "Our function `complete` still works, but now applies substitution rules with the given probabilities:"
   ]
  },
  {
   "cell_type": "code",
   "execution_count": null,
   "id": "cf777124-4973-421b-8d3a-a639aff94401",
   "metadata": {},
   "outputs": [],
   "source": [
    "complete('<S>', CFG_arithmetic)"
   ]
  },
  {
   "cell_type": "markdown",
   "id": "1ed4b0fb-eab8-4014-90ab-2076323ff3fa",
   "metadata": {},
   "source": [
    "Our simple arithmetical grammar is cool and all, but extremely small. Let's enrich it slightly:"
   ]
  },
  {
   "cell_type": "code",
   "execution_count": null,
   "id": "3e2dd561-acd7-421a-8e2a-1ead6e5ff728",
   "metadata": {},
   "outputs": [],
   "source": [
    "CFG_arithmetic = {\n",
    "    '<S>': [\n",
    "        (1, 'plusOne(<S>)'), \n",
    "        (1, 'one'),\n",
    "        # NEW!\n",
    "        (0.3, 'plus(<S>)(<S>)'),\n",
    "        (0.3, 'minus(<S>)(<S>)')\n",
    "    ]\n",
    "}"
   ]
  },
  {
   "cell_type": "code",
   "execution_count": null,
   "id": "d4021842-2bab-462f-a917-485ae4280ff0",
   "metadata": {},
   "outputs": [],
   "source": [
    "CFG_arithmetic"
   ]
  },
  {
   "cell_type": "markdown",
   "id": "2d62202c-4b17-4b8c-a7fc-6497afd008dc",
   "metadata": {},
   "source": [
    "We also need to add the meaning of the new terminals:"
   ]
  },
  {
   "cell_type": "code",
   "execution_count": null,
   "id": "efa8acc5-4134-4e48-9fc2-31911d967bca",
   "metadata": {},
   "outputs": [],
   "source": [
    "# type <n,<n,n>>\n",
    "meanings['plus'] = lambda x: lambda y: x + y\n",
    "# type <n,<n,n>>\n",
    "meanings['minus'] = lambda x: lambda y: x - y"
   ]
  },
  {
   "cell_type": "markdown",
   "id": "719f5388-c837-4e42-a5de-4a00ffc960ed",
   "metadata": {},
   "source": [
    "Make sure that we can interpret the strings produces by the expanded grammar:"
   ]
  },
  {
   "cell_type": "code",
   "execution_count": null,
   "id": "27eed478-e8dd-47e3-afbe-0dd3e5b0c9c0",
   "metadata": {},
   "outputs": [],
   "source": [
    "eval('plus(plusOne(plusOne(one)))(plusOne(one))', meanings)"
   ]
  },
  {
   "cell_type": "markdown",
   "id": "89842af6-828d-4b40-88ea-2ad6d0c6c4d6",
   "metadata": {},
   "source": [
    "Let's produce a bunch of sentences in the new grammar and see what distribution their interpretation takes:"
   ]
  },
  {
   "cell_type": "code",
   "execution_count": null,
   "id": "84dc2e42-2def-4a46-b999-a710f209e6b5",
   "metadata": {},
   "outputs": [],
   "source": [
    "# plot distribution of numbers obtained with this grammar\n",
    "numbers = [\n",
    "    eval(complete('<S>', CFG_arithmetic), meanings) \n",
    "    for _ in range(10000)\n",
    "]"
   ]
  },
  {
   "cell_type": "code",
   "execution_count": null,
   "id": "1b883dbb-e2c5-4e11-8db5-026e01cae1b7",
   "metadata": {},
   "outputs": [],
   "source": [
    "sns.displot(\n",
    "    numbers,\n",
    "    stat='percent'\n",
    ")"
   ]
  },
  {
   "cell_type": "markdown",
   "id": "9f1f4af3-a46c-4a5e-90fe-76840b99edbf",
   "metadata": {},
   "source": [
    "That was a very simple example, but of course there's much more we can do with grammars!"
   ]
  },
  {
   "cell_type": "markdown",
   "id": "9bef2155-d57c-4ca5-b5d9-d8ac16a12544",
   "metadata": {},
   "source": [
    "## Case study 2: Shapes"
   ]
  },
  {
   "attachments": {},
   "cell_type": "markdown",
   "id": "9501ff3d-4e74-4697-bb19-0aae40c860fb",
   "metadata": {},
   "source": [
    "Numbers are cool, but we can do more interesting stuff too. For instance, shapes! \n",
    "\n",
    "You can think of a shape as the result of a sequence of movements of a pen, e.g., 'move forward', 'move backward', etc. Based on these movements and ways to combine them, we can define a grammar that produces series of instructions that define shapes:"
   ]
  },
  {
   "cell_type": "markdown",
   "id": "473d31a0-3d79-4037-9b8b-c9fca6e6dc7e",
   "metadata": {},
   "source": [
    "\\begin{align}\n",
    "\\langle\\text{START}\\rangle \n",
    "&\\rightarrow \n",
    "\\text{chain}(\\langle\\text{DRAWING}\\rangle) \\\\\n",
    "\\langle\\text{DRAWING}\\rangle \n",
    "&\\rightarrow \n",
    "\\langle\\text{MOVEMENT}\\rangle,\\langle\\text{DRAWING}\\rangle \\\\\n",
    "&\\rightarrow \n",
    "\\epsilon\n",
    "\\\\\n",
    "\\langle\\text{MOVEMENT}\\rangle \n",
    "&\\rightarrow  \n",
    "\\text{forward}(\\langle\\text{DISTANCE}\\rangle) \\\\\n",
    "&\\rightarrow \n",
    "\\text{backward}(\\langle\\text{DISTANCE}\\rangle) \\\\\n",
    "&\\rightarrow \n",
    "\\text{right}(\\langle\\text{ANGLE}\\rangle) \\\\\n",
    "&\\rightarrow \n",
    "\\text{left}(\\langle\\text{ANGLE}\\rangle) \\\\\n",
    "&\\rightarrow \n",
    "\\text{circle}(\\langle\\text{DISTANCE}\\rangle, \\langle\\text{ANGLE}\\rangle) \\\\\n",
    "&\\rightarrow \n",
    "\\text{goto}(0,0)\n",
    "\\\\\n",
    "\\langle\\text{DISTANCE}\\rangle \n",
    "&\\rightarrow 50 \\mid 100 \\mid 120\n",
    "\\\\\n",
    "\\langle\\text{ANGLE}\\rangle \n",
    "&\\rightarrow 30 \\mid 60 \\mid 90 \\mid 170\n",
    "\\end{align}"
   ]
  },
  {
   "cell_type": "code",
   "execution_count": null,
   "id": "67534f3f-079f-4b38-9d00-05cdc7798aa8",
   "metadata": {},
   "outputs": [],
   "source": [
    "grammar = {\n",
    "    '<start>': [(1,'chain(<drawing>)')],\n",
    "    # always start with a drawing\n",
    "    '<drawing>': [\n",
    "        # a drawing can include a movement \n",
    "        # follows by a drawing (recursive!)\n",
    "        (8, '<movement>,<drawing>'),\n",
    "        # at some point the drawing ends\n",
    "        (1, ''),\n",
    "    ],\n",
    "    # a movement is basically a single instruction\n",
    "    # so a drawing consists of a series of movements\n",
    "    # Movements have two types of parameters,\n",
    "    # namely: angles and distances\n",
    "    '<movement>': [\n",
    "        (1, 'forward_(<distance>)'),\n",
    "        (1, 'backward_(<distance>)'),\n",
    "        (1, 'right_(<angle>)'),\n",
    "        (1, 'left_(<angle>)'),\n",
    "        (1, 'circle_(<distance>,<angle>)'),\n",
    "        (1, 'goto_(0,0)')\n",
    "    ],\n",
    "    # hand-specify some distances\n",
    "    '<distance>': [\n",
    "        (1, '10'),\n",
    "        (1, '20'),\n",
    "        (1, '50'),\n",
    "    ],\n",
    "    # hand-specify some angles\n",
    "    '<angle>': [\n",
    "        (1, '30'),\n",
    "        (1, '60'),\n",
    "        (1, '90'),\n",
    "        (1, '170')\n",
    "    ]\n",
    "}"
   ]
  },
  {
   "cell_type": "markdown",
   "id": "34e4f97b-2cb1-498a-88aa-d539b4f238b4",
   "metadata": {},
   "source": [
    "You can check what happens when you generate a random sentence from the grammar:"
   ]
  },
  {
   "cell_type": "code",
   "execution_count": null,
   "id": "ae13ba62-47ab-49d2-a529-8d9e5250dfb5",
   "metadata": {},
   "outputs": [],
   "source": [
    "instructions = complete('<start>', grammar)\n",
    "print(instructions)"
   ]
  },
  {
   "cell_type": "markdown",
   "id": "ad8ed861-b4f5-4994-aca9-028662a2ca3d",
   "metadata": {},
   "source": [
    "This is cool and all, but it is just a sequence of symbols: we want to _interpret_ this to get a shape. We will do this in two steps:\n",
    "1. Figure out how to encode shapes in python\n",
    "2. Define an interpretation function that assigns a shape to each generation from our grammar.\n",
    "\n",
    "\n",
    "For step 1, instead of defining a system of shape encoding ourselves, we can rely on an already existing library. We will use Python's 'turtle' library. The idea is very simple: Imagine a little turtle that moves around the screen according to certain instructions, and as it moves around it traces a line. Instructions are things like 'move forward', 'go around some of a circle', etc. Each sentence in our grammar gets interpreted by the turtle library into a shape."
   ]
  },
  {
   "cell_type": "markdown",
   "id": "59cc9456-6abe-4b69-8d24-edb7461ca661",
   "metadata": {},
   "source": [
    "Here's an example to show you how Turtle works:"
   ]
  },
  {
   "cell_type": "code",
   "execution_count": null,
   "id": "a07ee9fd-cfea-4ca8-abc7-6122ad82459c",
   "metadata": {},
   "outputs": [],
   "source": [
    "t.clearscreen()\n",
    "t.initializeTurtle()\n",
    "t.hideturtle()\n",
    "t.color('black')\n",
    "t.speed(13)\n",
    "t.forward(100); t.circle(50,90); t.forward(100)"
   ]
  },
  {
   "cell_type": "code",
   "execution_count": null,
   "id": "98c7a7da-596b-4bda-ac42-424559fe1fb4",
   "metadata": {},
   "outputs": [],
   "source": [
    "t.clearscreen()\n",
    "t.initializeTurtle()\n",
    "t.hideturtle()\n",
    "t.color('black')\n",
    "t.speed(13)\n",
    "t.forward(10); t.circle(20,60); t.right(90); t.forward(100); t.goto(0,0)"
   ]
  },
  {
   "cell_type": "markdown",
   "id": "b6337b92-64dd-4e9f-8cf3-d3b3550c2694",
   "metadata": {},
   "source": [
    "For the second step, just like we saw in the lecture, we assign an interpretation to each terminal symbol in our grammar. We associate each terminal with an expression using the Turtle library. Essentially, we are treating the Turtle library as a metalanguage that we can do computations with."
   ]
  },
  {
   "cell_type": "code",
   "execution_count": null,
   "id": "16e4add2-a3bd-4b9f-bbba-f3c24c8b6a77",
   "metadata": {},
   "outputs": [],
   "source": [
    "forward_ = lambda x: lambda : t.forward(x)\n",
    "backward_ = lambda x: lambda : t.backward(x)\n",
    "right_ = lambda x: lambda : t.right(x)\n",
    "left_ = lambda x: lambda : t.left(x)\n",
    "circle_ = lambda x, y: lambda : t.circle(x,y)\n",
    "goto_ = lambda x, y: lambda : t.goto(x,y)\n",
    "\n",
    "def chain(*args, speed=0):\n",
    "    # args is a list of functions\n",
    "    t.initializeTurtle(window=(100,100))\n",
    "    t.hideturtle()\n",
    "    t.color('black')\n",
    "    t.speed(speed)\n",
    "    for f in args:\n",
    "        f()\n",
    "    screen = t.Screen()\n",
    "    return get_svg(screen)"
   ]
  },
  {
   "cell_type": "markdown",
   "id": "af33e3ae-a444-457d-9c27-ac3dd2cbad93",
   "metadata": {},
   "source": [
    "So far so good, but we also want to define interpretation for full sentences rather than just terminals. To do this, we just rely on Python's own interpreter. If you go back to the grammar's definition you can see that it was constructed to be in line with python's notation for function calls. Therefore, we can just use `eval` to evaluate the grammar's generations into Turtle drawings:"
   ]
  },
  {
   "cell_type": "code",
   "execution_count": null,
   "id": "c0006078-742d-4079-9a4b-8a48c1b19325",
   "metadata": {},
   "outputs": [],
   "source": [
    "# a sample generation from the grammar\n",
    "sample = \"chain(goto_(0,0),left_(90),backward_(20),forward_(50),goto_(0,0),circle_(20,90),right_(30),left_(30),goto_(0,0),)\"\n",
    "# use python's own interpreter to interpret the string according to the meanings defined above\n",
    "drawing = eval(sample)\n",
    "# we get an svg object!\n",
    "print(\"Drawing:\\n\", drawing)\n",
    "# get can convert the svg to an image\n",
    "img = svg_to_img(drawing)\n",
    "# ...and plot the image\n",
    "fig, ax = plt.subplots()\n",
    "ax.imshow(img)\n",
    "ax.set_xticks([])\n",
    "ax.set_yticks([])"
   ]
  },
  {
   "cell_type": "markdown",
   "id": "b2fe4144-9fad-478e-b5eb-323096aaddca",
   "metadata": {},
   "source": [
    "We drew a wee branch!\n",
    "\n",
    "Try to run this multiple times and note that sometimes the result is just empty or a straight line, and sometimes it is some interesting, complex shapes:"
   ]
  },
  {
   "cell_type": "code",
   "execution_count": null,
   "id": "9407418b-fb0e-4f10-b3f0-9763d2574a63",
   "metadata": {},
   "outputs": [],
   "source": [
    "n_imgs = 3\n",
    "\n",
    "imgs = []\n",
    "for i in range(n_imgs):\n",
    "    # define the 'central' part of the instructions\n",
    "    instructions = complete('<start>', grammar)\n",
    "\n",
    "    print(instructions)\n",
    "    # add some needed scaffolding around the \n",
    "    # sentence produced by the grammar\n",
    "    svg_representation = eval(instructions)\n",
    "    imgs.append(\n",
    "        svg_to_img(\n",
    "            svg_representation,\n",
    "        )\n",
    "    )\n",
    "\n",
    "fig, axes = plt.subplots(\n",
    "    1,\n",
    "    len(imgs), \n",
    "    sharey=True, \n",
    "    sharex=True\n",
    ")\n",
    "\n",
    "for ax, im in zip(axes, imgs):\n",
    "    ax.imshow(im)\n",
    "\n",
    "axes[0].set_xticks([])\n",
    "axes[0].set_yticks([])"
   ]
  },
  {
   "attachments": {},
   "cell_type": "markdown",
   "id": "dc792f10-7614-4324-b906-f3141178600c",
   "metadata": {},
   "source": [
    "The point here is: each sentence in our grammar is a shape.\n",
    "\n",
    "> Practical note: Sometimes we do not want to see the full animation, but rather just the final product. In that case, we can set speed at 0 and then call `done`, as follows:\n",
    "\n",
    "```\n",
    "t.clearscreen()\n",
    "t.initializeTurtle()\n",
    "t.hideturtle()\n",
    "t.color('black')\n",
    "t.speed(0)\n",
    "for i in range(20): {instructions}\n",
    "t.done()\n",
    "```"
   ]
  },
  {
   "cell_type": "markdown",
   "id": "d6bdf7b7-8281-4a45-b4b7-b080643235a1",
   "metadata": {},
   "source": [
    "Ultimately, we want to use the interpreted grammar to _backengineer_ the expression that produced the image. Often, when dealing with real data, our observations are not perfect representations of the sentence, but rather some noisy version of it. Suppose for instance that these shapes are e.g., drawing on an old touch screen. In that case, we might have observational noise: some pixels might randomly change from 0 to 1 or viceversa. We can simulate this by adding noise to the grammar's generation, as follows:"
   ]
  },
  {
   "cell_type": "code",
   "execution_count": null,
   "id": "22475aac-9e28-4a45-8532-609b9b98aa99",
   "metadata": {},
   "outputs": [],
   "source": [
    "n_shapes=3\n",
    "degrees_noise = [0, 0.2, 0.5, 0.9]\n",
    "\n",
    "images = []\n",
    "for i in range(n_shapes):\n",
    "    instructions1 = complete('<start>', grammar)\n",
    "    print(instructions1, \"\\n\")\n",
    "    svg_representation = eval(instructions1) \n",
    "    for d in degrees_noise:\n",
    "        img = svg_to_img(\n",
    "            svg_representation,\n",
    "            d\n",
    "        )\n",
    "        images.append(img)\n",
    "\n",
    "fig, axes = plt.subplots(\n",
    "    n_shapes,\n",
    "    len(degrees_noise), \n",
    "    sharex=True, \n",
    "    sharey=True\n",
    ")\n",
    "\n",
    "for ax in axes.flatten():\n",
    "    ax.set_xticks([])\n",
    "    ax.set_yticks([])\n",
    "\n",
    "for ax, im in zip(axes.flatten(), images):\n",
    "    ax.imshow(im)\n",
    "\n",
    "fig.tight_layout()"
   ]
  },
  {
   "cell_type": "markdown",
   "id": "7fa154cd-5877-496d-bf66-abccc23c0e79",
   "metadata": {},
   "source": [
    "I hope you share the intuition that the higher the noise, the harder it is going to be to do program induction of the underlying shape!\n",
    "\n",
    "Some questions for reflection:\n",
    "\n",
    "- How would you change the grammar to make the shapes more round?\n",
    "- How about making them more \"spiky\"?\n",
    "- Can you think of other kinds of noise?\n",
    "- How would they affect the difficulty of reconstructing the underlying shape?"
   ]
  },
  {
   "cell_type": "markdown",
   "id": "59ef3fce-04b1-47d2-b440-470a9c446402",
   "metadata": {},
   "source": [
    "## Case study 3: Sounds"
   ]
  },
  {
   "attachments": {},
   "cell_type": "markdown",
   "id": "bd08f8aa-21b4-4742-b741-f9b0e6ad54b8",
   "metadata": {},
   "source": [
    "Sounds provide another interesting domain for program synthesis. What could a simple grammar for sounds look like? Let's define a very simple grammar of music which can nonetheless encode many possible sounds:"
   ]
  },
  {
   "cell_type": "markdown",
   "id": "0164c164-60c3-482f-a0d5-331e95588afb",
   "metadata": {},
   "source": [
    "\\begin{align}\n",
    "\\langle\\text{TUNE}\\rangle \n",
    "&\\rightarrow \n",
    "\\langle\\text{NOTE}\\rangle \n",
    "\\\\\n",
    "&\\rightarrow \n",
    "\\text{successive}(\\langle\\text{TUNE}\\rangle,\\langle\\text{TUNE}\\rangle) \n",
    "\\\\\n",
    "&\\rightarrow \n",
    "\\text{melt}(\\langle\\text{TUNE}\\rangle,\\langle\\text{TUNE}\\rangle) \n",
    "\\\\\n",
    "\\langle\\text{NOTE}\\rangle \n",
    "&\\rightarrow \n",
    "\\text{defineNote}(\\langle\\text{FREQ}\\rangle,\\langle\\text{TIME}\\rangle)\n",
    "\\\\\n",
    "\\langle\\text{TIME}\\rangle \n",
    "&\\rightarrow \n",
    "0.1 \\mid 0.2 \\mid 0.3\n",
    "\\\\\n",
    "\\langle\\text{FREQ}\\rangle \n",
    "&\\rightarrow \n",
    "\\text{A} \\mid \\text{Bb} \\mid \\text{B} \\mid \\text{C} \\mid \\text{Db} \\mid \\text{D} \\mid \\text{Eb} \\mid \\text{E} \\mid \\text{F} \\mid \\text{Gb} \\mid \\text{G} \\mid \\text{Ab}\n",
    "\\end{align}"
   ]
  },
  {
   "cell_type": "markdown",
   "id": "fe333533-5d57-4827-8725-8e5a6357323d",
   "metadata": {},
   "source": [
    "Define each note in an octave, so we can call them by name as described in the grammar:"
   ]
  },
  {
   "cell_type": "code",
   "execution_count": null,
   "id": "13de29c2-fc42-45f2-8fee-350239d0ef96",
   "metadata": {},
   "outputs": [],
   "source": [
    "freqs = {\n",
    "    'A': 220,\n",
    "    # 'Bb': 233.08,\n",
    "    # 'B': 246.94,\n",
    "    'C': 261.63,\n",
    "    # 'Db': 277.18,\n",
    "    'D': 293.66,\n",
    "    # 'Eb': 311.13,\n",
    "    'E': 329.63,\n",
    "    # 'F': 349.23,\n",
    "    # 'Gb': 369.99,\n",
    "    'G': 392.00,\n",
    "    # 'Ab': 415.30,\n",
    "}"
   ]
  },
  {
   "cell_type": "markdown",
   "id": "2f4a66b9-1acb-4945-9a71-a56aa3de22d6",
   "metadata": {},
   "source": [
    "And let's define some ways sounds can compose sequentially or concurrently:"
   ]
  },
  {
   "cell_type": "code",
   "execution_count": null,
   "id": "4cbe7d8b-c8cf-4511-8844-183b43888797",
   "metadata": {},
   "outputs": [],
   "source": [
    "soundGrammar = {\n",
    "    '<tune>': [\n",
    "        (3, '<note>'),\n",
    "        (1, 'successive(<tune>, <tune>)'),\n",
    "        (1, 'melt(<tune>, <tune>)')\n",
    "    ],\n",
    "    '<note>': [\n",
    "        (1, \"defineNote('<freq>', <time>)\")\n",
    "    ],\n",
    "    '<freq>': [(1,x) for x in freqs.keys()],\n",
    "    '<time>': [\n",
    "        (1, '0.3'), \n",
    "        (1, '0.6'), \n",
    "        (1, '1.'),\n",
    "    ]\n",
    "}"
   ]
  },
  {
   "cell_type": "code",
   "execution_count": null,
   "id": "a45ae173-1cca-4a35-af90-f6b8bb45bde5",
   "metadata": {},
   "outputs": [],
   "source": [
    "pprint(soundGrammar)"
   ]
  },
  {
   "cell_type": "markdown",
   "id": "10e05075-7935-4785-bba7-e79d498687b2",
   "metadata": {},
   "source": [
    "Now that we have a grammar, we can define the semantics."
   ]
  },
  {
   "cell_type": "code",
   "execution_count": null,
   "id": "152ab26d-2feb-46a2-ba2f-906c9ec610aa",
   "metadata": {},
   "outputs": [],
   "source": [
    "# define rate (don't worry about this!)\n",
    "fs = 44100"
   ]
  },
  {
   "cell_type": "markdown",
   "id": "58a5c5f9-c258-4162-9c0d-8a76b17554a3",
   "metadata": {},
   "source": [
    "We are going to need a way of defining notes given a frequency:"
   ]
  },
  {
   "cell_type": "code",
   "execution_count": null,
   "id": "761e82c0-f363-4226-890c-f0ffbd3a47b5",
   "metadata": {},
   "outputs": [],
   "source": [
    "def defineNote(frequency, seconds, fs=44100, harmonic_strength=0.1):\n",
    "\n",
    "    if isinstance(frequency, str):\n",
    "        frequency = freqs[frequency]\n",
    "    # jitter frequency slightly to reduce strident interference\n",
    "    # frequency = np.random.rand()*3 + frequency\n",
    "    \n",
    "    # seconds*sample_rate steps \n",
    "    # between 0 and seconds\n",
    "    t = np.linspace(0, seconds, int(seconds * fs), False)\n",
    "\n",
    "    # Harmonics\n",
    "    harmonics = np.zeros_like(t)\n",
    "    # Adding the first 10 harmonics\n",
    "    for i in range(2, 11):  \n",
    "        harmonics += (\n",
    "            np.sin(frequency * i * t * 2 * np.pi)\n",
    "            # sawtooth(2 * np.pi * i * frequency * t, 0.5)\n",
    "            * np.exp(-i * harmonic_strength)\n",
    "        )\n",
    "\n",
    "    # Fundamental frequency\n",
    "    note = np.sin(frequency * t * 2 * np.pi) + harmonics\n",
    "    # note = sawtooth(2 * np.pi * frequency * t, 0.5)\n",
    "\n",
    "    return note"
   ]
  },
  {
   "cell_type": "markdown",
   "id": "5fa54f4a-6d8e-4ddf-a284-3ee3a83ecf87",
   "metadata": {},
   "source": [
    "We'll also need a way of melting two notes, i.e. playing them together:"
   ]
  },
  {
   "cell_type": "code",
   "execution_count": null,
   "id": "4fd90a6c-9c01-481c-98b0-514efae0a08e",
   "metadata": {},
   "outputs": [],
   "source": [
    "def melt(note1, note2):\n",
    "    # if they are of different lengths,\n",
    "    # pad the shorter one with 0s\n",
    "    diff = len(note1) - len(note2)\n",
    "    if diff < 0:\n",
    "        note1 = np.concatenate((\n",
    "            note1,\n",
    "            np.zeros(-diff, dtype=int)\n",
    "        ))\n",
    "    elif diff > 0:\n",
    "        note2 = np.concatenate((\n",
    "            note2,\n",
    "            np.zeros(diff, dtype=int)\n",
    "        ))\n",
    "\n",
    "    combined = note1+note2\n",
    "    audio = combined * (2**15 - 1) / np.max(np.abs(combined))\n",
    "    audio = audio.astype(np.int16)\n",
    "    \n",
    "    return audio"
   ]
  },
  {
   "cell_type": "markdown",
   "id": "5b7c89f5-ac1c-45cf-a199-91410fde9c25",
   "metadata": {},
   "source": [
    "And a way of appending one note to another one:"
   ]
  },
  {
   "cell_type": "code",
   "execution_count": null,
   "id": "04a30fe4-6ce6-4c21-90fc-e79696df0a21",
   "metadata": {},
   "outputs": [],
   "source": [
    "def successive(note1, note2):\n",
    "    return np.concatenate((note1, note2))"
   ]
  },
  {
   "cell_type": "markdown",
   "id": "406627cd-a649-4367-8d5e-9a1c9c1fe52e",
   "metadata": {},
   "source": [
    "And finally collect all the primitive meanings we defined in a single dictionary, so that we can use it with `interpret` to get the meaning of each sentence produced by the grammar:"
   ]
  },
  {
   "cell_type": "code",
   "execution_count": null,
   "id": "6b5b578f-1524-477d-8fa6-7730f04d8fb2",
   "metadata": {},
   "outputs": [],
   "source": [
    "interpret = {\n",
    "    **freqs,\n",
    "    'defineNote': defineNote,\n",
    "    'melt': melt,\n",
    "    'successive': successive \n",
    "}"
   ]
  },
  {
   "attachments": {},
   "cell_type": "markdown",
   "id": "92f224b6-1951-4a0b-a8db-ec130922a515",
   "metadata": {},
   "source": [
    "We also want to convert our meanings, encoded as frequencies, into sounds we can actually hear. So we can make \"music\" (of the worst imaginable kind). Let's head these wonderful \"tunes\":"
   ]
  },
  {
   "cell_type": "code",
   "execution_count": null,
   "id": "a1110c3e-0bf5-40e2-af6f-abf1bb99f84c",
   "metadata": {},
   "outputs": [],
   "source": [
    "simple_A = defineNote(220, 1, harmonic_strength=0.1)\n",
    "\n",
    "IPython.display.Audio(\n",
    "    # put note or notes here!\n",
    "    simple_A, \n",
    "    rate=fs, \n",
    "    autoplay=True\n",
    ")"
   ]
  },
  {
   "cell_type": "code",
   "execution_count": null,
   "id": "9b96c1c0-525e-404d-ab9b-c96f3146cb3f",
   "metadata": {},
   "outputs": [],
   "source": [
    "plt.plot(simple_A)\n",
    "plt.yticks([])\n",
    "plt.savefig('imgs/simple_A.png')"
   ]
  },
  {
   "cell_type": "markdown",
   "id": "f8f4ce10-fe53-4698-bfc7-593f60928b47",
   "metadata": {},
   "source": [
    "Test the function:"
   ]
  },
  {
   "cell_type": "code",
   "execution_count": null,
   "id": "7928a5c3-3c5c-4caf-adaf-9688a9b75e42",
   "metadata": {},
   "outputs": [],
   "source": [
    "melted = melt(\n",
    "    defineNote(freqs['A'], 1),\n",
    "    defineNote(freqs['D'], 2)\n",
    ")\n",
    "\n",
    "IPython.display.Audio(\n",
    "    melted, \n",
    "    rate=fs, \n",
    "    autoplay=True\n",
    ")"
   ]
  },
  {
   "cell_type": "code",
   "execution_count": null,
   "id": "a7f88162-7d5e-4ad0-8fc3-6449e5473671",
   "metadata": {},
   "outputs": [],
   "source": [
    "plt.plot(melted)\n",
    "plt.yticks([])\n",
    "plt.savefig('imgs/example_melt.png')"
   ]
  },
  {
   "cell_type": "markdown",
   "id": "42a660b5-4ccf-4c37-a46a-7bb17bd7f8ff",
   "metadata": {},
   "source": [
    "Run this until you get something long that looks interesting! As in the geometric example above, some productions are very simple while others are very messy and complicated."
   ]
  },
  {
   "cell_type": "code",
   "execution_count": null,
   "id": "dd4adc70-c8c3-4426-b399-e83a48e59c13",
   "metadata": {},
   "outputs": [],
   "source": [
    "tune = complete('<tune>', soundGrammar)\n",
    "pprint(tune)"
   ]
  },
  {
   "cell_type": "code",
   "execution_count": null,
   "id": "1dce2ec7-393c-41d5-a4fd-edb97a9cc7d4",
   "metadata": {},
   "outputs": [],
   "source": [
    "IPython.display.Audio(\n",
    "    # put note or notes here!\n",
    "    eval(tune, interpret), \n",
    "    rate=fs, \n",
    "    autoplay=True\n",
    ")"
   ]
  },
  {
   "cell_type": "code",
   "execution_count": null,
   "id": "0547472d-805e-41fa-ac61-7d2281d75f55",
   "metadata": {},
   "outputs": [],
   "source": [
    "plt.plot(eval(tune))\n",
    "plt.yticks([])\n",
    "plt.savefig('imgs/complex_example.png')"
   ]
  },
  {
   "cell_type": "markdown",
   "id": "0e264b98-6b37-4df9-9eed-586f52a10971",
   "metadata": {},
   "source": [
    "This is not going to sound very good, possibly because the grammar is not encoding any of the interesting structure we like in music. "
   ]
  },
  {
   "cell_type": "markdown",
   "id": "d0a66a40-9390-4365-87d6-95ff479d5e9f",
   "metadata": {},
   "source": [
    "Just like we did above, we can create a noisy observation:"
   ]
  },
  {
   "cell_type": "code",
   "execution_count": null,
   "id": "8f4b7580-9cce-4de8-a09f-ad16284ba749",
   "metadata": {},
   "outputs": [],
   "source": [
    "tune = complete('<tune>', soundGrammar)\n",
    "pprint(tune)\n",
    "sound = eval(tune, interpret)\n",
    "sigma = np.max(sound)/3\n",
    "print(sigma)\n",
    "noisy_sound = sound + np.random.normal(scale=sigma, size=sound.shape)"
   ]
  },
  {
   "cell_type": "code",
   "execution_count": null,
   "id": "be2272da-fc8c-4c2b-97c4-8a2c522657cd",
   "metadata": {},
   "outputs": [],
   "source": [
    "print(tune)"
   ]
  },
  {
   "cell_type": "markdown",
   "id": "ee620498-f7a5-4029-946b-3211f0041741",
   "metadata": {},
   "source": [
    "Now this sounds literally noisy:"
   ]
  },
  {
   "cell_type": "code",
   "execution_count": null,
   "id": "f7dff11a-3a76-4516-bbb7-409a964d01ac",
   "metadata": {},
   "outputs": [],
   "source": [
    "IPython.display.Audio(\n",
    "    # put note or notes here!\n",
    "    sound, \n",
    "    rate=fs, \n",
    "    autoplay=True\n",
    ")"
   ]
  },
  {
   "cell_type": "code",
   "execution_count": null,
   "id": "f234f77c-bf4b-46d4-8cf8-fd6c3ee3ff52",
   "metadata": {},
   "outputs": [],
   "source": [
    "IPython.display.Audio(\n",
    "    # put note or notes here!\n",
    "    noisy_sound, \n",
    "    rate=fs, \n",
    "    autoplay=True\n",
    ")"
   ]
  },
  {
   "cell_type": "code",
   "execution_count": null,
   "id": "01c2e6d8-6216-478a-bc90-84a3a8bb0d55",
   "metadata": {},
   "outputs": [],
   "source": [
    "plt.plot(sound)\n",
    "plt.yticks([])\n",
    "plt.savefig('imgs/clean_example.png')"
   ]
  },
  {
   "cell_type": "code",
   "execution_count": null,
   "id": "06943a5b-1386-4762-b977-4d8126ee58b3",
   "metadata": {},
   "outputs": [],
   "source": [
    "plt.plot(noisy_sound)\n",
    "plt.yticks([])\n",
    "plt.savefig('imgs/noisy_example.png')"
   ]
  },
  {
   "cell_type": "markdown",
   "id": "e950beab-e7d1-4626-a5a5-c3d15d4486f2",
   "metadata": {},
   "source": [
    "Now we can generate a few random sounds from the grammar and add noise, to compare:"
   ]
  },
  {
   "cell_type": "code",
   "execution_count": null,
   "id": "c3ec62bc-074d-4070-8cbc-005233dbcfd2",
   "metadata": {},
   "outputs": [],
   "source": [
    "tune0 = complete('<tune>', soundGrammar)\n",
    "tune1 = complete('<tune>', soundGrammar)\n",
    "tune2 = complete('<tune>', soundGrammar)\n",
    "\n",
    "print(tune0, '\\n')\n",
    "print(tune1, '\\n')\n",
    "print(tune2, '\\n')"
   ]
  },
  {
   "cell_type": "code",
   "execution_count": null,
   "id": "34ff35e3-77d7-475d-b497-2617813025f8",
   "metadata": {},
   "outputs": [],
   "source": [
    "sound0 = eval(tune0, interpret)\n",
    "sound1 = eval(tune1, interpret)\n",
    "sound2 = eval(tune2, interpret)\n",
    "\n",
    "sigma0 = np.max(sound0)/3\n",
    "sigma1 = np.max(sound1)/3\n",
    "sigma2 = np.max(sound2)/3\n",
    "\n",
    "# make them all equally long\n",
    "max_length = np.max([sound0.shape, sound1.shape, sound2.shape])\n",
    "\n",
    "# diff from max length\n",
    "sound0 = np.concatenate([\n",
    "    sound0,\n",
    "    np.zeros(np.abs(sound0.shape-max_length))\n",
    "])\n",
    "\n",
    "sound1 = np.concatenate([\n",
    "    sound1,\n",
    "    np.zeros(np.abs(sound1.shape-max_length))\n",
    "])\n",
    "\n",
    "sound2 = np.concatenate([\n",
    "    sound2,\n",
    "    np.zeros(np.abs(sound2.shape-max_length))\n",
    "])\n",
    "\n",
    "noisy_sound0 = sound0 + np.random.normal(scale=sigma0, size=sound0.shape)\n",
    "noisy_sound1 = sound1 + np.random.normal(scale=sigma1, size=sound1.shape)\n",
    "noisy_sound2 = sound2 + np.random.normal(scale=sigma2, size=sound2.shape)"
   ]
  },
  {
   "cell_type": "code",
   "execution_count": null,
   "id": "7a527947-6962-4945-963c-264e53fc34a5",
   "metadata": {},
   "outputs": [],
   "source": [
    "fig, axes = plt.subplots(3,2,sharex=True)\n",
    "((ax1, ax2, ax3), (noise_ax1, noise_ax2, noise_ax3)) = axes.T\n",
    "ax1.plot(sound0)\n",
    "noise_ax1.plot(noisy_sound0)\n",
    "ax2.plot(sound1)\n",
    "noise_ax2.plot(noisy_sound1)\n",
    "ax3.plot(sound2)\n",
    "noise_ax3.plot(noisy_sound2)\n",
    "\n",
    "for ax in axes.flatten():\n",
    "    ax.set_yticks([])\n",
    "\n",
    "fig.tight_layout()\n",
    "fig.savefig('imgs/prior_lik_compare.png')"
   ]
  },
  {
   "cell_type": "code",
   "execution_count": null,
   "id": "5acf94b5-d95d-4b0e-98d4-e5d128a91141",
   "metadata": {},
   "outputs": [],
   "source": [
    "IPython.display.Audio(\n",
    "    sound0, \n",
    "    rate=fs, \n",
    "    autoplay=True\n",
    ")"
   ]
  },
  {
   "cell_type": "code",
   "execution_count": null,
   "id": "c9dd3137-dd3d-451d-80f9-a4f35cda367e",
   "metadata": {},
   "outputs": [],
   "source": [
    "IPython.display.Audio(\n",
    "    noisy_sound0, \n",
    "    rate=fs, \n",
    "    autoplay=True\n",
    ")"
   ]
  },
  {
   "cell_type": "code",
   "execution_count": null,
   "id": "32ac2db6-bdf5-40fe-9c33-cade662e4fa9",
   "metadata": {},
   "outputs": [],
   "source": [
    "IPython.display.Audio(\n",
    "    sound1, \n",
    "    rate=fs, \n",
    "    autoplay=True\n",
    ")"
   ]
  },
  {
   "cell_type": "code",
   "execution_count": null,
   "id": "fb1c7573-9c74-4314-9d57-315d7131d30f",
   "metadata": {},
   "outputs": [],
   "source": [
    "IPython.display.Audio(\n",
    "    noisy_sound1, \n",
    "    rate=fs, \n",
    "    autoplay=True\n",
    ")"
   ]
  },
  {
   "cell_type": "code",
   "execution_count": null,
   "id": "567b2d00-3a36-4eb7-950b-cb1ae918dcc4",
   "metadata": {},
   "outputs": [],
   "source": [
    "IPython.display.Audio(\n",
    "    sound2, \n",
    "    rate=fs, \n",
    "    autoplay=True\n",
    ")"
   ]
  },
  {
   "cell_type": "code",
   "execution_count": null,
   "id": "6bd31558-1759-433d-af05-728fcf84ffd6",
   "metadata": {},
   "outputs": [],
   "source": [
    "IPython.display.Audio(\n",
    "    noisy_sound2, \n",
    "    rate=fs, \n",
    "    autoplay=True\n",
    ")"
   ]
  },
  {
   "attachments": {},
   "cell_type": "markdown",
   "id": "142a3f1a-0d44-4762-a209-79ba1a2ab0b7",
   "metadata": {},
   "source": [
    "Some questions for reflection:\n",
    "\n",
    "- How could we change the vibe to be more calm?\n",
    "- How could we modify the grammar to make tunes less 'messy'?\n",
    "- How could we encode more interesting structure?\n",
    "\n",
    "In this notebook, we have seen how to define grammars and interpretation functions. This is the first step towards a program induction system; The second step will be to search the sentences generated by the grammar to find one that fits the observed data. That will be the topic of the next module."
   ]
  }
 ],
 "metadata": {
  "kernelspec": {
   "display_name": "Python 3 (ipykernel)",
   "language": "python",
   "name": "python3"
  },
  "language_info": {
   "codemirror_mode": {
    "name": "ipython",
    "version": 3
   },
   "file_extension": ".py",
   "mimetype": "text/x-python",
   "name": "python",
   "nbconvert_exporter": "python",
   "pygments_lexer": "ipython3",
   "version": "3.11.11"
  }
 },
 "nbformat": 4,
 "nbformat_minor": 5
}
