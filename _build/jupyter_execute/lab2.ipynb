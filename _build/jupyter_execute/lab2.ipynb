{
 "cells": [
  {
   "cell_type": "markdown",
   "id": "78e03ec1-f567-4746-9d14-c9118f086c29",
   "metadata": {},
   "source": [
    "# Lab 2"
   ]
  }
 ],
 "metadata": {
  "kernelspec": {
   "display_name": "arc",
   "language": "python",
   "name": "arc"
  },
  "language_info": {
   "codemirror_mode": {
    "name": "ipython",
    "version": 3
   },
   "file_extension": ".py",
   "mimetype": "text/x-python",
   "name": "python",
   "nbconvert_exporter": "python",
   "pygments_lexer": "ipython3",
   "version": "3.13.1"
  }
 },
 "nbformat": 4,
 "nbformat_minor": 5
}